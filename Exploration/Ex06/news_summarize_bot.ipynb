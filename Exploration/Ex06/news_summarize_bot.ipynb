{
 "cells": [
  {
   "cell_type": "markdown",
   "id": "6aeb0fb7",
   "metadata": {},
   "source": [
    "# 뉴스 요약봇 만들기"
   ]
  },
  {
   "cell_type": "code",
   "execution_count": 21,
   "id": "21fb3144",
   "metadata": {},
   "outputs": [
    {
     "name": "stdout",
     "output_type": "stream",
     "text": [
      "3.6.5\n",
      "2.6.0\n",
      "1.3.3\n",
      "1.2.0\n"
     ]
    },
    {
     "name": "stderr",
     "output_type": "stream",
     "text": [
      "[nltk_data] Downloading package stopwords to /aiffel/nltk_data...\n",
      "[nltk_data]   Package stopwords is already up-to-date!\n"
     ]
    }
   ],
   "source": [
    "from importlib.metadata import version\n",
    "import nltk\n",
    "nltk.download('stopwords')\n",
    "from nltk.corpus import stopwords\n",
    "\n",
    "import numpy as np\n",
    "import pandas as pd\n",
    "import os\n",
    "import re\n",
    "import matplotlib.pyplot as plt\n",
    "from bs4 import BeautifulSoup \n",
    "\n",
    "import tensorflow\n",
    "from tensorflow.keras.preprocessing.text import Tokenizer \n",
    "from tensorflow.keras.preprocessing.sequence import pad_sequences\n",
    "import summa\n",
    "\n",
    "import warnings\n",
    "warnings.filterwarnings(\"ignore\", category=UserWarning, module='bs4')\n",
    "\n",
    "\n",
    "print(nltk.__version__)\n",
    "print(tensorflow.__version__)\n",
    "print(pd.__version__)\n",
    "print(version('summa'))"
   ]
  },
  {
   "cell_type": "markdown",
   "id": "87e27e7e",
   "metadata": {},
   "source": [
    "https://github.com/sunnysai12345/News_Summary"
   ]
  },
  {
   "cell_type": "code",
   "execution_count": 22,
   "id": "c284ecb3",
   "metadata": {},
   "outputs": [],
   "source": [
    "import urllib.request\n",
    "urllib.request.urlretrieve(\"https://raw.githubusercontent.com/sunnysai12345/News_Summary/master/news_summary_more.csv\", filename=\"news_summary_more.csv\")\n",
    "data = pd.read_csv('news_summary_more.csv', encoding='iso-8859-1')"
   ]
  },
  {
   "cell_type": "code",
   "execution_count": 23,
   "id": "71c7972b",
   "metadata": {},
   "outputs": [
    {
     "data": {
      "text/html": [
       "<div>\n",
       "<style scoped>\n",
       "    .dataframe tbody tr th:only-of-type {\n",
       "        vertical-align: middle;\n",
       "    }\n",
       "\n",
       "    .dataframe tbody tr th {\n",
       "        vertical-align: top;\n",
       "    }\n",
       "\n",
       "    .dataframe thead th {\n",
       "        text-align: right;\n",
       "    }\n",
       "</style>\n",
       "<table border=\"1\" class=\"dataframe\">\n",
       "  <thead>\n",
       "    <tr style=\"text-align: right;\">\n",
       "      <th></th>\n",
       "      <th>headlines</th>\n",
       "      <th>text</th>\n",
       "    </tr>\n",
       "  </thead>\n",
       "  <tbody>\n",
       "    <tr>\n",
       "      <th>81665</th>\n",
       "      <td>SC asks Tamil Nadu govt not to force farmers t...</td>\n",
       "      <td>The Supreme Court asked the Tamil Nadu governm...</td>\n",
       "    </tr>\n",
       "    <tr>\n",
       "      <th>80269</th>\n",
       "      <td>Victoria Beckham slammed for claiming that she...</td>\n",
       "      <td>Victoria Beckham has been slammed by Land Rove...</td>\n",
       "    </tr>\n",
       "    <tr>\n",
       "      <th>82182</th>\n",
       "      <td>Jet Airways shares jump over reports of stake ...</td>\n",
       "      <td>Shares of Jet Airways on Monday surged over 3%...</td>\n",
       "    </tr>\n",
       "    <tr>\n",
       "      <th>97170</th>\n",
       "      <td>75% forum engagement on Startup IndiaÃ¢ÂÂs o...</td>\n",
       "      <td>Startup IndiaÃ¢ÂÂs online learning and devel...</td>\n",
       "    </tr>\n",
       "    <tr>\n",
       "      <th>79522</th>\n",
       "      <td>Trailer of Amole Gupte's directorial 'Sniff' r...</td>\n",
       "      <td>The trailer of Amole Gupte's upcoming director...</td>\n",
       "    </tr>\n",
       "    <tr>\n",
       "      <th>45317</th>\n",
       "      <td>Man steals women's undergarments in Noida, arr...</td>\n",
       "      <td>A 25-year-old man was detained by the police o...</td>\n",
       "    </tr>\n",
       "    <tr>\n",
       "      <th>31463</th>\n",
       "      <td>Alaskans mistakenly receive tsunami warning</td>\n",
       "      <td>Alaskans mistakenly received a tsunami warning...</td>\n",
       "    </tr>\n",
       "    <tr>\n",
       "      <th>57288</th>\n",
       "      <td>What is the religious significance of Jerusalem?</td>\n",
       "      <td>Jerusalem, central to the Israel-Palestine con...</td>\n",
       "    </tr>\n",
       "    <tr>\n",
       "      <th>21423</th>\n",
       "      <td>TRS leader hoists party flag, not Tricolour on...</td>\n",
       "      <td>A local leader of Telangana Rashtra Samithi (T...</td>\n",
       "    </tr>\n",
       "    <tr>\n",
       "      <th>86912</th>\n",
       "      <td>Arsenal's ÃÂzilÃ¢ÂÂ tweets about Ranveer S...</td>\n",
       "      <td>Arsenal footballer Mesut ÃÂzil retweeted Bol...</td>\n",
       "    </tr>\n",
       "  </tbody>\n",
       "</table>\n",
       "</div>"
      ],
      "text/plain": [
       "                                               headlines  \\\n",
       "81665  SC asks Tamil Nadu govt not to force farmers t...   \n",
       "80269  Victoria Beckham slammed for claiming that she...   \n",
       "82182  Jet Airways shares jump over reports of stake ...   \n",
       "97170  75% forum engagement on Startup IndiaÃ¢ÂÂs o...   \n",
       "79522  Trailer of Amole Gupte's directorial 'Sniff' r...   \n",
       "45317  Man steals women's undergarments in Noida, arr...   \n",
       "31463        Alaskans mistakenly receive tsunami warning   \n",
       "57288   What is the religious significance of Jerusalem?   \n",
       "21423  TRS leader hoists party flag, not Tricolour on...   \n",
       "86912  Arsenal's ÃÂzilÃ¢ÂÂ tweets about Ranveer S...   \n",
       "\n",
       "                                                    text  \n",
       "81665  The Supreme Court asked the Tamil Nadu governm...  \n",
       "80269  Victoria Beckham has been slammed by Land Rove...  \n",
       "82182  Shares of Jet Airways on Monday surged over 3%...  \n",
       "97170  Startup IndiaÃ¢ÂÂs online learning and devel...  \n",
       "79522  The trailer of Amole Gupte's upcoming director...  \n",
       "45317  A 25-year-old man was detained by the police o...  \n",
       "31463  Alaskans mistakenly received a tsunami warning...  \n",
       "57288  Jerusalem, central to the Israel-Palestine con...  \n",
       "21423  A local leader of Telangana Rashtra Samithi (T...  \n",
       "86912  Arsenal footballer Mesut ÃÂzil retweeted Bol...  "
      ]
     },
     "execution_count": 23,
     "metadata": {},
     "output_type": "execute_result"
    }
   ],
   "source": [
    "data.sample(10)"
   ]
  },
  {
   "cell_type": "markdown",
   "id": "0306b189",
   "metadata": {},
   "source": [
    "## 데이터 전처리(추상적 요약)"
   ]
  },
  {
   "cell_type": "code",
   "execution_count": 24,
   "id": "de84113c",
   "metadata": {},
   "outputs": [
    {
     "data": {
      "text/plain": [
       "(98401, 2)"
      ]
     },
     "execution_count": 24,
     "metadata": {},
     "output_type": "execute_result"
    }
   ],
   "source": [
    "data.shape"
   ]
  },
  {
   "cell_type": "markdown",
   "id": "4b7ccfe5",
   "metadata": {},
   "source": [
    "### 중복 데이터 확인"
   ]
  },
  {
   "cell_type": "code",
   "execution_count": 25,
   "id": "212ae885",
   "metadata": {},
   "outputs": [
    {
     "name": "stdout",
     "output_type": "stream",
     "text": [
      "headlines에서 유니크한 샘플 수:  98280\n",
      "text에서 유니크한 샘플 수:  98360\n"
     ]
    }
   ],
   "source": [
    "print(\"headlines에서 유니크한 샘플 수: \",data['headlines'].nunique())\n",
    "print(\"text에서 유니크한 샘플 수: \",data['text'].nunique())"
   ]
  },
  {
   "cell_type": "markdown",
   "id": "5641d977",
   "metadata": {},
   "source": [
    "=> text에서 중복데이터가 존재한다. drop으로 제거"
   ]
  },
  {
   "cell_type": "code",
   "execution_count": 26,
   "id": "6ec07eb3",
   "metadata": {},
   "outputs": [
    {
     "data": {
      "text/plain": [
       "(98360, 2)"
      ]
     },
     "execution_count": 26,
     "metadata": {},
     "output_type": "execute_result"
    }
   ],
   "source": [
    "data.drop_duplicates(subset=[\"text\"], inplace=True)\n",
    "data.shape"
   ]
  },
  {
   "cell_type": "markdown",
   "id": "9837ed55",
   "metadata": {},
   "source": [
    "### 결측치 확인"
   ]
  },
  {
   "cell_type": "code",
   "execution_count": 27,
   "id": "9a019d5d",
   "metadata": {},
   "outputs": [
    {
     "data": {
      "text/plain": [
       "headlines    0\n",
       "text         0\n",
       "dtype: int64"
      ]
     },
     "execution_count": 27,
     "metadata": {},
     "output_type": "execute_result"
    }
   ],
   "source": [
    "data.isnull().sum()"
   ]
  },
  {
   "cell_type": "markdown",
   "id": "534fd707",
   "metadata": {},
   "source": [
    "=> 결측치 없음"
   ]
  },
  {
   "cell_type": "markdown",
   "id": "89b43f35",
   "metadata": {},
   "source": [
    "### 텍스트 정규화 & stopwords 제거"
   ]
  },
  {
   "cell_type": "code",
   "execution_count": 28,
   "id": "6367cefb",
   "metadata": {},
   "outputs": [
    {
     "name": "stdout",
     "output_type": "stream",
     "text": [
      "정규화 사전의 수:  120\n"
     ]
    }
   ],
   "source": [
    "# 정규화 사전\n",
    "contractions = {\"ain't\": \"is not\", \"aren't\": \"are not\",\"can't\": \"cannot\", \"'cause\": \"because\", \"could've\": \"could have\", \"couldn't\": \"could not\",\n",
    "                           \"didn't\": \"did not\",  \"doesn't\": \"does not\", \"don't\": \"do not\", \"hadn't\": \"had not\", \"hasn't\": \"has not\", \"haven't\": \"have not\",\n",
    "                           \"he'd\": \"he would\",\"he'll\": \"he will\", \"he's\": \"he is\", \"how'd\": \"how did\", \"how'd'y\": \"how do you\", \"how'll\": \"how will\", \"how's\": \"how is\",\n",
    "                           \"I'd\": \"I would\", \"I'd've\": \"I would have\", \"I'll\": \"I will\", \"I'll've\": \"I will have\",\"I'm\": \"I am\", \"I've\": \"I have\", \"i'd\": \"i would\",\n",
    "                           \"i'd've\": \"i would have\", \"i'll\": \"i will\",  \"i'll've\": \"i will have\",\"i'm\": \"i am\", \"i've\": \"i have\", \"isn't\": \"is not\", \"it'd\": \"it would\",\n",
    "                           \"it'd've\": \"it would have\", \"it'll\": \"it will\", \"it'll've\": \"it will have\",\"it's\": \"it is\", \"let's\": \"let us\", \"ma'am\": \"madam\",\n",
    "                           \"mayn't\": \"may not\", \"might've\": \"might have\",\"mightn't\": \"might not\",\"mightn't've\": \"might not have\", \"must've\": \"must have\",\n",
    "                           \"mustn't\": \"must not\", \"mustn't've\": \"must not have\", \"needn't\": \"need not\", \"needn't've\": \"need not have\",\"o'clock\": \"of the clock\",\n",
    "                           \"oughtn't\": \"ought not\", \"oughtn't've\": \"ought not have\", \"shan't\": \"shall not\", \"sha'n't\": \"shall not\", \"shan't've\": \"shall not have\",\n",
    "                           \"she'd\": \"she would\", \"she'd've\": \"she would have\", \"she'll\": \"she will\", \"she'll've\": \"she will have\", \"she's\": \"she is\",\n",
    "                           \"should've\": \"should have\", \"shouldn't\": \"should not\", \"shouldn't've\": \"should not have\", \"so've\": \"so have\",\"so's\": \"so as\",\n",
    "                           \"this's\": \"this is\",\"that'd\": \"that would\", \"that'd've\": \"that would have\", \"that's\": \"that is\", \"there'd\": \"there would\",\n",
    "                           \"there'd've\": \"there would have\", \"there's\": \"there is\", \"here's\": \"here is\",\"they'd\": \"they would\", \"they'd've\": \"they would have\",\n",
    "                           \"they'll\": \"they will\", \"they'll've\": \"they will have\", \"they're\": \"they are\", \"they've\": \"they have\", \"to've\": \"to have\",\n",
    "                           \"wasn't\": \"was not\", \"we'd\": \"we would\", \"we'd've\": \"we would have\", \"we'll\": \"we will\", \"we'll've\": \"we will have\", \"we're\": \"we are\",\n",
    "                           \"we've\": \"we have\", \"weren't\": \"were not\", \"what'll\": \"what will\", \"what'll've\": \"what will have\", \"what're\": \"what are\",\n",
    "                           \"what's\": \"what is\", \"what've\": \"what have\", \"when's\": \"when is\", \"when've\": \"when have\", \"where'd\": \"where did\", \"where's\": \"where is\",\n",
    "                           \"where've\": \"where have\", \"who'll\": \"who will\", \"who'll've\": \"who will have\", \"who's\": \"who is\", \"who've\": \"who have\",\n",
    "                           \"why's\": \"why is\", \"why've\": \"why have\", \"will've\": \"will have\", \"won't\": \"will not\", \"won't've\": \"will not have\",\n",
    "                           \"would've\": \"would have\", \"wouldn't\": \"would not\", \"wouldn't've\": \"would not have\", \"y'all\": \"you all\",\n",
    "                           \"y'all'd\": \"you all would\",\"y'all'd've\": \"you all would have\",\"y'all're\": \"you all are\",\"y'all've\": \"you all have\",\n",
    "                           \"you'd\": \"you would\", \"you'd've\": \"you would have\", \"you'll\": \"you will\", \"you'll've\": \"you will have\",\n",
    "                           \"you're\": \"you are\", \"you've\": \"you have\"}\n",
    "\n",
    "print(\"정규화 사전의 수: \", len(contractions))"
   ]
  },
  {
   "cell_type": "code",
   "execution_count": 29,
   "id": "b36e4b64",
   "metadata": {
    "scrolled": true
   },
   "outputs": [
    {
     "name": "stdout",
     "output_type": "stream",
     "text": [
      "불용어 개수 : 198\n",
      "['a', 'about', 'above', 'after', 'again', 'against', 'ain', 'all', 'am', 'an', 'and', 'any', 'are', 'aren', \"aren't\", 'as', 'at', 'be', 'because', 'been', 'before', 'being', 'below', 'between', 'both', 'but', 'by', 'can', 'couldn', \"couldn't\", 'd', 'did', 'didn', \"didn't\", 'do', 'does', 'doesn', \"doesn't\", 'doing', 'don', \"don't\", 'down', 'during', 'each', 'few', 'for', 'from', 'further', 'had', 'hadn', \"hadn't\", 'has', 'hasn', \"hasn't\", 'have', 'haven', \"haven't\", 'having', 'he', \"he'd\", \"he'll\", 'her', 'here', 'hers', 'herself', \"he's\", 'him', 'himself', 'his', 'how', 'i', \"i'd\", 'if', \"i'll\", \"i'm\", 'in', 'into', 'is', 'isn', \"isn't\", 'it', \"it'd\", \"it'll\", \"it's\", 'its', 'itself', \"i've\", 'just', 'll', 'm', 'ma', 'me', 'mightn', \"mightn't\", 'more', 'most', 'mustn', \"mustn't\", 'my', 'myself', 'needn', \"needn't\", 'no', 'nor', 'not', 'now', 'o', 'of', 'off', 'on', 'once', 'only', 'or', 'other', 'our', 'ours', 'ourselves', 'out', 'over', 'own', 're', 's', 'same', 'shan', \"shan't\", 'she', \"she'd\", \"she'll\", \"she's\", 'should', 'shouldn', \"shouldn't\", \"should've\", 'so', 'some', 'such', 't', 'than', 'that', \"that'll\", 'the', 'their', 'theirs', 'them', 'themselves', 'then', 'there', 'these', 'they', \"they'd\", \"they'll\", \"they're\", \"they've\", 'this', 'those', 'through', 'to', 'too', 'under', 'until', 'up', 've', 'very', 'was', 'wasn', \"wasn't\", 'we', \"we'd\", \"we'll\", \"we're\", 'were', 'weren', \"weren't\", \"we've\", 'what', 'when', 'where', 'which', 'while', 'who', 'whom', 'why', 'will', 'with', 'won', \"won't\", 'wouldn', \"wouldn't\", 'y', 'you', \"you'd\", \"you'll\", 'your', \"you're\", 'yours', 'yourself', 'yourselves', \"you've\"]\n"
     ]
    }
   ],
   "source": [
    "# stopwords 사전\n",
    "print('불용어 개수 :', len(stopwords.words('english') ))\n",
    "print(stopwords.words('english'))"
   ]
  },
  {
   "cell_type": "code",
   "execution_count": 30,
   "id": "6e95bc7d",
   "metadata": {},
   "outputs": [],
   "source": [
    "# 데이터 전처리 함수\n",
    "def preprocess_sentence(sentence, remove_stopwords=True):\n",
    "    sentence = sentence.lower() # 텍스트 소문자화\n",
    "    sentence = BeautifulSoup(sentence, \"lxml\").text # <br />, <a href = ...> 등의 html 태그 제거\n",
    "    sentence = re.sub(r'\\([^)]*\\)', '', sentence) # 괄호로 닫힌 문자열 (...) 제거 Ex) my husband (and myself!) for => my husband for\n",
    "    sentence = re.sub('\"','', sentence) # 쌍따옴표 \" 제거\n",
    "    sentence = ' '.join([contractions[t] if t in contractions else t for t in sentence.split(\" \")]) # 약어 정규화\n",
    "    sentence = re.sub(r\"'s\\b\",\"\", sentence) # 소유격 제거. Ex) roland's -> roland\n",
    "    sentence = re.sub(\"[^a-zA-Z]\", \" \", sentence) # 영어 외 문자(숫자, 특수문자 등) 공백으로 변환\n",
    "    sentence = re.sub('[m]{2,}', 'mm', sentence) # m이 3개 이상이면 2개로 변경. Ex) ummmmmmm yeah -> umm yeah\n",
    "    \n",
    "    # 불용어 제거 (Text)\n",
    "    if remove_stopwords:\n",
    "        tokens = ' '.join(word for word in sentence.split() if not word in stopwords.words('english') if len(word) > 1)\n",
    "    # 불용어 미제거 (Summary)\n",
    "    else:\n",
    "        tokens = ' '.join(word for word in sentence.split() if len(word) > 1)\n",
    "    return tokens"
   ]
  },
  {
   "cell_type": "markdown",
   "id": "348ad35c",
   "metadata": {},
   "source": [
    "전처리 함수로 전처리"
   ]
  },
  {
   "cell_type": "code",
   "execution_count": 31,
   "id": "3f7aad96",
   "metadata": {},
   "outputs": [],
   "source": [
    "def apply_preprocessing(df_column,remove_stopwords=True):\n",
    "    clean_data = []\n",
    "    for sentence in df_column:\n",
    "        clean_sentence = preprocess_sentence(sentence, remove_stopwords)\n",
    "        clean_data.append(clean_sentence)\n",
    "    return clean_data"
   ]
  },
  {
   "cell_type": "code",
   "execution_count": 32,
   "id": "16eb8ece",
   "metadata": {},
   "outputs": [],
   "source": [
    "clean_headlines = apply_preprocessing(data['headlines'], remove_stopwords=False)\n",
    "clean_text = apply_preprocessing(data['text'])"
   ]
  },
  {
   "cell_type": "code",
   "execution_count": 33,
   "id": "9faf15d8",
   "metadata": {},
   "outputs": [
    {
     "name": "stdout",
     "output_type": "stream",
     "text": [
      "headlines 확인 ['upgrad learner switches to career in ml al with salary hike', 'delhi techie wins free food from swiggy for one year on cred', 'new zealand end rohit sharma led india match winning streak', 'aegon life iterm insurance plan helps customers save tax', 'have known hirani for yrs what if metoo claims are not true sonam']\n",
      "text 확인 ['saurav kant alumnus upgrad iiit pg program machine learning artificial intelligence sr systems engineer infosys almost years work experience program upgrad degree career support helped transition data scientist tech mahindra salary hike upgrad online power learning powered lakh careers', 'kunal shah credit card bill payment platform cred gave users chance win free food swiggy one year pranav kaushik delhi techie bagged reward spending cred coins users get one cred coin per rupee bill paid used avail rewards brands like ixigo bookmyshow ubereats cult fit', 'new zealand defeated india wickets fourth odi hamilton thursday win first match five match odi series india lost international match rohit sharma captaincy consecutive victories dating back march match witnessed india getting seventh lowest total odi cricket history', 'aegon life iterm insurance plan customers enjoy tax benefits premiums paid save taxes plan provides life cover age years also customers options insure critical illnesses disability accidental death benefit rider life cover age years', 'speaking sexual harassment allegations rajkumar hirani sonam kapoor said known hirani many years true metoo movement get derailed metoo movement always believe woman case need reserve judgment added hirani accused assistant worked sanju']\n"
     ]
    }
   ],
   "source": [
    "# 전처리 확인\n",
    "print(\"headlines 확인\", clean_headlines[:5])\n",
    "print(\"text 확인\", clean_text[:5])"
   ]
  },
  {
   "cell_type": "code",
   "execution_count": 34,
   "id": "c2e01fbb",
   "metadata": {},
   "outputs": [],
   "source": [
    "data['headlines'] = clean_headlines\n",
    "data['text'] = clean_text"
   ]
  },
  {
   "cell_type": "code",
   "execution_count": 35,
   "id": "5b6e3e9a",
   "metadata": {},
   "outputs": [],
   "source": [
    "# ''(빈 문자열)를 Null로 변환\n",
    "data.replace('', np.nan, inplace=True)"
   ]
  },
  {
   "cell_type": "code",
   "execution_count": 36,
   "id": "2433dd7c",
   "metadata": {},
   "outputs": [
    {
     "data": {
      "text/plain": [
       "headlines    0\n",
       "text         0\n",
       "dtype: int64"
      ]
     },
     "execution_count": 36,
     "metadata": {},
     "output_type": "execute_result"
    }
   ],
   "source": [
    "# 데이터 전처리에 따른 결측치가 있나 확인\n",
    "data.isnull().sum()"
   ]
  },
  {
   "cell_type": "code",
   "execution_count": 37,
   "id": "b2512dd6",
   "metadata": {},
   "outputs": [
    {
     "data": {
      "text/html": [
       "<div>\n",
       "<style scoped>\n",
       "    .dataframe tbody tr th:only-of-type {\n",
       "        vertical-align: middle;\n",
       "    }\n",
       "\n",
       "    .dataframe tbody tr th {\n",
       "        vertical-align: top;\n",
       "    }\n",
       "\n",
       "    .dataframe thead th {\n",
       "        text-align: right;\n",
       "    }\n",
       "</style>\n",
       "<table border=\"1\" class=\"dataframe\">\n",
       "  <thead>\n",
       "    <tr style=\"text-align: right;\">\n",
       "      <th></th>\n",
       "      <th>headlines</th>\n",
       "      <th>text</th>\n",
       "    </tr>\n",
       "  </thead>\n",
       "  <tbody>\n",
       "    <tr>\n",
       "      <th>0</th>\n",
       "      <td>upgrad learner switches to career in ml al wit...</td>\n",
       "      <td>saurav kant alumnus upgrad iiit pg program mac...</td>\n",
       "    </tr>\n",
       "    <tr>\n",
       "      <th>1</th>\n",
       "      <td>delhi techie wins free food from swiggy for on...</td>\n",
       "      <td>kunal shah credit card bill payment platform c...</td>\n",
       "    </tr>\n",
       "    <tr>\n",
       "      <th>2</th>\n",
       "      <td>new zealand end rohit sharma led india match w...</td>\n",
       "      <td>new zealand defeated india wickets fourth odi ...</td>\n",
       "    </tr>\n",
       "    <tr>\n",
       "      <th>3</th>\n",
       "      <td>aegon life iterm insurance plan helps customer...</td>\n",
       "      <td>aegon life iterm insurance plan customers enjo...</td>\n",
       "    </tr>\n",
       "    <tr>\n",
       "      <th>4</th>\n",
       "      <td>have known hirani for yrs what if metoo claims...</td>\n",
       "      <td>speaking sexual harassment allegations rajkuma...</td>\n",
       "    </tr>\n",
       "  </tbody>\n",
       "</table>\n",
       "</div>"
      ],
      "text/plain": [
       "                                           headlines  \\\n",
       "0  upgrad learner switches to career in ml al wit...   \n",
       "1  delhi techie wins free food from swiggy for on...   \n",
       "2  new zealand end rohit sharma led india match w...   \n",
       "3  aegon life iterm insurance plan helps customer...   \n",
       "4  have known hirani for yrs what if metoo claims...   \n",
       "\n",
       "                                                text  \n",
       "0  saurav kant alumnus upgrad iiit pg program mac...  \n",
       "1  kunal shah credit card bill payment platform c...  \n",
       "2  new zealand defeated india wickets fourth odi ...  \n",
       "3  aegon life iterm insurance plan customers enjo...  \n",
       "4  speaking sexual harassment allegations rajkuma...  "
      ]
     },
     "metadata": {},
     "output_type": "display_data"
    },
    {
     "data": {
      "text/plain": [
       "(98360, 2)"
      ]
     },
     "execution_count": 37,
     "metadata": {},
     "output_type": "execute_result"
    }
   ],
   "source": [
    "display(data.head())\n",
    "data.shape"
   ]
  },
  {
   "cell_type": "code",
   "execution_count": 38,
   "id": "f65d5cd4",
   "metadata": {},
   "outputs": [],
   "source": [
    "# 전처리 완료한 df 저장\n",
    "data.to_csv(\"news_preprocessed.csv\", index=False)"
   ]
  },
  {
   "cell_type": "code",
   "execution_count": 39,
   "id": "f51852d0",
   "metadata": {},
   "outputs": [
    {
     "data": {
      "text/html": [
       "<div>\n",
       "<style scoped>\n",
       "    .dataframe tbody tr th:only-of-type {\n",
       "        vertical-align: middle;\n",
       "    }\n",
       "\n",
       "    .dataframe tbody tr th {\n",
       "        vertical-align: top;\n",
       "    }\n",
       "\n",
       "    .dataframe thead th {\n",
       "        text-align: right;\n",
       "    }\n",
       "</style>\n",
       "<table border=\"1\" class=\"dataframe\">\n",
       "  <thead>\n",
       "    <tr style=\"text-align: right;\">\n",
       "      <th></th>\n",
       "      <th>headlines</th>\n",
       "      <th>text</th>\n",
       "    </tr>\n",
       "  </thead>\n",
       "  <tbody>\n",
       "    <tr>\n",
       "      <th>0</th>\n",
       "      <td>upgrad learner switches to career in ml al wit...</td>\n",
       "      <td>saurav kant alumnus upgrad iiit pg program mac...</td>\n",
       "    </tr>\n",
       "    <tr>\n",
       "      <th>1</th>\n",
       "      <td>delhi techie wins free food from swiggy for on...</td>\n",
       "      <td>kunal shah credit card bill payment platform c...</td>\n",
       "    </tr>\n",
       "    <tr>\n",
       "      <th>2</th>\n",
       "      <td>new zealand end rohit sharma led india match w...</td>\n",
       "      <td>new zealand defeated india wickets fourth odi ...</td>\n",
       "    </tr>\n",
       "    <tr>\n",
       "      <th>3</th>\n",
       "      <td>aegon life iterm insurance plan helps customer...</td>\n",
       "      <td>aegon life iterm insurance plan customers enjo...</td>\n",
       "    </tr>\n",
       "    <tr>\n",
       "      <th>4</th>\n",
       "      <td>have known hirani for yrs what if metoo claims...</td>\n",
       "      <td>speaking sexual harassment allegations rajkuma...</td>\n",
       "    </tr>\n",
       "  </tbody>\n",
       "</table>\n",
       "</div>"
      ],
      "text/plain": [
       "                                           headlines  \\\n",
       "0  upgrad learner switches to career in ml al wit...   \n",
       "1  delhi techie wins free food from swiggy for on...   \n",
       "2  new zealand end rohit sharma led india match w...   \n",
       "3  aegon life iterm insurance plan helps customer...   \n",
       "4  have known hirani for yrs what if metoo claims...   \n",
       "\n",
       "                                                text  \n",
       "0  saurav kant alumnus upgrad iiit pg program mac...  \n",
       "1  kunal shah credit card bill payment platform c...  \n",
       "2  new zealand defeated india wickets fourth odi ...  \n",
       "3  aegon life iterm insurance plan customers enjo...  \n",
       "4  speaking sexual harassment allegations rajkuma...  "
      ]
     },
     "metadata": {},
     "output_type": "display_data"
    },
    {
     "data": {
      "text/plain": [
       "(98360, 2)"
      ]
     },
     "execution_count": 39,
     "metadata": {},
     "output_type": "execute_result"
    }
   ],
   "source": [
    "data = pd.read_csv(\"news_preprocessed.csv\")\n",
    "display(data.head())\n",
    "data.shape"
   ]
  },
  {
   "cell_type": "markdown",
   "id": "20535944",
   "metadata": {},
   "source": [
    "### 문장의 길이 분포 분석"
   ]
  },
  {
   "cell_type": "code",
   "execution_count": 40,
   "id": "bad2abb8",
   "metadata": {},
   "outputs": [
    {
     "name": "stdout",
     "output_type": "stream",
     "text": [
      "텍스트의 최소 길이 : 1\n",
      "텍스트의 최대 길이 : 60\n",
      "텍스트의 평균 길이 : 35.09968483123221\n",
      "요약의 최소 길이 : 1\n",
      "요약의 최대 길이 : 16\n",
      "요약의 평균 길이 : 9.299532330215534\n"
     ]
    },
    {
     "data": {
      "image/png": "[encoded data removed]",
      "text/plain": [
       "<Figure size 432x288 with 2 Axes>"
      ]
     },
     "metadata": {
      "needs_background": "light"
     },
     "output_type": "display_data"
    },
    {
     "data": {
      "image/png": "[encoded data removed]",
      "text/plain": [
       "<Figure size 432x288 with 1 Axes>"
      ]
     },
     "metadata": {
      "needs_background": "light"
     },
     "output_type": "display_data"
    },
    {
     "data": {
      "image/png": "[encoded data removed]",
      "text/plain": [
       "<Figure size 432x288 with 1 Axes>"
      ]
     },
     "metadata": {
      "needs_background": "light"
     },
     "output_type": "display_data"
    }
   ],
   "source": [
    "# 길이 분포 출력\n",
    "import matplotlib.pyplot as plt\n",
    "\n",
    "text_len = [len(s.split()) for s in data['text']]\n",
    "headlines_len = [len(s.split()) for s in data['headlines']]\n",
    "\n",
    "print('텍스트의 최소 길이 : {}'.format(np.min(text_len)))\n",
    "print('텍스트의 최대 길이 : {}'.format(np.max(text_len)))\n",
    "print('텍스트의 평균 길이 : {}'.format(np.mean(text_len)))\n",
    "print('요약의 최소 길이 : {}'.format(np.min(headlines_len)))\n",
    "print('요약의 최대 길이 : {}'.format(np.max(headlines_len)))\n",
    "print('요약의 평균 길이 : {}'.format(np.mean(headlines_len)))\n",
    "\n",
    "plt.subplot(1,2,1)\n",
    "plt.boxplot(text_len)\n",
    "plt.title('text')\n",
    "plt.subplot(1,2,2)\n",
    "plt.boxplot(headlines_len)\n",
    "plt.title('headlines')\n",
    "plt.tight_layout()\n",
    "plt.show()\n",
    "\n",
    "plt.title('text')\n",
    "plt.hist(text_len, bins = 40)\n",
    "plt.xlabel('length of samples')\n",
    "plt.ylabel('number of samples')\n",
    "plt.show()\n",
    "\n",
    "plt.title('headlines')\n",
    "plt.hist(headlines_len, bins = 40)\n",
    "plt.xlabel('length of samples')\n",
    "plt.ylabel('number of samples')\n",
    "plt.show()"
   ]
  },
  {
   "cell_type": "code",
   "execution_count": 41,
   "id": "07e711de",
   "metadata": {},
   "outputs": [],
   "source": [
    "def below_threshold_len(max_len, nested_list):\n",
    "  cnt = 0\n",
    "  for s in nested_list:\n",
    "    if(len(s.split()) <= max_len):\n",
    "        cnt = cnt + 1\n",
    "  print('전체 샘플 중 길이가 %s 이하인 샘플의 비율: %s'%(max_len, (cnt / len(nested_list))))"
   ]
  },
  {
   "cell_type": "code",
   "execution_count": 42,
   "id": "d4ac8fee",
   "metadata": {},
   "outputs": [],
   "source": [
    "text_max_len = 40\n",
    "headlines_max_len = 10"
   ]
  },
  {
   "cell_type": "code",
   "execution_count": 43,
   "id": "3bf4f7cd",
   "metadata": {},
   "outputs": [
    {
     "name": "stdout",
     "output_type": "stream",
     "text": [
      "전체 샘플 중 길이가 40 이하인 샘플의 비율: 0.9238714924766165\n",
      "전체 샘플 중 길이가 10 이하인 샘플의 비율: 0.8162972753151687\n"
     ]
    }
   ],
   "source": [
    "below_threshold_len(text_max_len, data['text'])\n",
    "below_threshold_len(headlines_max_len, data['headlines'])"
   ]
  },
  {
   "cell_type": "markdown",
   "id": "a83a2080",
   "metadata": {},
   "source": [
    "text가 40이하 이면서 headlines 10이하인 샘플만 사용"
   ]
  },
  {
   "cell_type": "code",
   "execution_count": 44,
   "id": "a5121e60",
   "metadata": {},
   "outputs": [
    {
     "name": "stdout",
     "output_type": "stream",
     "text": [
      "전체 샘플수 : 74102\n"
     ]
    }
   ],
   "source": [
    "data = data[\n",
    "    data.apply(\n",
    "        lambda x: (\n",
    "            len(x['text'].split()) <= text_max_len and \n",
    "            len(x['headlines'].split()) <= headlines_max_len\n",
    "        ), \n",
    "        axis=1\n",
    "    )\n",
    "]\n",
    "print('전체 샘플수 :', (len(data)))"
   ]
  },
  {
   "cell_type": "markdown",
   "id": "bb626d94",
   "metadata": {},
   "source": [
    "### headlines에 시작 토큰과 종료 토큰 추가"
   ]
  },
  {
   "cell_type": "code",
   "execution_count": 45,
   "id": "8bfb6deb",
   "metadata": {},
   "outputs": [
    {
     "data": {
      "text/html": [
       "<div>\n",
       "<style scoped>\n",
       "    .dataframe tbody tr th:only-of-type {\n",
       "        vertical-align: middle;\n",
       "    }\n",
       "\n",
       "    .dataframe tbody tr th {\n",
       "        vertical-align: top;\n",
       "    }\n",
       "\n",
       "    .dataframe thead th {\n",
       "        text-align: right;\n",
       "    }\n",
       "</style>\n",
       "<table border=\"1\" class=\"dataframe\">\n",
       "  <thead>\n",
       "    <tr style=\"text-align: right;\">\n",
       "      <th></th>\n",
       "      <th>headlines</th>\n",
       "      <th>text</th>\n",
       "      <th>decoder_input</th>\n",
       "      <th>decoder_target</th>\n",
       "    </tr>\n",
       "  </thead>\n",
       "  <tbody>\n",
       "    <tr>\n",
       "      <th>2</th>\n",
       "      <td>new zealand end rohit sharma led india match w...</td>\n",
       "      <td>new zealand defeated india wickets fourth odi ...</td>\n",
       "      <td>sostoken new zealand end rohit sharma led indi...</td>\n",
       "      <td>new zealand end rohit sharma led india match w...</td>\n",
       "    </tr>\n",
       "    <tr>\n",
       "      <th>3</th>\n",
       "      <td>aegon life iterm insurance plan helps customer...</td>\n",
       "      <td>aegon life iterm insurance plan customers enjo...</td>\n",
       "      <td>sostoken aegon life iterm insurance plan helps...</td>\n",
       "      <td>aegon life iterm insurance plan helps customer...</td>\n",
       "    </tr>\n",
       "    <tr>\n",
       "      <th>5</th>\n",
       "      <td>rahat fateh ali khan denies getting notice for...</td>\n",
       "      <td>pakistani singer rahat fateh ali khan denied r...</td>\n",
       "      <td>sostoken rahat fateh ali khan denies getting n...</td>\n",
       "      <td>rahat fateh ali khan denies getting notice for...</td>\n",
       "    </tr>\n",
       "    <tr>\n",
       "      <th>9</th>\n",
       "      <td>cong wins ramgarh bypoll in rajasthan takes to...</td>\n",
       "      <td>congress candidate shafia zubair ramgarh assem...</td>\n",
       "      <td>sostoken cong wins ramgarh bypoll in rajasthan...</td>\n",
       "      <td>cong wins ramgarh bypoll in rajasthan takes to...</td>\n",
       "    </tr>\n",
       "    <tr>\n",
       "      <th>10</th>\n",
       "      <td>up cousins fed human excreta for friendship wi...</td>\n",
       "      <td>two minor cousins uttar pradesh gorakhpur alle...</td>\n",
       "      <td>sostoken up cousins fed human excreta for frie...</td>\n",
       "      <td>up cousins fed human excreta for friendship wi...</td>\n",
       "    </tr>\n",
       "  </tbody>\n",
       "</table>\n",
       "</div>"
      ],
      "text/plain": [
       "                                            headlines  \\\n",
       "2   new zealand end rohit sharma led india match w...   \n",
       "3   aegon life iterm insurance plan helps customer...   \n",
       "5   rahat fateh ali khan denies getting notice for...   \n",
       "9   cong wins ramgarh bypoll in rajasthan takes to...   \n",
       "10  up cousins fed human excreta for friendship wi...   \n",
       "\n",
       "                                                 text  \\\n",
       "2   new zealand defeated india wickets fourth odi ...   \n",
       "3   aegon life iterm insurance plan customers enjo...   \n",
       "5   pakistani singer rahat fateh ali khan denied r...   \n",
       "9   congress candidate shafia zubair ramgarh assem...   \n",
       "10  two minor cousins uttar pradesh gorakhpur alle...   \n",
       "\n",
       "                                        decoder_input  \\\n",
       "2   sostoken new zealand end rohit sharma led indi...   \n",
       "3   sostoken aegon life iterm insurance plan helps...   \n",
       "5   sostoken rahat fateh ali khan denies getting n...   \n",
       "9   sostoken cong wins ramgarh bypoll in rajasthan...   \n",
       "10  sostoken up cousins fed human excreta for frie...   \n",
       "\n",
       "                                       decoder_target  \n",
       "2   new zealand end rohit sharma led india match w...  \n",
       "3   aegon life iterm insurance plan helps customer...  \n",
       "5   rahat fateh ali khan denies getting notice for...  \n",
       "9   cong wins ramgarh bypoll in rajasthan takes to...  \n",
       "10  up cousins fed human excreta for friendship wi...  "
      ]
     },
     "execution_count": 45,
     "metadata": {},
     "output_type": "execute_result"
    }
   ],
   "source": [
    "data.loc[:,'decoder_input'] = data['headlines'].apply(\n",
    "    lambda x : 'sostoken '+ x)\n",
    "data.loc[:,'decoder_target'] = data['headlines'].apply(\n",
    "    lambda x : x + ' eostoken')\n",
    "data.head()"
   ]
  },
  {
   "cell_type": "markdown",
   "id": "241a6496",
   "metadata": {},
   "source": [
    "### numpy 타입으로 변환"
   ]
  },
  {
   "cell_type": "code",
   "execution_count": 46,
   "id": "61723f50",
   "metadata": {},
   "outputs": [],
   "source": [
    "encoder_input = np.array(data['text']) # 인코더의 입력\n",
    "decoder_input = np.array(data['decoder_input']) # 디코더의 입력\n",
    "decoder_target = np.array(data['decoder_target']) # 디코더의 레이블"
   ]
  },
  {
   "cell_type": "code",
   "execution_count": 47,
   "id": "4736aac8",
   "metadata": {},
   "outputs": [
    {
     "data": {
      "text/plain": [
       "'new zealand defeated india wickets fourth odi hamilton thursday win first match five match odi series india lost international match rohit sharma captaincy consecutive victories dating back march match witnessed india getting seventh lowest total odi cricket history'"
      ]
     },
     "execution_count": 47,
     "metadata": {},
     "output_type": "execute_result"
    }
   ],
   "source": [
    "encoder_input[0]"
   ]
  },
  {
   "cell_type": "code",
   "execution_count": 48,
   "id": "9958a170",
   "metadata": {},
   "outputs": [
    {
     "data": {
      "text/plain": [
       "'sostoken new zealand end rohit sharma led india match winning streak'"
      ]
     },
     "execution_count": 48,
     "metadata": {},
     "output_type": "execute_result"
    }
   ],
   "source": [
    "decoder_input[0]"
   ]
  },
  {
   "cell_type": "code",
   "execution_count": 49,
   "id": "a19b36b2",
   "metadata": {},
   "outputs": [
    {
     "data": {
      "text/plain": [
       "'new zealand end rohit sharma led india match winning streak eostoken'"
      ]
     },
     "execution_count": 49,
     "metadata": {},
     "output_type": "execute_result"
    }
   ],
   "source": [
    "decoder_target[0]"
   ]
  },
  {
   "cell_type": "markdown",
   "id": "0168db88",
   "metadata": {},
   "source": [
    "### data shuffle"
   ]
  },
  {
   "cell_type": "code",
   "execution_count": 50,
   "id": "a3fdbb2d",
   "metadata": {},
   "outputs": [
    {
     "name": "stdout",
     "output_type": "stream",
     "text": [
      "[58588 36820 15604 ... 70278 19220  4554]\n"
     ]
    }
   ],
   "source": [
    "# 셔플된 인덱스를 생성해서, 데이터를 셔플\n",
    "indices = np.arange(encoder_input.shape[0])\n",
    "np.random.shuffle(indices)\n",
    "print(indices)"
   ]
  },
  {
   "cell_type": "code",
   "execution_count": 51,
   "id": "0412fc0f",
   "metadata": {},
   "outputs": [],
   "source": [
    "# 데이터를 셔플\n",
    "encoder_input = encoder_input[indices]\n",
    "decoder_input = decoder_input[indices]\n",
    "decoder_target = decoder_target[indices]"
   ]
  },
  {
   "cell_type": "markdown",
   "id": "143143e7",
   "metadata": {},
   "source": [
    "### test set 나누기"
   ]
  },
  {
   "cell_type": "code",
   "execution_count": 52,
   "id": "395c2c4c",
   "metadata": {},
   "outputs": [
    {
     "name": "stdout",
     "output_type": "stream",
     "text": [
      "전체 데이터의 수:  74102\n",
      "테스트 데이터의 수 : 14820\n"
     ]
    }
   ],
   "source": [
    "n_of_val = int(len(encoder_input)*0.2)\n",
    "print(\"전체 데이터의 수: \", len(encoder_input))\n",
    "print('테스트 데이터의 수 :', n_of_val)"
   ]
  },
  {
   "cell_type": "code",
   "execution_count": 53,
   "id": "f054fee3",
   "metadata": {},
   "outputs": [
    {
     "name": "stdout",
     "output_type": "stream",
     "text": [
      "훈련 데이터의 개수 : 59282\n",
      "훈련 레이블의 개수 : 59282\n",
      "테스트 데이터의 개수 : 14820\n",
      "테스트 레이블의 개수 : 14820\n"
     ]
    }
   ],
   "source": [
    "encoder_input_train = encoder_input[:-n_of_val]\n",
    "decoder_input_train = decoder_input[:-n_of_val]\n",
    "decoder_target_train = decoder_target[:-n_of_val]\n",
    "\n",
    "encoder_input_test = encoder_input[-n_of_val:]\n",
    "decoder_input_test = decoder_input[-n_of_val:]\n",
    "decoder_target_test = decoder_target[-n_of_val:]\n",
    "\n",
    "print('훈련 데이터의 개수 :', len(encoder_input_train))\n",
    "print('훈련 레이블의 개수 :', len(decoder_input_train))\n",
    "print('테스트 데이터의 개수 :', len(encoder_input_test))\n",
    "print('테스트 레이블의 개수 :', len(decoder_input_test))"
   ]
  },
  {
   "cell_type": "markdown",
   "id": "257bede5",
   "metadata": {},
   "source": [
    "### 단어 집합 생성"
   ]
  },
  {
   "cell_type": "markdown",
   "id": "f48b3857",
   "metadata": {},
   "source": [
    "encoder_input에 대해 수행  \n",
    "기본 토크나이저를 생성해서, 전체 통계를 확인 후, 빈도수 높은 단어들만 단어 집합을 생성"
   ]
  },
  {
   "cell_type": "code",
   "execution_count": 54,
   "id": "26c9d06d",
   "metadata": {},
   "outputs": [],
   "source": [
    "src_tokenizer = Tokenizer() # 토크나이저 정의\n",
    "src_tokenizer.fit_on_texts(encoder_input_train) # 입력된 데이터로부터 단어 집합 생성"
   ]
  },
  {
   "cell_type": "code",
   "execution_count": 55,
   "id": "96740003",
   "metadata": {},
   "outputs": [],
   "source": [
    "# 확인\n",
    "# [obj for obj in dir(src_tokenizer) if not obj.startswith(\"_\")]"
   ]
  },
  {
   "cell_type": "code",
   "execution_count": 56,
   "id": "883de297",
   "metadata": {},
   "outputs": [],
   "source": [
    "# 확인\n",
    "# src_tokenizer.word_index"
   ]
  },
  {
   "cell_type": "code",
   "execution_count": 57,
   "id": "286fbcf5",
   "metadata": {},
   "outputs": [],
   "source": [
    "def get_vocab_summary(threshold, tokenizer):\n",
    "    total_cnt = len(tokenizer.word_index) # 단어의 수\n",
    "    rare_cnt = 0 # 등장 빈도수가 threshold보다 작은 단어의 개수를 카운트\n",
    "    total_freq = 0 # 훈련 데이터의 전체 단어 빈도수 총 합\n",
    "    rare_freq = 0 # 등장 빈도수가 threshold보다 작은 단어의 등장 빈도수의 총 합\n",
    "\n",
    "    # 단어와 빈도수의 쌍(pair)을 key와 value로 받는다.\n",
    "    for key, value in tokenizer.word_counts.items():\n",
    "        total_freq = total_freq + value\n",
    "\n",
    "        # 단어의 등장 빈도수가 threshold보다 작으면\n",
    "        if(value < threshold):\n",
    "            rare_cnt = rare_cnt + 1\n",
    "            rare_freq = rare_freq + value\n",
    "\n",
    "    print('단어 집합(vocabulary)의 크기 :', total_cnt)\n",
    "    print('등장 빈도가 %s번 이하인 희귀 단어의 수: %s'%(threshold - 1, rare_cnt))\n",
    "    print('단어 집합에서 희귀 단어를 제외시킬 경우의 단어 집합의 크기 %s'%(total_cnt - rare_cnt))\n",
    "    print(\"단어 집합에서 희귀 단어의 비율:\", (rare_cnt / total_cnt)*100)\n",
    "    print(\"전체 등장 빈도에서 희귀 단어 등장 빈도 비율:\", (rare_freq / total_freq)*100)"
   ]
  },
  {
   "cell_type": "code",
   "execution_count": 58,
   "id": "fe20b302",
   "metadata": {},
   "outputs": [
    {
     "name": "stdout",
     "output_type": "stream",
     "text": [
      "단어 집합(vocabulary)의 크기 : 61475\n",
      "등장 빈도가 10번 이하인 희귀 단어의 수: 46367\n",
      "단어 집합에서 희귀 단어를 제외시킬 경우의 단어 집합의 크기 15108\n",
      "단어 집합에서 희귀 단어의 비율: 75.42415616104108\n",
      "전체 등장 빈도에서 희귀 단어 등장 빈도 비율: 5.879035036101735\n"
     ]
    }
   ],
   "source": [
    "get_vocab_summary(11,src_tokenizer)"
   ]
  },
  {
   "cell_type": "markdown",
   "id": "b2cd8c24",
   "metadata": {},
   "source": [
    "10번 이하 희귀 단어 등장 비율이 5.9% 정도이다.  \n",
    "10번 이하 등장하는 단어를 제외하고,  \n",
    "단어 집합의 크기를 15000으로 제한"
   ]
  },
  {
   "cell_type": "code",
   "execution_count": 59,
   "id": "48c8e9c1",
   "metadata": {},
   "outputs": [],
   "source": [
    "src_vocab = 15000\n",
    "src_tokenizer = Tokenizer(num_words=src_vocab) # 단어 집합의 크기를 15,000으로 제한\n",
    "src_tokenizer.fit_on_texts(encoder_input_train) # 단어 집합 재생성"
   ]
  },
  {
   "cell_type": "code",
   "execution_count": 60,
   "id": "2a414911",
   "metadata": {},
   "outputs": [
    {
     "name": "stdout",
     "output_type": "stream",
     "text": [
      "[[163, 14, 19, 142, 625, 5648, 940, 1, 8, 1677, 1017, 197, 721, 657, 1875, 469, 9999, 4, 1115, 569, 14, 1957, 1525, 33, 1, 1182, 2499, 960], [752, 156, 993, 1284, 428, 290, 267, 178, 77, 2459, 31, 782, 4791, 1577, 1252, 1485, 110, 289, 136, 61, 9261, 18, 2007, 5649, 2331, 69, 4851, 22], [1116, 1833, 1489, 1238, 438, 7347, 1, 282, 1678, 12622, 836, 603, 328, 588, 778, 3258, 1749, 836, 604, 63, 13155, 243, 87, 7347, 3625, 2970, 13156, 836, 20, 603]]\n"
     ]
    }
   ],
   "source": [
    "# 텍스트 시퀀스를 정수 시퀀스로 변환\n",
    "encoder_input_train = src_tokenizer.texts_to_sequences(encoder_input_train) \n",
    "encoder_input_test = src_tokenizer.texts_to_sequences(encoder_input_test)\n",
    "\n",
    "# 잘 진행되었는지 샘플 출력\n",
    "print(encoder_input_train[:3])"
   ]
  },
  {
   "cell_type": "markdown",
   "id": "535b9319",
   "metadata": {},
   "source": [
    "headlines에 대해 수행   \n",
    "headlines에 대해서도 기본 토크나이저를 생성해서 통계 확인후, 빈도 높은 단어들만 단어 집합 생성  "
   ]
  },
  {
   "cell_type": "code",
   "execution_count": 61,
   "id": "5d4d224a",
   "metadata": {},
   "outputs": [],
   "source": [
    "tar_tokenizer = Tokenizer() \n",
    "tar_tokenizer.fit_on_texts(decoder_input_train)"
   ]
  },
  {
   "cell_type": "code",
   "execution_count": 62,
   "id": "f64f4d98",
   "metadata": {},
   "outputs": [
    {
     "name": "stdout",
     "output_type": "stream",
     "text": [
      "단어 집합(vocabulary)의 크기 : 27307\n",
      "등장 빈도가 5번 이하인 희귀 단어의 수: 18264\n",
      "단어 집합에서 희귀 단어를 제외시킬 경우의 단어 집합의 크기 9043\n",
      "단어 집합에서 희귀 단어의 비율: 66.88394917054235\n",
      "전체 등장 빈도에서 희귀 단어 등장 빈도 비율: 6.005069147357059\n"
     ]
    }
   ],
   "source": [
    "get_vocab_summary(6,tar_tokenizer)"
   ]
  },
  {
   "cell_type": "markdown",
   "id": "bbc7abdc",
   "metadata": {},
   "source": [
    "5번 이하 희귀 단어 등장 비율이 약 6% 정도이다.  \n",
    "5번 이하 등장하는 단어를 제외하고,  \n",
    "단어 집합의 크기를 9000으로 제한"
   ]
  },
  {
   "cell_type": "code",
   "execution_count": 63,
   "id": "d0a8fe30",
   "metadata": {},
   "outputs": [
    {
     "name": "stdout",
     "output_type": "stream",
     "text": [
      "input\n",
      "input  [[1, 1052, 2650, 223, 94, 21, 7, 408, 335, 4, 1012], [1, 3446, 94, 1465, 13, 1367, 1955, 1956], [1, 211, 3, 2524, 6, 12, 779, 726, 5714], [1, 2651, 87, 57, 186, 8, 1053, 2467, 41], [1, 984, 2043, 10, 28, 42, 1779, 55, 646]]\n",
      "target\n",
      "decoder  [[1052, 2650, 223, 94, 21, 7, 408, 335, 4, 1012, 2], [3446, 94, 1465, 13, 1367, 1955, 1956, 2], [211, 3, 2524, 6, 12, 779, 726, 5714, 2], [2651, 87, 57, 186, 8, 1053, 2467, 41, 2], [984, 2043, 10, 28, 42, 1779, 55, 646, 2]]\n"
     ]
    }
   ],
   "source": [
    "tar_vocab = 9000\n",
    "tar_tokenizer = Tokenizer(num_words=tar_vocab) \n",
    "tar_tokenizer.fit_on_texts(decoder_input_train)\n",
    "tar_tokenizer.fit_on_texts(decoder_target_train)\n",
    "\n",
    "# 텍스트 시퀀스를 정수 시퀀스로 변환\n",
    "decoder_input_train = tar_tokenizer.texts_to_sequences(decoder_input_train) \n",
    "decoder_target_train = tar_tokenizer.texts_to_sequences(decoder_target_train)\n",
    "decoder_input_test = tar_tokenizer.texts_to_sequences(decoder_input_test)\n",
    "decoder_target_test = tar_tokenizer.texts_to_sequences(decoder_target_test)\n",
    "\n",
    "# 잘 변환되었는지 확인\n",
    "print('input')\n",
    "print('input ',decoder_input_train[:5])\n",
    "print('target')\n",
    "print('decoder ',decoder_target_train[:5])"
   ]
  },
  {
   "cell_type": "markdown",
   "id": "c5a5f8eb",
   "metadata": {},
   "source": [
    "희귀 단어를 제거함으로써 headlines에 결측치가 발생할 수도 있다.  \n",
    "이를 확인"
   ]
  },
  {
   "cell_type": "code",
   "execution_count": 64,
   "id": "29e7da66",
   "metadata": {},
   "outputs": [
    {
     "name": "stdout",
     "output_type": "stream",
     "text": [
      "삭제할 훈련 데이터의 개수 : 1\n",
      "삭제할 테스트 데이터의 개수 : 0\n",
      "훈련 데이터의 개수 : 59281\n",
      "훈련 레이블의 개수 : 59281\n",
      "테스트 데이터의 개수 : 14820\n",
      "테스트 레이블의 개수 : 14820\n"
     ]
    }
   ],
   "source": [
    "drop_train = [index for index, sentence in enumerate(decoder_input_train) if len(sentence) == 1]\n",
    "drop_test = [index for index, sentence in enumerate(decoder_input_test) if len(sentence) == 1]\n",
    "\n",
    "print('삭제할 훈련 데이터의 개수 :', len(drop_train))\n",
    "print('삭제할 테스트 데이터의 개수 :', len(drop_test))\n",
    "\n",
    "encoder_input_train = [sentence for index, sentence in enumerate(encoder_input_train) if index not in drop_train]\n",
    "decoder_input_train = [sentence for index, sentence in enumerate(decoder_input_train) if index not in drop_train]\n",
    "decoder_target_train = [sentence for index, sentence in enumerate(decoder_target_train) if index not in drop_train]\n",
    "\n",
    "encoder_input_test = [sentence for index, sentence in enumerate(encoder_input_test) if index not in drop_test]\n",
    "decoder_input_test = [sentence for index, sentence in enumerate(decoder_input_test) if index not in drop_test]\n",
    "decoder_target_test = [sentence for index, sentence in enumerate(decoder_target_test) if index not in drop_test]\n",
    "\n",
    "print('훈련 데이터의 개수 :', len(encoder_input_train))\n",
    "print('훈련 레이블의 개수 :', len(decoder_input_train))\n",
    "print('테스트 데이터의 개수 :', len(encoder_input_test))\n",
    "print('테스트 레이블의 개수 :', len(decoder_input_test))"
   ]
  },
  {
   "cell_type": "markdown",
   "id": "214d60c5",
   "metadata": {},
   "source": [
    "패딩하기"
   ]
  },
  {
   "cell_type": "code",
   "execution_count": 65,
   "id": "999346fe",
   "metadata": {},
   "outputs": [],
   "source": [
    "encoder_input_train = pad_sequences(encoder_input_train, maxlen=text_max_len, padding='post')\n",
    "encoder_input_test = pad_sequences(encoder_input_test, maxlen=text_max_len, padding='post')\n",
    "decoder_input_train = pad_sequences(decoder_input_train, maxlen=headlines_max_len, padding='post')\n",
    "decoder_target_train = pad_sequences(decoder_target_train, maxlen=headlines_max_len, padding='post')\n",
    "decoder_input_test = pad_sequences(decoder_input_test, maxlen=headlines_max_len, padding='post')\n",
    "decoder_target_test = pad_sequences(decoder_target_test, maxlen=headlines_max_len, padding='post')"
   ]
  },
  {
   "cell_type": "markdown",
   "id": "99af8447",
   "metadata": {},
   "source": [
    "## 모델 설계"
   ]
  },
  {
   "cell_type": "code",
   "execution_count": 66,
   "id": "121a7cb9",
   "metadata": {},
   "outputs": [],
   "source": [
    "from tensorflow.keras.layers import Input, LSTM, Embedding, Dense, Concatenate, TimeDistributed\n",
    "from tensorflow.keras.models import Model\n",
    "from tensorflow.keras.callbacks import EarlyStopping, ModelCheckpoint\n",
    "from tensorflow.keras.layers import AdditiveAttention\n",
    "\n",
    "\n",
    "# 인코더 설계 시작\n",
    "embedding_dim = 128\n",
    "hidden_size = 256\n",
    "\n",
    "# 인코더\n",
    "encoder_inputs = Input(shape=(text_max_len,))\n",
    "\n",
    "# 인코더의 임베딩 층\n",
    "enc_emb = Embedding(src_vocab, embedding_dim)(encoder_inputs)\n",
    "\n",
    "# 인코더의 LSTM 1\n",
    "encoder_lstm1 = LSTM(hidden_size, return_sequences=True, return_state=True ,dropout = 0.4)\n",
    "encoder_output1, state_h1, state_c1 = encoder_lstm1(enc_emb)\n",
    "\n",
    "# 인코더의 LSTM 2\n",
    "encoder_lstm2 = LSTM(hidden_size, return_sequences=True, return_state=True, dropout=0.4)\n",
    "encoder_output2, state_h2, state_c2 = encoder_lstm2(encoder_output1)\n",
    "\n",
    "# 인코더의 LSTM 3\n",
    "encoder_lstm3 = LSTM(hidden_size, return_sequences=True, return_state=True, dropout=0.4)\n",
    "encoder_outputs, state_h, state_c = encoder_lstm3(encoder_output2)\n",
    "\n"
   ]
  },
  {
   "cell_type": "code",
   "execution_count": 67,
   "id": "6c5fb1b9",
   "metadata": {},
   "outputs": [],
   "source": [
    "# 디코더 설계\n",
    "decoder_inputs = Input(shape=(None,))\n",
    "\n",
    "# 디코더의 임베딩 층\n",
    "dec_emb_layer = Embedding(tar_vocab, embedding_dim)\n",
    "dec_emb = dec_emb_layer(decoder_inputs)\n",
    "\n",
    "# 디코더의 LSTM\n",
    "# decoder_lstm = LSTM(hidden_size, return_sequences=True, return_state=True, dropout=0.4, recurrent_dropout=0.2)\n",
    "decoder_lstm = LSTM(hidden_size, return_sequences=True, return_state=True, dropout=0.4)\n",
    "decoder_outputs, _, _ = decoder_lstm(dec_emb, initial_state=[state_h, state_c])"
   ]
  },
  {
   "cell_type": "code",
   "execution_count": 68,
   "id": "a7fe5321",
   "metadata": {},
   "outputs": [
    {
     "name": "stdout",
     "output_type": "stream",
     "text": [
      "Model: \"model\"\n",
      "__________________________________________________________________________________________________\n",
      "Layer (type)                    Output Shape         Param #     Connected to                     \n",
      "==================================================================================================\n",
      "input_1 (InputLayer)            [(None, 40)]         0                                            \n",
      "__________________________________________________________________________________________________\n",
      "embedding (Embedding)           (None, 40, 128)      1920000     input_1[0][0]                    \n",
      "__________________________________________________________________________________________________\n",
      "lstm (LSTM)                     [(None, 40, 256), (N 394240      embedding[0][0]                  \n",
      "__________________________________________________________________________________________________\n",
      "input_2 (InputLayer)            [(None, None)]       0                                            \n",
      "__________________________________________________________________________________________________\n",
      "lstm_1 (LSTM)                   [(None, 40, 256), (N 525312      lstm[0][0]                       \n",
      "__________________________________________________________________________________________________\n",
      "embedding_1 (Embedding)         (None, None, 128)    1152000     input_2[0][0]                    \n",
      "__________________________________________________________________________________________________\n",
      "lstm_2 (LSTM)                   [(None, 40, 256), (N 525312      lstm_1[0][0]                     \n",
      "__________________________________________________________________________________________________\n",
      "lstm_3 (LSTM)                   [(None, None, 256),  394240      embedding_1[0][0]                \n",
      "                                                                 lstm_2[0][1]                     \n",
      "                                                                 lstm_2[0][2]                     \n",
      "__________________________________________________________________________________________________\n",
      "attention_layer (AdditiveAttent (None, None, 256)    256         lstm_3[0][0]                     \n",
      "                                                                 lstm_2[0][0]                     \n",
      "__________________________________________________________________________________________________\n",
      "concat_layer (Concatenate)      (None, None, 512)    0           lstm_3[0][0]                     \n",
      "                                                                 attention_layer[0][0]            \n",
      "__________________________________________________________________________________________________\n",
      "dense (Dense)                   (None, None, 9000)   4617000     concat_layer[0][0]               \n",
      "==================================================================================================\n",
      "Total params: 9,528,360\n",
      "Trainable params: 9,528,360\n",
      "Non-trainable params: 0\n",
      "__________________________________________________________________________________________________\n"
     ]
    }
   ],
   "source": [
    "from tensorflow.keras.layers import AdditiveAttention\n",
    "\n",
    "# 어텐션 층(어텐션 함수)\n",
    "attn_layer = AdditiveAttention(name='attention_layer')\n",
    "\n",
    "# 인코더와 디코더의 모든 time step의 hidden state를 어텐션 층에 전달하고 결과를 리턴\n",
    "attn_out = attn_layer([decoder_outputs, encoder_outputs])\n",
    "\n",
    "\n",
    "# 어텐션의 결과와 디코더의 hidden state들을 연결\n",
    "decoder_concat_input = Concatenate(axis=-1, name='concat_layer')([decoder_outputs, attn_out])\n",
    "\n",
    "# 디코더의 출력층\n",
    "decoder_softmax_layer = Dense(tar_vocab, activation='softmax')\n",
    "decoder_softmax_outputs = decoder_softmax_layer(decoder_concat_input)\n",
    "\n",
    "# 모델 정의\n",
    "model = Model([encoder_inputs, decoder_inputs], decoder_softmax_outputs)\n",
    "model.summary()"
   ]
  },
  {
   "cell_type": "code",
   "execution_count": 69,
   "id": "b715e50d",
   "metadata": {},
   "outputs": [
    {
     "name": "stdout",
     "output_type": "stream",
     "text": [
      "Epoch 1/50\n",
      "232/232 [==============================] - 67s 83ms/step - loss: 6.3065 - val_loss: 5.8802\n",
      "Epoch 2/50\n",
      "232/232 [==============================] - 18s 79ms/step - loss: 5.7681 - val_loss: 5.5341\n",
      "Epoch 3/50\n",
      "232/232 [==============================] - 19s 80ms/step - loss: 5.4339 - val_loss: 5.2510\n",
      "Epoch 4/50\n",
      "232/232 [==============================] - 19s 81ms/step - loss: 5.1502 - val_loss: 5.0569\n",
      "Epoch 5/50\n",
      "232/232 [==============================] - 19s 82ms/step - loss: 4.9147 - val_loss: 4.8886\n",
      "Epoch 6/50\n",
      "232/232 [==============================] - 19s 83ms/step - loss: 4.7152 - val_loss: 4.7573\n",
      "Epoch 7/50\n",
      "232/232 [==============================] - 19s 84ms/step - loss: 4.5407 - val_loss: 4.6718\n",
      "Epoch 8/50\n",
      "232/232 [==============================] - 20s 85ms/step - loss: 4.3906 - val_loss: 4.5745\n",
      "Epoch 9/50\n",
      "232/232 [==============================] - 20s 85ms/step - loss: 4.2547 - val_loss: 4.5047\n",
      "Epoch 10/50\n",
      "232/232 [==============================] - 20s 86ms/step - loss: 4.1319 - val_loss: 4.4569\n",
      "Epoch 11/50\n",
      "232/232 [==============================] - 20s 86ms/step - loss: 4.0165 - val_loss: 4.4096\n",
      "Epoch 12/50\n",
      "232/232 [==============================] - 20s 86ms/step - loss: 3.9119 - val_loss: 4.3691\n",
      "Epoch 13/50\n",
      "232/232 [==============================] - 20s 87ms/step - loss: 3.8148 - val_loss: 4.3347\n",
      "Epoch 14/50\n",
      "232/232 [==============================] - 20s 87ms/step - loss: 3.7243 - val_loss: 4.3033\n",
      "Epoch 15/50\n",
      "232/232 [==============================] - 20s 88ms/step - loss: 3.6395 - val_loss: 4.2922\n",
      "Epoch 16/50\n",
      "232/232 [==============================] - 20s 88ms/step - loss: 3.5594 - val_loss: 4.2689\n",
      "Epoch 17/50\n",
      "232/232 [==============================] - 20s 88ms/step - loss: 3.4836 - val_loss: 4.2611\n",
      "Epoch 18/50\n",
      "232/232 [==============================] - 20s 88ms/step - loss: 3.4135 - val_loss: 4.2405\n",
      "Epoch 19/50\n",
      "232/232 [==============================] - 20s 88ms/step - loss: 3.3455 - val_loss: 4.2384\n",
      "Epoch 20/50\n",
      "232/232 [==============================] - 21s 89ms/step - loss: 3.2798 - val_loss: 4.2245\n",
      "Epoch 21/50\n",
      "232/232 [==============================] - 20s 88ms/step - loss: 3.2179 - val_loss: 4.2210\n",
      "Epoch 22/50\n",
      "232/232 [==============================] - 21s 89ms/step - loss: 3.1627 - val_loss: 4.2244\n",
      "Epoch 23/50\n",
      "232/232 [==============================] - 21s 89ms/step - loss: 3.1069 - val_loss: 4.2219\n",
      "Epoch 00023: early stopping\n"
     ]
    }
   ],
   "source": [
    "model.compile(optimizer='rmsprop', loss='sparse_categorical_crossentropy')\n",
    "es = EarlyStopping(monitor='val_loss', patience=2, verbose=1)\n",
    "\n",
    "history = model.fit(x=[encoder_input_train, decoder_input_train], y=decoder_target_train, \\\n",
    "          validation_data=([encoder_input_test, decoder_input_test], decoder_target_test), \\\n",
    "          batch_size=256, callbacks=[es], epochs=50)"
   ]
  },
  {
   "cell_type": "code",
   "execution_count": 70,
   "id": "16940f49",
   "metadata": {},
   "outputs": [
    {
     "data": {
      "image/png": "[encoded data removed]",
      "text/plain": [
       "<Figure size 432x288 with 1 Axes>"
      ]
     },
     "metadata": {
      "needs_background": "light"
     },
     "output_type": "display_data"
    }
   ],
   "source": [
    "plt.plot(history.history['loss'], label='train')\n",
    "plt.plot(history.history['val_loss'], label='test')\n",
    "plt.legend()\n",
    "plt.show()"
   ]
  },
  {
   "cell_type": "markdown",
   "id": "4e8350f9",
   "metadata": {},
   "source": [
    "24 에폭 이후, val_loss가 줄지 않아, early stop 하였음."
   ]
  },
  {
   "cell_type": "markdown",
   "id": "c41d5c51",
   "metadata": {},
   "source": [
    "인덱스 -> 텍스트 복원을 위한 사전 준비"
   ]
  },
  {
   "cell_type": "code",
   "execution_count": 71,
   "id": "7ccf0594",
   "metadata": {},
   "outputs": [],
   "source": [
    "src_index_to_word = src_tokenizer.index_word # 원문 단어 집합에서 정수 -> 단어를 얻음\n",
    "tar_word_to_index = tar_tokenizer.word_index # 요약 단어 집합에서 단어 -> 정수를 얻음\n",
    "tar_index_to_word = tar_tokenizer.index_word # 요약 단어 집합에서 정수 -> 단어를 얻음"
   ]
  },
  {
   "cell_type": "markdown",
   "id": "e86e47fd",
   "metadata": {},
   "source": [
    "### 추론단계에 사용하는 seq2seq 모델 설계"
   ]
  },
  {
   "cell_type": "code",
   "execution_count": 72,
   "id": "c2388060",
   "metadata": {},
   "outputs": [],
   "source": [
    "# 인코더 설계\n",
    "encoder_model = Model(inputs=encoder_inputs, outputs=[encoder_outputs, state_h, state_c])\n",
    "\n",
    "# 이전 시점의 상태들을 저장하는 텐서\n",
    "decoder_state_input_h = Input(shape=(hidden_size,))\n",
    "decoder_state_input_c = Input(shape=(hidden_size,))\n",
    "\n",
    "dec_emb2 = dec_emb_layer(decoder_inputs)\n",
    "\n",
    "# 문장의 다음 단어를 예측하기 위해서 초기 상태(initial_state)를 이전 시점의 상태로 사용. 이는 뒤의 함수 decode_sequence()에 구현\n",
    "# 훈련 과정에서와 달리 LSTM의 리턴하는 은닉 상태와 셀 상태인 state_h와 state_c를 버리지 않음.\n",
    "decoder_outputs2, state_h2, state_c2 = decoder_lstm(dec_emb2, initial_state=[decoder_state_input_h, decoder_state_input_c])\n",
    "\n"
   ]
  },
  {
   "cell_type": "code",
   "execution_count": 73,
   "id": "19d63120",
   "metadata": {},
   "outputs": [],
   "source": [
    "# 어텐션 함수\n",
    "decoder_hidden_state_input = Input(shape=(text_max_len, hidden_size))\n",
    "attn_out_inf = attn_layer([decoder_outputs2, decoder_hidden_state_input])\n",
    "decoder_inf_concat = Concatenate(axis=-1, name='concat')([decoder_outputs2, attn_out_inf])\n",
    "\n",
    "# 디코더의 출력층\n",
    "decoder_outputs2 = decoder_softmax_layer(decoder_inf_concat) \n",
    "\n",
    "# 최종 디코더 모델\n",
    "decoder_model = Model(\n",
    "    [decoder_inputs] + [decoder_hidden_state_input,decoder_state_input_h, decoder_state_input_c],\n",
    "    [decoder_outputs2] + [state_h2, state_c2])\n",
    "\n"
   ]
  },
  {
   "cell_type": "code",
   "execution_count": 74,
   "id": "e6da1caf",
   "metadata": {},
   "outputs": [],
   "source": [
    "def decode_sequence(input_seq):\n",
    "    # 입력으로부터 인코더의 상태를 얻음\n",
    "    e_out, e_h, e_c = encoder_model.predict(input_seq)\n",
    "\n",
    "     # <SOS>에 해당하는 토큰 생성\n",
    "    target_seq = np.zeros((1,1))\n",
    "    target_seq[0, 0] = tar_word_to_index['sostoken']\n",
    "\n",
    "    stop_condition = False\n",
    "    decoded_sentence = ''\n",
    "    while not stop_condition: # stop_condition이 True가 될 때까지 루프 반복\n",
    "\n",
    "        output_tokens, h, c = decoder_model.predict([target_seq] + [e_out, e_h, e_c])\n",
    "        sampled_token_index = np.argmax(output_tokens[0, -1, :])\n",
    "        sampled_token = tar_index_to_word[sampled_token_index]\n",
    "\n",
    "        if (sampled_token!='eostoken'):\n",
    "            decoded_sentence += ' '+sampled_token\n",
    "\n",
    "        #  <eos>에 도달하거나 최대 길이를 넘으면 중단.\n",
    "        if (sampled_token == 'eostoken'  or len(decoded_sentence.split()) >= (headlines_max_len-1)):\n",
    "            stop_condition = True\n",
    "\n",
    "        # 길이가 1인 타겟 시퀀스를 업데이트\n",
    "        target_seq = np.zeros((1,1))\n",
    "        target_seq[0, 0] = sampled_token_index\n",
    "\n",
    "        # 상태를 업데이트 합니다.\n",
    "        e_h, e_c = h, c\n",
    "\n",
    "    return decoded_sentence\n"
   ]
  },
  {
   "cell_type": "code",
   "execution_count": 75,
   "id": "69f9ab47",
   "metadata": {},
   "outputs": [],
   "source": [
    "# 원문의 정수 시퀀스를 텍스트 시퀀스로 변환\n",
    "def seq2text(input_seq):\n",
    "    temp=''\n",
    "    for i in input_seq:\n",
    "        if (i!=0):\n",
    "            temp = temp + src_index_to_word[i]+' '\n",
    "    return temp\n",
    "\n",
    "# 요약문의 정수 시퀀스를 텍스트 시퀀스로 변환\n",
    "def seq2summary(input_seq):\n",
    "    # [[YOUR CODE]]\n",
    "    temp=''\n",
    "    for i in input_seq:\n",
    "        if i not in [0, 1, 2]:\n",
    "            temp = temp + tar_index_to_word[i]+' '\n",
    "    return temp\n"
   ]
  },
  {
   "cell_type": "code",
   "execution_count": 76,
   "id": "200d397e",
   "metadata": {},
   "outputs": [
    {
     "name": "stdout",
     "output_type": "stream",
     "text": [
      "원문 : model kendall jenner opening criticism received starring pepsi commercial slammed political resistance said felt stupid would people definitely intent added kendall said feel really bad taken wrong way \n",
      "실제 요약 : felt so stupid kendall on pepsi ad controversy \n",
      "예측 요약 :  kendall jenner slammed for kendall remark\n",
      "\n",
      "\n",
      "원문 : filmmaker ram gopal varma twitter took dig filmmaker anurag kashyap company phantom films queen created various number people company created one single king read one varma tweets comes vikas bahl co founder company accused sexual harassment recently \n",
      "실제 요약 : rgv takes dig at anurag kashyap films on twitter \n",
      "예측 요약 :  twitter reacts to sunil grover to enter his\n",
      "\n",
      "\n",
      "원문 : complete skeleton unidentified dinosaur sold million eiffel tower paris monday bones scientists believe probably new species discovered us metre long metre high dinosaur lived late jurassic period million years ago \n",
      "실제 요약 : unknown dinosaur skeleton sold for crore in paris \n",
      "예측 요약 :  dinosaur dinosaur dinosaur found in dinosaur auctioned in\n",
      "\n",
      "\n",
      "원문 : twitter released series special emojis featuring cricketers ahead tenth season indian premier league starts wednesday players featured virat kohli ms dhoni steve smith gautam gambhir shane watson ben stokes among others use emojis users tweet players names hashtag \n",
      "실제 요약 : twitter releases special player for ipl \n",
      "예측 요약 :  kohli to play kohli for ipl ipl\n",
      "\n",
      "\n",
      "원문 : karan johar said note shared twitter got know twins health complications due premature birth twins yash roohi born via surrogacy yash named johar father roohi mother name \n",
      "실제 요약 : was karan johar on premature birth of his twins \n",
      "예측 요약 :  am not in my life karan johar\n",
      "\n",
      "\n",
      "원문 : many villages gurugram announced plans pay property tax municipal corporation gurugram claiming civic body claim plots villagers alleged panchayats plots worth crores illegally transferred lands brought jurisdiction mcg \n",
      "실제 요약 : villages refuse to pay property tax to gurugram civic body \n",
      "예측 요약 :  noida civic body to pay up to\n",
      "\n",
      "\n",
      "원문 : kerala cm pinarayi vijayan revealed united arab emirates offered financial assistance crore flood relief state earlier uae pm sheikh mohammed bin rashid al formed emergency committee floods people kerala always still part success story uae said \n",
      "실제 요약 : uae offered crore for kerala floods reveals cm vijayan \n",
      "예측 요약 :  kerala cm approves crore aid for kerala floods\n",
      "\n",
      "\n",
      "원문 : first country haryana forest department planning release eight captivity fitted satellite wild centre granted permission birds track endangered release earlier wing tags could put birds \n",
      "실제 요약 : haryana to release with satellite \n",
      "예측 요약 :  maharashtra to launch new zealand state\n",
      "\n",
      "\n",
      "원문 : agreement signed myanmar bangladesh return rohingyas creates impossible safe return refugees therefore involve united nations human rights watch said safety refugees myanmar willingness ensure human rights equal access nationality added \n",
      "실제 요약 : rohingya return deal should be un \n",
      "예측 요약 :  un to deport rohingya refugees\n",
      "\n",
      "\n",
      "원문 : argentine football legend diego maradona set visit india play charity football match former indian captain sourav ganguly september match called match unity followed west bengal chief minister mamata banerjee year old argentine lifetime achievement award \n",
      "실제 요약 : maradona to play charity match against ganguly in sept \n",
      "예측 요약 :  ex india football football match marries football team\n",
      "\n",
      "\n",
      "원문 : us senate thursday voted impose new sanctions russia north korea iran bill sent president donald trump sign law bill claims sanctions target russia interference presidential elections annexation crimea north korea nuclear program iran supporting terrorism \n",
      "실제 요약 : us senate clears new sanctions against russia north korea \n",
      "예측 요약 :  us rejects trump sanctions against us\n",
      "\n",
      "\n",
      "원문 : discussion gst bill assembly state minister imran ansari accused national conference mla rana double standards said lynch know businesses remarks came minister claimed rana migrated businesses new tax regime opposing implementation state \n",
      "실제 요약 : can lynch you here minister to mla during gst session \n",
      "예측 요약 :  bjp is the most dangerous in andhra pradesh\n",
      "\n",
      "\n",
      "원문 : us scientists determined satellite dna previously considered junk plays crucial role holding genome together although contain instructions making proteins satellite dna ensures bundle correctly inside cells would give us advantage evolution probably would gotten rid said researchers \n",
      "실제 요약 : scientists discover role for dna \n",
      "예측 요약 :  scientists create new new zealand\n",
      "\n",
      "\n",
      "원문 : jewish couple month old daughter detroit removed american airlines flight airline told passengers complained body odour american airlines claimed given hotel room meal night booked onto new flight man said believes removed religious reasons \n",
      "실제 요약 : couple month old daughter removed from plane over body \n",
      "예측 요약 :  airline gets married in flight\n",
      "\n",
      "\n",
      "원문 : actors ranbir kapoor ranveer singh karan johar attended nd birthday celebrations actor arjun kapoor aditya roy kapur harshvardhan kapoor also spotted arjun residence son boney kapoor kapoor arjun worked assistant director films including kal ho naa ho pursuing acting \n",
      "실제 요약 : ranbir ranveer karan attend arjun kapoor nd birthday \n",
      "예측 요약 :  ranbir kapoor shares pic with ranbir kapoor\n",
      "\n",
      "\n",
      "원문 : israel aerospace industries announced signed billion contract india supply advanced medium range surface air missile systems said largest defence contract added would also supply additional long range air missile defence systems first locally made indian aircraft carrier \n",
      "실제 요약 : india signs missile deal worth nearly cr with israel \n",
      "예측 요약 :  iran to launch billion deal with billion\n",
      "\n",
      "\n",
      "원문 : akshay kumar speaking upcoming film padman deals issue menstrual hygiene said menstruation natural bold breaking hold us back added padman based life arunachalam muruganantham man made sanitary pads accessible women village \n",
      "실제 요약 : is natural akshay kumar on padman \n",
      "예측 요약 :  akshay kumar to be part of his film reports\n",
      "\n",
      "\n",
      "원문 : ias officer shah resigned protest killings kashmir absence credible political initiative minister state pmo jitendra singh said officer failed condemn terror added showed officer lack conviction said decision quit prompted around million indian muslims \n",
      "실제 요약 : ias officer who quit failed to condemn terror minister \n",
      "예측 요약 :  no evidence of punjab minister on ias officer\n",
      "\n",
      "\n",
      "원문 : apple co founder steve wozniak recent interview said technology major becoming like software company microsoft talking apple reported plan develop license software self driving cars wozniak said microsoft operating system crown licensed everybody \n",
      "실제 요약 : apple is becoming microsoft apple co founder steve wozniak \n",
      "예측 요약 :  apple to be used in apple apple ceo\n",
      "\n",
      "\n",
      "원문 : actress sushmita sen became st indian win miss universe title took twitter congratulate miss universe gray victory beauty pageant congratulations philippines another deserved victory stunning well spoken gray wrote mahal love actress added \n",
      "실제 요약 : victory india st miss universe sen on winner \n",
      "예측 요약 :  miss world no miss universe on miss universe\n",
      "\n",
      "\n",
      "원문 : facebook said would begin offering minimum reward users report misuse private information social network part effort company step data protection light data scandal facebook said reward would applicable cases affecting people \n",
      "실제 요약 : facebook to offer each to users who report data abuse \n",
      "예측 요약 :  facebook to allow internet to restrict news\n",
      "\n",
      "\n",
      "원문 : railway board ordered review rail bridges country found speed restrictions imposed bridges conditions board earlier discovered trains would pass bridges usual speed thereby posing safety hazard \n",
      "실제 요약 : rail found speed \n",
      "예측 요약 :  delhi to be declared as of\n",
      "\n",
      "\n",
      "원문 : pnb fraud accused gitanjali gems owner mehul choksi said told security threat india passport suspended choksi refused return saying arrested get proper healthcare receive treatment government hospital earlier choksi said would return passport cancellation revoked \n",
      "실제 요약 : not told how am security threat to india mehul choksi \n",
      "예측 요약 :  choksi choksi are not mehul choksi choksi mehul choksi\n",
      "\n",
      "\n",
      "원문 : per reports pahlaj nihalani may replaced censor board chief reports suggested filmmaker prakash jha tv producer actor dwivedi even filmmaker madhur bhandarkar considered replacement current censor board chief nihalani appointed chairperson censor board january period three years \n",
      "실제 요약 : pahlaj nihalani to be replaced as censor board chief report \n"
     ]
    },
    {
     "name": "stdout",
     "output_type": "stream",
     "text": [
      "예측 요약 :  pahlaj pulls out of pahlaj pahlaj pahlaj pahlaj\n",
      "\n",
      "\n",
      "원문 : us muslim woman suing country border agents allegedly iphone data airport claimed questioned searched taken small room said agents kept copy phone data without warrant failed say whether deleted \n",
      "실제 요약 : muslim woman sues us border agents over seized iphone data \n",
      "예측 요약 :  chinese man accuses apple of stealing iphone\n",
      "\n",
      "\n",
      "원문 : prime minister narendra modi helped muslim girl karnataka continue studies providing educational loan lakh year old written letter pm received reply within ten days bank rejected application stating even paid loans taken earlier \n",
      "실제 요약 : modi helps muslim girl from taka get loan for education \n",
      "예측 요약 :  pm modi to give quota for raping pm modi\n",
      "\n",
      "\n",
      "원문 : amid growing tensions two countries us decided close palestinian mission washington palestine liberation organisation secretary general said yet another us policy collectively punish palestinians added follows us decision end funding un relief works agency palestine refugees \n",
      "실제 요약 : us to close palestinian mission amid growing tensions \n",
      "예측 요약 :  us to un nuclear weapons\n",
      "\n",
      "\n",
      "원문 : salman khan sharing trailer varun dhawan upcoming film judwaa twitter wrote judwaa tweeting judwaa judwaa also stars taapsee pannu jacqueline fernandez sequel salman karisma kapoor starrer judwaa replying salman varun tweeted always original judwaa bhai \n",
      "실제 요약 : judwaa tweeting for judwaa salman on varun film \n",
      "예측 요약 :  salman katrina to appear in koffee with karan\n",
      "\n",
      "\n",
      "원문 : apple updated app store guidelines ban misleading apps market including content services actually offer apple already removed number apps app store violating company policies want business guidelines read \n",
      "실제 요약 : apple bans misleading apps on ios \n",
      "예측 요약 :  apple to play app app for tracking apps\n",
      "\n",
      "\n",
      "원문 : race new song allah hai theme track race franchise released composed tushar joshi vocals amit mishra gandhi chandra raja kumari song film stars salman khan jacqueline fernandez anil kapoor bobby deol among others \n",
      "실제 요약 : allah hai song from race released \n",
      "예측 요약 :  song from song from song released\n",
      "\n",
      "\n",
      "원문 : hollywood actors brad pitt leonardo dicaprio star together upcoming film seen playing struggling actors film based time charles murders set los angeles year film scheduled release august \n",
      "실제 요약 : brad leonardo to star in tarantino upcoming film \n",
      "예측 요약 :  to star in upcoming film film\n",
      "\n",
      "\n",
      "원문 : delhi high court asked indian air force review change dealing stress substance abuse stating force system needs line law direction came force kept year old personnel confined psychiatric ward hospital alcoholic \n",
      "실제 요약 : review change dealing with stress hc to iaf \n",
      "예측 요약 :  hc asks hc to use of sexual harassment\n",
      "\n",
      "\n",
      "원문 : cbi joint director rajiv singh heading investigations billion pnb fraud involving nirav modi mehul choksi prematurely home cadre tripura move comes agency plans file red corner notice nirav choksi three bureaucrats also upon request respective state governments \n",
      "실제 요약 : officer probing nirav modi scam from cbi \n",
      "예측 요약 :  nirav modi pnb modi summoned in pnb fraud case\n",
      "\n",
      "\n",
      "원문 : first bilateral visit myanmar pm narendra modi announced visas issued myanmar citizens visas currently issued free charge diplomats people including bangladesh afghanistan south africa among others also announced release myanmar citizens lodged indian jails \n",
      "실제 요약 : india to issue visa to all myanmar citizens \n",
      "예측 요약 :  india to give citizenship to pm modi\n",
      "\n",
      "\n",
      "원문 : longest total lunar eclipse st century lasting minutes would visible india friday night provided sky remains clear amid monsoon partial eclipse start pm become total eclipse blood moon partial eclipse eventually end \n",
      "실제 요약 : india to witness st century longest blood moon tonight \n",
      "예측 요약 :  india st to have km to the world largest\n",
      "\n",
      "\n",
      "원문 : year old man arrested allegedly murdering daughter year old boyfriend victim house hunting settle girlfriend met man posing real estate agent forcibly took thane car following allegedly murdered girlfriend father two accomplices \n",
      "실제 요약 : man arrested for killing daughter boyfriend in thane \n",
      "예측 요약 :  man kills daughter for not paying his daughter\n",
      "\n",
      "\n",
      "원문 : year old elephant named got blessed junior priest church kerala thursday church said correct word describe event would blessed instead mla pc george whose family owns elephant said animal get christian name post blessing \n",
      "실제 요약 : elephant gets blessed in kerala church \n",
      "예측 요약 :  yr old girl who is god during assault\n",
      "\n",
      "\n",
      "원문 : actor george clooney denied co star claim helped blacklist reporting set harassment nothing casting actor told involved decision career lied added clooney guest star till show third season \n",
      "실제 요약 : clooney denies co star for reporting harassment \n",
      "예측 요약 :  actress denies sexual harassment allegations\n",
      "\n",
      "\n",
      "원문 : haryana power distribution companies announced working towards providing power supply rural areas gurugram august urban areas gurugram already getting power supply added earlier haryana government said aims make gurugram ambala districts power cut free august \n",
      "실제 요약 : rural areas in gurugram to get power supply from aug \n",
      "예측 요약 :  gurugram to launch new buses in gurugram\n",
      "\n",
      "\n",
      "원문 : lucknow university temporarily closed notice wednesday dozen teachers including attacked inside campus outsiders claiming samajwadi party workers going lodge fir connection identify said vice chancellor three arrests already made police incident \n",
      "실제 요약 : lucknow university shuts after attack teachers \n",
      "예측 요약 :  gurugram schools suspended for beef in babri masjid\n",
      "\n",
      "\n",
      "원문 : us electric carmaker elon musk dismissed claims appointed chairperson watch like realistic largest shareholder company call shareholder vote get anything done musk said also said new chairperson tesla \n",
      "실제 요약 : am the largest tesla shareholder can get whatever want musk \n",
      "예측 요약 :  tesla executive quits as chairman\n",
      "\n",
      "\n",
      "원문 : sunrisers hyderabad afghan spinner rashid khan welcomed england jonny bairstow got sold first time ever indian premier league rashid tweeted welcome orange army bairstow replied thanks mate looking forward bairstow bought sunrisers crore \n",
      "실제 요약 : srh rashid khan welcomes bairstow to his first ipl team \n",
      "예측 요약 :  rashid khan becomes nd most expensive league\n",
      "\n",
      "\n",
      "원문 : teenager sunday killed hit divider car race two persons flyover bengaluru two teens driving toyota rammed milk cars driven speed km per hour reports said \n",
      "실제 요약 : bengaluru teen dies after hitting while car racing \n",
      "예측 요약 :  car killed as car falls into car in mumbai\n",
      "\n",
      "\n",
      "원문 : year old woman accused self styled godman maharaj raping claimed asked tongue ritual assaulted woman alleged asked om written honey tongue told made many people ias ips mla victim said \n",
      "실제 요약 : maharaj asked me to his tongue rape victim \n",
      "예측 요약 :  rape victim accused of raping minor victim\n",
      "\n",
      "\n",
      "원문 : study claims visa programme economically beneficial us india combined countries rose billion result visa programme researchers said visa allows companies us employ skilled foreign workers thus criticised costing american workers jobs \n",
      "실제 요약 : visa for both us india study \n",
      "예측 요약 :  eu to become world largest economy in india\n",
      "\n",
      "\n",
      "원문 : prime minister narendra modi tuesday condoled demise former defence minister george fernandes saying resisted emergency tooth nail added long years public life george never political ideology pm said fernandes leader could humble politicians \n",
      "실제 요약 : late george emergency tooth and pm \n",
      "예측 요약 :  pm modi gifts his own pm narendra modi\n",
      "\n",
      "\n",
      "원문 : pakistani batsman azhar ali kids posed indian cricketers including ms dhoni virat kohli yuvraj singh following pakistan champions trophy win india sunday ali captioned post thanks legends time kids happy msdhoni \n",
      "실제 요약 : dhoni kohli yuvraj pose with pak batsman ali kids \n",
      "예측 요약 :  kohli shares video of dhoni pak on instagram\n",
      "\n",
      "\n",
      "원문 : us judge sentenced chief defence lawyer bay detention centre marine brigadier general john baker days confinement contempt comes baker released three defence case involving attack killed us sailors yemen judge ordered appear person video feed \n",
      "실제 요약 : court orders of general over \n",
      "예측 요약 :  us judge orders to ex chief\n",
      "\n",
      "\n",
      "원문 : actor played james bond four films revealed frustrated films one point added wanted bond get little real dirty scripts would come along played bond tomorrow never dies world enough die another day \n",
      "실제 요약 : was frustrated with james bond films at one point \n"
     ]
    },
    {
     "name": "stdout",
     "output_type": "stream",
     "text": [
      "예측 요약 :  was like my film on my biopic\n",
      "\n",
      "\n",
      "원문 : undercover video twitter employees admitted hundreds get paid monitor users personal messages engineer said twitter analyses everything users post create virtual profiles sell advertisers twitter direct messaging engineer singh claimed users sex messages pictures illegitimate wives girlfriends server \n",
      "실제 요약 : twitter employees admit they can access users private chats \n",
      "예측 요약 :  website to send fake news to users\n",
      "\n",
      "\n"
     ]
    }
   ],
   "source": [
    "for i in range(50, 100):\n",
    "    print(\"원문 :\", seq2text(encoder_input_test[i]))\n",
    "    print(\"실제 요약 :\", seq2summary(decoder_input_test[i]))\n",
    "    print(\"예측 요약 :\", decode_sequence(encoder_input_test[i].reshape(1, text_max_len)))\n",
    "    print(\"\\n\")"
   ]
  },
  {
   "cell_type": "markdown",
   "id": "56ddc6ee",
   "metadata": {},
   "source": [
    "## Summa를 이용해서 추출적 요약"
   ]
  },
  {
   "cell_type": "code",
   "execution_count": 77,
   "id": "07a7e91c",
   "metadata": {},
   "outputs": [],
   "source": [
    "from summa.summarizer import summarize"
   ]
  },
  {
   "cell_type": "code",
   "execution_count": 78,
   "id": "df001305",
   "metadata": {
    "scrolled": true
   },
   "outputs": [
    {
     "name": "stdout",
     "output_type": "stream",
     "text": [
      "원문 : model kendall jenner opening criticism received starring pepsi commercial slammed political resistance said felt stupid would people definitely intent added kendall said feel really bad taken wrong way \n",
      "실제 요약 : felt so stupid kendall on pepsi ad controversy \n",
      "예측 요약 :  kendall jenner slammed for kendall remark\n",
      "추출적 요약 : \n",
      "\n",
      "\n",
      "원문 : filmmaker ram gopal varma twitter took dig filmmaker anurag kashyap company phantom films queen created various number people company created one single king read one varma tweets comes vikas bahl co founder company accused sexual harassment recently \n",
      "실제 요약 : rgv takes dig at anurag kashyap films on twitter \n",
      "예측 요약 :  twitter reacts to sunil grover to enter his\n",
      "추출적 요약 : \n",
      "\n",
      "\n",
      "원문 : complete skeleton unidentified dinosaur sold million eiffel tower paris monday bones scientists believe probably new species discovered us metre long metre high dinosaur lived late jurassic period million years ago \n",
      "실제 요약 : unknown dinosaur skeleton sold for crore in paris \n",
      "예측 요약 :  dinosaur dinosaur dinosaur found in dinosaur auctioned in\n",
      "추출적 요약 : \n",
      "\n",
      "\n",
      "원문 : twitter released series special emojis featuring cricketers ahead tenth season indian premier league starts wednesday players featured virat kohli ms dhoni steve smith gautam gambhir shane watson ben stokes among others use emojis users tweet players names hashtag \n",
      "실제 요약 : twitter releases special player for ipl \n",
      "예측 요약 :  kohli to play kohli for ipl ipl\n",
      "추출적 요약 : \n",
      "\n",
      "\n",
      "원문 : karan johar said note shared twitter got know twins health complications due premature birth twins yash roohi born via surrogacy yash named johar father roohi mother name \n",
      "실제 요약 : was karan johar on premature birth of his twins \n",
      "예측 요약 :  am not in my life karan johar\n",
      "추출적 요약 : \n",
      "\n",
      "\n",
      "원문 : many villages gurugram announced plans pay property tax municipal corporation gurugram claiming civic body claim plots villagers alleged panchayats plots worth crores illegally transferred lands brought jurisdiction mcg \n",
      "실제 요약 : villages refuse to pay property tax to gurugram civic body \n",
      "예측 요약 :  noida civic body to pay up to\n",
      "추출적 요약 : \n",
      "\n",
      "\n",
      "원문 : kerala cm pinarayi vijayan revealed united arab emirates offered financial assistance crore flood relief state earlier uae pm sheikh mohammed bin rashid al formed emergency committee floods people kerala always still part success story uae said \n",
      "실제 요약 : uae offered crore for kerala floods reveals cm vijayan \n",
      "예측 요약 :  kerala cm approves crore aid for kerala floods\n",
      "추출적 요약 : \n",
      "\n",
      "\n",
      "원문 : first country haryana forest department planning release eight captivity fitted satellite wild centre granted permission birds track endangered release earlier wing tags could put birds \n",
      "실제 요약 : haryana to release with satellite \n",
      "예측 요약 :  maharashtra to launch new zealand state\n",
      "추출적 요약 : \n",
      "\n",
      "\n",
      "원문 : agreement signed myanmar bangladesh return rohingyas creates impossible safe return refugees therefore involve united nations human rights watch said safety refugees myanmar willingness ensure human rights equal access nationality added \n",
      "실제 요약 : rohingya return deal should be un \n",
      "예측 요약 :  un to deport rohingya refugees\n",
      "추출적 요약 : \n",
      "\n",
      "\n",
      "원문 : argentine football legend diego maradona set visit india play charity football match former indian captain sourav ganguly september match called match unity followed west bengal chief minister mamata banerjee year old argentine lifetime achievement award \n",
      "실제 요약 : maradona to play charity match against ganguly in sept \n",
      "예측 요약 :  ex india football football match marries football team\n",
      "추출적 요약 : \n",
      "\n",
      "\n",
      "원문 : us senate thursday voted impose new sanctions russia north korea iran bill sent president donald trump sign law bill claims sanctions target russia interference presidential elections annexation crimea north korea nuclear program iran supporting terrorism \n",
      "실제 요약 : us senate clears new sanctions against russia north korea \n",
      "예측 요약 :  us rejects trump sanctions against us\n",
      "추출적 요약 : \n",
      "\n",
      "\n",
      "원문 : discussion gst bill assembly state minister imran ansari accused national conference mla rana double standards said lynch know businesses remarks came minister claimed rana migrated businesses new tax regime opposing implementation state \n",
      "실제 요약 : can lynch you here minister to mla during gst session \n",
      "예측 요약 :  bjp is the most dangerous in andhra pradesh\n",
      "추출적 요약 : \n",
      "\n",
      "\n",
      "원문 : us scientists determined satellite dna previously considered junk plays crucial role holding genome together although contain instructions making proteins satellite dna ensures bundle correctly inside cells would give us advantage evolution probably would gotten rid said researchers \n",
      "실제 요약 : scientists discover role for dna \n",
      "예측 요약 :  scientists create new new zealand\n",
      "추출적 요약 : \n",
      "\n",
      "\n",
      "원문 : jewish couple month old daughter detroit removed american airlines flight airline told passengers complained body odour american airlines claimed given hotel room meal night booked onto new flight man said believes removed religious reasons \n",
      "실제 요약 : couple month old daughter removed from plane over body \n",
      "예측 요약 :  airline gets married in flight\n",
      "추출적 요약 : \n",
      "\n",
      "\n",
      "원문 : actors ranbir kapoor ranveer singh karan johar attended nd birthday celebrations actor arjun kapoor aditya roy kapur harshvardhan kapoor also spotted arjun residence son boney kapoor kapoor arjun worked assistant director films including kal ho naa ho pursuing acting \n",
      "실제 요약 : ranbir ranveer karan attend arjun kapoor nd birthday \n",
      "예측 요약 :  ranbir kapoor shares pic with ranbir kapoor\n",
      "추출적 요약 : \n",
      "\n",
      "\n",
      "원문 : israel aerospace industries announced signed billion contract india supply advanced medium range surface air missile systems said largest defence contract added would also supply additional long range air missile defence systems first locally made indian aircraft carrier \n",
      "실제 요약 : india signs missile deal worth nearly cr with israel \n",
      "예측 요약 :  iran to launch billion deal with billion\n",
      "추출적 요약 : \n",
      "\n",
      "\n",
      "원문 : akshay kumar speaking upcoming film padman deals issue menstrual hygiene said menstruation natural bold breaking hold us back added padman based life arunachalam muruganantham man made sanitary pads accessible women village \n",
      "실제 요약 : is natural akshay kumar on padman \n",
      "예측 요약 :  akshay kumar to be part of his film reports\n",
      "추출적 요약 : \n",
      "\n",
      "\n",
      "원문 : ias officer shah resigned protest killings kashmir absence credible political initiative minister state pmo jitendra singh said officer failed condemn terror added showed officer lack conviction said decision quit prompted around million indian muslims \n",
      "실제 요약 : ias officer who quit failed to condemn terror minister \n",
      "예측 요약 :  no evidence of punjab minister on ias officer\n",
      "추출적 요약 : \n",
      "\n",
      "\n",
      "원문 : apple co founder steve wozniak recent interview said technology major becoming like software company microsoft talking apple reported plan develop license software self driving cars wozniak said microsoft operating system crown licensed everybody \n",
      "실제 요약 : apple is becoming microsoft apple co founder steve wozniak \n",
      "예측 요약 :  apple to be used in apple apple ceo\n",
      "추출적 요약 : \n",
      "\n",
      "\n",
      "원문 : actress sushmita sen became st indian win miss universe title took twitter congratulate miss universe gray victory beauty pageant congratulations philippines another deserved victory stunning well spoken gray wrote mahal love actress added \n",
      "실제 요약 : victory india st miss universe sen on winner \n",
      "예측 요약 :  miss world no miss universe on miss universe\n",
      "추출적 요약 : \n",
      "\n",
      "\n",
      "원문 : facebook said would begin offering minimum reward users report misuse private information social network part effort company step data protection light data scandal facebook said reward would applicable cases affecting people \n",
      "실제 요약 : facebook to offer each to users who report data abuse \n",
      "예측 요약 :  facebook to allow internet to restrict news\n",
      "추출적 요약 : \n",
      "\n",
      "\n",
      "원문 : railway board ordered review rail bridges country found speed restrictions imposed bridges conditions board earlier discovered trains would pass bridges usual speed thereby posing safety hazard \n",
      "실제 요약 : rail found speed \n",
      "예측 요약 :  delhi to be declared as of\n",
      "추출적 요약 : \n",
      "\n",
      "\n",
      "원문 : pnb fraud accused gitanjali gems owner mehul choksi said told security threat india passport suspended choksi refused return saying arrested get proper healthcare receive treatment government hospital earlier choksi said would return passport cancellation revoked \n",
      "실제 요약 : not told how am security threat to india mehul choksi \n"
     ]
    },
    {
     "name": "stdout",
     "output_type": "stream",
     "text": [
      "예측 요약 :  choksi choksi are not mehul choksi choksi mehul choksi\n",
      "추출적 요약 : \n",
      "\n",
      "\n",
      "원문 : per reports pahlaj nihalani may replaced censor board chief reports suggested filmmaker prakash jha tv producer actor dwivedi even filmmaker madhur bhandarkar considered replacement current censor board chief nihalani appointed chairperson censor board january period three years \n",
      "실제 요약 : pahlaj nihalani to be replaced as censor board chief report \n",
      "예측 요약 :  pahlaj pulls out of pahlaj pahlaj pahlaj pahlaj\n",
      "추출적 요약 : \n",
      "\n",
      "\n",
      "원문 : us muslim woman suing country border agents allegedly iphone data airport claimed questioned searched taken small room said agents kept copy phone data without warrant failed say whether deleted \n",
      "실제 요약 : muslim woman sues us border agents over seized iphone data \n",
      "예측 요약 :  chinese man accuses apple of stealing iphone\n",
      "추출적 요약 : \n",
      "\n",
      "\n",
      "원문 : prime minister narendra modi helped muslim girl karnataka continue studies providing educational loan lakh year old written letter pm received reply within ten days bank rejected application stating even paid loans taken earlier \n",
      "실제 요약 : modi helps muslim girl from taka get loan for education \n",
      "예측 요약 :  pm modi to give quota for raping pm modi\n",
      "추출적 요약 : \n",
      "\n",
      "\n",
      "원문 : amid growing tensions two countries us decided close palestinian mission washington palestine liberation organisation secretary general said yet another us policy collectively punish palestinians added follows us decision end funding un relief works agency palestine refugees \n",
      "실제 요약 : us to close palestinian mission amid growing tensions \n",
      "예측 요약 :  us to un nuclear weapons\n",
      "추출적 요약 : \n",
      "\n",
      "\n",
      "원문 : salman khan sharing trailer varun dhawan upcoming film judwaa twitter wrote judwaa tweeting judwaa judwaa also stars taapsee pannu jacqueline fernandez sequel salman karisma kapoor starrer judwaa replying salman varun tweeted always original judwaa bhai \n",
      "실제 요약 : judwaa tweeting for judwaa salman on varun film \n",
      "예측 요약 :  salman katrina to appear in koffee with karan\n",
      "추출적 요약 : \n",
      "\n",
      "\n",
      "원문 : apple updated app store guidelines ban misleading apps market including content services actually offer apple already removed number apps app store violating company policies want business guidelines read \n",
      "실제 요약 : apple bans misleading apps on ios \n",
      "예측 요약 :  apple to play app app for tracking apps\n",
      "추출적 요약 : \n",
      "\n",
      "\n",
      "원문 : race new song allah hai theme track race franchise released composed tushar joshi vocals amit mishra gandhi chandra raja kumari song film stars salman khan jacqueline fernandez anil kapoor bobby deol among others \n",
      "실제 요약 : allah hai song from race released \n",
      "예측 요약 :  song from song from song released\n",
      "추출적 요약 : \n",
      "\n",
      "\n",
      "원문 : hollywood actors brad pitt leonardo dicaprio star together upcoming film seen playing struggling actors film based time charles murders set los angeles year film scheduled release august \n",
      "실제 요약 : brad leonardo to star in tarantino upcoming film \n",
      "예측 요약 :  to star in upcoming film film\n",
      "추출적 요약 : \n",
      "\n",
      "\n",
      "원문 : delhi high court asked indian air force review change dealing stress substance abuse stating force system needs line law direction came force kept year old personnel confined psychiatric ward hospital alcoholic \n",
      "실제 요약 : review change dealing with stress hc to iaf \n",
      "예측 요약 :  hc asks hc to use of sexual harassment\n",
      "추출적 요약 : \n",
      "\n",
      "\n",
      "원문 : cbi joint director rajiv singh heading investigations billion pnb fraud involving nirav modi mehul choksi prematurely home cadre tripura move comes agency plans file red corner notice nirav choksi three bureaucrats also upon request respective state governments \n",
      "실제 요약 : officer probing nirav modi scam from cbi \n",
      "예측 요약 :  nirav modi pnb modi summoned in pnb fraud case\n",
      "추출적 요약 : \n",
      "\n",
      "\n",
      "원문 : first bilateral visit myanmar pm narendra modi announced visas issued myanmar citizens visas currently issued free charge diplomats people including bangladesh afghanistan south africa among others also announced release myanmar citizens lodged indian jails \n",
      "실제 요약 : india to issue visa to all myanmar citizens \n",
      "예측 요약 :  india to give citizenship to pm modi\n",
      "추출적 요약 : \n",
      "\n",
      "\n",
      "원문 : longest total lunar eclipse st century lasting minutes would visible india friday night provided sky remains clear amid monsoon partial eclipse start pm become total eclipse blood moon partial eclipse eventually end \n",
      "실제 요약 : india to witness st century longest blood moon tonight \n",
      "예측 요약 :  india st to have km to the world largest\n",
      "추출적 요약 : \n",
      "\n",
      "\n",
      "원문 : year old man arrested allegedly murdering daughter year old boyfriend victim house hunting settle girlfriend met man posing real estate agent forcibly took thane car following allegedly murdered girlfriend father two accomplices \n",
      "실제 요약 : man arrested for killing daughter boyfriend in thane \n",
      "예측 요약 :  man kills daughter for not paying his daughter\n",
      "추출적 요약 : \n",
      "\n",
      "\n",
      "원문 : year old elephant named got blessed junior priest church kerala thursday church said correct word describe event would blessed instead mla pc george whose family owns elephant said animal get christian name post blessing \n",
      "실제 요약 : elephant gets blessed in kerala church \n",
      "예측 요약 :  yr old girl who is god during assault\n",
      "추출적 요약 : \n",
      "\n",
      "\n",
      "원문 : actor george clooney denied co star claim helped blacklist reporting set harassment nothing casting actor told involved decision career lied added clooney guest star till show third season \n",
      "실제 요약 : clooney denies co star for reporting harassment \n",
      "예측 요약 :  actress denies sexual harassment allegations\n",
      "추출적 요약 : \n",
      "\n",
      "\n",
      "원문 : haryana power distribution companies announced working towards providing power supply rural areas gurugram august urban areas gurugram already getting power supply added earlier haryana government said aims make gurugram ambala districts power cut free august \n",
      "실제 요약 : rural areas in gurugram to get power supply from aug \n",
      "예측 요약 :  gurugram to launch new buses in gurugram\n",
      "추출적 요약 : \n",
      "\n",
      "\n",
      "원문 : lucknow university temporarily closed notice wednesday dozen teachers including attacked inside campus outsiders claiming samajwadi party workers going lodge fir connection identify said vice chancellor three arrests already made police incident \n",
      "실제 요약 : lucknow university shuts after attack teachers \n",
      "예측 요약 :  gurugram schools suspended for beef in babri masjid\n",
      "추출적 요약 : \n",
      "\n",
      "\n",
      "원문 : us electric carmaker elon musk dismissed claims appointed chairperson watch like realistic largest shareholder company call shareholder vote get anything done musk said also said new chairperson tesla \n",
      "실제 요약 : am the largest tesla shareholder can get whatever want musk \n",
      "예측 요약 :  tesla executive quits as chairman\n",
      "추출적 요약 : \n",
      "\n",
      "\n",
      "원문 : sunrisers hyderabad afghan spinner rashid khan welcomed england jonny bairstow got sold first time ever indian premier league rashid tweeted welcome orange army bairstow replied thanks mate looking forward bairstow bought sunrisers crore \n",
      "실제 요약 : srh rashid khan welcomes bairstow to his first ipl team \n",
      "예측 요약 :  rashid khan becomes nd most expensive league\n",
      "추출적 요약 : \n",
      "\n",
      "\n",
      "원문 : teenager sunday killed hit divider car race two persons flyover bengaluru two teens driving toyota rammed milk cars driven speed km per hour reports said \n",
      "실제 요약 : bengaluru teen dies after hitting while car racing \n",
      "예측 요약 :  car killed as car falls into car in mumbai\n",
      "추출적 요약 : \n",
      "\n",
      "\n",
      "원문 : year old woman accused self styled godman maharaj raping claimed asked tongue ritual assaulted woman alleged asked om written honey tongue told made many people ias ips mla victim said \n",
      "실제 요약 : maharaj asked me to his tongue rape victim \n",
      "예측 요약 :  rape victim accused of raping minor victim\n",
      "추출적 요약 : \n",
      "\n",
      "\n",
      "원문 : study claims visa programme economically beneficial us india combined countries rose billion result visa programme researchers said visa allows companies us employ skilled foreign workers thus criticised costing american workers jobs \n",
      "실제 요약 : visa for both us india study \n",
      "예측 요약 :  eu to become world largest economy in india\n",
      "추출적 요약 : \n",
      "\n",
      "\n",
      "원문 : prime minister narendra modi tuesday condoled demise former defence minister george fernandes saying resisted emergency tooth nail added long years public life george never political ideology pm said fernandes leader could humble politicians \n",
      "실제 요약 : late george emergency tooth and pm \n",
      "예측 요약 :  pm modi gifts his own pm narendra modi\n",
      "추출적 요약 : \n",
      "\n",
      "\n",
      "원문 : pakistani batsman azhar ali kids posed indian cricketers including ms dhoni virat kohli yuvraj singh following pakistan champions trophy win india sunday ali captioned post thanks legends time kids happy msdhoni \n",
      "실제 요약 : dhoni kohli yuvraj pose with pak batsman ali kids \n"
     ]
    },
    {
     "name": "stdout",
     "output_type": "stream",
     "text": [
      "예측 요약 :  kohli shares video of dhoni pak on instagram\n",
      "추출적 요약 : \n",
      "\n",
      "\n",
      "원문 : us judge sentenced chief defence lawyer bay detention centre marine brigadier general john baker days confinement contempt comes baker released three defence case involving attack killed us sailors yemen judge ordered appear person video feed \n",
      "실제 요약 : court orders of general over \n",
      "예측 요약 :  us judge orders to ex chief\n",
      "추출적 요약 : \n",
      "\n",
      "\n",
      "원문 : actor played james bond four films revealed frustrated films one point added wanted bond get little real dirty scripts would come along played bond tomorrow never dies world enough die another day \n",
      "실제 요약 : was frustrated with james bond films at one point \n",
      "예측 요약 :  was like my film on my biopic\n",
      "추출적 요약 : \n",
      "\n",
      "\n",
      "원문 : undercover video twitter employees admitted hundreds get paid monitor users personal messages engineer said twitter analyses everything users post create virtual profiles sell advertisers twitter direct messaging engineer singh claimed users sex messages pictures illegitimate wives girlfriends server \n",
      "실제 요약 : twitter employees admit they can access users private chats \n",
      "예측 요약 :  website to send fake news to users\n",
      "추출적 요약 : \n",
      "\n",
      "\n"
     ]
    }
   ],
   "source": [
    "for i in range(50, 100):\n",
    "    print(\"원문 :\", seq2text(encoder_input_test[i]))\n",
    "    print(\"실제 요약 :\", seq2summary(decoder_input_test[i]))\n",
    "    print(\"예측 요약 :\", decode_sequence(encoder_input_test[i].reshape(1, text_max_len)))\n",
    "    print(\"추출적 요약 :\",summarize(seq2text(encoder_input_test[i]),words=20, split=False))\n",
    "    print(\"\\n\")"
   ]
  },
  {
   "cell_type": "markdown",
   "id": "8c8cba8d",
   "metadata": {},
   "source": [
    "=> 원문이 너무 짧아서 추출적 요약이 잘 수행되지 않았다."
   ]
  },
  {
   "cell_type": "code",
   "execution_count": 79,
   "id": "bd9b3b73",
   "metadata": {},
   "outputs": [
    {
     "name": "stderr",
     "output_type": "stream",
     "text": [
      "[nltk_data] Downloading package punkt to /aiffel/nltk_data...\n",
      "[nltk_data]   Package punkt is already up-to-date!\n"
     ]
    }
   ],
   "source": [
    "# 커스텀 함수를 만들어 추출적 요약 시도\n",
    "import nltk\n",
    "nltk.download('punkt')\n",
    "from nltk.tokenize import sent_tokenize, word_tokenize\n",
    "from sklearn.feature_extraction.text import TfidfVectorizer\n",
    "from sklearn.metrics.pairwise import cosine_similarity\n",
    "import numpy as np\n",
    "\n",
    "def custom_extractive_summary(text, top_n_words=10):\n",
    "    # 문장 분할\n",
    "    sentences = sent_tokenize(text)\n",
    "    if not sentences:\n",
    "        return \"\"\n",
    "\n",
    "    # 각 문장 간 유사도 계산\n",
    "    # TF-IDF 벡터화 및 유사도 계산\n",
    "    tfidf_vectorizer = TfidfVectorizer()\n",
    "    tfidf_matrix = tfidf_vectorizer.fit_transform(sentences)\n",
    "    sim_matrix = cosine_similarity(tfidf_matrix) # 코사인 유사도 계산\n",
    "    sentence_scores = sim_matrix.sum(axis=1) # 다른 문장들과의 유사성 점수가 높은 문장이 중심문장이라고 판단.\n",
    "\n",
    "    # 가장 중심적인 문장 하나 선택\n",
    "    best_index = np.argmax(sentence_scores)\n",
    "    best_sentence = sentences[best_index]\n",
    "\n",
    "    # 선택된 문장에서 단어별 중요도 계산\n",
    "    words = word_tokenize(best_sentence)\n",
    "    word_scores = {}\n",
    "\n",
    "    # 해당 문장만 벡터화해서 단어 중요도 추출\n",
    "    tfidf = TfidfVectorizer()\n",
    "    tfidf.fit([best_sentence])\n",
    "    feature_names = tfidf.get_feature_names_out()\n",
    "    tfidf_scores = tfidf.transform([best_sentence]).toarray()[0]\n",
    "\n",
    "    for word, score in zip(feature_names, tfidf_scores):\n",
    "        word_scores[word] = score\n",
    "\n",
    "    # 단어 정렬 후 상위 N개 선택\n",
    "    ranked_words = sorted(word_scores.items(), key=lambda x: x[1], reverse=True)\n",
    "    top_words = [word for word, _ in ranked_words[:top_n_words]]\n",
    "\n",
    "    return ' '.join(top_words)\n"
   ]
  },
  {
   "cell_type": "code",
   "execution_count": 80,
   "id": "e2401e0c",
   "metadata": {},
   "outputs": [
    {
     "data": {
      "text/plain": [
       "'kendall said added bad commercial criticism definitely feel felt intent'"
      ]
     },
     "execution_count": 80,
     "metadata": {},
     "output_type": "execute_result"
    }
   ],
   "source": [
    "custom_extractive_summary(seq2text(encoder_input_test[50]))"
   ]
  },
  {
   "cell_type": "markdown",
   "id": "d87132a4",
   "metadata": {},
   "source": [
    "### 추상적 요약과 비교"
   ]
  },
  {
   "cell_type": "code",
   "execution_count": 81,
   "id": "b83de946",
   "metadata": {},
   "outputs": [
    {
     "name": "stdout",
     "output_type": "stream",
     "text": [
      "원문 : model kendall jenner opening criticism received starring pepsi commercial slammed political resistance said felt stupid would people definitely intent added kendall said feel really bad taken wrong way \n",
      "실제 요약 : felt so stupid kendall on pepsi ad controversy \n",
      "예측 요약 :  kendall jenner slammed for kendall remark\n",
      "추출적 요약 : kendall said added bad commercial criticism definitely feel felt intent\n",
      "\n",
      "\n",
      "원문 : filmmaker ram gopal varma twitter took dig filmmaker anurag kashyap company phantom films queen created various number people company created one single king read one varma tweets comes vikas bahl co founder company accused sexual harassment recently \n",
      "실제 요약 : rgv takes dig at anurag kashyap films on twitter \n",
      "예측 요약 :  twitter reacts to sunil grover to enter his\n",
      "추출적 요약 : company created filmmaker one varma accused anurag bahl co comes\n",
      "\n",
      "\n",
      "원문 : complete skeleton unidentified dinosaur sold million eiffel tower paris monday bones scientists believe probably new species discovered us metre long metre high dinosaur lived late jurassic period million years ago \n",
      "실제 요약 : unknown dinosaur skeleton sold for crore in paris \n",
      "예측 요약 :  dinosaur dinosaur dinosaur found in dinosaur auctioned in\n",
      "추출적 요약 : dinosaur metre million ago believe bones complete discovered eiffel high\n",
      "\n",
      "\n",
      "원문 : twitter released series special emojis featuring cricketers ahead tenth season indian premier league starts wednesday players featured virat kohli ms dhoni steve smith gautam gambhir shane watson ben stokes among others use emojis users tweet players names hashtag \n",
      "실제 요약 : twitter releases special player for ipl \n",
      "예측 요약 :  kohli to play kohli for ipl ipl\n",
      "추출적 요약 : emojis players ahead among ben cricketers dhoni featured featuring gambhir\n",
      "\n",
      "\n",
      "원문 : karan johar said note shared twitter got know twins health complications due premature birth twins yash roohi born via surrogacy yash named johar father roohi mother name \n",
      "실제 요약 : was karan johar on premature birth of his twins \n",
      "예측 요약 :  am not in my life karan johar\n",
      "추출적 요약 : johar roohi twins yash birth born complications due father got\n",
      "\n",
      "\n",
      "원문 : many villages gurugram announced plans pay property tax municipal corporation gurugram claiming civic body claim plots villagers alleged panchayats plots worth crores illegally transferred lands brought jurisdiction mcg \n",
      "실제 요약 : villages refuse to pay property tax to gurugram civic body \n",
      "예측 요약 :  noida civic body to pay up to\n",
      "추출적 요약 : gurugram plots alleged announced body brought civic claim claiming corporation\n",
      "\n",
      "\n",
      "원문 : kerala cm pinarayi vijayan revealed united arab emirates offered financial assistance crore flood relief state earlier uae pm sheikh mohammed bin rashid al formed emergency committee floods people kerala always still part success story uae said \n",
      "실제 요약 : uae offered crore for kerala floods reveals cm vijayan \n",
      "예측 요약 :  kerala cm approves crore aid for kerala floods\n",
      "추출적 요약 : kerala uae al always arab assistance bin cm committee crore\n",
      "\n",
      "\n",
      "원문 : first country haryana forest department planning release eight captivity fitted satellite wild centre granted permission birds track endangered release earlier wing tags could put birds \n",
      "실제 요약 : haryana to release with satellite \n",
      "예측 요약 :  maharashtra to launch new zealand state\n",
      "추출적 요약 : birds release captivity centre could country department earlier eight endangered\n",
      "\n",
      "\n",
      "원문 : agreement signed myanmar bangladesh return rohingyas creates impossible safe return refugees therefore involve united nations human rights watch said safety refugees myanmar willingness ensure human rights equal access nationality added \n",
      "실제 요약 : rohingya return deal should be un \n",
      "예측 요약 :  un to deport rohingya refugees\n",
      "추출적 요약 : human myanmar refugees return rights access added agreement bangladesh creates\n",
      "\n",
      "\n",
      "원문 : argentine football legend diego maradona set visit india play charity football match former indian captain sourav ganguly september match called match unity followed west bengal chief minister mamata banerjee year old argentine lifetime achievement award \n",
      "실제 요약 : maradona to play charity match against ganguly in sept \n",
      "예측 요약 :  ex india football football match marries football team\n",
      "추출적 요약 : match argentine football achievement award banerjee bengal called captain charity\n",
      "\n",
      "\n",
      "원문 : us senate thursday voted impose new sanctions russia north korea iran bill sent president donald trump sign law bill claims sanctions target russia interference presidential elections annexation crimea north korea nuclear program iran supporting terrorism \n",
      "실제 요약 : us senate clears new sanctions against russia north korea \n",
      "예측 요약 :  us rejects trump sanctions against us\n",
      "추출적 요약 : bill iran korea north russia sanctions annexation claims crimea donald\n",
      "\n",
      "\n",
      "원문 : discussion gst bill assembly state minister imran ansari accused national conference mla rana double standards said lynch know businesses remarks came minister claimed rana migrated businesses new tax regime opposing implementation state \n",
      "실제 요약 : can lynch you here minister to mla during gst session \n",
      "예측 요약 :  bjp is the most dangerous in andhra pradesh\n",
      "추출적 요약 : businesses minister rana state accused ansari assembly bill came claimed\n",
      "\n",
      "\n",
      "원문 : us scientists determined satellite dna previously considered junk plays crucial role holding genome together although contain instructions making proteins satellite dna ensures bundle correctly inside cells would give us advantage evolution probably would gotten rid said researchers \n",
      "실제 요약 : scientists discover role for dna \n",
      "예측 요약 :  scientists create new new zealand\n",
      "추출적 요약 : dna satellite us would advantage although bundle cells considered contain\n",
      "\n",
      "\n",
      "원문 : jewish couple month old daughter detroit removed american airlines flight airline told passengers complained body odour american airlines claimed given hotel room meal night booked onto new flight man said believes removed religious reasons \n",
      "실제 요약 : couple month old daughter removed from plane over body \n",
      "예측 요약 :  airline gets married in flight\n",
      "추출적 요약 : airlines american flight removed airline believes body booked claimed complained\n",
      "\n",
      "\n",
      "원문 : actors ranbir kapoor ranveer singh karan johar attended nd birthday celebrations actor arjun kapoor aditya roy kapur harshvardhan kapoor also spotted arjun residence son boney kapoor kapoor arjun worked assistant director films including kal ho naa ho pursuing acting \n",
      "실제 요약 : ranbir ranveer karan attend arjun kapoor nd birthday \n",
      "예측 요약 :  ranbir kapoor shares pic with ranbir kapoor\n",
      "추출적 요약 : kapoor arjun ho acting actor actors aditya also assistant attended\n",
      "\n",
      "\n",
      "원문 : israel aerospace industries announced signed billion contract india supply advanced medium range surface air missile systems said largest defence contract added would also supply additional long range air missile defence systems first locally made indian aircraft carrier \n",
      "실제 요약 : india signs missile deal worth nearly cr with israel \n",
      "예측 요약 :  iran to launch billion deal with billion\n",
      "추출적 요약 : air contract defence missile range supply systems added additional advanced\n",
      "\n",
      "\n",
      "원문 : akshay kumar speaking upcoming film padman deals issue menstrual hygiene said menstruation natural bold breaking hold us back added padman based life arunachalam muruganantham man made sanitary pads accessible women village \n",
      "실제 요약 : is natural akshay kumar on padman \n",
      "예측 요약 :  akshay kumar to be part of his film reports\n",
      "추출적 요약 : padman accessible added akshay arunachalam back based bold breaking deals\n",
      "\n",
      "\n",
      "원문 : ias officer shah resigned protest killings kashmir absence credible political initiative minister state pmo jitendra singh said officer failed condemn terror added showed officer lack conviction said decision quit prompted around million indian muslims \n",
      "실제 요약 : ias officer who quit failed to condemn terror minister \n",
      "예측 요약 :  no evidence of punjab minister on ias officer\n",
      "추출적 요약 : officer said absence added around condemn conviction credible decision failed\n",
      "\n",
      "\n",
      "원문 : apple co founder steve wozniak recent interview said technology major becoming like software company microsoft talking apple reported plan develop license software self driving cars wozniak said microsoft operating system crown licensed everybody \n",
      "실제 요약 : apple is becoming microsoft apple co founder steve wozniak \n",
      "예측 요약 :  apple to be used in apple apple ceo\n",
      "추출적 요약 : apple microsoft said software wozniak becoming cars co company crown\n",
      "\n",
      "\n"
     ]
    },
    {
     "name": "stdout",
     "output_type": "stream",
     "text": [
      "원문 : actress sushmita sen became st indian win miss universe title took twitter congratulate miss universe gray victory beauty pageant congratulations philippines another deserved victory stunning well spoken gray wrote mahal love actress added \n",
      "실제 요약 : victory india st miss universe sen on winner \n",
      "예측 요약 :  miss world no miss universe on miss universe\n",
      "추출적 요약 : actress gray miss universe victory added another beauty became congratulate\n",
      "\n",
      "\n",
      "원문 : facebook said would begin offering minimum reward users report misuse private information social network part effort company step data protection light data scandal facebook said reward would applicable cases affecting people \n",
      "실제 요약 : facebook to offer each to users who report data abuse \n",
      "예측 요약 :  facebook to allow internet to restrict news\n",
      "추출적 요약 : data facebook reward said would affecting applicable begin cases company\n",
      "\n",
      "\n",
      "원문 : railway board ordered review rail bridges country found speed restrictions imposed bridges conditions board earlier discovered trains would pass bridges usual speed thereby posing safety hazard \n",
      "실제 요약 : rail found speed \n",
      "예측 요약 :  delhi to be declared as of\n",
      "추출적 요약 : bridges board speed conditions country discovered earlier found hazard imposed\n",
      "\n",
      "\n",
      "원문 : pnb fraud accused gitanjali gems owner mehul choksi said told security threat india passport suspended choksi refused return saying arrested get proper healthcare receive treatment government hospital earlier choksi said would return passport cancellation revoked \n",
      "실제 요약 : not told how am security threat to india mehul choksi \n",
      "예측 요약 :  choksi choksi are not mehul choksi choksi mehul choksi\n",
      "추출적 요약 : choksi passport return said accused arrested cancellation earlier fraud gems\n",
      "\n",
      "\n",
      "원문 : per reports pahlaj nihalani may replaced censor board chief reports suggested filmmaker prakash jha tv producer actor dwivedi even filmmaker madhur bhandarkar considered replacement current censor board chief nihalani appointed chairperson censor board january period three years \n",
      "실제 요약 : pahlaj nihalani to be replaced as censor board chief report \n",
      "예측 요약 :  pahlaj pulls out of pahlaj pahlaj pahlaj pahlaj\n",
      "추출적 요약 : board censor chief filmmaker nihalani reports actor appointed bhandarkar chairperson\n",
      "\n",
      "\n",
      "원문 : us muslim woman suing country border agents allegedly iphone data airport claimed questioned searched taken small room said agents kept copy phone data without warrant failed say whether deleted \n",
      "실제 요약 : muslim woman sues us border agents over seized iphone data \n",
      "예측 요약 :  chinese man accuses apple of stealing iphone\n",
      "추출적 요약 : agents data airport allegedly border claimed copy country deleted failed\n",
      "\n",
      "\n",
      "원문 : prime minister narendra modi helped muslim girl karnataka continue studies providing educational loan lakh year old written letter pm received reply within ten days bank rejected application stating even paid loans taken earlier \n",
      "실제 요약 : modi helps muslim girl from taka get loan for education \n",
      "예측 요약 :  pm modi to give quota for raping pm modi\n",
      "추출적 요약 : application bank continue days earlier educational even girl helped karnataka\n",
      "\n",
      "\n",
      "원문 : amid growing tensions two countries us decided close palestinian mission washington palestine liberation organisation secretary general said yet another us policy collectively punish palestinians added follows us decision end funding un relief works agency palestine refugees \n",
      "실제 요약 : us to close palestinian mission amid growing tensions \n",
      "예측 요약 :  us to un nuclear weapons\n",
      "추출적 요약 : us palestine added agency amid another close collectively countries decided\n",
      "\n",
      "\n",
      "원문 : salman khan sharing trailer varun dhawan upcoming film judwaa twitter wrote judwaa tweeting judwaa judwaa also stars taapsee pannu jacqueline fernandez sequel salman karisma kapoor starrer judwaa replying salman varun tweeted always original judwaa bhai \n",
      "실제 요약 : judwaa tweeting for judwaa salman on varun film \n",
      "예측 요약 :  salman katrina to appear in koffee with karan\n",
      "추출적 요약 : judwaa salman varun also always bhai dhawan fernandez film jacqueline\n",
      "\n",
      "\n",
      "원문 : apple updated app store guidelines ban misleading apps market including content services actually offer apple already removed number apps app store violating company policies want business guidelines read \n",
      "실제 요약 : apple bans misleading apps on ios \n",
      "예측 요약 :  apple to play app app for tracking apps\n",
      "추출적 요약 : app apple apps guidelines store actually already ban business company\n",
      "\n",
      "\n",
      "원문 : race new song allah hai theme track race franchise released composed tushar joshi vocals amit mishra gandhi chandra raja kumari song film stars salman khan jacqueline fernandez anil kapoor bobby deol among others \n",
      "실제 요약 : allah hai song from race released \n",
      "예측 요약 :  song from song from song released\n",
      "추출적 요약 : race song allah amit among anil bobby chandra composed deol\n",
      "\n",
      "\n",
      "원문 : hollywood actors brad pitt leonardo dicaprio star together upcoming film seen playing struggling actors film based time charles murders set los angeles year film scheduled release august \n",
      "실제 요약 : brad leonardo to star in tarantino upcoming film \n",
      "예측 요약 :  to star in upcoming film film\n",
      "추출적 요약 : film actors angeles august based brad charles dicaprio hollywood leonardo\n",
      "\n",
      "\n",
      "원문 : delhi high court asked indian air force review change dealing stress substance abuse stating force system needs line law direction came force kept year old personnel confined psychiatric ward hospital alcoholic \n",
      "실제 요약 : review change dealing with stress hc to iaf \n",
      "예측 요약 :  hc asks hc to use of sexual harassment\n",
      "추출적 요약 : force abuse air alcoholic asked came change confined court dealing\n",
      "\n",
      "\n",
      "원문 : cbi joint director rajiv singh heading investigations billion pnb fraud involving nirav modi mehul choksi prematurely home cadre tripura move comes agency plans file red corner notice nirav choksi three bureaucrats also upon request respective state governments \n",
      "실제 요약 : officer probing nirav modi scam from cbi \n",
      "예측 요약 :  nirav modi pnb modi summoned in pnb fraud case\n",
      "추출적 요약 : choksi nirav agency also billion bureaucrats cadre cbi comes corner\n",
      "\n",
      "\n",
      "원문 : first bilateral visit myanmar pm narendra modi announced visas issued myanmar citizens visas currently issued free charge diplomats people including bangladesh afghanistan south africa among others also announced release myanmar citizens lodged indian jails \n",
      "실제 요약 : india to issue visa to all myanmar citizens \n",
      "예측 요약 :  india to give citizenship to pm modi\n",
      "추출적 요약 : myanmar announced citizens issued visas afghanistan africa also among bangladesh\n",
      "\n",
      "\n",
      "원문 : longest total lunar eclipse st century lasting minutes would visible india friday night provided sky remains clear amid monsoon partial eclipse start pm become total eclipse blood moon partial eclipse eventually end \n",
      "실제 요약 : india to witness st century longest blood moon tonight \n",
      "예측 요약 :  india st to have km to the world largest\n",
      "추출적 요약 : eclipse partial total amid become blood century clear end eventually\n",
      "\n",
      "\n",
      "원문 : year old man arrested allegedly murdering daughter year old boyfriend victim house hunting settle girlfriend met man posing real estate agent forcibly took thane car following allegedly murdered girlfriend father two accomplices \n",
      "실제 요약 : man arrested for killing daughter boyfriend in thane \n",
      "예측 요약 :  man kills daughter for not paying his daughter\n",
      "추출적 요약 : allegedly girlfriend man old year accomplices agent arrested boyfriend car\n",
      "\n",
      "\n",
      "원문 : year old elephant named got blessed junior priest church kerala thursday church said correct word describe event would blessed instead mla pc george whose family owns elephant said animal get christian name post blessing \n",
      "실제 요약 : elephant gets blessed in kerala church \n",
      "예측 요약 :  yr old girl who is god during assault\n",
      "추출적 요약 : blessed church elephant said animal blessing christian correct describe event\n",
      "\n",
      "\n",
      "원문 : actor george clooney denied co star claim helped blacklist reporting set harassment nothing casting actor told involved decision career lied added clooney guest star till show third season \n",
      "실제 요약 : clooney denies co star for reporting harassment \n",
      "예측 요약 :  actress denies sexual harassment allegations\n",
      "추출적 요약 : actor clooney star added blacklist career casting claim co decision\n",
      "\n",
      "\n",
      "원문 : haryana power distribution companies announced working towards providing power supply rural areas gurugram august urban areas gurugram already getting power supply added earlier haryana government said aims make gurugram ambala districts power cut free august \n",
      "실제 요약 : rural areas in gurugram to get power supply from aug \n"
     ]
    },
    {
     "name": "stdout",
     "output_type": "stream",
     "text": [
      "예측 요약 :  gurugram to launch new buses in gurugram\n",
      "추출적 요약 : power gurugram areas august haryana supply added aims already ambala\n",
      "\n",
      "\n",
      "원문 : lucknow university temporarily closed notice wednesday dozen teachers including attacked inside campus outsiders claiming samajwadi party workers going lodge fir connection identify said vice chancellor three arrests already made police incident \n",
      "실제 요약 : lucknow university shuts after attack teachers \n",
      "예측 요약 :  gurugram schools suspended for beef in babri masjid\n",
      "추출적 요약 : already arrests attacked campus chancellor claiming closed connection dozen fir\n",
      "\n",
      "\n",
      "원문 : us electric carmaker elon musk dismissed claims appointed chairperson watch like realistic largest shareholder company call shareholder vote get anything done musk said also said new chairperson tesla \n",
      "실제 요약 : am the largest tesla shareholder can get whatever want musk \n",
      "예측 요약 :  tesla executive quits as chairman\n",
      "추출적 요약 : chairperson musk said shareholder also anything appointed call carmaker claims\n",
      "\n",
      "\n",
      "원문 : sunrisers hyderabad afghan spinner rashid khan welcomed england jonny bairstow got sold first time ever indian premier league rashid tweeted welcome orange army bairstow replied thanks mate looking forward bairstow bought sunrisers crore \n",
      "실제 요약 : srh rashid khan welcomes bairstow to his first ipl team \n",
      "예측 요약 :  rashid khan becomes nd most expensive league\n",
      "추출적 요약 : bairstow rashid sunrisers afghan army bought crore england ever first\n",
      "\n",
      "\n",
      "원문 : teenager sunday killed hit divider car race two persons flyover bengaluru two teens driving toyota rammed milk cars driven speed km per hour reports said \n",
      "실제 요약 : bengaluru teen dies after hitting while car racing \n",
      "예측 요약 :  car killed as car falls into car in mumbai\n",
      "추출적 요약 : two bengaluru car cars divider driven driving flyover hit hour\n",
      "\n",
      "\n",
      "원문 : year old woman accused self styled godman maharaj raping claimed asked tongue ritual assaulted woman alleged asked om written honey tongue told made many people ias ips mla victim said \n",
      "실제 요약 : maharaj asked me to his tongue rape victim \n",
      "예측 요약 :  rape victim accused of raping minor victim\n",
      "추출적 요약 : asked tongue woman accused alleged assaulted claimed godman honey ias\n",
      "\n",
      "\n",
      "원문 : study claims visa programme economically beneficial us india combined countries rose billion result visa programme researchers said visa allows companies us employ skilled foreign workers thus criticised costing american workers jobs \n",
      "실제 요약 : visa for both us india study \n",
      "예측 요약 :  eu to become world largest economy in india\n",
      "추출적 요약 : visa programme us workers allows american beneficial billion claims combined\n",
      "\n",
      "\n",
      "원문 : prime minister narendra modi tuesday condoled demise former defence minister george fernandes saying resisted emergency tooth nail added long years public life george never political ideology pm said fernandes leader could humble politicians \n",
      "실제 요약 : late george emergency tooth and pm \n",
      "예측 요약 :  pm modi gifts his own pm narendra modi\n",
      "추출적 요약 : fernandes george minister added condoled could defence demise emergency former\n",
      "\n",
      "\n",
      "원문 : pakistani batsman azhar ali kids posed indian cricketers including ms dhoni virat kohli yuvraj singh following pakistan champions trophy win india sunday ali captioned post thanks legends time kids happy msdhoni \n",
      "실제 요약 : dhoni kohli yuvraj pose with pak batsman ali kids \n",
      "예측 요약 :  kohli shares video of dhoni pak on instagram\n",
      "추출적 요약 : ali kids azhar batsman captioned champions cricketers dhoni following happy\n",
      "\n",
      "\n",
      "원문 : us judge sentenced chief defence lawyer bay detention centre marine brigadier general john baker days confinement contempt comes baker released three defence case involving attack killed us sailors yemen judge ordered appear person video feed \n",
      "실제 요약 : court orders of general over \n",
      "예측 요약 :  us judge orders to ex chief\n",
      "추출적 요약 : baker defence judge us appear attack bay brigadier case centre\n",
      "\n",
      "\n",
      "원문 : actor played james bond four films revealed frustrated films one point added wanted bond get little real dirty scripts would come along played bond tomorrow never dies world enough die another day \n",
      "실제 요약 : was frustrated with james bond films at one point \n",
      "예측 요약 :  was like my film on my biopic\n",
      "추출적 요약 : bond films played actor added along another come day die\n",
      "\n",
      "\n",
      "원문 : undercover video twitter employees admitted hundreds get paid monitor users personal messages engineer said twitter analyses everything users post create virtual profiles sell advertisers twitter direct messaging engineer singh claimed users sex messages pictures illegitimate wives girlfriends server \n",
      "실제 요약 : twitter employees admit they can access users private chats \n",
      "예측 요약 :  website to send fake news to users\n",
      "추출적 요약 : twitter users engineer messages admitted advertisers analyses claimed create direct\n",
      "\n",
      "\n"
     ]
    }
   ],
   "source": [
    "texts = []\n",
    "headlines = []\n",
    "predictions = []\n",
    "extractions = []\n",
    "for i in range(50, 100):\n",
    "    print(\"원문 :\", seq2text(encoder_input_test[i]))\n",
    "    print(\"실제 요약 :\", seq2summary(decoder_input_test[i]))\n",
    "    print(\"예측 요약 :\", decode_sequence(encoder_input_test[i].reshape(1, text_max_len)))\n",
    "    print(\"추출적 요약 :\",custom_extractive_summary(seq2text(encoder_input_test[i])))\n",
    "    print(\"\\n\")\n",
    "    texts.append(seq2text(encoder_input_test[i]))\n",
    "    headlines.append(seq2summary(decoder_input_test[i]))\n",
    "    predictions.append(decode_sequence(encoder_input_test[i].reshape(1, text_max_len)))\n",
    "    extractions.append(custom_extractive_summary(seq2text(encoder_input_test[i])))"
   ]
  },
  {
   "cell_type": "code",
   "execution_count": 82,
   "id": "9c051833",
   "metadata": {},
   "outputs": [
    {
     "data": {
      "text/html": [
       "<div>\n",
       "<style scoped>\n",
       "    .dataframe tbody tr th:only-of-type {\n",
       "        vertical-align: middle;\n",
       "    }\n",
       "\n",
       "    .dataframe tbody tr th {\n",
       "        vertical-align: top;\n",
       "    }\n",
       "\n",
       "    .dataframe thead th {\n",
       "        text-align: right;\n",
       "    }\n",
       "</style>\n",
       "<table border=\"1\" class=\"dataframe\">\n",
       "  <thead>\n",
       "    <tr style=\"text-align: right;\">\n",
       "      <th></th>\n",
       "      <th>text</th>\n",
       "      <th>headline</th>\n",
       "      <th>prediction</th>\n",
       "      <th>extraction</th>\n",
       "    </tr>\n",
       "  </thead>\n",
       "  <tbody>\n",
       "    <tr>\n",
       "      <th>0</th>\n",
       "      <td>model kendall jenner opening criticism receive...</td>\n",
       "      <td>felt so stupid kendall on pepsi ad controversy</td>\n",
       "      <td>kendall jenner slammed for kendall remark</td>\n",
       "      <td>kendall said added bad commercial criticism de...</td>\n",
       "    </tr>\n",
       "    <tr>\n",
       "      <th>1</th>\n",
       "      <td>filmmaker ram gopal varma twitter took dig fil...</td>\n",
       "      <td>rgv takes dig at anurag kashyap films on twitter</td>\n",
       "      <td>twitter reacts to sunil grover to enter his</td>\n",
       "      <td>company created filmmaker one varma accused an...</td>\n",
       "    </tr>\n",
       "    <tr>\n",
       "      <th>2</th>\n",
       "      <td>complete skeleton unidentified dinosaur sold m...</td>\n",
       "      <td>unknown dinosaur skeleton sold for crore in pa...</td>\n",
       "      <td>dinosaur dinosaur dinosaur found in dinosaur ...</td>\n",
       "      <td>dinosaur metre million ago believe bones compl...</td>\n",
       "    </tr>\n",
       "    <tr>\n",
       "      <th>3</th>\n",
       "      <td>twitter released series special emojis featuri...</td>\n",
       "      <td>twitter releases special player for ipl</td>\n",
       "      <td>kohli to play kohli for ipl ipl</td>\n",
       "      <td>emojis players ahead among ben cricketers dhon...</td>\n",
       "    </tr>\n",
       "    <tr>\n",
       "      <th>4</th>\n",
       "      <td>karan johar said note shared twitter got know ...</td>\n",
       "      <td>was karan johar on premature birth of his twins</td>\n",
       "      <td>am not in my life karan johar</td>\n",
       "      <td>johar roohi twins yash birth born complication...</td>\n",
       "    </tr>\n",
       "  </tbody>\n",
       "</table>\n",
       "</div>"
      ],
      "text/plain": [
       "                                                text  \\\n",
       "0  model kendall jenner opening criticism receive...   \n",
       "1  filmmaker ram gopal varma twitter took dig fil...   \n",
       "2  complete skeleton unidentified dinosaur sold m...   \n",
       "3  twitter released series special emojis featuri...   \n",
       "4  karan johar said note shared twitter got know ...   \n",
       "\n",
       "                                            headline  \\\n",
       "0    felt so stupid kendall on pepsi ad controversy    \n",
       "1  rgv takes dig at anurag kashyap films on twitter    \n",
       "2  unknown dinosaur skeleton sold for crore in pa...   \n",
       "3           twitter releases special player for ipl    \n",
       "4   was karan johar on premature birth of his twins    \n",
       "\n",
       "                                          prediction  \\\n",
       "0          kendall jenner slammed for kendall remark   \n",
       "1        twitter reacts to sunil grover to enter his   \n",
       "2   dinosaur dinosaur dinosaur found in dinosaur ...   \n",
       "3                    kohli to play kohli for ipl ipl   \n",
       "4                      am not in my life karan johar   \n",
       "\n",
       "                                          extraction  \n",
       "0  kendall said added bad commercial criticism de...  \n",
       "1  company created filmmaker one varma accused an...  \n",
       "2  dinosaur metre million ago believe bones compl...  \n",
       "3  emojis players ahead among ben cricketers dhon...  \n",
       "4  johar roohi twins yash birth born complication...  "
      ]
     },
     "execution_count": 82,
     "metadata": {},
     "output_type": "execute_result"
    }
   ],
   "source": [
    "result_df = pd.DataFrame(data={\"text\":texts, \"headline\":headlines,\"prediction\":predictions, \"extraction\": extractions})\n",
    "result_df.head()"
   ]
  },
  {
   "cell_type": "code",
   "execution_count": 83,
   "id": "8cdc9d8e",
   "metadata": {},
   "outputs": [],
   "source": [
    "# 문법 완성도 평가\n",
    "from transformers import pipeline\n",
    "\n",
    "grammar_checker = pipeline(\"text-classification\", model=\"textattack/bert-base-uncased-CoLA\")\n"
   ]
  },
  {
   "cell_type": "code",
   "execution_count": 84,
   "id": "0bc5696c",
   "metadata": {
    "scrolled": true
   },
   "outputs": [
    {
     "data": {
      "text/plain": [
       "0     [{'label': 'LABEL_0', 'score': 0.9645926356315...\n",
       "1     [{'label': 'LABEL_0', 'score': 0.9643654227256...\n",
       "2     [{'label': 'LABEL_0', 'score': 0.9418621659278...\n",
       "3     [{'label': 'LABEL_0', 'score': 0.9500597715377...\n",
       "4     [{'label': 'LABEL_0', 'score': 0.9027546048164...\n",
       "5     [{'label': 'LABEL_0', 'score': 0.9651905298233...\n",
       "6     [{'label': 'LABEL_0', 'score': 0.6581188440322...\n",
       "7     [{'label': 'LABEL_0', 'score': 0.9697132110595...\n",
       "8     [{'label': 'LABEL_0', 'score': 0.9391840696334...\n",
       "9     [{'label': 'LABEL_0', 'score': 0.9357064962387...\n",
       "10    [{'label': 'LABEL_0', 'score': 0.8591232299804...\n",
       "11    [{'label': 'LABEL_1', 'score': 0.8266762495040...\n",
       "12    [{'label': 'LABEL_1', 'score': 0.8818721771240...\n",
       "13    [{'label': 'LABEL_0', 'score': 0.9510681033134...\n",
       "14    [{'label': 'LABEL_1', 'score': 0.7494195103645...\n",
       "15    [{'label': 'LABEL_0', 'score': 0.9614568352699...\n",
       "16    [{'label': 'LABEL_0', 'score': 0.9508664011955...\n",
       "17    [{'label': 'LABEL_0', 'score': 0.9537892341613...\n",
       "18    [{'label': 'LABEL_0', 'score': 0.7458476424217...\n",
       "19    [{'label': 'LABEL_0', 'score': 0.9005450606346...\n",
       "20    [{'label': 'LABEL_0', 'score': 0.9447848796844...\n",
       "21    [{'label': 'LABEL_0', 'score': 0.9423614144325...\n",
       "22    [{'label': 'LABEL_0', 'score': 0.7731266617774...\n",
       "23    [{'label': 'LABEL_1', 'score': 0.5071288347244...\n",
       "24    [{'label': 'LABEL_0', 'score': 0.7051302790641...\n",
       "25    [{'label': 'LABEL_0', 'score': 0.9554943442344...\n",
       "26    [{'label': 'LABEL_0', 'score': 0.9196751117706...\n",
       "27    [{'label': 'LABEL_0', 'score': 0.9461289048194...\n",
       "28    [{'label': 'LABEL_1', 'score': 0.8247214555740...\n",
       "29    [{'label': 'LABEL_0', 'score': 0.8799213767051...\n",
       "30    [{'label': 'LABEL_0', 'score': 0.9110603332519...\n",
       "31    [{'label': 'LABEL_0', 'score': 0.9648377299308...\n",
       "32    [{'label': 'LABEL_0', 'score': 0.8312531113624...\n",
       "33    [{'label': 'LABEL_0', 'score': 0.8145155906677...\n",
       "34    [{'label': 'LABEL_0', 'score': 0.9664894938468...\n",
       "35    [{'label': 'LABEL_0', 'score': 0.9458898305892...\n",
       "36    [{'label': 'LABEL_0', 'score': 0.9534586071968...\n",
       "37    [{'label': 'LABEL_0', 'score': 0.8949719667434...\n",
       "38    [{'label': 'LABEL_1', 'score': 0.5258623957633...\n",
       "39    [{'label': 'LABEL_0', 'score': 0.9233976602554...\n",
       "40    [{'label': 'LABEL_0', 'score': 0.9467079639434...\n",
       "41    [{'label': 'LABEL_0', 'score': 0.7899926900863...\n",
       "42    [{'label': 'LABEL_0', 'score': 0.9154112339019...\n",
       "43    [{'label': 'LABEL_1', 'score': 0.5578753948211...\n",
       "44    [{'label': 'LABEL_0', 'score': 0.9634351730346...\n",
       "45    [{'label': 'LABEL_0', 'score': 0.5643546581268...\n",
       "46    [{'label': 'LABEL_1', 'score': 0.7355589270591...\n",
       "47    [{'label': 'LABEL_0', 'score': 0.9590592980384...\n",
       "48    [{'label': 'LABEL_0', 'score': 0.9630118012428...\n",
       "49    [{'label': 'LABEL_0', 'score': 0.7878509759902...\n",
       "Name: prediction, dtype: object"
      ]
     },
     "execution_count": 84,
     "metadata": {},
     "output_type": "execute_result"
    }
   ],
   "source": [
    "result_df['prediction'].apply(grammar_checker)"
   ]
  },
  {
   "cell_type": "markdown",
   "id": "47114e01",
   "metadata": {},
   "source": [
    "LABEL_0 -> 문법적으로 부적절함,   \n",
    "LABEL_1 -> 문법적으로 적절함  \n",
    "score -> 신뢰도"
   ]
  },
  {
   "cell_type": "code",
   "execution_count": 85,
   "id": "5978dae1",
   "metadata": {},
   "outputs": [],
   "source": [
    "result_df['prediction_grammar'] = result_df['prediction'].apply(lambda x: grammar_checker(x)[0]['label'].split(\"_\")[1])\n",
    "result_df['extraction_grammar'] = result_df['extraction'].apply(lambda x: grammar_checker(x)[0]['label'].split(\"_\")[1])"
   ]
  },
  {
   "cell_type": "code",
   "execution_count": 86,
   "id": "a3367395",
   "metadata": {},
   "outputs": [
    {
     "data": {
      "text/html": [
       "<div>\n",
       "<style scoped>\n",
       "    .dataframe tbody tr th:only-of-type {\n",
       "        vertical-align: middle;\n",
       "    }\n",
       "\n",
       "    .dataframe tbody tr th {\n",
       "        vertical-align: top;\n",
       "    }\n",
       "\n",
       "    .dataframe thead th {\n",
       "        text-align: right;\n",
       "    }\n",
       "</style>\n",
       "<table border=\"1\" class=\"dataframe\">\n",
       "  <thead>\n",
       "    <tr style=\"text-align: right;\">\n",
       "      <th></th>\n",
       "      <th>text</th>\n",
       "      <th>headline</th>\n",
       "      <th>prediction</th>\n",
       "      <th>extraction</th>\n",
       "      <th>prediction_grammar</th>\n",
       "      <th>extraction_grammar</th>\n",
       "    </tr>\n",
       "  </thead>\n",
       "  <tbody>\n",
       "    <tr>\n",
       "      <th>0</th>\n",
       "      <td>model kendall jenner opening criticism receive...</td>\n",
       "      <td>felt so stupid kendall on pepsi ad controversy</td>\n",
       "      <td>kendall jenner slammed for kendall remark</td>\n",
       "      <td>kendall said added bad commercial criticism de...</td>\n",
       "      <td>0</td>\n",
       "      <td>0</td>\n",
       "    </tr>\n",
       "    <tr>\n",
       "      <th>1</th>\n",
       "      <td>filmmaker ram gopal varma twitter took dig fil...</td>\n",
       "      <td>rgv takes dig at anurag kashyap films on twitter</td>\n",
       "      <td>twitter reacts to sunil grover to enter his</td>\n",
       "      <td>company created filmmaker one varma accused an...</td>\n",
       "      <td>0</td>\n",
       "      <td>0</td>\n",
       "    </tr>\n",
       "    <tr>\n",
       "      <th>2</th>\n",
       "      <td>complete skeleton unidentified dinosaur sold m...</td>\n",
       "      <td>unknown dinosaur skeleton sold for crore in pa...</td>\n",
       "      <td>dinosaur dinosaur dinosaur found in dinosaur ...</td>\n",
       "      <td>dinosaur metre million ago believe bones compl...</td>\n",
       "      <td>0</td>\n",
       "      <td>0</td>\n",
       "    </tr>\n",
       "    <tr>\n",
       "      <th>3</th>\n",
       "      <td>twitter released series special emojis featuri...</td>\n",
       "      <td>twitter releases special player for ipl</td>\n",
       "      <td>kohli to play kohli for ipl ipl</td>\n",
       "      <td>emojis players ahead among ben cricketers dhon...</td>\n",
       "      <td>0</td>\n",
       "      <td>0</td>\n",
       "    </tr>\n",
       "    <tr>\n",
       "      <th>4</th>\n",
       "      <td>karan johar said note shared twitter got know ...</td>\n",
       "      <td>was karan johar on premature birth of his twins</td>\n",
       "      <td>am not in my life karan johar</td>\n",
       "      <td>johar roohi twins yash birth born complication...</td>\n",
       "      <td>0</td>\n",
       "      <td>0</td>\n",
       "    </tr>\n",
       "  </tbody>\n",
       "</table>\n",
       "</div>"
      ],
      "text/plain": [
       "                                                text  \\\n",
       "0  model kendall jenner opening criticism receive...   \n",
       "1  filmmaker ram gopal varma twitter took dig fil...   \n",
       "2  complete skeleton unidentified dinosaur sold m...   \n",
       "3  twitter released series special emojis featuri...   \n",
       "4  karan johar said note shared twitter got know ...   \n",
       "\n",
       "                                            headline  \\\n",
       "0    felt so stupid kendall on pepsi ad controversy    \n",
       "1  rgv takes dig at anurag kashyap films on twitter    \n",
       "2  unknown dinosaur skeleton sold for crore in pa...   \n",
       "3           twitter releases special player for ipl    \n",
       "4   was karan johar on premature birth of his twins    \n",
       "\n",
       "                                          prediction  \\\n",
       "0          kendall jenner slammed for kendall remark   \n",
       "1        twitter reacts to sunil grover to enter his   \n",
       "2   dinosaur dinosaur dinosaur found in dinosaur ...   \n",
       "3                    kohli to play kohli for ipl ipl   \n",
       "4                      am not in my life karan johar   \n",
       "\n",
       "                                          extraction prediction_grammar  \\\n",
       "0  kendall said added bad commercial criticism de...                  0   \n",
       "1  company created filmmaker one varma accused an...                  0   \n",
       "2  dinosaur metre million ago believe bones compl...                  0   \n",
       "3  emojis players ahead among ben cricketers dhon...                  0   \n",
       "4  johar roohi twins yash birth born complication...                  0   \n",
       "\n",
       "  extraction_grammar  \n",
       "0                  0  \n",
       "1                  0  \n",
       "2                  0  \n",
       "3                  0  \n",
       "4                  0  "
      ]
     },
     "execution_count": 86,
     "metadata": {},
     "output_type": "execute_result"
    }
   ],
   "source": [
    "result_df.head()"
   ]
  },
  {
   "cell_type": "code",
   "execution_count": 87,
   "id": "cf8e40d3",
   "metadata": {},
   "outputs": [
    {
     "name": "stdout",
     "output_type": "stream",
     "text": [
      "추상적 예측 요약의 문법 완성도 점수:  8\n",
      "추출적 요약의 문법 완성도 점수:  2\n"
     ]
    }
   ],
   "source": [
    "print(\"추상적 예측 요약의 문법 완성도 점수: \",result_df['prediction_grammar'].astype('int').sum())\n",
    "print(\"추출적 요약의 문법 완성도 점수: \",result_df['extraction_grammar'].astype('int').sum())"
   ]
  },
  {
   "cell_type": "markdown",
   "id": "e60ff5fc",
   "metadata": {},
   "source": [
    "=> bert모델을 사용해서, 문법 완성도를 평가했을 때, 50문장 중 추상적 요약은 8문장이 적합으로 판단되었고, 추출적 요약은 2문장이 적합 판단되었다.  "
   ]
  },
  {
   "cell_type": "code",
   "execution_count": 88,
   "id": "dc40f70f",
   "metadata": {},
   "outputs": [
    {
     "name": "stdout",
     "output_type": "stream",
     "text": [
      "추상적 예측 요약의 문법 완성도 점수:  0.16\n",
      "추출적 요약의 문법 완성도 점수:  0.04\n"
     ]
    }
   ],
   "source": [
    "print(\"추상적 예측 요약의 문법 완성도 점수: \",result_df['prediction_grammar'].astype('int').mean())\n",
    "print(\"추출적 요약의 문법 완성도 점수: \",result_df['extraction_grammar'].astype('int').mean())"
   ]
  },
  {
   "cell_type": "code",
   "execution_count": 89,
   "id": "1d26d3ff",
   "metadata": {},
   "outputs": [],
   "source": [
    "from sklearn.feature_extraction.text import TfidfVectorizer\n",
    "\n",
    "# tfidf 벡터화하여 빈도수 기반으로 상위 10개의 단어를 추출\n",
    "def extract_keywords(text, top_k=10):\n",
    "    vec = TfidfVectorizer(stop_words='english')  # 한국어면 별도 불용어 처리 필요\n",
    "    tfidf = vec.fit_transform([text])\n",
    "    scores = tfidf.toarray()[0]\n",
    "    word_index = {word: idx for idx, word in enumerate(vec.get_feature_names_out())}\n",
    "    sorted_words = sorted(word_index.items(), key=lambda x: scores[x[1]], reverse=True)\n",
    "    return [w for w, _ in sorted_words[:top_k]]\n",
    "\n",
    "# 텍스트 기반 빈도가 높은 단어 10개가 추출한 문장에 얼마나 있는지 평가\n",
    "def keyword_coverage_score(text, extraction, top_k=10):\n",
    "    keywords = extract_keywords(text, top_k)\n",
    "    included = [kw for kw in keywords if kw in extraction]\n",
    "    score = len(included) / len(keywords)\n",
    "    return {\n",
    "        \"핵심단어\": keywords,\n",
    "        \"포함된 단어\": included,\n",
    "        \"포함률\": round(score, 2)\n",
    "    }\n"
   ]
  },
  {
   "cell_type": "code",
   "execution_count": 90,
   "id": "224a458b",
   "metadata": {},
   "outputs": [
    {
     "data": {
      "text/plain": [
       "{'핵심단어': ['kendall',\n",
       "  'said',\n",
       "  'added',\n",
       "  'bad',\n",
       "  'commercial',\n",
       "  'criticism',\n",
       "  'definitely',\n",
       "  'feel',\n",
       "  'felt',\n",
       "  'intent'],\n",
       " '포함된 단어': ['kendall'],\n",
       " '포함률': 0.1}"
      ]
     },
     "execution_count": 90,
     "metadata": {},
     "output_type": "execute_result"
    }
   ],
   "source": [
    "keyword_coverage_score(result_df['text'][0],result_df['prediction'][0])"
   ]
  },
  {
   "cell_type": "code",
   "execution_count": 91,
   "id": "6e27fdd5",
   "metadata": {},
   "outputs": [
    {
     "data": {
      "text/plain": [
       "{'핵심단어': ['kendall',\n",
       "  'said',\n",
       "  'added',\n",
       "  'bad',\n",
       "  'commercial',\n",
       "  'criticism',\n",
       "  'definitely',\n",
       "  'feel',\n",
       "  'felt',\n",
       "  'intent'],\n",
       " '포함된 단어': ['kendall',\n",
       "  'said',\n",
       "  'added',\n",
       "  'bad',\n",
       "  'commercial',\n",
       "  'criticism',\n",
       "  'definitely',\n",
       "  'feel',\n",
       "  'felt',\n",
       "  'intent'],\n",
       " '포함률': 1.0}"
      ]
     },
     "execution_count": 91,
     "metadata": {},
     "output_type": "execute_result"
    }
   ],
   "source": [
    "keyword_coverage_score(result_df['text'][0],result_df['extraction'][0])"
   ]
  },
  {
   "cell_type": "code",
   "execution_count": 92,
   "id": "fba94daf",
   "metadata": {},
   "outputs": [],
   "source": [
    "result_df['pred_keyword_ratio']=result_df[['text','prediction']].apply(lambda row: keyword_coverage_score(row['text'], row['prediction'])['포함률'],\n",
    "    axis=1)\n",
    "result_df['extr_keyword_ratio']=result_df[['text','extraction']].apply(lambda row: keyword_coverage_score(row['text'], row['extraction'])['포함률'],\n",
    "    axis=1)\n"
   ]
  },
  {
   "cell_type": "code",
   "execution_count": 93,
   "id": "f01a682e",
   "metadata": {},
   "outputs": [
    {
     "data": {
      "text/html": [
       "<div>\n",
       "<style scoped>\n",
       "    .dataframe tbody tr th:only-of-type {\n",
       "        vertical-align: middle;\n",
       "    }\n",
       "\n",
       "    .dataframe tbody tr th {\n",
       "        vertical-align: top;\n",
       "    }\n",
       "\n",
       "    .dataframe thead th {\n",
       "        text-align: right;\n",
       "    }\n",
       "</style>\n",
       "<table border=\"1\" class=\"dataframe\">\n",
       "  <thead>\n",
       "    <tr style=\"text-align: right;\">\n",
       "      <th></th>\n",
       "      <th>text</th>\n",
       "      <th>headline</th>\n",
       "      <th>prediction</th>\n",
       "      <th>extraction</th>\n",
       "      <th>prediction_grammar</th>\n",
       "      <th>extraction_grammar</th>\n",
       "      <th>pred_keyword_ratio</th>\n",
       "      <th>extr_keyword_ratio</th>\n",
       "    </tr>\n",
       "  </thead>\n",
       "  <tbody>\n",
       "    <tr>\n",
       "      <th>0</th>\n",
       "      <td>model kendall jenner opening criticism receive...</td>\n",
       "      <td>felt so stupid kendall on pepsi ad controversy</td>\n",
       "      <td>kendall jenner slammed for kendall remark</td>\n",
       "      <td>kendall said added bad commercial criticism de...</td>\n",
       "      <td>0</td>\n",
       "      <td>0</td>\n",
       "      <td>0.1</td>\n",
       "      <td>1.0</td>\n",
       "    </tr>\n",
       "    <tr>\n",
       "      <th>1</th>\n",
       "      <td>filmmaker ram gopal varma twitter took dig fil...</td>\n",
       "      <td>rgv takes dig at anurag kashyap films on twitter</td>\n",
       "      <td>twitter reacts to sunil grover to enter his</td>\n",
       "      <td>company created filmmaker one varma accused an...</td>\n",
       "      <td>0</td>\n",
       "      <td>0</td>\n",
       "      <td>0.0</td>\n",
       "      <td>0.8</td>\n",
       "    </tr>\n",
       "    <tr>\n",
       "      <th>2</th>\n",
       "      <td>complete skeleton unidentified dinosaur sold m...</td>\n",
       "      <td>unknown dinosaur skeleton sold for crore in pa...</td>\n",
       "      <td>dinosaur dinosaur dinosaur found in dinosaur ...</td>\n",
       "      <td>dinosaur metre million ago believe bones compl...</td>\n",
       "      <td>0</td>\n",
       "      <td>0</td>\n",
       "      <td>0.1</td>\n",
       "      <td>1.0</td>\n",
       "    </tr>\n",
       "    <tr>\n",
       "      <th>3</th>\n",
       "      <td>twitter released series special emojis featuri...</td>\n",
       "      <td>twitter releases special player for ipl</td>\n",
       "      <td>kohli to play kohli for ipl ipl</td>\n",
       "      <td>emojis players ahead among ben cricketers dhon...</td>\n",
       "      <td>0</td>\n",
       "      <td>0</td>\n",
       "      <td>0.0</td>\n",
       "      <td>0.9</td>\n",
       "    </tr>\n",
       "    <tr>\n",
       "      <th>4</th>\n",
       "      <td>karan johar said note shared twitter got know ...</td>\n",
       "      <td>was karan johar on premature birth of his twins</td>\n",
       "      <td>am not in my life karan johar</td>\n",
       "      <td>johar roohi twins yash birth born complication...</td>\n",
       "      <td>0</td>\n",
       "      <td>0</td>\n",
       "      <td>0.1</td>\n",
       "      <td>0.9</td>\n",
       "    </tr>\n",
       "  </tbody>\n",
       "</table>\n",
       "</div>"
      ],
      "text/plain": [
       "                                                text  \\\n",
       "0  model kendall jenner opening criticism receive...   \n",
       "1  filmmaker ram gopal varma twitter took dig fil...   \n",
       "2  complete skeleton unidentified dinosaur sold m...   \n",
       "3  twitter released series special emojis featuri...   \n",
       "4  karan johar said note shared twitter got know ...   \n",
       "\n",
       "                                            headline  \\\n",
       "0    felt so stupid kendall on pepsi ad controversy    \n",
       "1  rgv takes dig at anurag kashyap films on twitter    \n",
       "2  unknown dinosaur skeleton sold for crore in pa...   \n",
       "3           twitter releases special player for ipl    \n",
       "4   was karan johar on premature birth of his twins    \n",
       "\n",
       "                                          prediction  \\\n",
       "0          kendall jenner slammed for kendall remark   \n",
       "1        twitter reacts to sunil grover to enter his   \n",
       "2   dinosaur dinosaur dinosaur found in dinosaur ...   \n",
       "3                    kohli to play kohli for ipl ipl   \n",
       "4                      am not in my life karan johar   \n",
       "\n",
       "                                          extraction prediction_grammar  \\\n",
       "0  kendall said added bad commercial criticism de...                  0   \n",
       "1  company created filmmaker one varma accused an...                  0   \n",
       "2  dinosaur metre million ago believe bones compl...                  0   \n",
       "3  emojis players ahead among ben cricketers dhon...                  0   \n",
       "4  johar roohi twins yash birth born complication...                  0   \n",
       "\n",
       "  extraction_grammar  pred_keyword_ratio  extr_keyword_ratio  \n",
       "0                  0                 0.1                 1.0  \n",
       "1                  0                 0.0                 0.8  \n",
       "2                  0                 0.1                 1.0  \n",
       "3                  0                 0.0                 0.9  \n",
       "4                  0                 0.1                 0.9  "
      ]
     },
     "execution_count": 93,
     "metadata": {},
     "output_type": "execute_result"
    }
   ],
   "source": [
    "result_df.head()"
   ]
  },
  {
   "cell_type": "code",
   "execution_count": 94,
   "id": "88a6c170",
   "metadata": {},
   "outputs": [
    {
     "name": "stdout",
     "output_type": "stream",
     "text": [
      "추상적 예측 요약의 핵심단어 포함 정도 점수 4.299999999999999\n",
      "추출적 요약의 핵심단어 포함 정도 점수 45.199999999999996\n"
     ]
    }
   ],
   "source": [
    "print(\"추상적 예측 요약의 핵심단어 포함 정도 점수\", result_df['pred_keyword_ratio'].astype(float).sum())\n",
    "print(\"추출적 요약의 핵심단어 포함 정도 점수\",result_df['extr_keyword_ratio'].astype(float).sum())"
   ]
  },
  {
   "cell_type": "code",
   "execution_count": 95,
   "id": "11533ce4",
   "metadata": {},
   "outputs": [
    {
     "name": "stdout",
     "output_type": "stream",
     "text": [
      "추상적 예측 요약의 핵심단어 포함 정도 점수 0.08599999999999998\n",
      "추출적 요약의 핵심단어 포함 정도 점수 0.9039999999999999\n"
     ]
    }
   ],
   "source": [
    "print(\"추상적 예측 요약의 핵심단어 포함 정도 점수\", result_df['pred_keyword_ratio'].astype(float).mean())\n",
    "print(\"추출적 요약의 핵심단어 포함 정도 점수\",result_df['extr_keyword_ratio'].astype(float).mean())"
   ]
  },
  {
   "cell_type": "markdown",
   "id": "9e4ba00d",
   "metadata": {},
   "source": [
    "=> (샘플 50개만 확인했으므로 일반화하기는 어렵지만,) 추출한 50개의 샘플을 확인했을 때,    \n",
    "모델을 사용한 추상적 요약의 문법 완성도가 더 높은 것을 확인하였다.   \n",
    "=> 핵심단어 포함 정도를 확인했을 때는 추출적 요약한 문장이 더 많은 핵심단어를 포함한 것을 확인할 수 있었다. "
   ]
  },
  {
   "cell_type": "markdown",
   "id": "3d95db84",
   "metadata": {},
   "source": [
    "# 회고 \n",
    "\n",
    "언어를 벡터화하는 과정이 매우 신기했다.  \n",
    "seq2seq 모델의 구조에 대해서는 아직 어렴풋하게만 이해하고 있지만, 앞으로 더 많이 실습해보며 익숙해지고 싶다.  \n",
    "트랜스포머 모델과 구조에 대해서도 더 공부를 해야겠다고 느꼈다.  \n",
    "평가 지표가 없는 문제에 대해서, 어떻게 모델을 평가해야 할지 고민을 해보는 계기가 되었다.  \n",
    "문장의 문법 완성도를 평가하는 방법도 bert 모델을 사용한 것이기 때문에, 신뢰도는 다시 생각해봐야 하는 것 같다.  "
   ]
  },
  {
   "cell_type": "code",
   "execution_count": null,
   "id": "9c837df2",
   "metadata": {},
   "outputs": [],
   "source": []
  }
 ],
 "metadata": {
  "kernelspec": {
   "display_name": "Python 3 (ipykernel)",
   "language": "python",
   "name": "python3"
  },
  "language_info": {
   "codemirror_mode": {
    "name": "ipython",
    "version": 3
   },
   "file_extension": ".py",
   "mimetype": "text/x-python",
   "name": "python",
   "nbconvert_exporter": "python",
   "pygments_lexer": "ipython3",
   "version": "3.9.7"
  }
 },
 "nbformat": 4,
 "nbformat_minor": 5
}
