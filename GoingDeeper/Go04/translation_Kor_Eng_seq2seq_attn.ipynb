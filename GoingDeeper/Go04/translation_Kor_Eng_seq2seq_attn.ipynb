{
 "cells": [
  {
   "cell_type": "markdown",
   "id": "b86a3dca",
   "metadata": {},
   "source": [
    "# 프로젝트: 한영 번역기 만들기"
   ]
  },
  {
   "cell_type": "markdown",
   "id": "6c747830",
   "metadata": {},
   "source": [
    "#### import library"
   ]
  },
  {
   "cell_type": "code",
   "execution_count": 1,
   "id": "b1c4e552",
   "metadata": {},
   "outputs": [],
   "source": [
    "import os\n",
    "import re\n",
    "import random\n",
    "from tqdm import tqdm    # tqdm\n",
    "\n",
    "import numpy as np\n",
    "import pandas as pd\n",
    "import matplotlib as mpl\n",
    "import matplotlib.pyplot as plt\n",
    "import matplotlib.ticker as ticker\n",
    "\n",
    "import tensorflow as tf"
   ]
  },
  {
   "cell_type": "markdown",
   "id": "e0f6563b",
   "metadata": {},
   "source": [
    "#### matplotlib setting"
   ]
  },
  {
   "cell_type": "code",
   "execution_count": 2,
   "id": "72a836be",
   "metadata": {},
   "outputs": [
    {
     "name": "stdout",
     "output_type": "stream",
     "text": [
      "완료!\n"
     ]
    }
   ],
   "source": [
    "%config InlineBackend.figure_format = 'retina'\n",
    " \n",
    "import matplotlib.font_manager as fm\n",
    "fontpath = '/usr/share/fonts/truetype/nanum/NanumBarunGothic.ttf'\n",
    "font = fm.FontProperties(fname=fontpath, size=9)\n",
    "plt.rc('font', family='NanumBarunGothic') \n",
    "mpl.font_manager.findfont(font)\n",
    "\n",
    "print(\"완료!\")"
   ]
  },
  {
   "cell_type": "markdown",
   "id": "bea6bff1",
   "metadata": {},
   "source": [
    "## 데이터 준비"
   ]
  },
  {
   "cell_type": "markdown",
   "id": "c00b09b8",
   "metadata": {},
   "source": [
    "https://github.com/jungyeul/korean-parallel-corpora/tree/master/korean-english-news-v1"
   ]
  },
  {
   "cell_type": "code",
   "execution_count": 3,
   "id": "8202785e",
   "metadata": {},
   "outputs": [],
   "source": [
    "path = \"/workspace/userdisk/project/GoingDeeper/Go04/\"\n",
    "kor_file = path+\"korean-english-park.train.ko\"\n",
    "eng_file = path+\"korean-english-park.train.en\""
   ]
  },
  {
   "cell_type": "code",
   "execution_count": 4,
   "id": "76e8643a",
   "metadata": {},
   "outputs": [
    {
     "name": "stdout",
     "output_type": "stream",
     "text": [
      "kor_raw size:  94123\n",
      "eng_raw size:  94123\n",
      "kor:  개인용 컴퓨터 사용의 상당 부분은 \"이것보다 뛰어날 수 있느냐?\"\n",
      "eng:  Much of personal computing is about \"can you top this?\"\n",
      "kor:  그는 민주당 대선후보가 결정 될 때까지 경선을 계속 치르겠다는 뜻을 밝힌 바 있다.\n",
      "eng:  Clinton has vowed to stay in the race until someone gets enough delegates to clinch the nomination.\n",
      "kor:  세인트피터스버그의 편집국장인 빌 에데어는 “루디는 다우존스 산업지수 주가처럼 지지율이 떨어졌다”며 “그는 플로리다에 모든 승부수를 뒀으나 그 같은 전략은 실패한 것으로 보인다”고 말했다.\n",
      "eng:  \"Rudy has fallen like the Dow Jones industrial average,\" said Bill Adair, chief editor of the St. Petersburg Times. \"What's happened is he gambled on Florida and put all his chips on Florida, and it's beginning to look like he gambled wrong.\"\n",
      "kor:  존 데니 경찰서장은 피터슨이 어떻게 자살했는지 밝히진 않았지만 더 이상 주민들에게 위협을 주진 못할 것이라고 전했다.\n",
      "eng:  Police Chief John Dennee would not say how Peterson died, but said he was \"no longer a threat to the public.\"\n",
      "kor:  두 부부의 개인 웹사이트에따르면 성 루이스 파크 미니애폴리스 교외에서 살고있는 모리슨 부부는 임신 촉진제를 이용하기 전 임신을 위해 1년 이상 시간을 보냈다.\n",
      "eng:  The Morrisons, of the Minneapolis suburb of St. Louis Park, spent more than a year trying to conceive before agreeing to fertility drugs, according to the couple's personal Web site.\n",
      "kor:  레드클리프는 최근 뉴스위크와의 인터뷰에서 \"나의 일부는 사람들이 나에 대해 갖고 있는 인식을 뒤흔들고 싶어한다. 내 이미지를 고착시키고 싶지 않다\"고 말했다.\n",
      "eng:  \"Part of me wants to shake up people's perception of me, just shove me in a blender,\" Radcliffe said in a recent interview with Newsweek magazine.\n",
      "kor:  이집트 팀은 지금도 발굴 작업을 벌이고 있으며 묘실(墓室) 입구부터 피라미드 내부까지의 발굴 작업은 2주가 걸릴 예정이다.\n",
      "eng:  The Egyptian team is still digging and is two weeks from entering the burial chamber inside the pyramid, where Hawass hopes they will find proof of its owner\n",
      "kor:  알 아크사는 또한 그를 이스라엘에 대항하는 자살폭탄테러 재개에 대한 노골적인 주창자였다고 설명했다.\n",
      "eng:  The newspaper also described him as an \"outspoken advocate of renewing suicide bombings against Israel.\"\n",
      "kor:  2006년, 그는 자신의 분노를 표출하기 위해 창경궁에 불을 질렀지만, 체포되어 재판을 거쳐 1,300만원의 벌금을 내고 18개월의 징역형과 집행 유예 판결을 받았다.\n",
      "eng:  In 2006, he set fire to Changgyeong Palace to highlight his frustration, but was arrested, tried and fined 13 million won and given a suspended 18-month prison sentence.\n",
      "kor:  두 번째 불가리아인 인질에 대한 생전 희망은 점점 희미해지고 있다.\n",
      "eng:  Hopes that a second Bulgarian hostage is still alive are fading.\n"
     ]
    }
   ],
   "source": [
    "# 한글\n",
    "with open(kor_file, \"r\") as f:\n",
    "    kor_raw = f.read().splitlines()\n",
    "\n",
    "# 영어\n",
    "with open(eng_file, \"r\") as f:\n",
    "    eng_raw = f.read().splitlines()\n",
    "\n",
    "print(\"kor_raw size: \", len(kor_raw))\n",
    "print(\"eng_raw size: \", len(eng_raw))\n",
    "\n",
    "for i, (kor, eng) in enumerate(zip(kor_raw, eng_raw)):\n",
    "    if i % 10000 == 0:\n",
    "        print(\"kor: \", kor)\n",
    "        print(\"eng: \", eng)"
   ]
  },
  {
   "cell_type": "markdown",
   "id": "d7912df1",
   "metadata": {},
   "source": [
    "## 데이터 정제\n",
    "\n",
    "- 중복 제거\n",
    "- 여러개 쌍따옴표를 하나로 처리\n",
    "- ?!,.\" -> 앞뒤 공백 추가  -> **쌍따옴표는 인용구 표현이므로 제거하지 않는다**\n",
    "- 여러 개의 연속된 공백 -> 하나의 공백\n",
    "- 영어 대소문자/?.!,\"/한글/숫자 제외한 문제 제거 -> **한글, 숫자, \\\" 추가**\n",
    "- 영어는 모두 소문자\n",
    "- 양쪽 공백 제거\n"
   ]
  },
  {
   "cell_type": "markdown",
   "id": "819c981a",
   "metadata": {},
   "source": [
    "### 중복 제거"
   ]
  },
  {
   "cell_type": "code",
   "execution_count": 5,
   "id": "e98160bb",
   "metadata": {},
   "outputs": [
    {
     "data": {
      "text/plain": [
       "77591"
      ]
     },
     "execution_count": 5,
     "metadata": {},
     "output_type": "execute_result"
    }
   ],
   "source": [
    "len(set(kor_raw))"
   ]
  },
  {
   "cell_type": "code",
   "execution_count": 6,
   "id": "edbb9b11",
   "metadata": {},
   "outputs": [
    {
     "data": {
      "text/plain": [
       "75598"
      ]
     },
     "execution_count": 6,
     "metadata": {},
     "output_type": "execute_result"
    }
   ],
   "source": [
    "len(set(eng_raw))"
   ]
  },
  {
   "cell_type": "markdown",
   "id": "f4bb7da6",
   "metadata": {},
   "source": [
    "두 데이터 셋의 중복 갯수가 다름 -> 같은 한국어에 다른 영어가 존재함"
   ]
  },
  {
   "cell_type": "code",
   "execution_count": 7,
   "id": "8a9bd44e",
   "metadata": {},
   "outputs": [
    {
     "data": {
      "text/html": [
       "<div>\n",
       "<style scoped>\n",
       "    .dataframe tbody tr th:only-of-type {\n",
       "        vertical-align: middle;\n",
       "    }\n",
       "\n",
       "    .dataframe tbody tr th {\n",
       "        vertical-align: top;\n",
       "    }\n",
       "\n",
       "    .dataframe thead th {\n",
       "        text-align: right;\n",
       "    }\n",
       "</style>\n",
       "<table border=\"1\" class=\"dataframe\">\n",
       "  <thead>\n",
       "    <tr style=\"text-align: right;\">\n",
       "      <th></th>\n",
       "      <th>kor</th>\n",
       "      <th>eng</th>\n",
       "    </tr>\n",
       "  </thead>\n",
       "  <tbody>\n",
       "    <tr>\n",
       "      <th>70551</th>\n",
       "      <td>잭슨 소장품 경매 장갑 최고가 낙...</td>\n",
       "      <td>Glove, other Michael Jackson it...</td>\n",
       "    </tr>\n",
       "    <tr>\n",
       "      <th>56563</th>\n",
       "      <td>수잔 보일 데뷔 음반 예약주문 1...</td>\n",
       "      <td>Susan Boyle's debut CD sets Ama...</td>\n",
       "    </tr>\n",
       "    <tr>\n",
       "      <th>3820</th>\n",
       "      <td>美 해군 역사관 웹사이트에는 사물들, \"특히 우리에게 소중한 사물들\"을 여성으로 분...</td>\n",
       "      <td>Naval Historical Center Web site says it is cu...</td>\n",
       "    </tr>\n",
       "    <tr>\n",
       "      <th>67015</th>\n",
       "      <td>기후변화의 피해자, 개도국 여성</td>\n",
       "      <td>Women 'bearing brunt' of climat...</td>\n",
       "    </tr>\n",
       "    <tr>\n",
       "      <th>4657</th>\n",
       "      <td>이 책의 발매는 인터넷 도서 소매업체인 아마존닷컴이 100만부가 넘는 주문을 이미 ...</td>\n",
       "      <td>The launch of the book is so hotly anticipated...</td>\n",
       "    </tr>\n",
       "  </tbody>\n",
       "</table>\n",
       "</div>"
      ],
      "text/plain": [
       "                                                     kor  \\\n",
       "70551                              잭슨 소장품 경매 장갑 최고가 낙...   \n",
       "56563                              수잔 보일 데뷔 음반 예약주문 1...   \n",
       "3820   美 해군 역사관 웹사이트에는 사물들, \"특히 우리에게 소중한 사물들\"을 여성으로 분...   \n",
       "67015                                  기후변화의 피해자, 개도국 여성   \n",
       "4657   이 책의 발매는 인터넷 도서 소매업체인 아마존닷컴이 100만부가 넘는 주문을 이미 ...   \n",
       "\n",
       "                                                     eng  \n",
       "70551                 Glove, other Michael Jackson it...  \n",
       "56563                 Susan Boyle's debut CD sets Ama...  \n",
       "3820   Naval Historical Center Web site says it is cu...  \n",
       "67015                 Women 'bearing brunt' of climat...  \n",
       "4657   The launch of the book is so hotly anticipated...  "
      ]
     },
     "execution_count": 7,
     "metadata": {},
     "output_type": "execute_result"
    }
   ],
   "source": [
    "df = pd.DataFrame({\"kor\": kor_raw,\"eng\": eng_raw})\n",
    "df.sample(5)"
   ]
  },
  {
   "cell_type": "code",
   "execution_count": 8,
   "id": "f4fcff5a",
   "metadata": {},
   "outputs": [
    {
     "data": {
      "text/html": [
       "<div>\n",
       "<style scoped>\n",
       "    .dataframe tbody tr th:only-of-type {\n",
       "        vertical-align: middle;\n",
       "    }\n",
       "\n",
       "    .dataframe tbody tr th {\n",
       "        vertical-align: top;\n",
       "    }\n",
       "\n",
       "    .dataframe thead th {\n",
       "        text-align: right;\n",
       "    }\n",
       "</style>\n",
       "<table border=\"1\" class=\"dataframe\">\n",
       "  <thead>\n",
       "    <tr style=\"text-align: right;\">\n",
       "      <th></th>\n",
       "      <th>kor</th>\n",
       "      <th>eng</th>\n",
       "    </tr>\n",
       "  </thead>\n",
       "  <tbody>\n",
       "    <tr>\n",
       "      <th>50523</th>\n",
       "      <td>\"그것은 정말 도전적인 연극이며 만약 내가 성공을 거둘 수 있다면-아직 그럴 수 있...</td>\n",
       "      <td>\"It's a really challenging play, and if I can ...</td>\n",
       "    </tr>\n",
       "    <tr>\n",
       "      <th>51567</th>\n",
       "      <td>\"그것은 정말 도전적인 연극이며 만약 내가 성공을 거둘 수 있다면-아직 그럴 수 있...</td>\n",
       "      <td>\"It's a really challenging play, and if I can ...</td>\n",
       "    </tr>\n",
       "    <tr>\n",
       "      <th>51045</th>\n",
       "      <td>\"그것은 정말 도전적인 연극이며 만약 내가 성공을 거둘 수 있다면-아직 그럴 수 있...</td>\n",
       "      <td>\"It's a really challenging play, and if I can ...</td>\n",
       "    </tr>\n",
       "    <tr>\n",
       "      <th>50262</th>\n",
       "      <td>\"그것은 정말 도전적인 연극이며 만약 내가 성공을 거둘 수 있다면-아직 그럴 수 있...</td>\n",
       "      <td>\"It's a really challenging play, and if I can ...</td>\n",
       "    </tr>\n",
       "    <tr>\n",
       "      <th>50001</th>\n",
       "      <td>\"그것은 정말 도전적인 연극이며 만약 내가 성공을 거둘 수 있다면-아직 그럴 수 있...</td>\n",
       "      <td>\"It's a really challenging play, and if I can ...</td>\n",
       "    </tr>\n",
       "    <tr>\n",
       "      <th>...</th>\n",
       "      <td>...</td>\n",
       "      <td>...</td>\n",
       "    </tr>\n",
       "    <tr>\n",
       "      <th>72183</th>\n",
       "      <td>힐러리 이날 청문회를 마쳤다.</td>\n",
       "      <td>Clinton completed her testimony on Tuesday.</td>\n",
       "    </tr>\n",
       "    <tr>\n",
       "      <th>93792</th>\n",
       "      <td>힐러리 클린턴, 북한 방문할까</td>\n",
       "      <td>Would Hillary Clinton visit North Korea?</td>\n",
       "    </tr>\n",
       "    <tr>\n",
       "      <th>79517</th>\n",
       "      <td>힐러리 클린턴, 북한 방문할까</td>\n",
       "      <td>Would Hillary Clinton visit North Korea?</td>\n",
       "    </tr>\n",
       "    <tr>\n",
       "      <th>64666</th>\n",
       "      <td>힐러리 클린턴은 지난 2001년 1월 이후 상원의원에 재임 중이다.</td>\n",
       "      <td>Hillary Clinton has been in the Senate since J...</td>\n",
       "    </tr>\n",
       "    <tr>\n",
       "      <th>64682</th>\n",
       "      <td>힐러리 클린턴은 지난 2001년 1월 이후 상원의원에 재임 중이다.</td>\n",
       "      <td>Hillary Clinton has been in the Senate since J...</td>\n",
       "    </tr>\n",
       "  </tbody>\n",
       "</table>\n",
       "<p>21910 rows × 2 columns</p>\n",
       "</div>"
      ],
      "text/plain": [
       "                                                     kor  \\\n",
       "50523  \"그것은 정말 도전적인 연극이며 만약 내가 성공을 거둘 수 있다면-아직 그럴 수 있...   \n",
       "51567  \"그것은 정말 도전적인 연극이며 만약 내가 성공을 거둘 수 있다면-아직 그럴 수 있...   \n",
       "51045  \"그것은 정말 도전적인 연극이며 만약 내가 성공을 거둘 수 있다면-아직 그럴 수 있...   \n",
       "50262  \"그것은 정말 도전적인 연극이며 만약 내가 성공을 거둘 수 있다면-아직 그럴 수 있...   \n",
       "50001  \"그것은 정말 도전적인 연극이며 만약 내가 성공을 거둘 수 있다면-아직 그럴 수 있...   \n",
       "...                                                  ...   \n",
       "72183                                   힐러리 이날 청문회를 마쳤다.   \n",
       "93792                              힐러리 클린턴, 북한 방문할까        \n",
       "79517                              힐러리 클린턴, 북한 방문할까        \n",
       "64666              힐러리 클린턴은 지난 2001년 1월 이후 상원의원에 재임 중이다.   \n",
       "64682              힐러리 클린턴은 지난 2001년 1월 이후 상원의원에 재임 중이다.   \n",
       "\n",
       "                                                     eng  \n",
       "50523  \"It's a really challenging play, and if I can ...  \n",
       "51567  \"It's a really challenging play, and if I can ...  \n",
       "51045  \"It's a really challenging play, and if I can ...  \n",
       "50262  \"It's a really challenging play, and if I can ...  \n",
       "50001  \"It's a really challenging play, and if I can ...  \n",
       "...                                                  ...  \n",
       "72183        Clinton completed her testimony on Tuesday.  \n",
       "93792           Would Hillary Clinton visit North Korea?  \n",
       "79517           Would Hillary Clinton visit North Korea?  \n",
       "64666  Hillary Clinton has been in the Senate since J...  \n",
       "64682  Hillary Clinton has been in the Senate since J...  \n",
       "\n",
       "[21910 rows x 2 columns]"
      ]
     },
     "execution_count": 8,
     "metadata": {},
     "output_type": "execute_result"
    }
   ],
   "source": [
    "df[df.duplicated(keep=False)].sort_values(by=\"kor\")"
   ]
  },
  {
   "cell_type": "markdown",
   "id": "1fecdea4",
   "metadata": {},
   "source": [
    "#### kor, eng 둘 다 중복인 행 삭제"
   ]
  },
  {
   "cell_type": "code",
   "execution_count": 9,
   "id": "851a1017",
   "metadata": {},
   "outputs": [],
   "source": [
    "df.drop_duplicates(inplace=True)"
   ]
  },
  {
   "cell_type": "code",
   "execution_count": 10,
   "id": "bd6f979c",
   "metadata": {},
   "outputs": [
    {
     "data": {
      "text/plain": [
       "(78968, 2)"
      ]
     },
     "execution_count": 10,
     "metadata": {},
     "output_type": "execute_result"
    }
   ],
   "source": [
    "df.shape"
   ]
  },
  {
   "cell_type": "code",
   "execution_count": 11,
   "id": "5e372b05",
   "metadata": {},
   "outputs": [
    {
     "data": {
      "text/html": [
       "<div>\n",
       "<style scoped>\n",
       "    .dataframe tbody tr th:only-of-type {\n",
       "        vertical-align: middle;\n",
       "    }\n",
       "\n",
       "    .dataframe tbody tr th {\n",
       "        vertical-align: top;\n",
       "    }\n",
       "\n",
       "    .dataframe thead th {\n",
       "        text-align: right;\n",
       "    }\n",
       "</style>\n",
       "<table border=\"1\" class=\"dataframe\">\n",
       "  <thead>\n",
       "    <tr style=\"text-align: right;\">\n",
       "      <th></th>\n",
       "      <th>kor</th>\n",
       "      <th>eng</th>\n",
       "    </tr>\n",
       "  </thead>\n",
       "  <tbody>\n",
       "    <tr>\n",
       "      <th>67260</th>\n",
       "      <td>(CNN) / 이수지(JOINS)</td>\n",
       "      <td>How did you get this project?</td>\n",
       "    </tr>\n",
       "    <tr>\n",
       "      <th>63192</th>\n",
       "      <td>(CNN) / 이수지(JOINS)</td>\n",
       "      <td>How might we find out?</td>\n",
       "    </tr>\n",
       "    <tr>\n",
       "      <th>54843</th>\n",
       "      <td>(CNN) / 이수지(JOINS)</td>\n",
       "      <td>\"He's a fantastic talent.\"</td>\n",
       "    </tr>\n",
       "    <tr>\n",
       "      <th>55603</th>\n",
       "      <td>(CNN) / 이수지(JOINS)</td>\n",
       "      <td>They've got good hitters.\"</td>\n",
       "    </tr>\n",
       "    <tr>\n",
       "      <th>71782</th>\n",
       "      <td>(CNN) / 이수지(JOINS)</td>\n",
       "      <td>\"I'd like to put it in the past now.</td>\n",
       "    </tr>\n",
       "    <tr>\n",
       "      <th>...</th>\n",
       "      <td>...</td>\n",
       "      <td>...</td>\n",
       "    </tr>\n",
       "    <tr>\n",
       "      <th>61390</th>\n",
       "      <td>해수욕장에서 점프하는 상어 순간.. 해수욕장에서 점프하는 상어 순간..</td>\n",
       "      <td>\"Slumdog,\" which opened Friday in limited rele...</td>\n",
       "    </tr>\n",
       "    <tr>\n",
       "      <th>53081</th>\n",
       "      <td>해수욕장에서 점프하는 상어 순간.. 해수욕장에서 점프하는 상어 순간..</td>\n",
       "      <td>That is a fairly good outcome, given the fragi...</td>\n",
       "    </tr>\n",
       "    <tr>\n",
       "      <th>54317</th>\n",
       "      <td>해수욕장에서 점프하는 상어 순간.. 해수욕장에서 점프하는 상어 순간..</td>\n",
       "      <td>The crews aim to prevent the blazes from pushi...</td>\n",
       "    </tr>\n",
       "    <tr>\n",
       "      <th>55386</th>\n",
       "      <td>해수욕장에서 점프하는 상어 순간.. 해수욕장에서 점프하는 상어 순간..</td>\n",
       "      <td>\"Gilles was hitting much better from behind th...</td>\n",
       "    </tr>\n",
       "    <tr>\n",
       "      <th>53780</th>\n",
       "      <td>해수욕장에서 점프하는 상어 순간.. 해수욕장에서 점프하는 상어 순간..</td>\n",
       "      <td>and Narcisa de Jesus Martillo Moran, a 19th ce...</td>\n",
       "    </tr>\n",
       "  </tbody>\n",
       "</table>\n",
       "<p>1093 rows × 2 columns</p>\n",
       "</div>"
      ],
      "text/plain": [
       "                                           kor  \\\n",
       "67260                       (CNN) / 이수지(JOINS)   \n",
       "63192                       (CNN) / 이수지(JOINS)   \n",
       "54843                       (CNN) / 이수지(JOINS)   \n",
       "55603                       (CNN) / 이수지(JOINS)   \n",
       "71782                       (CNN) / 이수지(JOINS)   \n",
       "...                                        ...   \n",
       "61390  해수욕장에서 점프하는 상어 순간.. 해수욕장에서 점프하는 상어 순간..   \n",
       "53081  해수욕장에서 점프하는 상어 순간.. 해수욕장에서 점프하는 상어 순간..   \n",
       "54317  해수욕장에서 점프하는 상어 순간.. 해수욕장에서 점프하는 상어 순간..   \n",
       "55386  해수욕장에서 점프하는 상어 순간.. 해수욕장에서 점프하는 상어 순간..   \n",
       "53780  해수욕장에서 점프하는 상어 순간.. 해수욕장에서 점프하는 상어 순간..   \n",
       "\n",
       "                                                     eng  \n",
       "67260                      How did you get this project?  \n",
       "63192                             How might we find out?  \n",
       "54843                         \"He's a fantastic talent.\"  \n",
       "55603                         They've got good hitters.\"  \n",
       "71782               \"I'd like to put it in the past now.  \n",
       "...                                                  ...  \n",
       "61390  \"Slumdog,\" which opened Friday in limited rele...  \n",
       "53081  That is a fairly good outcome, given the fragi...  \n",
       "54317  The crews aim to prevent the blazes from pushi...  \n",
       "55386  \"Gilles was hitting much better from behind th...  \n",
       "53780  and Narcisa de Jesus Martillo Moran, a 19th ce...  \n",
       "\n",
       "[1093 rows x 2 columns]"
      ]
     },
     "execution_count": 11,
     "metadata": {},
     "output_type": "execute_result"
    }
   ],
   "source": [
    "df.groupby('kor').filter(lambda x: len(x) >= 3).sort_values(by=\"kor\")"
   ]
  },
  {
   "cell_type": "markdown",
   "id": "07be0ec1",
   "metadata": {},
   "source": [
    "한국어가 3개 이상 중복인 경우, 데이터가 이상한 데이터로 판단하여 삭제한다."
   ]
  },
  {
   "cell_type": "code",
   "execution_count": 12,
   "id": "ee448daa",
   "metadata": {},
   "outputs": [],
   "source": [
    "drop_index = df.groupby('kor').filter(lambda x: len(x) >= 3).sort_values(by=\"kor\").index"
   ]
  },
  {
   "cell_type": "code",
   "execution_count": 13,
   "id": "00cf62ba",
   "metadata": {},
   "outputs": [],
   "source": [
    "df.drop(drop_index, inplace=True)"
   ]
  },
  {
   "cell_type": "code",
   "execution_count": 14,
   "id": "e2783167",
   "metadata": {},
   "outputs": [
    {
     "data": {
      "text/html": [
       "<div>\n",
       "<style scoped>\n",
       "    .dataframe tbody tr th:only-of-type {\n",
       "        vertical-align: middle;\n",
       "    }\n",
       "\n",
       "    .dataframe tbody tr th {\n",
       "        vertical-align: top;\n",
       "    }\n",
       "\n",
       "    .dataframe thead th {\n",
       "        text-align: right;\n",
       "    }\n",
       "</style>\n",
       "<table border=\"1\" class=\"dataframe\">\n",
       "  <thead>\n",
       "    <tr style=\"text-align: right;\">\n",
       "      <th></th>\n",
       "      <th>kor</th>\n",
       "      <th>eng</th>\n",
       "    </tr>\n",
       "  </thead>\n",
       "  <tbody>\n",
       "    <tr>\n",
       "      <th>35738</th>\n",
       "      <td>(CNN)/권성근(JOINS)</td>\n",
       "      <td>\"Please don't use force.</td>\n",
       "    </tr>\n",
       "    <tr>\n",
       "      <th>36146</th>\n",
       "      <td>(CNN)/권성근(JOINS)</td>\n",
       "      <td>Two Germans were also kidnapped last week.</td>\n",
       "    </tr>\n",
       "    <tr>\n",
       "      <th>65519</th>\n",
       "      <td>1999년 옥스퍼드 졸업생들이 설립한 옥스브리지 입시학원(Oxbridge Appli...</td>\n",
       "      <td>In the United Kingdom, 90 percent of students ...</td>\n",
       "    </tr>\n",
       "    <tr>\n",
       "      <th>65506</th>\n",
       "      <td>1999년 옥스퍼드 졸업생들이 설립한 옥스브리지 입시학원(Oxbridge Appli...</td>\n",
       "      <td>Tutoring company Oxbridge Applications founded...</td>\n",
       "    </tr>\n",
       "    <tr>\n",
       "      <th>67596</th>\n",
       "      <td>2005년 이 프로그램 시판되면서 일본에서는 정신건강에 대해 열광하기 시작했다.</td>\n",
       "      <td>The launch of the program in 2005 kicked off t...</td>\n",
       "    </tr>\n",
       "    <tr>\n",
       "      <th>...</th>\n",
       "      <td>...</td>\n",
       "      <td>...</td>\n",
       "    </tr>\n",
       "    <tr>\n",
       "      <th>32234</th>\n",
       "      <td>호츠(17)는 해킹을 통해 조작한 아이폰과 닛산 350Z 및 38GB 아이폰을 교환...</td>\n",
       "      <td>Its pedestrianized main drag is lined with mod...</td>\n",
       "    </tr>\n",
       "    <tr>\n",
       "      <th>70031</th>\n",
       "      <td>화재 사고 목격자인 홀은 “사람들이 동시 에 서둘러 대피하기 시작했고 응급상황이라고...</td>\n",
       "      <td>But some people appeared to believe that it wa...</td>\n",
       "    </tr>\n",
       "    <tr>\n",
       "      <th>70021</th>\n",
       "      <td>화재 사고 목격자인 홀은 “사람들이 동시 에 서둘러 대피하기 시작했고 응급상황이라고...</td>\n",
       "      <td>\"At the same time there were people rushing to...</td>\n",
       "    </tr>\n",
       "    <tr>\n",
       "      <th>48709</th>\n",
       "      <td>회담에서 참가국 모두 한반도 비핵화를 위해 최선의 노력을 했다\"고 밝혔다.</td>\n",
       "      <td>They reflect the common commitment of the part...</td>\n",
       "    </tr>\n",
       "    <tr>\n",
       "      <th>48591</th>\n",
       "      <td>회담에서 참가국 모두 한반도 비핵화를 위해 최선의 노력을 했다\"고 밝혔다.</td>\n",
       "      <td>In a sign of potential problems to come, North...</td>\n",
       "    </tr>\n",
       "  </tbody>\n",
       "</table>\n",
       "<p>712 rows × 2 columns</p>\n",
       "</div>"
      ],
      "text/plain": [
       "                                                     kor  \\\n",
       "35738                                   (CNN)/권성근(JOINS)   \n",
       "36146                                   (CNN)/권성근(JOINS)   \n",
       "65519  1999년 옥스퍼드 졸업생들이 설립한 옥스브리지 입시학원(Oxbridge Appli...   \n",
       "65506  1999년 옥스퍼드 졸업생들이 설립한 옥스브리지 입시학원(Oxbridge Appli...   \n",
       "67596       2005년 이 프로그램 시판되면서 일본에서는 정신건강에 대해 열광하기 시작했다.   \n",
       "...                                                  ...   \n",
       "32234  호츠(17)는 해킹을 통해 조작한 아이폰과 닛산 350Z 및 38GB 아이폰을 교환...   \n",
       "70031  화재 사고 목격자인 홀은 “사람들이 동시 에 서둘러 대피하기 시작했고 응급상황이라고...   \n",
       "70021  화재 사고 목격자인 홀은 “사람들이 동시 에 서둘러 대피하기 시작했고 응급상황이라고...   \n",
       "48709          회담에서 참가국 모두 한반도 비핵화를 위해 최선의 노력을 했다\"고 밝혔다.   \n",
       "48591          회담에서 참가국 모두 한반도 비핵화를 위해 최선의 노력을 했다\"고 밝혔다.   \n",
       "\n",
       "                                                     eng  \n",
       "35738                           \"Please don't use force.  \n",
       "36146         Two Germans were also kidnapped last week.  \n",
       "65519  In the United Kingdom, 90 percent of students ...  \n",
       "65506  Tutoring company Oxbridge Applications founded...  \n",
       "67596  The launch of the program in 2005 kicked off t...  \n",
       "...                                                  ...  \n",
       "32234  Its pedestrianized main drag is lined with mod...  \n",
       "70031  But some people appeared to believe that it wa...  \n",
       "70021  \"At the same time there were people rushing to...  \n",
       "48709  They reflect the common commitment of the part...  \n",
       "48591  In a sign of potential problems to come, North...  \n",
       "\n",
       "[712 rows x 2 columns]"
      ]
     },
     "execution_count": 14,
     "metadata": {},
     "output_type": "execute_result"
    }
   ],
   "source": [
    "df[df.duplicated(\"kor\", keep=False)].sort_values(by=\"kor\")"
   ]
  },
  {
   "cell_type": "markdown",
   "id": "27229348",
   "metadata": {},
   "source": [
    "한국어 중복이 2개 여도 데이터가 이상한 것 같다.  -> 모두 삭제"
   ]
  },
  {
   "cell_type": "code",
   "execution_count": 15,
   "id": "8c5ddd03",
   "metadata": {},
   "outputs": [],
   "source": [
    "df = df[~df.duplicated('kor', keep=False)]"
   ]
  },
  {
   "cell_type": "code",
   "execution_count": 16,
   "id": "5c5501e9",
   "metadata": {},
   "outputs": [
    {
     "data": {
      "text/html": [
       "<div>\n",
       "<style scoped>\n",
       "    .dataframe tbody tr th:only-of-type {\n",
       "        vertical-align: middle;\n",
       "    }\n",
       "\n",
       "    .dataframe tbody tr th {\n",
       "        vertical-align: top;\n",
       "    }\n",
       "\n",
       "    .dataframe thead th {\n",
       "        text-align: right;\n",
       "    }\n",
       "</style>\n",
       "<table border=\"1\" class=\"dataframe\">\n",
       "  <thead>\n",
       "    <tr style=\"text-align: right;\">\n",
       "      <th></th>\n",
       "      <th>kor</th>\n",
       "      <th>eng</th>\n",
       "    </tr>\n",
       "  </thead>\n",
       "  <tbody>\n",
       "  </tbody>\n",
       "</table>\n",
       "</div>"
      ],
      "text/plain": [
       "Empty DataFrame\n",
       "Columns: [kor, eng]\n",
       "Index: []"
      ]
     },
     "execution_count": 16,
     "metadata": {},
     "output_type": "execute_result"
    }
   ],
   "source": [
    "df[df.duplicated(\"kor\", keep=False)].sort_values(by=\"kor\")"
   ]
  },
  {
   "cell_type": "code",
   "execution_count": 17,
   "id": "d7c86789",
   "metadata": {},
   "outputs": [
    {
     "data": {
      "text/html": [
       "<div>\n",
       "<style scoped>\n",
       "    .dataframe tbody tr th:only-of-type {\n",
       "        vertical-align: middle;\n",
       "    }\n",
       "\n",
       "    .dataframe tbody tr th {\n",
       "        vertical-align: top;\n",
       "    }\n",
       "\n",
       "    .dataframe thead th {\n",
       "        text-align: right;\n",
       "    }\n",
       "</style>\n",
       "<table border=\"1\" class=\"dataframe\">\n",
       "  <thead>\n",
       "    <tr style=\"text-align: right;\">\n",
       "      <th></th>\n",
       "      <th>kor</th>\n",
       "      <th>eng</th>\n",
       "    </tr>\n",
       "  </thead>\n",
       "  <tbody>\n",
       "    <tr>\n",
       "      <th>84969</th>\n",
       "      <td>일본의 독설적인 외상이 한국과 중국이 북한을 도와주고 있다고 비난함으로써 또 다시 ...</td>\n",
       "      <td>\"\" Aso was responding to a question posed by a...</td>\n",
       "    </tr>\n",
       "    <tr>\n",
       "      <th>84974</th>\n",
       "      <td>이 같은 납치 문제는 한국과 북한, 미국, 중국, 일본, 러시아가 참석하는 핵협상(...</td>\n",
       "      <td>\"\" Aso was responding to a question posed by a...</td>\n",
       "    </tr>\n",
       "    <tr>\n",
       "      <th>90693</th>\n",
       "      <td>이는 존 맥케인 공화당 상원의원(애리조나)을 지칭하는 것으로 맥케인 의원은 비록 비...</td>\n",
       "      <td>\"\" That's a reference to Arizona Republican Se...</td>\n",
       "    </tr>\n",
       "    <tr>\n",
       "      <th>90688</th>\n",
       "      <td>Bush is welcoming Edwards to Kerry’s running m...</td>\n",
       "      <td>\"\" That's a reference to Arizona Republican Se...</td>\n",
       "    </tr>\n",
       "    <tr>\n",
       "      <th>84694</th>\n",
       "      <td>Japan accusing Korea infringed technology pate...</td>\n",
       "      <td>\"\" The six-party talks involving North and Sou...</td>\n",
       "    </tr>\n",
       "    <tr>\n",
       "      <th>...</th>\n",
       "      <td>...</td>\n",
       "      <td>...</td>\n",
       "    </tr>\n",
       "    <tr>\n",
       "      <th>88771</th>\n",
       "      <td>“ 말씀 드렸다시피 긴축예산이기 때문에, 저희는 1달러짜리 메뉴 중에서 고르고 있습...</td>\n",
       "      <td>”“ Tight budget, like I'm saying, we're pickin...</td>\n",
       "    </tr>\n",
       "    <tr>\n",
       "      <th>84673</th>\n",
       "      <td>“ 그가 감옥에 가거나 안 가는 것은 감정적인 만족도와 큰 연관이 있겠지만, 우리는...</td>\n",
       "      <td>”“ Whether he goes to jail or not may have a l...</td>\n",
       "    </tr>\n",
       "    <tr>\n",
       "      <th>84679</th>\n",
       "      <td>hanging by the thumbs 양 엄지손가락을 묶어 메다는 처벌 또는 고문</td>\n",
       "      <td>”“ Whether he goes to jail or not may have a l...</td>\n",
       "    </tr>\n",
       "    <tr>\n",
       "      <th>79668</th>\n",
       "      <td>#45236가 아는 한 북한은 중국측에 그런 정보를 전달하지 않았다.?</td>\n",
       "      <td>””To our knowledge, North Korea has not given ...</td>\n",
       "    </tr>\n",
       "    <tr>\n",
       "      <th>79672</th>\n",
       "      <td>US asks S. Korea to exercise over influence N....</td>\n",
       "      <td>””To our knowledge, North Korea has not given ...</td>\n",
       "    </tr>\n",
       "  </tbody>\n",
       "</table>\n",
       "<p>5175 rows × 2 columns</p>\n",
       "</div>"
      ],
      "text/plain": [
       "                                                     kor  \\\n",
       "84969  일본의 독설적인 외상이 한국과 중국이 북한을 도와주고 있다고 비난함으로써 또 다시 ...   \n",
       "84974  이 같은 납치 문제는 한국과 북한, 미국, 중국, 일본, 러시아가 참석하는 핵협상(...   \n",
       "90693  이는 존 맥케인 공화당 상원의원(애리조나)을 지칭하는 것으로 맥케인 의원은 비록 비...   \n",
       "90688  Bush is welcoming Edwards to Kerry’s running m...   \n",
       "84694  Japan accusing Korea infringed technology pate...   \n",
       "...                                                  ...   \n",
       "88771  “ 말씀 드렸다시피 긴축예산이기 때문에, 저희는 1달러짜리 메뉴 중에서 고르고 있습...   \n",
       "84673  “ 그가 감옥에 가거나 안 가는 것은 감정적인 만족도와 큰 연관이 있겠지만, 우리는...   \n",
       "84679     hanging by the thumbs 양 엄지손가락을 묶어 메다는 처벌 또는 고문   \n",
       "79668            #45236가 아는 한 북한은 중국측에 그런 정보를 전달하지 않았다.?   \n",
       "79672  US asks S. Korea to exercise over influence N....   \n",
       "\n",
       "                                                     eng  \n",
       "84969  \"\" Aso was responding to a question posed by a...  \n",
       "84974  \"\" Aso was responding to a question posed by a...  \n",
       "90693  \"\" That's a reference to Arizona Republican Se...  \n",
       "90688  \"\" That's a reference to Arizona Republican Se...  \n",
       "84694  \"\" The six-party talks involving North and Sou...  \n",
       "...                                                  ...  \n",
       "88771  ”“ Tight budget, like I'm saying, we're pickin...  \n",
       "84673  ”“ Whether he goes to jail or not may have a l...  \n",
       "84679  ”“ Whether he goes to jail or not may have a l...  \n",
       "79668  ””To our knowledge, North Korea has not given ...  \n",
       "79672  ””To our knowledge, North Korea has not given ...  \n",
       "\n",
       "[5175 rows x 2 columns]"
      ]
     },
     "execution_count": 17,
     "metadata": {},
     "output_type": "execute_result"
    }
   ],
   "source": [
    "df[df.duplicated(\"eng\", keep=False)].sort_values(by=\"eng\")"
   ]
  },
  {
   "cell_type": "markdown",
   "id": "b6be0b7c",
   "metadata": {},
   "source": [
    "영어가 중복인 데이터도 이상함 -> 모두 삭제"
   ]
  },
  {
   "cell_type": "code",
   "execution_count": 18,
   "id": "86a93db3",
   "metadata": {},
   "outputs": [],
   "source": [
    "df = df[~df.duplicated('eng', keep=False)]"
   ]
  },
  {
   "cell_type": "markdown",
   "id": "6734165e",
   "metadata": {},
   "source": [
    "#### 정리코드"
   ]
  },
  {
   "cell_type": "code",
   "execution_count": 19,
   "id": "fc434e55",
   "metadata": {},
   "outputs": [],
   "source": [
    "df = pd.DataFrame({\"kor\": kor_raw,\"eng\": eng_raw})\n",
    "df.drop_duplicates(inplace=True)\n",
    "df = df[~df.duplicated('kor', keep=False)]\n",
    "df = df[~df.duplicated('eng', keep=False)]"
   ]
  },
  {
   "cell_type": "code",
   "execution_count": 20,
   "id": "e1a7b243",
   "metadata": {},
   "outputs": [
    {
     "data": {
      "text/html": [
       "<div>\n",
       "<style scoped>\n",
       "    .dataframe tbody tr th:only-of-type {\n",
       "        vertical-align: middle;\n",
       "    }\n",
       "\n",
       "    .dataframe tbody tr th {\n",
       "        vertical-align: top;\n",
       "    }\n",
       "\n",
       "    .dataframe thead th {\n",
       "        text-align: right;\n",
       "    }\n",
       "</style>\n",
       "<table border=\"1\" class=\"dataframe\">\n",
       "  <thead>\n",
       "    <tr style=\"text-align: right;\">\n",
       "      <th></th>\n",
       "      <th>kor</th>\n",
       "      <th>eng</th>\n",
       "    </tr>\n",
       "  </thead>\n",
       "  <tbody>\n",
       "  </tbody>\n",
       "</table>\n",
       "</div>"
      ],
      "text/plain": [
       "Empty DataFrame\n",
       "Columns: [kor, eng]\n",
       "Index: []"
      ]
     },
     "metadata": {},
     "output_type": "display_data"
    },
    {
     "data": {
      "text/html": [
       "<div>\n",
       "<style scoped>\n",
       "    .dataframe tbody tr th:only-of-type {\n",
       "        vertical-align: middle;\n",
       "    }\n",
       "\n",
       "    .dataframe tbody tr th {\n",
       "        vertical-align: top;\n",
       "    }\n",
       "\n",
       "    .dataframe thead th {\n",
       "        text-align: right;\n",
       "    }\n",
       "</style>\n",
       "<table border=\"1\" class=\"dataframe\">\n",
       "  <thead>\n",
       "    <tr style=\"text-align: right;\">\n",
       "      <th></th>\n",
       "      <th>kor</th>\n",
       "      <th>eng</th>\n",
       "    </tr>\n",
       "  </thead>\n",
       "  <tbody>\n",
       "  </tbody>\n",
       "</table>\n",
       "</div>"
      ],
      "text/plain": [
       "Empty DataFrame\n",
       "Columns: [kor, eng]\n",
       "Index: []"
      ]
     },
     "metadata": {},
     "output_type": "display_data"
    }
   ],
   "source": [
    "# 확인\n",
    "display(df[df.duplicated(\"eng\", keep=False)].sort_values(by=\"eng\"))\n",
    "display(df[df.duplicated(\"kor\", keep=False)].sort_values(by=\"kor\"))"
   ]
  },
  {
   "cell_type": "code",
   "execution_count": 21,
   "id": "dbd04e2b",
   "metadata": {},
   "outputs": [
    {
     "data": {
      "text/plain": [
       "(71988, 2)"
      ]
     },
     "execution_count": 21,
     "metadata": {},
     "output_type": "execute_result"
    }
   ],
   "source": [
    "df.shape"
   ]
  },
  {
   "cell_type": "markdown",
   "id": "44403a20",
   "metadata": {},
   "source": [
    "### 정제"
   ]
  },
  {
   "cell_type": "code",
   "execution_count": 22,
   "id": "20a02666",
   "metadata": {},
   "outputs": [],
   "source": [
    "def preprocess_sentence(sentence, s_token=False, e_token=False):\n",
    "    sentence = sentence.lower().strip()\n",
    "    \n",
    "    sentence = re.sub(r'\"+','\"', sentence)  # 여러개의 쌍따옴표를 하나로 처리\n",
    "    \n",
    "    sentence = re.sub(r\"([?.!,\\\"])\", r\" \\1 \", sentence)  # .?,!\\\" 문자열에 양쪽 공백 추가; \\1는 다시 참조한다는 의미\n",
    "    sentence = re.sub(r'[\" \"]+', \" \", sentence)    # 여러 개의 연속된 공백 → 하나의 공백으로 변경\n",
    "    sentence = re.sub(r\"[^a-zA-Z가-힣0-9?.!,\\\"]+\", \" \", sentence)   # 영어/한글/숫자/?.!,\\\" 를 제외한 모든 문자 제거\n",
    "    \n",
    "    \n",
    "    sentence = sentence.strip()\n",
    "\n",
    "    if s_token:\n",
    "        sentence = '<start> ' + sentence\n",
    "\n",
    "    if e_token:\n",
    "        sentence += ' <end>'\n",
    "    \n",
    "    return sentence"
   ]
  },
  {
   "cell_type": "code",
   "execution_count": 23,
   "id": "f2e273c8",
   "metadata": {},
   "outputs": [],
   "source": [
    "cleaned_kor = []\n",
    "cleaned_eng = []\n",
    "\n",
    "cnt = 0\n",
    "for r in df.itertuples():\n",
    "    cleaned_kor.append(preprocess_sentence(r.kor))\n",
    "    cleaned_eng.append(preprocess_sentence(r.eng, s_token=True, e_token=True))"
   ]
  },
  {
   "cell_type": "code",
   "execution_count": 24,
   "id": "a76f4cdc",
   "metadata": {},
   "outputs": [
    {
     "name": "stdout",
     "output_type": "stream",
     "text": [
      "kor:  싣고 있는 기름이 모두 유출된다면 , 알라스카 프린스 윌리암 사운드에서 1989년에 발생했던 엑손 발데즈 기름 유출 사건의 규모보다 두 배 이상이 되는 사상 최대 규모의 기름 유출 사건 중의 하나가 될 것이라고 세계 야생 생물 기금이 경고하고 있다 .\n",
      "eng:  <start> the world wildlife fund warns that if all of the oil leaked , it would be one of the largest oil spills ever more than twice the size of the 1989 exxon valdez spill in alaska s prince william sound . <end>\n"
     ]
    }
   ],
   "source": [
    "print(\"kor: \",cleaned_kor[100])\n",
    "print(\"eng: \", cleaned_eng[100])"
   ]
  },
  {
   "cell_type": "markdown",
   "id": "bbf0fae7",
   "metadata": {},
   "source": [
    "토큰 길이가 40 이하인 데이터를 선별"
   ]
  },
  {
   "cell_type": "code",
   "execution_count": 25,
   "id": "018d1951",
   "metadata": {},
   "outputs": [
    {
     "name": "stdout",
     "output_type": "stream",
     "text": [
      "영어 토큰의 최소 길이 : 2\n",
      "영어 토큰의 최대 길이 : 101\n",
      "영어 토큰의 평균 길이 : 27.57348446963383\n"
     ]
    },
    {
     "data": {
      "image/png": "[encoded data removed]",
      "text/plain": [
       "<Figure size 432x288 with 2 Axes>"
      ]
     },
     "metadata": {
      "image/png": {
       "height": 281,
       "width": 424
      },
      "needs_background": "light"
     },
     "output_type": "display_data"
    }
   ],
   "source": [
    "eng_token_len = [len(s.split()) for s in cleaned_eng]\n",
    "\n",
    "print('영어 토큰의 최소 길이 : {}'.format(np.min(eng_token_len)))\n",
    "print('영어 토큰의 최대 길이 : {}'.format(np.max(eng_token_len)))\n",
    "print('영어 토큰의 평균 길이 : {}'.format(np.mean(eng_token_len)))\n",
    "\n",
    "plt.subplot(1,2,1)\n",
    "plt.boxplot(eng_token_len)\n",
    "plt.subplot(1,2,2)\n",
    "plt.hist(eng_token_len)\n",
    "plt.tight_layout()\n",
    "plt.show()"
   ]
  },
  {
   "cell_type": "code",
   "execution_count": 26,
   "id": "58088b74",
   "metadata": {},
   "outputs": [
    {
     "name": "stdout",
     "output_type": "stream",
     "text": [
      "한국어 토큰의 최소 길이 : 0\n",
      "한국어 토큰의 최대 길이 : 127\n",
      "한국어 토큰의 평균 길이 : 30.398580318942045\n"
     ]
    },
    {
     "data": {
      "image/png": "[encoded data removed]",
      "text/plain": [
       "<Figure size 432x288 with 2 Axes>"
      ]
     },
     "metadata": {
      "image/png": {
       "height": 281,
       "width": 424
      },
      "needs_background": "light"
     },
     "output_type": "display_data"
    }
   ],
   "source": [
    "from konlpy.tag import Mecab\n",
    "kor_tokenizer = Mecab()\n",
    "\n",
    "kor_token_len = [ len(kor_tokenizer.morphs(s)) for s in cleaned_kor]\n",
    "\n",
    "print('한국어 토큰의 최소 길이 : {}'.format(np.min(kor_token_len)))\n",
    "print('한국어 토큰의 최대 길이 : {}'.format(np.max(kor_token_len)))\n",
    "print('한국어 토큰의 평균 길이 : {}'.format(np.mean(kor_token_len)))\n",
    "\n",
    "plt.subplot(1,2,1)\n",
    "plt.boxplot(kor_token_len)\n",
    "plt.subplot(1,2,2)\n",
    "plt.hist(kor_token_len)\n",
    "plt.tight_layout()\n",
    "plt.show()"
   ]
  },
  {
   "cell_type": "code",
   "execution_count": 27,
   "id": "3a918601",
   "metadata": {},
   "outputs": [],
   "source": [
    "kor_corpus = []\n",
    "eng_corpus = []\n",
    "\n",
    "for kor, eng in zip(cleaned_kor, cleaned_eng):\n",
    "    len_eng = len(eng.split())\n",
    "    len_kor = len(kor_tokenizer.morphs(kor))\n",
    "    \n",
    "    if len_eng <= 40 and len_kor <= 40:\n",
    "        kor_corpus.append(kor)\n",
    "        eng_corpus.append(eng)"
   ]
  },
  {
   "cell_type": "code",
   "execution_count": 28,
   "id": "211568cd",
   "metadata": {},
   "outputs": [
    {
     "name": "stdout",
     "output_type": "stream",
     "text": [
      "한국어 토큰의 최대 길이 : 40\n",
      "영어 토큰의 최대 길이 : 40\n"
     ]
    }
   ],
   "source": [
    "# 확인\n",
    "kor_token_len = [ len(kor_tokenizer.morphs(s)) for s in kor_corpus]\n",
    "print('한국어 토큰의 최대 길이 : {}'.format(np.max(kor_token_len)))\n",
    "\n",
    "eng_token_len = [len(s.split()) for s in eng_corpus]\n",
    "print('영어 토큰의 최대 길이 : {}'.format(np.max(eng_token_len)))"
   ]
  },
  {
   "cell_type": "code",
   "execution_count": 29,
   "id": "3542e7f0",
   "metadata": {},
   "outputs": [
    {
     "data": {
      "text/plain": [
       "(55121, 55121)"
      ]
     },
     "execution_count": 29,
     "metadata": {},
     "output_type": "execute_result"
    }
   ],
   "source": [
    "len(kor_corpus), len(eng_corpus)"
   ]
  },
  {
   "cell_type": "markdown",
   "id": "1d8b60e8",
   "metadata": {},
   "source": [
    "## 토큰화"
   ]
  },
  {
   "cell_type": "code",
   "execution_count": 30,
   "id": "dd5f4a2e",
   "metadata": {},
   "outputs": [],
   "source": [
    "def eng_tokenize(eng_corpus, num_words=None):\n",
    "    tokenizer = tf.keras.preprocessing.text.Tokenizer(filters='', num_words=num_words)  # 공백으로 split이 내부 동작\n",
    "    tokenizer.fit_on_texts(eng_corpus)\n",
    "\n",
    "    tensor = tokenizer.texts_to_sequences(eng_corpus)\n",
    "\n",
    "    tensor = tf.keras.preprocessing.sequence.pad_sequences(tensor, padding='post')\n",
    "\n",
    "    return tensor, tokenizer"
   ]
  },
  {
   "cell_type": "code",
   "execution_count": 31,
   "id": "4693a325",
   "metadata": {},
   "outputs": [],
   "source": [
    "def kor_tokenize(kor_corpus, num_words=None):\n",
    "    mecab = Mecab()\n",
    "    \n",
    "    mecab_corpus = [mecab.morphs(s) for s in kor_corpus]\n",
    "    \n",
    "    tokenizer = tf.keras.preprocessing.text.Tokenizer(filters='', num_words=num_words)\n",
    "    tokenizer.fit_on_texts(mecab_corpus)\n",
    "\n",
    "    tensor = tokenizer.texts_to_sequences(mecab_corpus)\n",
    "\n",
    "    tensor = tf.keras.preprocessing.sequence.pad_sequences(tensor, padding='post')\n",
    "    \n",
    "    return tensor, tokenizer\n",
    "    "
   ]
  },
  {
   "cell_type": "code",
   "execution_count": 32,
   "id": "cfdc9fce",
   "metadata": {},
   "outputs": [],
   "source": [
    "enc_tensor_none, enc_tokenizer_none  = kor_tokenize(kor_corpus)\n",
    "dec_tensor_none, dec_tokenizer_none = eng_tokenize(eng_corpus)"
   ]
  },
  {
   "cell_type": "code",
   "execution_count": 33,
   "id": "0c3d168a",
   "metadata": {},
   "outputs": [
    {
     "name": "stdout",
     "output_type": "stream",
     "text": [
      "42116\n",
      "38700\n"
     ]
    }
   ],
   "source": [
    "print(len(enc_tokenizer_none.index_word))\n",
    "print(len(dec_tokenizer_none.index_word))"
   ]
  },
  {
   "cell_type": "code",
   "execution_count": 34,
   "id": "151e0f5b",
   "metadata": {},
   "outputs": [],
   "source": [
    "enc_tensor_10000, enc_tokenizer_10000  = kor_tokenize(kor_corpus, 10000)\n",
    "dec_tensor_10000, dec_tokenizer_10000 = eng_tokenize(eng_corpus, 10000)"
   ]
  },
  {
   "cell_type": "code",
   "execution_count": 35,
   "id": "4e8556ae",
   "metadata": {},
   "outputs": [],
   "source": [
    "enc_tensor_20000, enc_tokenizer_20000  = kor_tokenize(kor_corpus, 20000)\n",
    "dec_tensor_20000, dec_tokenizer_20000 = eng_tokenize(eng_corpus, 20000)"
   ]
  },
  {
   "cell_type": "code",
   "execution_count": 36,
   "id": "42c459ba",
   "metadata": {},
   "outputs": [],
   "source": [
    "enc_tensor_30000, enc_tokenizer_30000  = kor_tokenize(kor_corpus, 30000)\n",
    "dec_tensor_30000, dec_tokenizer_30000 = eng_tokenize(eng_corpus, 30000)"
   ]
  },
  {
   "cell_type": "markdown",
   "id": "bf0d884c",
   "metadata": {},
   "source": [
    "## 모델 설계"
   ]
  },
  {
   "cell_type": "code",
   "execution_count": 37,
   "id": "18c6377e",
   "metadata": {},
   "outputs": [],
   "source": [
    "class BahdanauAttention(tf.keras.layers.Layer):\n",
    "    def __init__(self, units):\n",
    "        super(BahdanauAttention, self).__init__()\n",
    "        self.w_dec = tf.keras.layers.Dense(units)\n",
    "        self.w_enc = tf.keras.layers.Dense(units)\n",
    "        self.w_com = tf.keras.layers.Dense(1)\n",
    "    \n",
    "    def call(self, h_enc, h_dec):\n",
    "        # h_enc shape: [batch x length x units]\n",
    "        # h_dec shape: [batch x units]\n",
    "\n",
    "        h_enc = self.w_enc(h_enc)\n",
    "        h_dec = tf.expand_dims(h_dec, 1)\n",
    "        h_dec = self.w_dec(h_dec)\n",
    "\n",
    "        score = self.w_com(tf.nn.tanh(h_dec + h_enc))\n",
    "        \n",
    "        attn = tf.nn.softmax(score, axis=1)\n",
    "\n",
    "        context_vec = attn * h_enc\n",
    "        context_vec = tf.reduce_sum(context_vec, axis=1)\n",
    "\n",
    "        return context_vec, attn\n"
   ]
  },
  {
   "cell_type": "code",
   "execution_count": 38,
   "id": "22c40265",
   "metadata": {},
   "outputs": [],
   "source": [
    "class Encoder(tf.keras.Model):\n",
    "    def __init__(self, vocab_size, embedding_dim, enc_units):\n",
    "        super(Encoder, self).__init__()\n",
    "        # TODO: Awesome Encoder Modules\n",
    "        self.enc_units = enc_units\n",
    "\n",
    "        # Embedding Layer\n",
    "        self.embedding = tf.keras.layers.Embedding(vocab_size,embedding_dim)\n",
    "        # GRU Layer\n",
    "        self.gru = tf.keras.layers.GRU(enc_units, return_sequences=True, return_state=True)\n",
    "\n",
    "\n",
    "    def call(self, x):\n",
    "        # TODO: Awesome Process\n",
    "        x = self.embedding(x)\n",
    "        whole_sequence_output, final_state = self.gru(x)\n",
    "        return whole_sequence_output, final_state"
   ]
  },
  {
   "cell_type": "code",
   "execution_count": 39,
   "id": "83c32aaf",
   "metadata": {},
   "outputs": [],
   "source": [
    "class Decoder(tf.keras.Model):\n",
    "    def __init__(self, vocab_size, embedding_dim, dec_units):\n",
    "        super(Decoder, self).__init__()\n",
    "        self.dec_units = dec_units\n",
    "        self.embedding = tf.keras.layers.Embedding(vocab_size, embedding_dim)\n",
    "        self.gru = tf.keras.layers.GRU(self.dec_units,\n",
    "                                       return_sequences=True,\n",
    "                                       return_state=True)\n",
    "        self.fc = tf.keras.layers.Dense(vocab_size)\n",
    "        \n",
    "        self.attention = BahdanauAttention(self.dec_units)\n",
    "\n",
    "    def call(self, x, h_dec, enc_out):\n",
    "        context_vec, attn = self.attention(enc_out, h_dec)\n",
    "\n",
    "        out = self.embedding(x)\n",
    "        out = tf.concat([tf.expand_dims(context_vec, 1), out], axis=-1)\n",
    "        \n",
    "        out, h_dec = self.gru(out, initial_state= h_dec)\n",
    "        out = tf.reshape(out, (-1, out.shape[2]))\n",
    "        out = self.fc(out)\n",
    "\n",
    "        return out, h_dec, attn\n"
   ]
  },
  {
   "cell_type": "markdown",
   "id": "50676741",
   "metadata": {},
   "source": [
    "## 훈련"
   ]
  },
  {
   "cell_type": "code",
   "execution_count": 40,
   "id": "72af8447",
   "metadata": {},
   "outputs": [],
   "source": [
    "optimizer = tf.keras.optimizers.Adam()\n",
    "loss_object = tf.keras.losses.SparseCategoricalCrossentropy(\n",
    "    from_logits=True, reduction='none')     \n",
    "\n",
    "def loss_function(real, pred):\n",
    "    # tf.math.equal -> element-wise 비교; True, False 리턴;\n",
    "    # logic_not -> 논리 not 연산;\n",
    "    # padding이 아닌 실제 토큰 위치는 True, PAD는 False\n",
    "    mask = tf.math.logical_not(tf.math.equal(real, 0))\n",
    "    # loss_object는 SparseCategoricalCrossentropy의 인스턴스 (글로벌로 정의된 것)\n",
    "    loss = loss_object(real, pred)\n",
    "    \n",
    "    # mask는 True, False로 되어있고, loss는 실수형이므로 타입 변경\n",
    "    mask = tf.cast(mask, dtype=loss.dtype)\n",
    "    # loss 텐서에서 padding 위치는 0으로, 나머지는 그대로 유지 -> PAD 토큰의 손실은 0이 되며 무시됨\n",
    "    loss *= mask\n",
    "    \n",
    "    # tf.reduce_mean(input_tensor, axis=None, keepdims=False)\n",
    "    return tf.reduce_mean(loss) # 마스크된 loss를 평균 내어 최종 loss 계산 -> 유효한 토큰들만 평균 (PAD 제외)\n"
   ]
  },
  {
   "cell_type": "code",
   "execution_count": 62,
   "id": "79ef58ef",
   "metadata": {},
   "outputs": [],
   "source": [
    "@tf.function\n",
    "def train_step(src, tgt, encoder, decoder, optimizer, dec_tok):\n",
    "    bsz = src.shape[0]\n",
    "    loss = 0\n",
    "\n",
    "    with tf.GradientTape() as tape:\n",
    "        enc_out, h_dec = encoder(src)      # encoder의 출력은 context vector, final_state를 출력으로 받음\n",
    "        # h_dec = enc_out[:, -1]      # encoder의 마지막 hidden state를 decoder의 초기 hidden state로 사용\n",
    "        \n",
    "        # 디코더는 한 time step씩 입력을 받으므로, shape은 (batch_size, 1) 여야 함\n",
    "        dec_src = tf.expand_dims([dec_tok.word_index['<start>']] * bsz, 1)\n",
    "\n",
    "        # <start> 토큰을 제외한 나머지 단어들에 대해 반복; 예측은 두 번째 토큰부터 비교하기 때문\n",
    "        for t in range(1, tgt.shape[1]):\n",
    "            # pred: 다음 토큰 예측; h_dec: update된 hidden state\n",
    "            pred, h_dec, _ = decoder(dec_src, h_dec, enc_out)\n",
    "            \n",
    "            # tgt[:, t]는 현재 time step의 정답 토큰; pred는 예측한 토큰; loss: 전체 시퀀스 손실 누적\n",
    "            loss += loss_function(tgt[:, t], pred)\n",
    "            # 다음 스텝의 디코더 입력을 **예측값(pred)**이 아닌, 실제 정답(tgt)을 입력으로 사용; 교사강요(teacher forcing)\n",
    "            # 교사강요는 디코더가 예측한 값이 아닌, 실제 정답을 다음 time step의 입력으로 사용하여 학습하는 기법\n",
    "            dec_src = tf.expand_dims(tgt[:, t], 1)\n",
    "    \n",
    "    # 시퀀스 loss 평균\n",
    "    batch_loss = (loss / int(tgt.shape[1]))\n",
    "\n",
    "    variables = encoder.trainable_variables + decoder.trainable_variables\n",
    "    gradients = tape.gradient(loss, variables)\n",
    "    optimizer.apply_gradients(zip(gradients, variables))\n",
    "    \n",
    "    return batch_loss\n"
   ]
  },
  {
   "cell_type": "code",
   "execution_count": 43,
   "id": "e1223eda",
   "metadata": {},
   "outputs": [],
   "source": [
    "def train_model(enc_tensor, dec_tensor,\n",
    "                batch_size, src_vocab_size,\n",
    "                tgt_vocab_size,units,\n",
    "                embedding_dim, optimizer, \n",
    "                dec_tokenizer,  epochs,\n",
    "               encoder, decoder):\n",
    "    \n",
    "\n",
    "    \n",
    "    train_losses = []\n",
    "    \n",
    "    for epoch in range(epochs):\n",
    "        total_loss = 0\n",
    "        \n",
    "        idx_list = list(range(0, enc_tensor.shape[0], batch_size))\n",
    "        random.shuffle(idx_list)\n",
    "        t = tqdm(idx_list)\n",
    "        \n",
    "        for (batch, idx) in enumerate(t):\n",
    "            batch_loss = train_step(enc_tensor[idx:idx+batch_size],\n",
    "                                dec_tensor[idx:idx+batch_size],\n",
    "                                encoder,\n",
    "                                decoder,\n",
    "                                optimizer,\n",
    "                                dec_tokenizer)\n",
    "            \n",
    "            total_loss += batch_loss\n",
    "            \n",
    "            t.set_description_str('Epoch %2d' % (epoch + 1))    # tqdm\n",
    "            t.set_postfix_str('Loss %.4f' % (total_loss.numpy() / (batch + 1)))    # tqdm\n",
    "        \n",
    "        avg_loss = total_loss / (batch + 1)\n",
    "        train_losses.append(avg_loss)\n",
    "        \n",
    "    \n",
    "    plt.plot(train_losses, label='Train Loss')\n",
    "    plt.xlabel('Epoch')\n",
    "    plt.ylabel('Loss')\n",
    "    plt.title('Training Loss')\n",
    "    plt.legend()\n",
    "    plt.grid(True)\n",
    "    plt.show()\n",
    "    \n",
    "    return encoder, decoder\n",
    "    \n",
    "    "
   ]
  },
  {
   "cell_type": "code",
   "execution_count": 53,
   "id": "317e56c1",
   "metadata": {},
   "outputs": [
    {
     "name": "stderr",
     "output_type": "stream",
     "text": [
      "Epoch  1: 100%|██████████| 862/862 [03:13<00:00,  4.45it/s, Loss 3.6544]\n",
      "Epoch  2: 100%|██████████| 862/862 [02:11<00:00,  6.58it/s, Loss 3.1025]\n",
      "Epoch  3: 100%|██████████| 862/862 [02:11<00:00,  6.54it/s, Loss 2.5945]\n",
      "Epoch  4: 100%|██████████| 862/862 [02:11<00:00,  6.55it/s, Loss 2.3584]\n",
      "Epoch  5: 100%|██████████| 862/862 [02:11<00:00,  6.56it/s, Loss 2.1808]\n",
      "Epoch  6: 100%|██████████| 862/862 [02:11<00:00,  6.55it/s, Loss 2.0312]\n",
      "Epoch  7: 100%|██████████| 862/862 [02:11<00:00,  6.55it/s, Loss 1.8988]\n",
      "Epoch  8: 100%|██████████| 862/862 [02:11<00:00,  6.55it/s, Loss 1.7785]\n",
      "Epoch  9: 100%|██████████| 862/862 [02:11<00:00,  6.55it/s, Loss 1.6689]\n",
      "Epoch 10: 100%|██████████| 862/862 [02:11<00:00,  6.53it/s, Loss 1.5683]\n",
      "Epoch 11: 100%|██████████| 862/862 [02:11<00:00,  6.55it/s, Loss 1.4793]\n",
      "Epoch 12: 100%|██████████| 862/862 [02:11<00:00,  6.54it/s, Loss 1.3985]\n",
      "Epoch 13: 100%|██████████| 862/862 [02:11<00:00,  6.54it/s, Loss 1.3251]\n",
      "Epoch 14: 100%|██████████| 862/862 [02:11<00:00,  6.55it/s, Loss 1.2589]\n",
      "Epoch 15: 100%|██████████| 862/862 [02:11<00:00,  6.55it/s, Loss 1.1994]\n",
      "Epoch 16: 100%|██████████| 862/862 [02:11<00:00,  6.55it/s, Loss 1.1439]\n",
      "Epoch 17: 100%|██████████| 862/862 [02:11<00:00,  6.55it/s, Loss 1.0946]\n",
      "Epoch 18: 100%|██████████| 862/862 [02:11<00:00,  6.55it/s, Loss 1.0487]\n",
      "Epoch 19: 100%|██████████| 862/862 [02:11<00:00,  6.55it/s, Loss 1.0070]\n",
      "Epoch 20: 100%|██████████| 862/862 [02:11<00:00,  6.55it/s, Loss 0.9679]\n"
     ]
    },
    {
     "data": {
      "image/png": "[encoded data removed]",
      "text/plain": [
       "<Figure size 432x288 with 1 Axes>"
      ]
     },
     "metadata": {
      "image/png": {
       "height": 280,
       "width": 385
      },
      "needs_background": "light"
     },
     "output_type": "display_data"
    }
   ],
   "source": [
    "optimizer = tf.keras.optimizers.Adam()\n",
    "loss_object = tf.keras.losses.SparseCategoricalCrossentropy(\n",
    "    from_logits=True, reduction='none') \n",
    "\n",
    "BATCH_SIZE     = 64\n",
    "SRC_VOCAB_SIZE = 10000\n",
    "TGT_VOCAB_SIZE = 10000\n",
    "\n",
    "units         = 512\n",
    "embedding_dim = 128\n",
    "\n",
    "encoder = Encoder(SRC_VOCAB_SIZE, embedding_dim, units)\n",
    "decoder = Decoder(TGT_VOCAB_SIZE, embedding_dim, units)\n",
    "    \n",
    "encoder, decoder = train_model(enc_tensor=enc_tensor_10000,\n",
    "            dec_tensor=dec_tensor_10000,\n",
    "            batch_size=BATCH_SIZE,\n",
    "            src_vocab_size=SRC_VOCAB_SIZE,\n",
    "            tgt_vocab_size=TGT_VOCAB_SIZE,\n",
    "            units=units,\n",
    "            embedding_dim=embedding_dim,\n",
    "            optimizer=optimizer,\n",
    "            dec_tokenizer=dec_tokenizer_10000,\n",
    "            epochs=20,\n",
    "            encoder=encoder,\n",
    "            decoder=decoder\n",
    "           )"
   ]
  },
  {
   "cell_type": "code",
   "execution_count": 44,
   "id": "08339d42",
   "metadata": {},
   "outputs": [],
   "source": [
    "import numpy as np\n",
    "import matplotlib.pyplot as plt\n",
    "import matplotlib.ticker as ticker\n",
    "import tensorflow as tf\n",
    "\n",
    "def evaluate(sentence, encoder, decoder, \n",
    "             enc_tokenizer, dec_tokenizer, \n",
    "             max_enc_len, max_dec_len):\n",
    "    \n",
    "    attention = np.zeros((max_dec_len, max_enc_len))\n",
    "    \n",
    "    # 전처리 및 토큰화\n",
    "    sentence = preprocess_sentence(sentence)\n",
    "    inputs = enc_tokenizer.texts_to_sequences([sentence.split()])\n",
    "    inputs = tf.keras.preprocessing.sequence.pad_sequences(inputs,\n",
    "                                                           maxlen=max_enc_len,\n",
    "                                                           padding='post')\n",
    "\n",
    "    result = ''\n",
    "    enc_out, dec_hidden = encoder(inputs)\n",
    "\n",
    "    \n",
    "#     dec_hidden = enc_out[:, -1]\n",
    "    dec_input = tf.expand_dims([dec_tokenizer.word_index['<start>']], 0)\n",
    "\n",
    "    for t in range(max_dec_len):\n",
    "        predictions, dec_hidden, attention_weights = decoder(dec_input, dec_hidden, enc_out)\n",
    "\n",
    "        attention_weights = tf.reshape(attention_weights, (-1, ))\n",
    "        attention[t] = attention_weights.numpy()\n",
    "\n",
    "        predicted_id = tf.argmax(predictions[0]).numpy()\n",
    "        predicted_word = dec_tokenizer.index_word.get(predicted_id, '<unk>')\n",
    "        result += predicted_word + ' '\n",
    "\n",
    "        if predicted_word == '<end>':\n",
    "            return result.strip(), sentence, attention\n",
    "\n",
    "        dec_input = tf.expand_dims([predicted_id], 0)\n",
    "\n",
    "    return result.strip(), sentence, attention\n",
    "\n",
    "\n",
    "def plot_attention(attention, sentence, predicted_sentence):\n",
    "    fig = plt.figure(figsize=(10,10))\n",
    "    ax = fig.add_subplot(1, 1, 1)\n",
    "    ax.matshow(attention, cmap='viridis')\n",
    "\n",
    "    fontdict = {'fontsize': 14}\n",
    "\n",
    "    ax.set_xticklabels([''] + sentence, fontdict=fontdict, rotation=90)\n",
    "    ax.set_yticklabels([''] + predicted_sentence, fontdict=fontdict)\n",
    "\n",
    "    ax.xaxis.set_major_locator(ticker.MultipleLocator(1))\n",
    "    ax.yaxis.set_major_locator(ticker.MultipleLocator(1))\n",
    "\n",
    "    plt.show()\n",
    "\n",
    "\n",
    "def translate(sentence, encoder, decoder, \n",
    "              enc_tokenizer, dec_tokenizer, \n",
    "              max_enc_len, max_dec_len):\n",
    "    \n",
    "    result, processed_sentence, attention = evaluate(\n",
    "        sentence, encoder, decoder,\n",
    "        enc_tokenizer, dec_tokenizer,\n",
    "        max_enc_len, max_dec_len\n",
    "    )\n",
    "\n",
    "    print('Input: %s' % processed_sentence)\n",
    "    print('Predicted translation: {}'.format(result))\n",
    "    \n",
    "    attention = attention[:len(result.split()), :len(processed_sentence.split())]\n",
    "    plot_attention(attention, processed_sentence.split(), result.split())\n"
   ]
  },
  {
   "cell_type": "markdown",
   "id": "056e8a0f",
   "metadata": {},
   "source": [
    "#### tokenizer 10000, embedding 10000"
   ]
  },
  {
   "cell_type": "code",
   "execution_count": 55,
   "id": "b7b266b5",
   "metadata": {},
   "outputs": [
    {
     "name": "stdout",
     "output_type": "stream",
     "text": [
      "Input: 커피는 필요 없다 .\n",
      "Predicted translation: i wasn t obvious . <end>\n"
     ]
    },
    {
     "name": "stderr",
     "output_type": "stream",
     "text": [
      "/tmp/ipykernel_263/2254222930.py:51: UserWarning: FixedFormatter should only be used together with FixedLocator\n",
      "  ax.set_xticklabels([''] + sentence, fontdict=fontdict, rotation=90)\n",
      "/tmp/ipykernel_263/2254222930.py:52: UserWarning: FixedFormatter should only be used together with FixedLocator\n",
      "  ax.set_yticklabels([''] + predicted_sentence, fontdict=fontdict)\n"
     ]
    },
    {
     "data": {
      "image/png": "[encoded data removed]",
      "text/plain": [
       "<Figure size 720x720 with 1 Axes>"
      ]
     },
     "metadata": {
      "image/png": {
       "height": 606,
       "width": 434
      },
      "needs_background": "light"
     },
     "output_type": "display_data"
    }
   ],
   "source": [
    "translate(\n",
    "    \"커피는 필요 없다.\",\n",
    "    encoder,\n",
    "    decoder,\n",
    "    enc_tokenizer=enc_tokenizer_10000,\n",
    "    dec_tokenizer=dec_tokenizer_10000,\n",
    "    max_enc_len=enc_tensor_10000.shape[1],\n",
    "    max_dec_len=dec_tensor_10000.shape[1]\n",
    ")\n"
   ]
  },
  {
   "cell_type": "markdown",
   "id": "f670da84",
   "metadata": {},
   "source": [
    "필요 없다 -> wasn't 으로 attention을 진행한 부분 어느정도 합리적으로 보이나, 적절한 단어로 번역했다고는 볼 수 없다.  \n",
    "vocab_size=10000은 표현을 충분히 하기에는 부족한 size 라고 판단할 수 있다.  "
   ]
  },
  {
   "cell_type": "code",
   "execution_count": 57,
   "id": "8ffbb058",
   "metadata": {},
   "outputs": [
    {
     "name": "stdout",
     "output_type": "stream",
     "text": [
      "Input: 일곱 명의 사망자가 발생했다 .\n",
      "Predicted translation: seven seven seven seven seven seven seven <end>\n"
     ]
    },
    {
     "name": "stderr",
     "output_type": "stream",
     "text": [
      "/tmp/ipykernel_263/2254222930.py:51: UserWarning: FixedFormatter should only be used together with FixedLocator\n",
      "  ax.set_xticklabels([''] + sentence, fontdict=fontdict, rotation=90)\n",
      "/tmp/ipykernel_263/2254222930.py:52: UserWarning: FixedFormatter should only be used together with FixedLocator\n",
      "  ax.set_yticklabels([''] + predicted_sentence, fontdict=fontdict)\n"
     ]
    },
    {
     "data": {
      "image/png": "[encoded data removed]",
      "text/plain": [
       "<Figure size 720x720 with 1 Axes>"
      ]
     },
     "metadata": {
      "image/png": {
       "height": 618,
       "width": 398
      },
      "needs_background": "light"
     },
     "output_type": "display_data"
    }
   ],
   "source": [
    "translate(\n",
    "    \"일곱 명의 사망자가 발생했다.\",\n",
    "    encoder,\n",
    "    decoder,\n",
    "    enc_tokenizer=enc_tokenizer_10000,\n",
    "    dec_tokenizer=dec_tokenizer_10000,\n",
    "    max_enc_len=enc_tensor_10000.shape[1],\n",
    "    max_dec_len=dec_tensor_10000.shape[1]\n",
    ")\n"
   ]
  },
  {
   "cell_type": "markdown",
   "id": "f3027459",
   "metadata": {},
   "source": [
    "vocab size를 10000으로 해서 그런지, 이 번역은 특히 매칭되는 단어를 찾지 못한 것처럼 보인다."
   ]
  },
  {
   "cell_type": "code",
   "execution_count": 58,
   "id": "f2b8775d",
   "metadata": {},
   "outputs": [
    {
     "name": "stdout",
     "output_type": "stream",
     "text": [
      "Input: 시민들은 도시 속에 산다 .\n",
      "Predicted translation: the city is . <end>\n"
     ]
    },
    {
     "name": "stderr",
     "output_type": "stream",
     "text": [
      "/tmp/ipykernel_263/2254222930.py:51: UserWarning: FixedFormatter should only be used together with FixedLocator\n",
      "  ax.set_xticklabels([''] + sentence, fontdict=fontdict, rotation=90)\n",
      "/tmp/ipykernel_263/2254222930.py:52: UserWarning: FixedFormatter should only be used together with FixedLocator\n",
      "  ax.set_yticklabels([''] + predicted_sentence, fontdict=fontdict)\n"
     ]
    },
    {
     "data": {
      "image/png": "[encoded data removed]",
      "text/plain": [
       "<Figure size 720x720 with 1 Axes>"
      ]
     },
     "metadata": {
      "image/png": {
       "height": 618,
       "width": 601
      },
      "needs_background": "light"
     },
     "output_type": "display_data"
    }
   ],
   "source": [
    "translate(\n",
    "    \"시민들은 도시 속에 산다.\",\n",
    "    encoder,\n",
    "    decoder,\n",
    "    enc_tokenizer=enc_tokenizer_10000,\n",
    "    dec_tokenizer=dec_tokenizer_10000,\n",
    "    max_enc_len=enc_tensor_10000.shape[1],\n",
    "    max_dec_len=dec_tensor_10000.shape[1]\n",
    ")\n"
   ]
  },
  {
   "cell_type": "code",
   "execution_count": 60,
   "id": "b5747192",
   "metadata": {},
   "outputs": [
    {
     "name": "stdout",
     "output_type": "stream",
     "text": [
      "Input: 오바마는 대통령이다 .\n",
      "Predicted translation: . <end>\n"
     ]
    },
    {
     "name": "stderr",
     "output_type": "stream",
     "text": [
      "/tmp/ipykernel_263/2254222930.py:51: UserWarning: FixedFormatter should only be used together with FixedLocator\n",
      "  ax.set_xticklabels([''] + sentence, fontdict=fontdict, rotation=90)\n",
      "/tmp/ipykernel_263/2254222930.py:52: UserWarning: FixedFormatter should only be used together with FixedLocator\n",
      "  ax.set_yticklabels([''] + predicted_sentence, fontdict=fontdict)\n"
     ]
    },
    {
     "data": {
      "image/png": "[encoded data removed]",
      "text/plain": [
       "<Figure size 720x720 with 1 Axes>"
      ]
     },
     "metadata": {
      "image/png": {
       "height": 459,
       "width": 616
      },
      "needs_background": "light"
     },
     "output_type": "display_data"
    }
   ],
   "source": [
    "translate(\n",
    "    \"오바마는 대통령이다.\",\n",
    "    encoder,\n",
    "    decoder,\n",
    "    enc_tokenizer=enc_tokenizer_10000,\n",
    "    dec_tokenizer=dec_tokenizer_10000,\n",
    "    max_enc_len=enc_tensor_10000.shape[1],\n",
    "    max_dec_len=dec_tensor_10000.shape[1]\n",
    ")\n"
   ]
  },
  {
   "cell_type": "markdown",
   "id": "aa16e9bb",
   "metadata": {},
   "source": [
    "고유 명사를 제대로 번역하지 못한 것을 확인할 수 있다. "
   ]
  },
  {
   "cell_type": "markdown",
   "id": "9cc33964",
   "metadata": {},
   "source": [
    "### 단어사전: none, 임베딩 vocab_size=30000"
   ]
  },
  {
   "cell_type": "code",
   "execution_count": 63,
   "id": "8a85598f",
   "metadata": {},
   "outputs": [
    {
     "name": "stderr",
     "output_type": "stream",
     "text": [
      "Epoch  1: 100%|██████████| 862/862 [04:02<00:00,  3.56it/s, Loss nan] \n",
      "Epoch  2: 100%|██████████| 862/862 [02:56<00:00,  4.89it/s, Loss nan]\n",
      "Epoch  3: 100%|██████████| 862/862 [02:55<00:00,  4.90it/s, Loss nan]\n",
      "Epoch  4: 100%|██████████| 862/862 [02:55<00:00,  4.90it/s, Loss nan]\n",
      "Epoch  5: 100%|██████████| 862/862 [02:55<00:00,  4.90it/s, Loss nan]\n",
      "Epoch  6: 100%|██████████| 862/862 [02:56<00:00,  4.90it/s, Loss nan]\n",
      "Epoch  7: 100%|██████████| 862/862 [02:56<00:00,  4.90it/s, Loss nan]\n",
      "Epoch  8: 100%|██████████| 862/862 [02:56<00:00,  4.90it/s, Loss nan]\n",
      "Epoch  9: 100%|██████████| 862/862 [02:56<00:00,  4.90it/s, Loss nan]\n",
      "Epoch 10: 100%|██████████| 862/862 [02:56<00:00,  4.89it/s, Loss nan]\n",
      "Epoch 11: 100%|██████████| 862/862 [02:56<00:00,  4.89it/s, Loss nan]\n",
      "Epoch 12: 100%|██████████| 862/862 [02:56<00:00,  4.89it/s, Loss nan]\n",
      "Epoch 13: 100%|██████████| 862/862 [02:56<00:00,  4.89it/s, Loss nan]\n",
      "Epoch 14: 100%|██████████| 862/862 [02:56<00:00,  4.89it/s, Loss nan]\n",
      "Epoch 15: 100%|██████████| 862/862 [02:56<00:00,  4.90it/s, Loss nan]\n",
      "Epoch 16: 100%|██████████| 862/862 [02:56<00:00,  4.90it/s, Loss nan]\n",
      "Epoch 17: 100%|██████████| 862/862 [02:55<00:00,  4.90it/s, Loss nan]\n",
      "Epoch 18: 100%|██████████| 862/862 [02:55<00:00,  4.90it/s, Loss nan]\n",
      "Epoch 19: 100%|██████████| 862/862 [02:55<00:00,  4.90it/s, Loss nan]\n",
      "Epoch 20: 100%|██████████| 862/862 [02:56<00:00,  4.90it/s, Loss nan]\n",
      "/opt/conda/lib/python3.9/site-packages/matplotlib/backends/backend_agg.py:240: RuntimeWarning: Glyph 8722 missing from current font.\n",
      "  font.set_text(s, 0.0, flags=flags)\n",
      "/opt/conda/lib/python3.9/site-packages/matplotlib/backends/backend_agg.py:203: RuntimeWarning: Glyph 8722 missing from current font.\n",
      "  font.set_text(s, 0, flags=flags)\n"
     ]
    },
    {
     "data": {
      "image/png": "[encoded data removed]",
      "text/plain": [
       "<Figure size 432x288 with 1 Axes>"
      ]
     },
     "metadata": {
      "image/png": {
       "height": 280,
       "width": 393
      },
      "needs_background": "light"
     },
     "output_type": "display_data"
    }
   ],
   "source": [
    "optimizer = tf.keras.optimizers.Adam()\n",
    "loss_object = tf.keras.losses.SparseCategoricalCrossentropy(\n",
    "    from_logits=True, reduction='none') \n",
    "\n",
    "BATCH_SIZE     = 64\n",
    "SRC_VOCAB_SIZE = 30000\n",
    "TGT_VOCAB_SIZE = 30000\n",
    "\n",
    "units         = 512\n",
    "embedding_dim = 128\n",
    "\n",
    "encoder = Encoder(SRC_VOCAB_SIZE, embedding_dim, units)\n",
    "decoder = Decoder(TGT_VOCAB_SIZE, embedding_dim, units)\n",
    "    \n",
    "encoder, decoder = train_model(enc_tensor=enc_tensor_none,\n",
    "            dec_tensor=dec_tensor_none,\n",
    "            batch_size=BATCH_SIZE,\n",
    "            src_vocab_size=SRC_VOCAB_SIZE,\n",
    "            tgt_vocab_size=TGT_VOCAB_SIZE,\n",
    "            units=units,\n",
    "            embedding_dim=embedding_dim,\n",
    "            optimizer=optimizer,\n",
    "            dec_tokenizer=dec_tokenizer_none,\n",
    "            epochs=20,\n",
    "            encoder=encoder,\n",
    "            decoder=decoder\n",
    "           )"
   ]
  },
  {
   "cell_type": "code",
   "execution_count": 64,
   "id": "abb86d4f",
   "metadata": {},
   "outputs": [
    {
     "name": "stdout",
     "output_type": "stream",
     "text": [
      "Input: 커피는 필요 없다 .\n",
      "Predicted translation: <unk> <unk> <unk> <unk> <unk> <unk> <unk> <unk> <unk> <unk> <unk> <unk> <unk> <unk> <unk> <unk> <unk> <unk> <unk> <unk> <unk> <unk> <unk> <unk> <unk> <unk> <unk> <unk> <unk> <unk> <unk> <unk> <unk> <unk> <unk> <unk> <unk> <unk> <unk> <unk>\n"
     ]
    },
    {
     "name": "stderr",
     "output_type": "stream",
     "text": [
      "/tmp/ipykernel_263/2254222930.py:51: UserWarning: FixedFormatter should only be used together with FixedLocator\n",
      "  ax.set_xticklabels([''] + sentence, fontdict=fontdict, rotation=90)\n",
      "/tmp/ipykernel_263/2254222930.py:52: UserWarning: FixedFormatter should only be used together with FixedLocator\n",
      "  ax.set_yticklabels([''] + predicted_sentence, fontdict=fontdict)\n",
      "/opt/conda/lib/python3.9/site-packages/matplotlib/image.py:443: UserWarning: Warning: converting a masked element to nan.\n",
      "  dv = np.float64(self.norm.vmax) - np.float64(self.norm.vmin)\n",
      "/opt/conda/lib/python3.9/site-packages/matplotlib/image.py:444: UserWarning: Warning: converting a masked element to nan.\n",
      "  vmid = np.float64(self.norm.vmin) + dv / 2\n"
     ]
    },
    {
     "data": {
      "image/png": "[encoded data removed]",
      "text/plain": [
       "<Figure size 720x720 with 1 Axes>"
      ]
     },
     "metadata": {
      "image/png": {
       "height": 606,
       "width": 112
      },
      "needs_background": "light"
     },
     "output_type": "display_data"
    }
   ],
   "source": [
    "translate(\n",
    "    \"커피는 필요 없다.\",\n",
    "    encoder,\n",
    "    decoder,\n",
    "    enc_tokenizer=enc_tokenizer_none,\n",
    "    dec_tokenizer=dec_tokenizer_none,\n",
    "    max_enc_len=enc_tensor_none.shape[1],\n",
    "    max_dec_len=dec_tensor_none.shape[1]\n",
    ")"
   ]
  },
  {
   "cell_type": "code",
   "execution_count": 65,
   "id": "795f03e8",
   "metadata": {},
   "outputs": [
    {
     "name": "stdout",
     "output_type": "stream",
     "text": [
      "Input: 일곱 명의 사망자가 발생했다 .\n",
      "Predicted translation: <unk> <unk> <unk> <unk> <unk> <unk> <unk> <unk> <unk> <unk> <unk> <unk> <unk> <unk> <unk> <unk> <unk> <unk> <unk> <unk> <unk> <unk> <unk> <unk> <unk> <unk> <unk> <unk> <unk> <unk> <unk> <unk> <unk> <unk> <unk> <unk> <unk> <unk> <unk> <unk>\n"
     ]
    },
    {
     "name": "stderr",
     "output_type": "stream",
     "text": [
      "/tmp/ipykernel_263/2254222930.py:51: UserWarning: FixedFormatter should only be used together with FixedLocator\n",
      "  ax.set_xticklabels([''] + sentence, fontdict=fontdict, rotation=90)\n",
      "/tmp/ipykernel_263/2254222930.py:52: UserWarning: FixedFormatter should only be used together with FixedLocator\n",
      "  ax.set_yticklabels([''] + predicted_sentence, fontdict=fontdict)\n"
     ]
    },
    {
     "data": {
      "image/png": "[encoded data removed]",
      "text/plain": [
       "<Figure size 720x720 with 1 Axes>"
      ]
     },
     "metadata": {
      "image/png": {
       "height": 618,
       "width": 126
      },
      "needs_background": "light"
     },
     "output_type": "display_data"
    }
   ],
   "source": [
    "translate(\n",
    "    \"일곱 명의 사망자가 발생했다.\",\n",
    "    encoder,\n",
    "    decoder,\n",
    "    enc_tokenizer=enc_tokenizer_none,\n",
    "    dec_tokenizer=dec_tokenizer_none,\n",
    "    max_enc_len=enc_tensor_none.shape[1],\n",
    "    max_dec_len=dec_tensor_none.shape[1]\n",
    ")"
   ]
  },
  {
   "cell_type": "code",
   "execution_count": 66,
   "id": "807755e2",
   "metadata": {},
   "outputs": [
    {
     "name": "stdout",
     "output_type": "stream",
     "text": [
      "Input: 시민들은 도시 속에 산다 .\n",
      "Predicted translation: <unk> <unk> <unk> <unk> <unk> <unk> <unk> <unk> <unk> <unk> <unk> <unk> <unk> <unk> <unk> <unk> <unk> <unk> <unk> <unk> <unk> <unk> <unk> <unk> <unk> <unk> <unk> <unk> <unk> <unk> <unk> <unk> <unk> <unk> <unk> <unk> <unk> <unk> <unk> <unk>\n"
     ]
    },
    {
     "name": "stderr",
     "output_type": "stream",
     "text": [
      "/tmp/ipykernel_263/2254222930.py:51: UserWarning: FixedFormatter should only be used together with FixedLocator\n",
      "  ax.set_xticklabels([''] + sentence, fontdict=fontdict, rotation=90)\n",
      "/tmp/ipykernel_263/2254222930.py:52: UserWarning: FixedFormatter should only be used together with FixedLocator\n",
      "  ax.set_yticklabels([''] + predicted_sentence, fontdict=fontdict)\n"
     ]
    },
    {
     "data": {
      "image/png": "[encoded data removed]",
      "text/plain": [
       "<Figure size 720x720 with 1 Axes>"
      ]
     },
     "metadata": {
      "image/png": {
       "height": 618,
       "width": 126
      },
      "needs_background": "light"
     },
     "output_type": "display_data"
    }
   ],
   "source": [
    "translate(\n",
    "    \"시민들은 도시 속에 산다.\",\n",
    "    encoder,\n",
    "    decoder,\n",
    "    enc_tokenizer=enc_tokenizer_none,\n",
    "    dec_tokenizer=dec_tokenizer_none,\n",
    "    max_enc_len=enc_tensor_none.shape[1],\n",
    "    max_dec_len=dec_tensor_none.shape[1]\n",
    ")"
   ]
  },
  {
   "cell_type": "code",
   "execution_count": 67,
   "id": "672822d4",
   "metadata": {},
   "outputs": [
    {
     "name": "stdout",
     "output_type": "stream",
     "text": [
      "Input: 오바마는 대통령이다 .\n",
      "Predicted translation: <unk> <unk> <unk> <unk> <unk> <unk> <unk> <unk> <unk> <unk> <unk> <unk> <unk> <unk> <unk> <unk> <unk> <unk> <unk> <unk> <unk> <unk> <unk> <unk> <unk> <unk> <unk> <unk> <unk> <unk> <unk> <unk> <unk> <unk> <unk> <unk> <unk> <unk> <unk> <unk>\n"
     ]
    },
    {
     "name": "stderr",
     "output_type": "stream",
     "text": [
      "/tmp/ipykernel_263/2254222930.py:51: UserWarning: FixedFormatter should only be used together with FixedLocator\n",
      "  ax.set_xticklabels([''] + sentence, fontdict=fontdict, rotation=90)\n",
      "/tmp/ipykernel_263/2254222930.py:52: UserWarning: FixedFormatter should only be used together with FixedLocator\n",
      "  ax.set_yticklabels([''] + predicted_sentence, fontdict=fontdict)\n"
     ]
    },
    {
     "data": {
      "image/png": "[encoded data removed]",
      "text/plain": [
       "<Figure size 720x720 with 1 Axes>"
      ]
     },
     "metadata": {
      "image/png": {
       "height": 631,
       "width": 99
      },
      "needs_background": "light"
     },
     "output_type": "display_data"
    }
   ],
   "source": [
    "translate(\n",
    "    \"오바마는 대통령이다.\",\n",
    "    encoder,\n",
    "    decoder,\n",
    "    enc_tokenizer=enc_tokenizer_none,\n",
    "    dec_tokenizer=dec_tokenizer_none,\n",
    "    max_enc_len=enc_tensor_none.shape[1],\n",
    "    max_dec_len=dec_tensor_none.shape[1]\n",
    ")"
   ]
  },
  {
   "cell_type": "markdown",
   "id": "f58fed00",
   "metadata": {},
   "source": [
    "한국어 42116, 영어 38700 의 모든 토큰을 다 사용하고, embedding vocab size를 30000으로 한 경우, 학습이 되지 않았다.    \n",
    "\n",
    "**token vocab size와 embedding vocab size가 달라서 학습이 제대로 이루어 지지 않은 것 같다**"
   ]
  },
  {
   "cell_type": "markdown",
   "id": "1b2cade6",
   "metadata": {},
   "source": [
    "### token: 30000, embedding: 30000"
   ]
  },
  {
   "cell_type": "code",
   "execution_count": 47,
   "id": "a9cc4a82",
   "metadata": {},
   "outputs": [],
   "source": [
    "@tf.function\n",
    "def train_step(src, tgt, encoder, decoder, optimizer, dec_tok):\n",
    "    bsz = src.shape[0]\n",
    "    loss = 0\n",
    "\n",
    "    with tf.GradientTape() as tape:\n",
    "        enc_out, h_dec = encoder(src)      # encoder의 출력은 context vector, final_state를 출력으로 받음\n",
    "        # h_dec = enc_out[:, -1]      # encoder의 마지막 hidden state를 decoder의 초기 hidden state로 사용\n",
    "        \n",
    "        # 디코더는 한 time step씩 입력을 받으므로, shape은 (batch_size, 1) 여야 함\n",
    "        dec_src = tf.expand_dims([dec_tok.word_index['<start>']] * bsz, 1)\n",
    "\n",
    "        # <start> 토큰을 제외한 나머지 단어들에 대해 반복; 예측은 두 번째 토큰부터 비교하기 때문\n",
    "        for t in range(1, tgt.shape[1]):\n",
    "            # pred: 다음 토큰 예측; h_dec: update된 hidden state\n",
    "            pred, h_dec, _ = decoder(dec_src, h_dec, enc_out)\n",
    "            \n",
    "            # tgt[:, t]는 현재 time step의 정답 토큰; pred는 예측한 토큰; loss: 전체 시퀀스 손실 누적\n",
    "            loss += loss_function(tgt[:, t], pred)\n",
    "            # 다음 스텝의 디코더 입력을 **예측값(pred)**이 아닌, 실제 정답(tgt)을 입력으로 사용; 교사강요(teacher forcing)\n",
    "            # 교사강요는 디코더가 예측한 값이 아닌, 실제 정답을 다음 time step의 입력으로 사용하여 학습하는 기법\n",
    "            dec_src = tf.expand_dims(tgt[:, t], 1)\n",
    "    \n",
    "    # 시퀀스 loss 평균\n",
    "    batch_loss = (loss / int(tgt.shape[1]))\n",
    "\n",
    "    variables = encoder.trainable_variables + decoder.trainable_variables\n",
    "    gradients = tape.gradient(loss, variables)\n",
    "    optimizer.apply_gradients(zip(gradients, variables))\n",
    "    \n",
    "    return batch_loss\n"
   ]
  },
  {
   "cell_type": "code",
   "execution_count": null,
   "id": "c2f9a68f",
   "metadata": {},
   "outputs": [
    {
     "name": "stderr",
     "output_type": "stream",
     "text": [
      "Epoch  1: 100%|██████████| 862/862 [04:13<00:00,  3.40it/s, Loss 4.0528]  \n",
      "Epoch  2: 100%|██████████| 862/862 [03:14<00:00,  4.42it/s, Loss 3.6701]\n",
      "Epoch  3: 100%|██████████| 862/862 [03:17<00:00,  4.37it/s, Loss 3.0296]\n",
      "Epoch  4: 100%|██████████| 862/862 [03:17<00:00,  4.36it/s, Loss 2.6833]\n",
      "Epoch  5: 100%|██████████| 862/862 [03:17<00:00,  4.36it/s, Loss 2.4093]\n",
      "Epoch  6: 100%|██████████| 862/862 [03:18<00:00,  4.35it/s, Loss 2.1752]\n",
      "Epoch  7:  17%|█▋        | 150/862 [00:34<02:42,  4.37it/s, Loss 1.9099]"
     ]
    }
   ],
   "source": [
    "optimizer = tf.keras.optimizers.Adam()\n",
    "loss_object = tf.keras.losses.SparseCategoricalCrossentropy(\n",
    "    from_logits=True, reduction='none') \n",
    "\n",
    "BATCH_SIZE     = 64\n",
    "SRC_VOCAB_SIZE = 30000\n",
    "TGT_VOCAB_SIZE = 30000\n",
    "\n",
    "units         = 512\n",
    "embedding_dim = 128\n",
    "\n",
    "encoder = Encoder(SRC_VOCAB_SIZE, embedding_dim, units)\n",
    "decoder = Decoder(TGT_VOCAB_SIZE, embedding_dim, units)\n",
    "    \n",
    "encoder, decoder = train_model(enc_tensor=enc_tensor_30000,\n",
    "            dec_tensor=dec_tensor_30000,\n",
    "            batch_size=BATCH_SIZE,\n",
    "            src_vocab_size=SRC_VOCAB_SIZE,\n",
    "            tgt_vocab_size=TGT_VOCAB_SIZE,\n",
    "            units=units,\n",
    "            embedding_dim=embedding_dim,\n",
    "            optimizer=optimizer,\n",
    "            dec_tokenizer=dec_tokenizer_30000,\n",
    "            epochs=20,\n",
    "            encoder=encoder,\n",
    "            decoder=decoder\n",
    "           )"
   ]
  },
  {
   "cell_type": "code",
   "execution_count": null,
   "id": "9305c40a",
   "metadata": {
    "scrolled": false
   },
   "outputs": [],
   "source": [
    "translate(\n",
    "    \"커피는 필요 없다.\",\n",
    "    encoder,\n",
    "    decoder,\n",
    "    enc_tokenizer=enc_tokenizer_30000,\n",
    "    dec_tokenizer=dec_tokenizer_30000,\n",
    "    max_enc_len=enc_tensor_30000.shape[1],\n",
    "    max_dec_len=dec_tensor_30000.shape[1]\n",
    ")\n",
    "\n",
    "translate(\n",
    "    \"일곱 명의 사망자가 발생했다.\",\n",
    "    encoder,\n",
    "    decoder,\n",
    "    enc_tokenizer=enc_tokenizer_30000,\n",
    "    dec_tokenizer=dec_tokenizer_30000,\n",
    "    max_enc_len=enc_tensor_30000.shape[1],\n",
    "    max_dec_len=dec_tensor_30000.shape[1]\n",
    ")\n",
    "\n",
    "translate(\n",
    "    \"시민들은 도시 속에 산다.\",\n",
    "    encoder,\n",
    "    decoder,\n",
    "    enc_tokenizer=enc_tokenizer_30000,\n",
    "    dec_tokenizer=dec_tokenizer_30000,\n",
    "    max_enc_len=enc_tensor_30000.shape[1],\n",
    "    max_dec_len=dec_tensor_30000.shape[1]\n",
    ")\n",
    "\n",
    "translate(\n",
    "    \"오바마는 대통령이다.\",\n",
    "    encoder,\n",
    "    decoder,\n",
    "    enc_tokenizer=enc_tokenizer_30000,\n",
    "    dec_tokenizer=dec_tokenizer_30000,\n",
    "    max_enc_len=enc_tensor_30000.shape[1],\n",
    "    max_dec_len=dec_tensor_30000.shape[1]\n",
    ")"
   ]
  },
  {
   "cell_type": "markdown",
   "id": "22cffd70",
   "metadata": {},
   "source": [
    "### 20000"
   ]
  },
  {
   "cell_type": "code",
   "execution_count": null,
   "id": "0cead4a6",
   "metadata": {},
   "outputs": [],
   "source": [
    "@tf.function\n",
    "def train_step(src, tgt, encoder, decoder, optimizer, dec_tok):\n",
    "    bsz = src.shape[0]\n",
    "    loss = 0\n",
    "\n",
    "    with tf.GradientTape() as tape:\n",
    "        enc_out, h_dec = encoder(src)      # encoder의 출력은 context vector, final_state를 출력으로 받음\n",
    "        # h_dec = enc_out[:, -1]      # encoder의 마지막 hidden state를 decoder의 초기 hidden state로 사용\n",
    "        \n",
    "        # 디코더는 한 time step씩 입력을 받으므로, shape은 (batch_size, 1) 여야 함\n",
    "        dec_src = tf.expand_dims([dec_tok.word_index['<start>']] * bsz, 1)\n",
    "\n",
    "        # <start> 토큰을 제외한 나머지 단어들에 대해 반복; 예측은 두 번째 토큰부터 비교하기 때문\n",
    "        for t in range(1, tgt.shape[1]):\n",
    "            # pred: 다음 토큰 예측; h_dec: update된 hidden state\n",
    "            pred, h_dec, _ = decoder(dec_src, h_dec, enc_out)\n",
    "            \n",
    "            # tgt[:, t]는 현재 time step의 정답 토큰; pred는 예측한 토큰; loss: 전체 시퀀스 손실 누적\n",
    "            loss += loss_function(tgt[:, t], pred)\n",
    "            # 다음 스텝의 디코더 입력을 **예측값(pred)**이 아닌, 실제 정답(tgt)을 입력으로 사용; 교사강요(teacher forcing)\n",
    "            # 교사강요는 디코더가 예측한 값이 아닌, 실제 정답을 다음 time step의 입력으로 사용하여 학습하는 기법\n",
    "            dec_src = tf.expand_dims(tgt[:, t], 1)\n",
    "    \n",
    "    # 시퀀스 loss 평균\n",
    "    batch_loss = (loss / int(tgt.shape[1]))\n",
    "\n",
    "    variables = encoder.trainable_variables + decoder.trainable_variables\n",
    "    gradients = tape.gradient(loss, variables)\n",
    "    optimizer.apply_gradients(zip(gradients, variables))\n",
    "    \n",
    "    return batch_loss\n"
   ]
  },
  {
   "cell_type": "code",
   "execution_count": null,
   "id": "4d8f3e0d",
   "metadata": {},
   "outputs": [],
   "source": [
    "optimizer = tf.keras.optimizers.Adam()\n",
    "loss_object = tf.keras.losses.SparseCategoricalCrossentropy(\n",
    "    from_logits=True, reduction='none') \n",
    "\n",
    "BATCH_SIZE     = 64\n",
    "SRC_VOCAB_SIZE = 20000\n",
    "TGT_VOCAB_SIZE = 20000\n",
    "\n",
    "units         = 512\n",
    "embedding_dim = 128\n",
    "\n",
    "encoder = Encoder(SRC_VOCAB_SIZE, embedding_dim, units)\n",
    "decoder = Decoder(TGT_VOCAB_SIZE, embedding_dim, units)\n",
    "    \n",
    "encoder, decoder = train_model(enc_tensor=enc_tensor_20000,\n",
    "            dec_tensor=dec_tensor_20000,\n",
    "            batch_size=BATCH_SIZE,\n",
    "            src_vocab_size=SRC_VOCAB_SIZE,\n",
    "            tgt_vocab_size=TGT_VOCAB_SIZE,\n",
    "            units=units,\n",
    "            embedding_dim=embedding_dim,\n",
    "            optimizer=optimizer,\n",
    "            dec_tokenizer=dec_tokenizer_20000,\n",
    "            epochs=20,\n",
    "            encoder=encoder,\n",
    "            decoder=decoder\n",
    "           )"
   ]
  },
  {
   "cell_type": "code",
   "execution_count": null,
   "id": "cf1f42fa",
   "metadata": {},
   "outputs": [],
   "source": [
    "translate(\n",
    "    \"커피는 필요 없다.\",\n",
    "    encoder,\n",
    "    decoder,\n",
    "    enc_tokenizer=enc_tokenizer_20000,\n",
    "    dec_tokenizer=dec_tokenizer_20000,\n",
    "    max_enc_len=enc_tensor_20000.shape[1],\n",
    "    max_dec_len=dec_tensor_20000.shape[1]\n",
    ")\n",
    "\n",
    "translate(\n",
    "    \"일곱 명의 사망자가 발생했다.\",\n",
    "    encoder,\n",
    "    decoder,\n",
    "    enc_tokenizer=enc_tokenizer_20000,\n",
    "    dec_tokenizer=dec_tokenizer_20000,\n",
    "    max_enc_len=enc_tensor_20000.shape[1],\n",
    "    max_dec_len=dec_tensor_20000.shape[1]\n",
    ")\n",
    "\n",
    "translate(\n",
    "    \"시민들은 도시 속에 산다.\",\n",
    "    encoder,\n",
    "    decoder,\n",
    "    enc_tokenizer=enc_tokenizer_20000,\n",
    "    dec_tokenizer=dec_tokenizer_20000,\n",
    "    max_enc_len=enc_tensor_20000.shape[1],\n",
    "    max_dec_len=dec_tensor_20000.shape[1]\n",
    ")\n",
    "\n",
    "translate(\n",
    "    \"오바마는 대통령이다.\",\n",
    "    encoder,\n",
    "    decoder,\n",
    "    enc_tokenizer=enc_tokenizer_20000,\n",
    "    dec_tokenizer=dec_tokenizer_20000,\n",
    "    max_enc_len=enc_tensor_20000.shape[1],\n",
    "    max_dec_len=dec_tensor_20000.shape[1]\n",
    ")"
   ]
  },
  {
   "cell_type": "markdown",
   "id": "5add8d4b",
   "metadata": {},
   "source": [
    "# 회고\n",
    "\n",
    "처음에 모델 설계에서는 번역이 'the' 토큰만 반복되는 문장만 출력됐었는데,  \n",
    "인코더의 `whole_sequence_output, final_state = self.gru(x)`,\n",
    "디코더의 `out, h_dec = self.gru(out, initial_state= h_dec)`,   \n",
    "모델 학습에서 \n",
    "```\n",
    "enc_out, h_dec = encoder(src)      # encoder의 출력은 context vector, final_state를 출력으로 받음\n",
    "# h_dec = enc_out[:, -1]      # 이 코드 대신에서 위의 방식을 사용\n",
    "```\n",
    "이 부분을 변경하니, 제대로 동작했다.  \n",
    "\n",
    "    \n",
    "    "
   ]
  },
  {
   "cell_type": "markdown",
   "id": "bebb2498",
   "metadata": {},
   "source": [
    "vocab size를 10000으로 한 경우에는, 입력 단어에 매칭되는 출력단어가 부족한 것 같아, 번역 성능이 떨어진 것 같다.  \n",
    "\n",
    "\n",
    "\n",
    "정량적 평가 방법을 추가하면 좋을 것 같다. \n"
   ]
  }
 ],
 "metadata": {
  "kernelspec": {
   "display_name": "Python 3 (ipykernel)",
   "language": "python",
   "name": "python3"
  },
  "language_info": {
   "codemirror_mode": {
    "name": "ipython",
    "version": 3
   },
   "file_extension": ".py",
   "mimetype": "text/x-python",
   "name": "python",
   "nbconvert_exporter": "python",
   "pygments_lexer": "ipython3",
   "version": "3.9.7"
  }
 },
 "nbformat": 4,
 "nbformat_minor": 5
}
