{
 "cells": [
  {
   "cell_type": "markdown",
   "id": "91ce5316",
   "metadata": {},
   "source": [
    "# 다양한 알고리즘 머신러닝 분류기를 사용해 뉴스 다중분류 해보자"
   ]
  },
  {
   "cell_type": "code",
   "execution_count": 1,
   "id": "38fdc89f",
   "metadata": {},
   "outputs": [
    {
     "name": "stdout",
     "output_type": "stream",
     "text": [
      "2.6.0\n",
      "3.4.3\n",
      "0.11.2\n",
      "1.21.4\n",
      "1.3.3\n",
      "1.0\n"
     ]
    }
   ],
   "source": [
    "import numpy as np\n",
    "import pandas as pd\n",
    "\n",
    "import matplotlib as mpl\n",
    "import matplotlib.pyplot as plt\n",
    "import seaborn as sns\n",
    "\n",
    "import sklearn\n",
    "\n",
    "import tensorflow as tf\n",
    "from tensorflow.keras.datasets import reuters\n",
    "\n",
    "print(tf.__version__)\n",
    "print(mpl.__version__)\n",
    "print(sns.__version__)\n",
    "print(np.__version__)\n",
    "print(pd.__version__)\n",
    "print(sklearn.__version__)"
   ]
  },
  {
   "cell_type": "markdown",
   "id": "a98d40c5",
   "metadata": {},
   "source": [
    "## 데이터 준비; 단어-인덱스 사전 생성;"
   ]
  },
  {
   "cell_type": "markdown",
   "id": "d4eeb1d7",
   "metadata": {},
   "source": [
    "##### word_to_index, index_to_word"
   ]
  },
  {
   "cell_type": "code",
   "execution_count": 2,
   "id": "1f689d68",
   "metadata": {},
   "outputs": [],
   "source": [
    "word_to_index = reuters.get_word_index(path=\"reuters_word_index.json\")"
   ]
  },
  {
   "cell_type": "code",
   "execution_count": 3,
   "id": "b24c02b3",
   "metadata": {},
   "outputs": [
    {
     "data": {
      "text/plain": [
       "30979"
      ]
     },
     "execution_count": 3,
     "metadata": {},
     "output_type": "execute_result"
    }
   ],
   "source": [
    "len(word_to_index)"
   ]
  },
  {
   "cell_type": "code",
   "execution_count": 4,
   "id": "334cc7aa",
   "metadata": {},
   "outputs": [],
   "source": [
    "index_to_word = { index+3 : word for word, index in word_to_index.items() }"
   ]
  },
  {
   "cell_type": "markdown",
   "id": "07d49a8f",
   "metadata": {},
   "source": [
    "+3 -> `<pad>`, `<sos>`, `<unk>`"
   ]
  },
  {
   "cell_type": "code",
   "execution_count": 5,
   "id": "777dd966",
   "metadata": {},
   "outputs": [],
   "source": [
    "for index, token in enumerate((\"<pad>\", \"<sos>\", \"<unk>\")):\n",
    "    index_to_word[index]=token"
   ]
  },
  {
   "cell_type": "markdown",
   "id": "5ebb13bb",
   "metadata": {},
   "source": [
    "##### index_to_word 함수"
   ]
  },
  {
   "cell_type": "code",
   "execution_count": 6,
   "id": "fa488179",
   "metadata": {},
   "outputs": [],
   "source": [
    "# index -> word 함수\n",
    "def get_word(data):\n",
    "    decoded_text = []\n",
    "    for i in range(len(data)):\n",
    "        t = ' '.join([index_to_word[index] for index in data[i]])\n",
    "        decoded_text.append(t)\n",
    "    return decoded_text"
   ]
  },
  {
   "cell_type": "markdown",
   "id": "625f9fa4",
   "metadata": {},
   "source": [
    "##### 모든 단어 사용"
   ]
  },
  {
   "cell_type": "code",
   "execution_count": 7,
   "id": "b989b8a0",
   "metadata": {},
   "outputs": [],
   "source": [
    "(x_train_none, y_train_none), (x_test_none, y_test_none) = reuters.load_data(num_words=None, test_split=0.2)"
   ]
  },
  {
   "cell_type": "markdown",
   "id": "8168d9ac",
   "metadata": {},
   "source": [
    "위에서 word_to_index의 크기를 확인해 num_words=None 일때의 단어 수가 30979개인 것을 알 수 있다."
   ]
  },
  {
   "cell_type": "code",
   "execution_count": 8,
   "id": "2c4b99b1",
   "metadata": {},
   "outputs": [
    {
     "data": {
      "text/plain": [
       "'<sos> mcgrath rentcorp said as a result of its december acquisition of space co it expects earnings per share in 1987 of 1 15 to 1 30 dlrs per share up from 70 cts in 1986 the company said pretax net should rise to nine to 10 mln dlrs from six mln dlrs in 1986 and rental operation revenues to 19 to 22 mln dlrs from 12 5 mln dlrs it said cash flow per share this year should be 2 50 to three dlrs reuter 3'"
      ]
     },
     "execution_count": 8,
     "metadata": {},
     "output_type": "execute_result"
    }
   ],
   "source": [
    "x_train_none = get_word(x_train_none)\n",
    "x_train_none[0]"
   ]
  },
  {
   "cell_type": "code",
   "execution_count": 9,
   "id": "2bb71fcc",
   "metadata": {},
   "outputs": [
    {
     "data": {
      "text/plain": [
       "'<sos> the great atlantic and pacific tea co said its three year 345 mln dlr capital program will be be substantially increased to accommodate growth and expansion plans for waldbaum inc and shopwell inc over the next two years a and p said the acquisition of shopwell in august 1986 and waldbaum in december helped us achieve better than expected results in the fourth quarter ended february 28 its net income from continuing operations jumped 52 6 pct to 20 7 mln dlrs or 55 cts a share in the latest quarter as sales increased 48 3 pct to 1 58 billion dlrs a and p gave no details on the expanded capital program but it did say it completed the first year of the program during 1986 a and p is 52 4 pct owned by lt tengelmann warenhandelsgesellschaft of west germany reuter 3'"
      ]
     },
     "execution_count": 9,
     "metadata": {},
     "output_type": "execute_result"
    }
   ],
   "source": [
    "x_test_none = get_word(x_test_none)\n",
    "x_test_none[0]"
   ]
  },
  {
   "cell_type": "markdown",
   "id": "ed921171",
   "metadata": {},
   "source": [
    "##### 빈도수 상위 2,500개"
   ]
  },
  {
   "cell_type": "code",
   "execution_count": 10,
   "id": "bb49981d",
   "metadata": {},
   "outputs": [],
   "source": [
    "(x_train_2500, y_train_2500), (x_test_2500, y_test_2500) = reuters.load_data(num_words=2500, test_split=0.2)"
   ]
  },
  {
   "cell_type": "code",
   "execution_count": 11,
   "id": "3e320256",
   "metadata": {},
   "outputs": [],
   "source": [
    "x_train_2500 = get_word(x_train_2500)\n",
    "x_test_2500 = get_word(x_test_2500)"
   ]
  },
  {
   "cell_type": "markdown",
   "id": "1dea0555",
   "metadata": {},
   "source": [
    "##### 빈도수 상위 5,000개"
   ]
  },
  {
   "cell_type": "code",
   "execution_count": 12,
   "id": "86e1e6de",
   "metadata": {},
   "outputs": [],
   "source": [
    "(x_train_5000, y_train_5000), (x_test_5000, y_test_5000) = reuters.load_data(num_words=5000, test_split=0.2)"
   ]
  },
  {
   "cell_type": "code",
   "execution_count": 13,
   "id": "0301bda4",
   "metadata": {},
   "outputs": [],
   "source": [
    "x_train_5000 = get_word(x_train_5000)\n",
    "x_test_5000 = get_word(x_test_5000)"
   ]
  },
  {
   "cell_type": "markdown",
   "id": "c34e69bd",
   "metadata": {},
   "source": [
    "##### 빈도수 상위 7,500개"
   ]
  },
  {
   "cell_type": "code",
   "execution_count": 14,
   "id": "c6121e9c",
   "metadata": {},
   "outputs": [],
   "source": [
    "(x_train_7500, y_train_7500), (x_test_7500, y_test_7500) = reuters.load_data(num_words=7500, test_split=0.2)"
   ]
  },
  {
   "cell_type": "code",
   "execution_count": 15,
   "id": "e0453e34",
   "metadata": {},
   "outputs": [],
   "source": [
    "x_train_7500 = get_word(x_train_7500)\n",
    "x_test_7500 = get_word(x_test_7500)"
   ]
  },
  {
   "cell_type": "markdown",
   "id": "59e8cc51",
   "metadata": {},
   "source": [
    "##### 빈도수 상위 10,000개"
   ]
  },
  {
   "cell_type": "code",
   "execution_count": 16,
   "id": "a0e7b052",
   "metadata": {},
   "outputs": [],
   "source": [
    "(x_train_10000, y_train_10000), (x_test_10000, y_test_10000) = reuters.load_data(num_words=10000, test_split=0.2)"
   ]
  },
  {
   "cell_type": "code",
   "execution_count": 17,
   "id": "a3d77b72",
   "metadata": {},
   "outputs": [],
   "source": [
    "x_train_10000 = get_word(x_train_10000)\n",
    "x_test_10000 = get_word(x_test_10000)"
   ]
  },
  {
   "cell_type": "markdown",
   "id": "abf88026",
   "metadata": {},
   "source": [
    "##### 빈도수 상위 12,500개"
   ]
  },
  {
   "cell_type": "code",
   "execution_count": 18,
   "id": "5daf9f1b",
   "metadata": {},
   "outputs": [],
   "source": [
    "(x_train_12500, y_train_12500), (x_test_12500, y_test_12500) = reuters.load_data(num_words=12500, test_split=0.2)"
   ]
  },
  {
   "cell_type": "code",
   "execution_count": 19,
   "id": "5d123893",
   "metadata": {},
   "outputs": [],
   "source": [
    "x_train_12500 = get_word(x_train_12500)\n",
    "x_test_12500 = get_word(x_test_12500)"
   ]
  },
  {
   "cell_type": "markdown",
   "id": "1e099b2a",
   "metadata": {},
   "source": [
    "##### 빈도수 상위 15,000개"
   ]
  },
  {
   "cell_type": "code",
   "execution_count": 20,
   "id": "0a1de543",
   "metadata": {},
   "outputs": [],
   "source": [
    "(x_train_15000, y_train_15000), (x_test_15000, y_test_15000) = reuters.load_data(num_words=15000, test_split=0.2)"
   ]
  },
  {
   "cell_type": "code",
   "execution_count": 21,
   "id": "ff3f23e2",
   "metadata": {},
   "outputs": [],
   "source": [
    "x_train_15000 = get_word(x_train_15000)\n",
    "x_test_15000 = get_word(x_test_15000)"
   ]
  },
  {
   "cell_type": "markdown",
   "id": "1233e5fc",
   "metadata": {},
   "source": [
    "##### 빈도수 상쉬 17,500개"
   ]
  },
  {
   "cell_type": "code",
   "execution_count": 22,
   "id": "61d0fa5a",
   "metadata": {},
   "outputs": [],
   "source": [
    "(x_train_17500, y_train_17500), (x_test_17500, y_test_17500) = reuters.load_data(num_words=17500, test_split=0.2)"
   ]
  },
  {
   "cell_type": "code",
   "execution_count": 23,
   "id": "22902222",
   "metadata": {},
   "outputs": [],
   "source": [
    "x_train_17500 = get_word(x_train_17500)\n",
    "x_test_17500 = get_word(x_test_17500)"
   ]
  },
  {
   "cell_type": "markdown",
   "id": "77a92cfd",
   "metadata": {},
   "source": [
    "##### 빈도수 상위 20,000개"
   ]
  },
  {
   "cell_type": "code",
   "execution_count": 24,
   "id": "8c13091a",
   "metadata": {},
   "outputs": [],
   "source": [
    "(x_train_20000, y_train_20000), (x_test_20000, y_test_20000) = reuters.load_data(num_words=20000, test_split=0.2)"
   ]
  },
  {
   "cell_type": "code",
   "execution_count": 25,
   "id": "d90eb1ce",
   "metadata": {},
   "outputs": [],
   "source": [
    "x_train_20000 = get_word(x_train_20000)\n",
    "x_test_20000 = get_word(x_test_20000)"
   ]
  },
  {
   "cell_type": "markdown",
   "id": "06762980",
   "metadata": {},
   "source": [
    "## EDA"
   ]
  },
  {
   "cell_type": "markdown",
   "id": "13dedf6b",
   "metadata": {},
   "source": [
    "### 문장 길이 분포 확인"
   ]
  },
  {
   "cell_type": "code",
   "execution_count": 26,
   "id": "26404d94",
   "metadata": {},
   "outputs": [],
   "source": [
    "def analyze_text_length(x_train):\n",
    "    length = [len(l.split(\" \")) for l in x_train]\n",
    "    print('훈련용 뉴스의 최대 길이 :{}'.format(max(length)))\n",
    "    print('훈련용 뉴스의 평균 길이 :{}'.format(sum(length)/len(length)))\n",
    "    \n",
    "    plt.hist(length, bins=50)\n",
    "    plt.xlabel('length of samples')\n",
    "    plt.ylabel('number of samples')\n",
    "    plt.show()"
   ]
  },
  {
   "cell_type": "code",
   "execution_count": 27,
   "id": "6126a51a",
   "metadata": {},
   "outputs": [
    {
     "name": "stdout",
     "output_type": "stream",
     "text": [
      "훈련용 뉴스의 최대 길이 :2376\n",
      "훈련용 뉴스의 평균 길이 :145.5398574927633\n"
     ]
    },
    {
     "data": {
      "image/png": "[encoded data removed]",
      "text/plain": [
       "<Figure size 432x288 with 1 Axes>"
      ]
     },
     "metadata": {
      "needs_background": "light"
     },
     "output_type": "display_data"
    }
   ],
   "source": [
    "analyze_text_length(x_train_none)"
   ]
  },
  {
   "cell_type": "markdown",
   "id": "f8bfef35",
   "metadata": {},
   "source": [
    "### 클래스 빈도수 확인"
   ]
  },
  {
   "cell_type": "code",
   "execution_count": 28,
   "id": "8e7fa322",
   "metadata": {},
   "outputs": [
    {
     "data": {
      "image/png": "[encoded data removed]",
      "text/plain": [
       "<Figure size 792x360 with 1 Axes>"
      ]
     },
     "metadata": {
      "needs_background": "light"
     },
     "output_type": "display_data"
    }
   ],
   "source": [
    "fig, axe = plt.subplots(ncols=1)\n",
    "fig.set_size_inches(11,5)\n",
    "sns.countplot(x=y_train_none)\n",
    "plt.show()"
   ]
  },
  {
   "cell_type": "code",
   "execution_count": 29,
   "id": "20a76a07",
   "metadata": {},
   "outputs": [
    {
     "name": "stdout",
     "output_type": "stream",
     "text": [
      "각 클래스 빈도수:\n",
      "{3: 3159, 4: 1949, 19: 549, 16: 444, 1: 432, 11: 390, 20: 269, 13: 172, 8: 139, 10: 124, 9: 101, 21: 100, 25: 92, 2: 74, 18: 66, 24: 62, 0: 55, 34: 50, 12: 49, 36: 49, 6: 48, 28: 48, 30: 45, 23: 41, 17: 39, 31: 39, 40: 36, 32: 32, 41: 30, 14: 26, 26: 24, 39: 24, 43: 21, 15: 20, 29: 19, 37: 19, 38: 19, 45: 18, 5: 17, 7: 16, 22: 15, 27: 15, 42: 13, 44: 12, 33: 11, 35: 10}\n"
     ]
    }
   ],
   "source": [
    "unique_elements, counts_elements = np.unique(y_train_none, return_counts=True)\n",
    "print(\"각 클래스 빈도수:\")\n",
    "# print(np.asarray((unique_elements, counts_elements)))\n",
    "class_frequencies = dict(zip(unique_elements, counts_elements))\n",
    "print(dict(sorted(class_frequencies.items(), key=lambda x: x[1], reverse=True)))"
   ]
  },
  {
   "cell_type": "markdown",
   "id": "40882fe5",
   "metadata": {},
   "source": [
    "3, 4 클래스가 특히 많은 것을 확인할 수 있다. => 클래스 불균형 데이터"
   ]
  },
  {
   "cell_type": "markdown",
   "id": "c8d25307",
   "metadata": {},
   "source": [
    "## 벡터화"
   ]
  },
  {
   "cell_type": "markdown",
   "id": "3a97dc98",
   "metadata": {},
   "source": [
    "##### 에러 기록"
   ]
  },
  {
   "cell_type": "markdown",
   "id": "6ea37bbf",
   "metadata": {},
   "source": [
    "[공식문서: https://scikit-learn.org/stable/modules/generated/sklearn.feature_extraction.text.TfidfVectorizer.html](https://scikit-learn.org/stable/modules/generated/sklearn.feature_extraction.text.TfidfVectorizer.html)  \n",
    "사용방법\n",
    "\n",
    "```python\n",
    "from sklearn.feature_extraction.text import TfidfVectorizer\n",
    "corpus = [\n",
    "    'This is the first document.',\n",
    "    'This document is the second document.',\n",
    "    'And this is the third one.',\n",
    "    'Is this the first document?',\n",
    "]\n",
    "vectorizer = TfidfVectorizer()\n",
    "X = vectorizer.fit_transform(corpus)\n",
    "vectorizer.get_feature_names_out()\n",
    "print(X.shape)\n",
    "```"
   ]
  },
  {
   "cell_type": "code",
   "execution_count": 30,
   "id": "c63bf1e4",
   "metadata": {
    "scrolled": true
   },
   "outputs": [
    {
     "ename": "ValueError",
     "evalue": "Expected 2D array, got 1D array instead:\narray=['<sos> mcgrath rentcorp said as a result of its december acquisition of space co it expects earnings per share in 1987 of 1 15 to 1 30 dlrs per share up from 70 cts in 1986 the company said pretax net should rise to nine to 10 mln dlrs from six mln dlrs in 1986 and rental operation revenues to 19 to 22 mln dlrs from 12 5 mln dlrs it said cash flow per share this year should be 2 50 to three dlrs reuter 3'\n \"<sos> generale de banque sa lt genb br and lt heller overseas corp of chicago have each taken 50 pct stakes in factoring company sa belgo factors generale de banque said in a statement it gave no financial details of the transaction sa belgo factors' turnover in 1986 was 17 5 billion belgian francs reuter 3\"\n '<sos> shr 3 28 dlrs vs 22 cts shr diluted 2 99 dlrs vs 22 cts net 46 0 mln vs 3 328 000 avg shrs 14 0 mln vs 15 2 mln year shr 5 41 dlrs vs 1 56 dlrs shr diluted 4 94 dlrs vs 1 50 dlrs net 78 2 mln vs 25 9 mln avg shrs 14 5 mln vs 15 1 mln note earnings per share reflect the two for one split effective january 6 1987 per share amounts are calculated after preferred stock dividends loss continuing operations for the qtr 1986 includes gains of sale of investments in enron corp of 14 mln dlrs and associated companies of 4 189 000 less writedowns of investments in national intergroup inc of 11 8 mln and brae corp of 15 6 mln reuter 3'\n ...\n \"<sos> international phoenix energy corp said it launched a gold recovery venture with lt phoenix exploration and recovery inc and mexico's sistemas tecnicos de recuperaciones sociedad anonima de capital variable the company said the joint venture will explore and recover gold precious metals and artefacts from treasure ships worth 10 billion dlrs reported to have sunk in the harbor area of vera cruz mexico the company said it expects work to begin in 30 days reuter 3\"\n \"<sos> shr loss 76 cts vs profit 50 cts net loss 19 186 000 vs profit 12 438 000 sales 157 9 mln vs 149 2 mln note fiscal 1987 net loss includes a pretax charge of 19 5 mln dlrs from restructuring and an after tax charge of about seven mln dlrs from debt prepayment premiums fiscal 1986 net profit includes a pretax gain of 7 2 mln dlrs on the sale of some land an after tax loss 1 35 mln dlrs from discontinued operations and an after tax gain of 6 7 mln dlrs from a change in accounting all results restated to exclude five businesses divested as part of the company's restructuring program reuter 3\"\n \"<sos> currency fluctuations may reassert their influence on the bullion market in the near future bullion bankers samuel montagu and co ltd said in a market report but the firm said silver may lag behind gold in any reactions to movements on foreign exchanges opec's failure to address the recent decline in oil prices remains a worrying factor however and on balance it appears that the market should be approached cautiously montagu said the bank said the us economy has shown no noticeable long term improvement and that both latin american debt and the iranian arms affair could undermine confidence in the dollar reuter 3\"].\nReshape your data either using array.reshape(-1, 1) if your data has a single feature or array.reshape(1, -1) if it contains a single sample.",
     "output_type": "error",
     "traceback": [
      "\u001b[0;31m---------------------------------------------------------------------------\u001b[0m",
      "\u001b[0;31mValueError\u001b[0m                                Traceback (most recent call last)",
      "\u001b[0;32m/tmp/ipykernel_204/3495984797.py\u001b[0m in \u001b[0;36m<module>\u001b[0;34m\u001b[0m\n\u001b[1;32m      2\u001b[0m \u001b[0;34m\u001b[0m\u001b[0m\n\u001b[1;32m      3\u001b[0m \u001b[0mtfidf_transformer\u001b[0m \u001b[0;34m=\u001b[0m \u001b[0mTfidfTransformer\u001b[0m\u001b[0;34m(\u001b[0m\u001b[0;34m)\u001b[0m\u001b[0;34m\u001b[0m\u001b[0;34m\u001b[0m\u001b[0m\n\u001b[0;32m----> 4\u001b[0;31m \u001b[0mtfidfv_none\u001b[0m \u001b[0;34m=\u001b[0m \u001b[0mtfidf_transformer\u001b[0m\u001b[0;34m.\u001b[0m\u001b[0mfit_transform\u001b[0m\u001b[0;34m(\u001b[0m\u001b[0mx_train_none\u001b[0m\u001b[0;34m)\u001b[0m\u001b[0;34m\u001b[0m\u001b[0;34m\u001b[0m\u001b[0m\n\u001b[0m",
      "\u001b[0;32m/opt/conda/lib/python3.9/site-packages/sklearn/base.py\u001b[0m in \u001b[0;36mfit_transform\u001b[0;34m(self, X, y, **fit_params)\u001b[0m\n\u001b[1;32m    842\u001b[0m         \u001b[0;32mif\u001b[0m \u001b[0my\u001b[0m \u001b[0;32mis\u001b[0m \u001b[0;32mNone\u001b[0m\u001b[0;34m:\u001b[0m\u001b[0;34m\u001b[0m\u001b[0;34m\u001b[0m\u001b[0m\n\u001b[1;32m    843\u001b[0m             \u001b[0;31m# fit method of arity 1 (unsupervised transformation)\u001b[0m\u001b[0;34m\u001b[0m\u001b[0;34m\u001b[0m\u001b[0m\n\u001b[0;32m--> 844\u001b[0;31m             \u001b[0;32mreturn\u001b[0m \u001b[0mself\u001b[0m\u001b[0;34m.\u001b[0m\u001b[0mfit\u001b[0m\u001b[0;34m(\u001b[0m\u001b[0mX\u001b[0m\u001b[0;34m,\u001b[0m \u001b[0;34m**\u001b[0m\u001b[0mfit_params\u001b[0m\u001b[0;34m)\u001b[0m\u001b[0;34m.\u001b[0m\u001b[0mtransform\u001b[0m\u001b[0;34m(\u001b[0m\u001b[0mX\u001b[0m\u001b[0;34m)\u001b[0m\u001b[0;34m\u001b[0m\u001b[0;34m\u001b[0m\u001b[0m\n\u001b[0m\u001b[1;32m    845\u001b[0m         \u001b[0;32melse\u001b[0m\u001b[0;34m:\u001b[0m\u001b[0;34m\u001b[0m\u001b[0;34m\u001b[0m\u001b[0m\n\u001b[1;32m    846\u001b[0m             \u001b[0;31m# fit method of arity 2 (supervised transformation)\u001b[0m\u001b[0;34m\u001b[0m\u001b[0;34m\u001b[0m\u001b[0m\n",
      "\u001b[0;32m/opt/conda/lib/python3.9/site-packages/sklearn/feature_extraction/text.py\u001b[0m in \u001b[0;36mfit\u001b[0;34m(self, X, y)\u001b[0m\n\u001b[1;32m   1604\u001b[0m         \u001b[0;31m# _document_frequency uses np.bincount which works on arrays of\u001b[0m\u001b[0;34m\u001b[0m\u001b[0;34m\u001b[0m\u001b[0m\n\u001b[1;32m   1605\u001b[0m         \u001b[0;31m# dtype NPY_INTP which is int32 for 32bit platforms. See #20923\u001b[0m\u001b[0;34m\u001b[0m\u001b[0;34m\u001b[0m\u001b[0m\n\u001b[0;32m-> 1606\u001b[0;31m         X = self._validate_data(\n\u001b[0m\u001b[1;32m   1607\u001b[0m             \u001b[0mX\u001b[0m\u001b[0;34m,\u001b[0m \u001b[0maccept_sparse\u001b[0m\u001b[0;34m=\u001b[0m\u001b[0;34m(\u001b[0m\u001b[0;34m\"csr\"\u001b[0m\u001b[0;34m,\u001b[0m \u001b[0;34m\"csc\"\u001b[0m\u001b[0;34m)\u001b[0m\u001b[0;34m,\u001b[0m \u001b[0maccept_large_sparse\u001b[0m\u001b[0;34m=\u001b[0m\u001b[0;32mnot\u001b[0m \u001b[0m_IS_32BIT\u001b[0m\u001b[0;34m\u001b[0m\u001b[0;34m\u001b[0m\u001b[0m\n\u001b[1;32m   1608\u001b[0m         )\n",
      "\u001b[0;32m/opt/conda/lib/python3.9/site-packages/sklearn/base.py\u001b[0m in \u001b[0;36m_validate_data\u001b[0;34m(self, X, y, reset, validate_separately, **check_params)\u001b[0m\n\u001b[1;32m    555\u001b[0m             \u001b[0;32mraise\u001b[0m \u001b[0mValueError\u001b[0m\u001b[0;34m(\u001b[0m\u001b[0;34m\"Validation should be done on X, y or both.\"\u001b[0m\u001b[0;34m)\u001b[0m\u001b[0;34m\u001b[0m\u001b[0;34m\u001b[0m\u001b[0m\n\u001b[1;32m    556\u001b[0m         \u001b[0;32melif\u001b[0m \u001b[0;32mnot\u001b[0m \u001b[0mno_val_X\u001b[0m \u001b[0;32mand\u001b[0m \u001b[0mno_val_y\u001b[0m\u001b[0;34m:\u001b[0m\u001b[0;34m\u001b[0m\u001b[0;34m\u001b[0m\u001b[0m\n\u001b[0;32m--> 557\u001b[0;31m             \u001b[0mX\u001b[0m \u001b[0;34m=\u001b[0m \u001b[0mcheck_array\u001b[0m\u001b[0;34m(\u001b[0m\u001b[0mX\u001b[0m\u001b[0;34m,\u001b[0m \u001b[0;34m**\u001b[0m\u001b[0mcheck_params\u001b[0m\u001b[0;34m)\u001b[0m\u001b[0;34m\u001b[0m\u001b[0;34m\u001b[0m\u001b[0m\n\u001b[0m\u001b[1;32m    558\u001b[0m             \u001b[0mout\u001b[0m \u001b[0;34m=\u001b[0m \u001b[0mX\u001b[0m\u001b[0;34m\u001b[0m\u001b[0;34m\u001b[0m\u001b[0m\n\u001b[1;32m    559\u001b[0m         \u001b[0;32melif\u001b[0m \u001b[0mno_val_X\u001b[0m \u001b[0;32mand\u001b[0m \u001b[0;32mnot\u001b[0m \u001b[0mno_val_y\u001b[0m\u001b[0;34m:\u001b[0m\u001b[0;34m\u001b[0m\u001b[0;34m\u001b[0m\u001b[0m\n",
      "\u001b[0;32m/opt/conda/lib/python3.9/site-packages/sklearn/utils/validation.py\u001b[0m in \u001b[0;36mcheck_array\u001b[0;34m(array, accept_sparse, accept_large_sparse, dtype, order, copy, force_all_finite, ensure_2d, allow_nd, ensure_min_samples, ensure_min_features, estimator)\u001b[0m\n\u001b[1;32m    759\u001b[0m             \u001b[0;31m# If input is 1D raise error\u001b[0m\u001b[0;34m\u001b[0m\u001b[0;34m\u001b[0m\u001b[0m\n\u001b[1;32m    760\u001b[0m             \u001b[0;32mif\u001b[0m \u001b[0marray\u001b[0m\u001b[0;34m.\u001b[0m\u001b[0mndim\u001b[0m \u001b[0;34m==\u001b[0m \u001b[0;36m1\u001b[0m\u001b[0;34m:\u001b[0m\u001b[0;34m\u001b[0m\u001b[0;34m\u001b[0m\u001b[0m\n\u001b[0;32m--> 761\u001b[0;31m                 raise ValueError(\n\u001b[0m\u001b[1;32m    762\u001b[0m                     \u001b[0;34m\"Expected 2D array, got 1D array instead:\\narray={}.\\n\"\u001b[0m\u001b[0;34m\u001b[0m\u001b[0;34m\u001b[0m\u001b[0m\n\u001b[1;32m    763\u001b[0m                     \u001b[0;34m\"Reshape your data either using array.reshape(-1, 1) if \"\u001b[0m\u001b[0;34m\u001b[0m\u001b[0;34m\u001b[0m\u001b[0m\n",
      "\u001b[0;31mValueError\u001b[0m: Expected 2D array, got 1D array instead:\narray=['<sos> mcgrath rentcorp said as a result of its december acquisition of space co it expects earnings per share in 1987 of 1 15 to 1 30 dlrs per share up from 70 cts in 1986 the company said pretax net should rise to nine to 10 mln dlrs from six mln dlrs in 1986 and rental operation revenues to 19 to 22 mln dlrs from 12 5 mln dlrs it said cash flow per share this year should be 2 50 to three dlrs reuter 3'\n \"<sos> generale de banque sa lt genb br and lt heller overseas corp of chicago have each taken 50 pct stakes in factoring company sa belgo factors generale de banque said in a statement it gave no financial details of the transaction sa belgo factors' turnover in 1986 was 17 5 billion belgian francs reuter 3\"\n '<sos> shr 3 28 dlrs vs 22 cts shr diluted 2 99 dlrs vs 22 cts net 46 0 mln vs 3 328 000 avg shrs 14 0 mln vs 15 2 mln year shr 5 41 dlrs vs 1 56 dlrs shr diluted 4 94 dlrs vs 1 50 dlrs net 78 2 mln vs 25 9 mln avg shrs 14 5 mln vs 15 1 mln note earnings per share reflect the two for one split effective january 6 1987 per share amounts are calculated after preferred stock dividends loss continuing operations for the qtr 1986 includes gains of sale of investments in enron corp of 14 mln dlrs and associated companies of 4 189 000 less writedowns of investments in national intergroup inc of 11 8 mln and brae corp of 15 6 mln reuter 3'\n ...\n \"<sos> international phoenix energy corp said it launched a gold recovery venture with lt phoenix exploration and recovery inc and mexico's sistemas tecnicos de recuperaciones sociedad anonima de capital variable the company said the joint venture will explore and recover gold precious metals and artefacts from treasure ships worth 10 billion dlrs reported to have sunk in the harbor area of vera cruz mexico the company said it expects work to begin in 30 days reuter 3\"\n \"<sos> shr loss 76 cts vs profit 50 cts net loss 19 186 000 vs profit 12 438 000 sales 157 9 mln vs 149 2 mln note fiscal 1987 net loss includes a pretax charge of 19 5 mln dlrs from restructuring and an after tax charge of about seven mln dlrs from debt prepayment premiums fiscal 1986 net profit includes a pretax gain of 7 2 mln dlrs on the sale of some land an after tax loss 1 35 mln dlrs from discontinued operations and an after tax gain of 6 7 mln dlrs from a change in accounting all results restated to exclude five businesses divested as part of the company's restructuring program reuter 3\"\n \"<sos> currency fluctuations may reassert their influence on the bullion market in the near future bullion bankers samuel montagu and co ltd said in a market report but the firm said silver may lag behind gold in any reactions to movements on foreign exchanges opec's failure to address the recent decline in oil prices remains a worrying factor however and on balance it appears that the market should be approached cautiously montagu said the bank said the us economy has shown no noticeable long term improvement and that both latin american debt and the iranian arms affair could undermine confidence in the dollar reuter 3\"].\nReshape your data either using array.reshape(-1, 1) if your data has a single feature or array.reshape(1, -1) if it contains a single sample."
     ]
    }
   ],
   "source": [
    "from sklearn.feature_extraction.text import TfidfTransformer\n",
    "\n",
    "tfidf_transformer = TfidfTransformer()\n",
    "tfidfv_none = tfidf_transformer.fit_transform(x_train_none)"
   ]
  },
  {
   "cell_type": "markdown",
   "id": "54e2e490",
   "metadata": {},
   "source": [
    "=> 2d-array가 필요하다는 에러  \n",
    "원인을 찾지 못함 "
   ]
  },
  {
   "cell_type": "code",
   "execution_count": 31,
   "id": "21c109ae",
   "metadata": {},
   "outputs": [],
   "source": [
    "from sklearn.feature_extraction.text import CountVectorizer\n",
    "from sklearn.feature_extraction.text import TfidfTransformer"
   ]
  },
  {
   "cell_type": "code",
   "execution_count": 32,
   "id": "c8bb3532",
   "metadata": {},
   "outputs": [],
   "source": [
    "def myVectorizer(x_train, x_test):\n",
    "    dtmvector = CountVectorizer()\n",
    "    x_train_dtm = dtmvector.fit_transform(x_train)\n",
    "    \n",
    "    tfidf_transformer = TfidfTransformer()\n",
    "    tfidfv_train = tfidf_transformer.fit_transform(x_train_dtm)\n",
    "    \n",
    "    x_test_dim = dtmvector.transform(x_test)\n",
    "    tfidfv_test = tfidf_transformer.transform(x_test_dim)\n",
    "    \n",
    "    return tfidfv_train, tfidfv_test"
   ]
  },
  {
   "cell_type": "code",
   "execution_count": 33,
   "id": "ffbdd44a",
   "metadata": {},
   "outputs": [],
   "source": [
    "tfidfv_train_none, tfidfv_test_none = myVectorizer(x_train_none, x_test_none)"
   ]
  },
  {
   "cell_type": "code",
   "execution_count": 34,
   "id": "66bd41f0",
   "metadata": {},
   "outputs": [],
   "source": [
    "tfidfv_train_2500, tfidfv_test_2500 = myVectorizer(x_train_2500, x_test_2500)\n",
    "tfidfv_train_5000, tfidfv_test_5000 = myVectorizer(x_train_5000, x_test_5000)\n",
    "tfidfv_train_7500, tfidfv_test_7500 = myVectorizer(x_train_7500, x_test_7500)\n",
    "tfidfv_train_10000, tfidfv_test_10000 = myVectorizer(x_train_10000, x_test_10000)\n",
    "tfidfv_train_12500, tfidfv_test_12500 = myVectorizer(x_train_12500, x_test_12500)\n",
    "tfidfv_train_15000, tfidfv_test_15000 = myVectorizer(x_train_15000, x_test_15000)\n",
    "tfidfv_train_17500, tfidfv_test_17500 = myVectorizer(x_train_17500, x_test_17500)\n",
    "tfidfv_train_20000, tfidfv_test_20000 = myVectorizer(x_train_20000, x_test_20000)"
   ]
  },
  {
   "cell_type": "code",
   "execution_count": 35,
   "id": "e4d8b1ca",
   "metadata": {},
   "outputs": [],
   "source": [
    "data_set_list = [\n",
    "    (tfidfv_train_5000, y_train_5000, tfidfv_test_5000,y_test_5000),\n",
    "    (tfidfv_train_10000, y_train_10000, tfidfv_test_10000,y_test_10000),\n",
    "    (tfidfv_train_15000, y_train_15000, tfidfv_test_15000,y_test_15000)\n",
    "]"
   ]
  },
  {
   "cell_type": "markdown",
   "id": "223a6b9a",
   "metadata": {},
   "source": [
    "## 모델"
   ]
  },
  {
   "cell_type": "code",
   "execution_count": 36,
   "id": "caf551b3",
   "metadata": {},
   "outputs": [],
   "source": [
    "from sklearn.metrics import accuracy_score, f1_score, classification_report, confusion_matrix"
   ]
  },
  {
   "cell_type": "code",
   "execution_count": 37,
   "id": "16db847d",
   "metadata": {},
   "outputs": [],
   "source": [
    "from sklearn.naive_bayes import MultinomialNB #다항분포 나이브 베이즈 모델\n",
    "from sklearn.linear_model import LogisticRegression, SGDClassifier\n",
    "from sklearn.naive_bayes import ComplementNB\n",
    "from sklearn.tree import DecisionTreeClassifier\n",
    "from sklearn.ensemble import RandomForestClassifier\n",
    "from sklearn.ensemble import GradientBoostingClassifier\n",
    "from sklearn.ensemble import VotingClassifier\n",
    "from sklearn.svm import LinearSVC"
   ]
  },
  {
   "cell_type": "markdown",
   "id": "d9bd945b",
   "metadata": {},
   "source": [
    "##### 모델 파라미터"
   ]
  },
  {
   "cell_type": "code",
   "execution_count": 38,
   "id": "3aba57b9",
   "metadata": {},
   "outputs": [],
   "source": [
    "nb = MultinomialNB()\n",
    "cnb = ComplementNB()\n",
    "lr = LogisticRegression(C=10000, penalty='l2', max_iter=3000)\n",
    "svc = LinearSVC(C=1000, penalty='l1', max_iter=3000, dual=False)\n",
    "dtree = DecisionTreeClassifier(max_depth=10, random_state=0)\n",
    "rf = RandomForestClassifier(n_estimators=5, random_state=0)\n",
    "gboost = GradientBoostingClassifier(random_state=0)\n",
    "voting_classifier =  VotingClassifier(estimators=[(\"lr\",LogisticRegression(C=10000, penalty='l2', max_iter=3000))\n",
    "                                                  ,(\"cNB\",ComplementNB())\n",
    "                                                  ,(\"gboost\",GradientBoostingClassifier(random_state=0))]\n",
    "                                      ,voting='soft')"
   ]
  },
  {
   "cell_type": "markdown",
   "id": "78215ee4",
   "metadata": {},
   "source": [
    "##### Support vector machine"
   ]
  },
  {
   "cell_type": "code",
   "execution_count": 41,
   "id": "0565a53a",
   "metadata": {},
   "outputs": [
    {
     "name": "stdout",
     "output_type": "stream",
     "text": [
      "(8982, 4867)\n",
      "정확도:  0.7751558325912734\n",
      "f1 score[macro]:  0.6386016316562068\n",
      "f1 score[weighted] 0.772052814629195\n",
      "(8982, 9670)\n",
      "정확도:  0.7880676758682101\n",
      "f1 score[macro]:  0.6387823273831286\n",
      "f1 score[weighted] 0.7844219295773943\n",
      "(8982, 14227)\n",
      "정확도:  0.788512911843277\n",
      "f1 score[macro]:  0.6356777978984908\n",
      "f1 score[weighted] 0.7836544125797896\n"
     ]
    }
   ],
   "source": [
    "import warnings\n",
    "warnings.filterwarnings('ignore')\n",
    "\n",
    "svc_accuracy_list = []\n",
    "svc_f1_score_weighted_list = []\n",
    "\n",
    "for tfidfv_train, y_train, tfidfv_test, y_test in data_set_list:\n",
    "    print(tfidfv_train.shape)\n",
    "    svc = LinearSVC(C=1000, penalty='l1', max_iter=3000, dual=False)\n",
    "    svc.fit(tfidfv_train,y_train)\n",
    "    \n",
    "    predicted = svc.predict(tfidfv_test)\n",
    "    print(\"정확도: \",accuracy_score(y_test,predicted))\n",
    "    print(\"f1 score[weighted]\", f1_score(y_test, predicted, average='weighted'))\n",
    "\n",
    "    svc_accuracy_list.append({tfidfv_train.shape[1]:accuracy_score(y_test,predicted)})\n",
    "    svc_f1_score_weighted_list.append({tfidfv_train.shape[1]:f1_score(y_test, predicted, average='weighted')})"
   ]
  },
  {
   "cell_type": "code",
   "execution_count": 53,
   "id": "df3ad7b0",
   "metadata": {},
   "outputs": [
    {
     "name": "stdout",
     "output_type": "stream",
     "text": [
      "accuracy:  [{4867: 0.7752}, {9670: 0.7881}, {14227: 0.7885}]\n",
      "f1-score[weighted]:  [{4867: 0.7721}, {9670: 0.7844}, {14227: 0.7837}]\n"
     ]
    }
   ],
   "source": [
    "print(\"accuracy: \",[{k: round(v, 4)} for d in svc_accuracy_list for k, v in d.items()])\n",
    "print(\"f1-score[weighted]: \",[{k: round(v, 4)} for d in svc_f1_score_weighted_list for k, v in d.items()])"
   ]
  },
  {
   "cell_type": "markdown",
   "id": "b3dcd5bd",
   "metadata": {},
   "source": [
    "##### Gradient Boosting"
   ]
  },
  {
   "cell_type": "code",
   "execution_count": 42,
   "id": "849f8e2f",
   "metadata": {
    "scrolled": true
   },
   "outputs": [
    {
     "name": "stdout",
     "output_type": "stream",
     "text": [
      "(8982, 4867)\n",
      "정확도:  0.767586821015138\n",
      "f1 score[macro]:  0.5791898381470704\n",
      "f1 score[weighted] 0.7662475269931749\n",
      "(8982, 9670)\n",
      "정확도:  0.7662511130899377\n",
      "f1 score[macro]:  0.5776976501680481\n",
      "f1 score[weighted] 0.7622247724249729\n",
      "(8982, 14227)\n",
      "정확도:  0.7707034728406055\n",
      "f1 score[macro]:  0.5715717208990925\n",
      "f1 score[weighted] 0.7679654864390242\n"
     ]
    }
   ],
   "source": [
    "gboost_accuracy_list = []\n",
    "gboost_f1_score_weighted_list = []\n",
    "\n",
    "for tfidfv_train, y_train, tfidfv_test, y_test in data_set_list:\n",
    "    print(tfidfv_train.shape)\n",
    "    gboost = GradientBoostingClassifier(random_state=0)\n",
    "    gboost.fit(tfidfv_train, y_train)\n",
    "    \n",
    "    predicted = gboost.predict(tfidfv_test)\n",
    "    print(\"정확도: \", accuracy_score(y_test, predicted))\n",
    "    print(\"f1 score[weighted]\", f1_score(y_test, predicted, average='weighted'))\n",
    "\n",
    "    gboost_accuracy_list.append({tfidfv_train.shape[1]:accuracy_score(y_test, predicted)})\n",
    "    gboost_f1_score_weighted_list.append({tfidfv_train.shape[1]:f1_score(y_test, predicted, average='weighted')})"
   ]
  },
  {
   "cell_type": "code",
   "execution_count": 52,
   "id": "aad43a13",
   "metadata": {
    "scrolled": true
   },
   "outputs": [
    {
     "name": "stdout",
     "output_type": "stream",
     "text": [
      "accuracy:  [{4867: 0.7676}, {9670: 0.7663}, {14227: 0.7707}]\n",
      "f1-score[weighted]:  [{4867: 0.7662}, {9670: 0.7622}, {14227: 0.768}]\n"
     ]
    }
   ],
   "source": [
    "print(\"accuracy: \",[{k: round(v, 4)} for d in gboost_accuracy_list for k, v in d.items()])\n",
    "print(\"f1-score[weighted]: \",[{k: round(v, 4)} for d in gboost_f1_score_weighted_list for k, v in d.items()])"
   ]
  },
  {
   "cell_type": "markdown",
   "id": "8c2c660b",
   "metadata": {},
   "source": [
    "##### Decision Tree"
   ]
  },
  {
   "cell_type": "code",
   "execution_count": 54,
   "id": "5bcfa2f7",
   "metadata": {},
   "outputs": [
    {
     "name": "stdout",
     "output_type": "stream",
     "text": [
      "(8982, 4867)\n",
      "정확도:  0.6179875333926982\n",
      "f1 score[weighted] 0.5729970881280324\n",
      "(8982, 9670)\n",
      "정확도:  0.6202137132680321\n",
      "f1 score[weighted] 0.5776398779280149\n",
      "(8982, 14227)\n",
      "정확도:  0.6193232413178985\n",
      "f1 score[weighted] 0.5755585664009136\n"
     ]
    }
   ],
   "source": [
    "dtree_accuracy_list = []\n",
    "dtree_f1_score_weighted_list = []\n",
    "\n",
    "for tfidfv_train, y_train, tfidfv_test, y_test in data_set_list:\n",
    "    print(tfidfv_train.shape)\n",
    "    dtree = DecisionTreeClassifier(max_depth=10, random_state=0)\n",
    "    dtree.fit(tfidfv_train, y_train)\n",
    "\n",
    "    predicted = dtree.predict(tfidfv_test)\n",
    "    print(\"정확도: \", accuracy_score(y_test, predicted))\n",
    "    print(\"f1 score[weighted]\", f1_score(y_test, predicted, average='weighted'))\n",
    "\n",
    "    dtree_accuracy_list.append({tfidfv_train.shape[1]:accuracy_score(y_test, predicted)})\n",
    "    dtree_f1_score_weighted_list.append({tfidfv_train.shape[1]:f1_score(y_test, predicted, average='weighted')})\n"
   ]
  },
  {
   "cell_type": "code",
   "execution_count": 55,
   "id": "c40102ae",
   "metadata": {},
   "outputs": [
    {
     "name": "stdout",
     "output_type": "stream",
     "text": [
      "accuracy:  [{4867: 0.618}, {9670: 0.6202}, {14227: 0.6193}]\n",
      "f1-score[weighted]:  [{4867: 0.573}, {9670: 0.5776}, {14227: 0.5756}]\n"
     ]
    }
   ],
   "source": [
    "print(\"accuracy: \",[{k: round(v, 4)} for d in dtree_accuracy_list for k, v in d.items()])\n",
    "print(\"f1-score[weighted]: \",[{k: round(v, 4)} for d in dtree_f1_score_weighted_list for k, v in d.items()])"
   ]
  },
  {
   "cell_type": "markdown",
   "id": "e5221878",
   "metadata": {},
   "source": [
    "##### Complement Naive Bayes"
   ]
  },
  {
   "cell_type": "code",
   "execution_count": 57,
   "id": "7b8e504d",
   "metadata": {},
   "outputs": [
    {
     "name": "stdout",
     "output_type": "stream",
     "text": [
      "(8982, 4867)\n",
      "정확도:  0.7707034728406055\n",
      "f1 score[weighted] 0.7458990404916549\n",
      "(8982, 9670)\n",
      "정확도:  0.7707034728406055\n",
      "f1 score[weighted] 0.7456682614453047\n",
      "(8982, 14227)\n",
      "정확도:  0.7720391807658059\n",
      "f1 score[weighted] 0.7448186439256785\n"
     ]
    }
   ],
   "source": [
    "cnb_accuracy_list = []\n",
    "cnb_f1_score_weighted_list = []\n",
    "\n",
    "for tfidfv_train, y_train, tfidfv_test, y_test in data_set_list:\n",
    "    print(tfidfv_train.shape)\n",
    "    cnb = ComplementNB()\n",
    "    cnb.fit(tfidfv_train, y_train)\n",
    "\n",
    "    predicted = cnb.predict(tfidfv_test)\n",
    "    print(\"정확도: \", accuracy_score(y_test, predicted))\n",
    "    print(\"f1 score[weighted]\", f1_score(y_test, predicted, average='weighted'))\n",
    "\n",
    "    cnb_accuracy_list.append({tfidfv_train.shape[1]:accuracy_score(y_test, predicted)})\n",
    "    cnb_f1_score_weighted_list.append({tfidfv_train.shape[1]:f1_score(y_test, predicted, average='weighted')})"
   ]
  },
  {
   "cell_type": "code",
   "execution_count": 58,
   "id": "c4e4eb93",
   "metadata": {},
   "outputs": [
    {
     "name": "stdout",
     "output_type": "stream",
     "text": [
      "accuracy:  [{4867: 0.7707}, {9670: 0.7707}, {14227: 0.772}]\n",
      "f1-score[weighted]:  [{4867: 0.7459}, {9670: 0.7457}, {14227: 0.7448}]\n"
     ]
    }
   ],
   "source": [
    "print(\"accuracy: \",[{k: round(v, 4)} for d in cnb_accuracy_list for k, v in d.items()])\n",
    "print(\"f1-score[weighted]: \",[{k: round(v, 4)} for d in cnb_f1_score_weighted_list for k, v in d.items()])"
   ]
  },
  {
   "cell_type": "markdown",
   "id": "dc889bee",
   "metadata": {},
   "source": [
    "## 딥러닝 모델"
   ]
  },
  {
   "cell_type": "code",
   "execution_count": 9,
   "id": "73e07494",
   "metadata": {},
   "outputs": [],
   "source": [
    "from tensorflow.keras.datasets import reuters\n",
    "from tensorflow.keras.preprocessing.sequence import pad_sequences\n",
    "from tensorflow.keras.utils import to_categorical\n",
    "\n",
    "# 하이퍼파라미터 설정\n",
    "vocab_size = 10000     # 사용할 단어 수\n",
    "maxlen = 200           # 시퀀스 길이 고정\n",
    "\n",
    "# 데이터 불러오기\n",
    "(x_train, y_train), (x_test, y_test) = reuters.load_data(num_words=vocab_size, test_split=0.2)\n",
    "\n",
    "# 시퀀스 패딩\n",
    "x_train = pad_sequences(x_train, maxlen=maxlen, padding='pre')\n",
    "x_test = pad_sequences(x_test, maxlen=maxlen, padding='pre')\n",
    "\n",
    "# 레이블 one-hot 인코딩 (다중 클래스 분류)\n",
    "num_classes = max(y_train) + 1\n",
    "y_train = to_categorical(y_train, num_classes)\n",
    "y_test = to_categorical(y_test, num_classes)\n"
   ]
  },
  {
   "cell_type": "code",
   "execution_count": 10,
   "id": "4b3a97e9",
   "metadata": {},
   "outputs": [
    {
     "name": "stdout",
     "output_type": "stream",
     "text": [
      "Model: \"sequential_2\"\n",
      "_________________________________________________________________\n",
      "Layer (type)                 Output Shape              Param #   \n",
      "=================================================================\n",
      "embedding_2 (Embedding)      (None, 200, 128)          1280000   \n",
      "_________________________________________________________________\n",
      "simple_rnn_2 (SimpleRNN)     (None, 64)                12352     \n",
      "_________________________________________________________________\n",
      "dense_2 (Dense)              (None, 46)                2990      \n",
      "=================================================================\n",
      "Total params: 1,295,342\n",
      "Trainable params: 1,295,342\n",
      "Non-trainable params: 0\n",
      "_________________________________________________________________\n"
     ]
    }
   ],
   "source": [
    "from tensorflow.keras.models import Sequential\n",
    "from tensorflow.keras.layers import Embedding, SimpleRNN, Dense\n",
    "\n",
    "embedding_dim = 128\n",
    "rnn_units = 64\n",
    "\n",
    "model = Sequential()\n",
    "model.add(Embedding(vocab_size, embedding_dim, input_length=maxlen))\n",
    "model.add(SimpleRNN(rnn_units))\n",
    "model.add(Dense(num_classes, activation='softmax'))  # 다중 클래스 분류\n",
    "\n",
    "model.compile(loss='categorical_crossentropy',\n",
    "              optimizer='adam',\n",
    "              metrics=['accuracy'])\n",
    "\n",
    "model.summary()\n"
   ]
  },
  {
   "cell_type": "code",
   "execution_count": 11,
   "id": "4661a925",
   "metadata": {},
   "outputs": [
    {
     "name": "stdout",
     "output_type": "stream",
     "text": [
      "Epoch 1/20\n",
      "57/57 [==============================] - 10s 162ms/step - loss: 2.7348 - accuracy: 0.3371 - val_loss: 2.3892 - val_accuracy: 0.3450\n",
      "Epoch 2/20\n",
      "57/57 [==============================] - 9s 160ms/step - loss: 2.3365 - accuracy: 0.3932 - val_loss: 2.3058 - val_accuracy: 0.4162\n",
      "Epoch 3/20\n",
      "57/57 [==============================] - 9s 159ms/step - loss: 2.0516 - accuracy: 0.4683 - val_loss: 2.1571 - val_accuracy: 0.4112\n",
      "Epoch 4/20\n",
      "57/57 [==============================] - 9s 160ms/step - loss: 1.6110 - accuracy: 0.5919 - val_loss: 1.9443 - val_accuracy: 0.4530\n",
      "Epoch 5/20\n",
      "57/57 [==============================] - 9s 161ms/step - loss: 1.2489 - accuracy: 0.7100 - val_loss: 1.9897 - val_accuracy: 0.4452\n",
      "Epoch 6/20\n",
      "57/57 [==============================] - 9s 160ms/step - loss: 0.9405 - accuracy: 0.7901 - val_loss: 2.0617 - val_accuracy: 0.4491\n",
      "Epoch 7/20\n",
      "57/57 [==============================] - 9s 159ms/step - loss: 0.6938 - accuracy: 0.8594 - val_loss: 2.1369 - val_accuracy: 0.4485\n"
     ]
    }
   ],
   "source": [
    "from tensorflow.keras.callbacks import EarlyStopping\n",
    "\n",
    "early_stop = EarlyStopping(monitor='val_loss', patience=3, restore_best_weights=True)\n",
    "\n",
    "history = model.fit(x_train, y_train,\n",
    "                    epochs=20,\n",
    "                    batch_size=128,\n",
    "                    validation_split=0.2,\n",
    "                    callbacks=[early_stop])\n"
   ]
  },
  {
   "cell_type": "code",
   "execution_count": 12,
   "id": "7c9b398f",
   "metadata": {},
   "outputs": [
    {
     "name": "stdout",
     "output_type": "stream",
     "text": [
      "71/71 [==============================] - 1s 18ms/step - loss: 1.9391 - accuracy: 0.4653\n",
      "Test Accuracy: 0.4653\n"
     ]
    }
   ],
   "source": [
    "loss, acc = model.evaluate(x_test, y_test)\n",
    "print(f'Test Accuracy: {acc:.4f}')\n"
   ]
  },
  {
   "cell_type": "markdown",
   "id": "15839aad",
   "metadata": {},
   "source": [
    "딥러닝 모델 추가, 수정이 필요함"
   ]
  },
  {
   "cell_type": "markdown",
   "id": "f1cb0ea7",
   "metadata": {},
   "source": [
    "## 결론"
   ]
  },
  {
   "cell_type": "markdown",
   "id": "a2b43809",
   "metadata": {},
   "source": [
    "8가지 머신러닝 기법에 대해 5000, 10000, 15000으로 실험 결과"
   ]
  },
  {
   "cell_type": "code",
   "execution_count": 14,
   "id": "ab7ce210",
   "metadata": {},
   "outputs": [],
   "source": [
    "# accuracy\n",
    "svm_accuracy = [0.775,0.788,0.789]\n",
    "gboost_accuracy = [0.768, 0.766, 0.771]\n",
    "dtree_accuracy = [0.618, 0.620, 0.619]\n",
    "cnb_accuracy = [0.771, 0.771, 0.77]\n",
    "nb_accuracy = [0.6732, 0.6589, 0.6371]\n",
    "voting_nb_lr_rf_acc = [0.7560,0.7369,0.7222]\n",
    "lr_accuracy = [0.80,0.81,0.81]\n",
    "rf_accuracy = [0.70,0.67,0.67]"
   ]
  },
  {
   "cell_type": "code",
   "execution_count": 25,
   "id": "4503bdd7",
   "metadata": {},
   "outputs": [],
   "source": [
    "# f1-score[weighted]\n",
    "svm_f1 = [0.772,0.784,0.784]\n",
    "gboost_f1 = [0.766, 0.762, 0.768]\n",
    "dtree_f1 = [0.573,0.578,0.576]\n",
    "cnb_f1 = [0.746,0.746,0.745]\n",
    "nb_f1 = [0.6013,0.5782,0.5536]\n",
    "voting_nb_lr_rf_f1 = [0.7222,0.6962,0.6781]\n",
    "lr_f1 = [0.80,0.81,0.81]\n",
    "rf_f1 = [0.68,0.64,0.64]"
   ]
  },
  {
   "cell_type": "code",
   "execution_count": 26,
   "id": "acdea951",
   "metadata": {},
   "outputs": [
    {
     "data": {
      "image/png": "[encoded data removed]",
      "text/plain": [
       "<Figure size 1152x720 with 1 Axes>"
      ]
     },
     "metadata": {
      "needs_background": "light"
     },
     "output_type": "display_data"
    }
   ],
   "source": [
    "import matplotlib.pyplot as plt\n",
    "# vocab_size\n",
    "rounds = [5000, 10000, 15000]\n",
    "# 🔍 그래프 크기 키우기\n",
    "plt.figure(figsize=(16, 10))\n",
    "\n",
    "# 모델별 선 그래프\n",
    "plt.plot(rounds, svm_accuracy, marker='o', label='SVM')\n",
    "plt.plot(rounds, gboost_accuracy, marker='o', label='Gradient Boosting')\n",
    "plt.plot(rounds, dtree_accuracy, marker='o', label='Decision Tree')\n",
    "plt.plot(rounds, cnb_accuracy,marker='o',  label='Complement NB')\n",
    "plt.plot(rounds, nb_accuracy, marker='o', label='Naive Bayes')\n",
    "plt.plot(rounds, voting_nb_lr_rf_acc,marker='o',  label='Voting (NB+LR+RF)')\n",
    "plt.plot(rounds, lr_accuracy, marker='o', label='Logistic Regression')\n",
    "plt.plot(rounds, rf_accuracy,marker='o',  label='Random Forest')\n",
    "\n",
    "# x축 설정 (3개만 출력)\n",
    "plt.xticks(ticks=rounds)\n",
    "\n",
    "# 그래프 설정\n",
    "plt.xlabel('Experiment Round')\n",
    "plt.ylabel('Accuracy')\n",
    "plt.title('Model Accuracy Comparison')\n",
    "plt.ylim(0.6, 0.85)  # y축 범위 조절\n",
    "plt.legend(bbox_to_anchor=(1.05, 1), loc='upper left', borderaxespad=0.)\n",
    "\n",
    "plt.tight_layout()\n",
    "\n",
    "# 그래프 표시\n",
    "plt.show()"
   ]
  },
  {
   "cell_type": "code",
   "execution_count": 28,
   "id": "6773fdfb",
   "metadata": {},
   "outputs": [
    {
     "data": {
      "image/png": "[encoded data removed]",
      "text/plain": [
       "<Figure size 1152x720 with 1 Axes>"
      ]
     },
     "metadata": {
      "needs_background": "light"
     },
     "output_type": "display_data"
    }
   ],
   "source": [
    "# vocab_size\n",
    "rounds = [5000, 10000, 15000]\n",
    "# 🔍 그래프 크기 키우기\n",
    "plt.figure(figsize=(16, 10))\n",
    "\n",
    "# 모델별 선 그래프\n",
    "plt.plot(rounds, svm_f1, marker='o', label='SVM')\n",
    "plt.plot(rounds, gboost_f1, marker='o', label='Gradient Boosting')\n",
    "plt.plot(rounds, dtree_f1, marker='o', label='Decision Tree')\n",
    "plt.plot(rounds, cnb_f1,marker='o',  label='Complement NB')\n",
    "plt.plot(rounds, nb_f1, marker='o', label='Naive Bayes')\n",
    "plt.plot(rounds, voting_nb_lr_rf_f1,marker='o',  label='Voting (NB+LR+RF)')\n",
    "plt.plot(rounds, lr_f1, marker='o', label='Logistic Regression')\n",
    "plt.plot(rounds, rf_f1,marker='o',  label='Random Forest')\n",
    "\n",
    "# x축 설정 (3개만 출력)\n",
    "plt.xticks(ticks=rounds)\n",
    "\n",
    "# 그래프 설정\n",
    "plt.xlabel('Experiment Round')\n",
    "plt.ylabel('F1 score')\n",
    "plt.title('Model F1 score Comparison')\n",
    "plt.ylim(0.5, 0.85)  # y축 범위 조절\n",
    "plt.legend(bbox_to_anchor=(1.05, 1), loc='upper left', borderaxespad=0.)\n",
    "\n",
    "plt.tight_layout()\n",
    "\n",
    "# 그래프 표시\n",
    "plt.show()"
   ]
  },
  {
   "cell_type": "markdown",
   "id": "02a460f4",
   "metadata": {},
   "source": [
    "#### 팀 인사이트"
   ]
  },
  {
   "cell_type": "markdown",
   "id": "ac89e8eb",
   "metadata": {},
   "source": [
    "| **모델** | **5000 Acc / F1** | **10000 Acc / F1** | **15000 Acc / F1** |\n",
    "| --- | --- | --- | --- |\n",
    "| **전통 ML 단일 모델** |  |  |  |\n",
    "| Decision Tree (dtree) | 0.618 / 0.573 | 0.6202 / 0.5776 | 0.6193 / 0.5756 |\n",
    "| Naive Bayes | 0.6732 / 0.6013 | 0.6589 / 0.5782 | 0.6371 / 0.5536 |\n",
    "| Complement Naive Bayes | 0.7707 / 0.7459 | 0.7707 / 0.7457 | 0.772 / 0.7448 |\n",
    "| SVM | 0.7752 / 0.7721 | 0.7881 / 0.7844 | 0.7885 / 0.7837 |\n",
    "| Random Forest | 0.70 / 0.68 | 0.67 / 0.64 | 0.67 / 0.64 |\n",
    "| Gradient Boosting | 0.7676 / 0.7662 | 0.7663 / 0.7622 | 0.7707 / 0.7680 |\n",
    "| Logistic Regression (L2) | 0.80 / 0.80 | 0.81 / 0.81 | 0.81 / 0.81 |\n",
    "| **ML Ensemble voting** |  |  |  |\n",
    "| NB + LR + RF (soft) | 0.7560 / 0.7222 | 0.7369 / 0.6962 | 0.7222 / 0.6781 |\n",
    "| NB + SVM + RF (hard) | 0.7752 / 0.7510 | 0.7582 / 0.7310 | 0.7507 / 0.7229 |\n",
    "| CNB + SVM + RF (hard) | 0.7979 / 0.7794 | 0.8010 / 0.7828 | 0.7983 / 0.7809 |\n",
    "| LR + SVM + GBT (hard) | **0.8215 / 0.8100** | 0.8179 / 0.8075 | 0.8197 / 0.8088 |\n",
    "| **딥러닝 모델** (5000만 측정) |  |  |  |\n",
    "| LSTM | 0.6109 / 0.5635 | 0.64/0.62 | - |\n",
    "| Bi-LSTM | 0.5850 / 0.5317 | - | - |\n",
    "| CNN | 0.7912 / 0.7736 | - | - |"
   ]
  },
  {
   "cell_type": "markdown",
   "id": "df430a14",
   "metadata": {},
   "source": [
    "| 단어 수 (vocab size) | 평균 Accuracy | 평균 F1-score | 요약 평가 |\n",
    "| --- | --- | --- | --- |\n",
    "| 5,000 | 0.7357 | 0.7102 | ⚪ 안정적이나 약간 부족 |\n",
    "| **10,000** | **0.7399** | **0.7135** | 🟢 **가장 균형 좋고 성능 우수** |\n",
    "| 15,000 | 0.7334 | 0.7041 | 🟡 일부 모델은 좋지만 평균은 하락 |"
   ]
  },
  {
   "cell_type": "markdown",
   "id": "55e1d40b",
   "metadata": {},
   "source": [
    " \n",
    "- 단일모델로 보았을 때 SVM과 LR이 가장 높은 성능을 보임\n",
    "- 복합모델로는 SVM과 LR이 포함된 보팅모델이 가장 높은 성능을 보였다.\n",
    "- 가장 높은 성능을 보인것은 단어 수 5000에 복합모델이지만 평균적으로 좋은 성능을 보이는 단어 수는 10,000으로 확인됨\n",
    "- 전체적으로 DL모델에 비해 ML모델이 더 높은 성능을 보임 (데이터 수가 적어서 그런 것으로 추정)\n",
    "- 트리 모델에서는 구분기준이 명확한 경우에 좋은 성능을 기대할 수 있고, 뉴스토픽같이 구분이 기준이 명확하지 않을 때는 선형기반모델이 좋은 성능을 기대할 수 있다."
   ]
  },
  {
   "cell_type": "markdown",
   "id": "1b41e8a9",
   "metadata": {},
   "source": [
    "## 회고"
   ]
  },
  {
   "cell_type": "markdown",
   "id": "0d534948",
   "metadata": {},
   "source": [
    "코드 정리가 더 필요하다.  \n",
    "좀 더 많은 수의 vocab를 실험해서 경향성을 확인하고 싶다.  \n",
    "딥러닝 simple rnn 설계가 잘못된 것 같다.(확인 필요함)  \n",
    "딥러닝 모델에 대해서도 다양하게 실험이 필요하다.  \n",
    "  \n",
    "알고리즘 기반 모델에 대해서는 `선형성을 가지는 모델`과 `트리 기반 모델`, `확률 기반 모델`로 나눠서 생각해 볼 수 있다.  \n",
    "언어 데이터에 대해서는 `선형성을 가지는 모델`이 좋은 성능을 보여주는데, tf-idf를 사용하면 고차원 공간에서 클래스들이 선형적으로 구분 가능한 경우가 많아서 성능이 좋은 것 같다.  \n",
    "`트리 기반 모델`은 클래스를 나누는 기준이 명확할 때 성능이 좋은데, 언어 데이터에서는 이런 특성이 없어서, 성능이 좋지 않은 것 같다.   \n",
    "`확률 기반 모델`은 다중분류 문제에서는 클래스간 경계가 명확하지 않은데, 클래스 간 경계가 복잡한 경우 단순한 확률 분포로 분리하기 어려운 것 같다.\n",
    "\n",
    "공부가 더 필요하다  "
   ]
  },
  {
   "cell_type": "code",
   "execution_count": null,
   "id": "d6502f5c",
   "metadata": {},
   "outputs": [],
   "source": []
  }
 ],
 "metadata": {
  "kernelspec": {
   "display_name": "Python 3 (ipykernel)",
   "language": "python",
   "name": "python3"
  },
  "language_info": {
   "codemirror_mode": {
    "name": "ipython",
    "version": 3
   },
   "file_extension": ".py",
   "mimetype": "text/x-python",
   "name": "python",
   "nbconvert_exporter": "python",
   "pygments_lexer": "ipython3",
   "version": "3.9.7"
  }
 },
 "nbformat": 4,
 "nbformat_minor": 5
}
