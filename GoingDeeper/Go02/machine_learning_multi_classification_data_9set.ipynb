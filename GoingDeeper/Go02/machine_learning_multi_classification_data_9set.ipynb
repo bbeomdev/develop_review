{
 "cells": [
  {
   "cell_type": "markdown",
   "id": "e1b0cc65",
   "metadata": {},
   "source": [
    "# 다양한 알고리즘 머신러닝 분류기를 사용해 뉴스 다중분류 해보자"
   ]
  },
  {
   "cell_type": "code",
   "execution_count": 1,
   "id": "d79a5da2",
   "metadata": {},
   "outputs": [
    {
     "name": "stdout",
     "output_type": "stream",
     "text": [
      "2.6.0\n",
      "3.4.3\n",
      "0.11.2\n",
      "1.21.4\n",
      "1.3.3\n",
      "1.0\n"
     ]
    }
   ],
   "source": [
    "import numpy as np\n",
    "import pandas as pd\n",
    "\n",
    "import matplotlib as mpl\n",
    "import matplotlib.pyplot as plt\n",
    "import seaborn as sns\n",
    "\n",
    "import sklearn\n",
    "\n",
    "import tensorflow as tf\n",
    "from tensorflow.keras.datasets import reuters\n",
    "\n",
    "print(tf.__version__)\n",
    "print(mpl.__version__)\n",
    "print(sns.__version__)\n",
    "print(np.__version__)\n",
    "print(pd.__version__)\n",
    "print(sklearn.__version__)"
   ]
  },
  {
   "cell_type": "markdown",
   "id": "19050e63",
   "metadata": {},
   "source": [
    "## 데이터 준비; 단어-인덱스 사전 생성;"
   ]
  },
  {
   "cell_type": "markdown",
   "id": "6ac3de95",
   "metadata": {},
   "source": [
    "##### word_to_index, index_to_word"
   ]
  },
  {
   "cell_type": "code",
   "execution_count": 2,
   "id": "1e24694a",
   "metadata": {},
   "outputs": [],
   "source": [
    "word_to_index = reuters.get_word_index(path=\"reuters_word_index.json\")"
   ]
  },
  {
   "cell_type": "code",
   "execution_count": 3,
   "id": "fbfd75a4",
   "metadata": {},
   "outputs": [
    {
     "data": {
      "text/plain": [
       "30979"
      ]
     },
     "execution_count": 3,
     "metadata": {},
     "output_type": "execute_result"
    }
   ],
   "source": [
    "len(word_to_index)"
   ]
  },
  {
   "cell_type": "code",
   "execution_count": 4,
   "id": "e7e14d3f",
   "metadata": {},
   "outputs": [],
   "source": [
    "index_to_word = { index+3 : word for word, index in word_to_index.items() }"
   ]
  },
  {
   "cell_type": "markdown",
   "id": "713eec46",
   "metadata": {},
   "source": [
    "+3 -> `<pad>`, `<sos>`, `<unk>`"
   ]
  },
  {
   "cell_type": "code",
   "execution_count": 5,
   "id": "1892f3bf",
   "metadata": {},
   "outputs": [],
   "source": [
    "for index, token in enumerate((\"<pad>\", \"<sos>\", \"<unk>\")):\n",
    "    index_to_word[index]=token"
   ]
  },
  {
   "cell_type": "markdown",
   "id": "8fa77b61",
   "metadata": {},
   "source": [
    "##### index_to_word 함수"
   ]
  },
  {
   "cell_type": "code",
   "execution_count": 6,
   "id": "1179d923",
   "metadata": {},
   "outputs": [],
   "source": [
    "# index -> word 함수\n",
    "def get_word(data):\n",
    "    decoded_text = []\n",
    "    for i in range(len(data)):\n",
    "        t = ' '.join([index_to_word[index] for index in data[i]])\n",
    "        decoded_text.append(t)\n",
    "    return decoded_text"
   ]
  },
  {
   "cell_type": "markdown",
   "id": "7a21ad4e",
   "metadata": {},
   "source": [
    "##### 모든 단어 사용"
   ]
  },
  {
   "cell_type": "code",
   "execution_count": 7,
   "id": "372fce94",
   "metadata": {},
   "outputs": [],
   "source": [
    "(x_train_none, y_train_none), (x_test_none, y_test_none) = reuters.load_data(num_words=None, test_split=0.2)"
   ]
  },
  {
   "cell_type": "markdown",
   "id": "b93af385",
   "metadata": {},
   "source": [
    "위에서 word_to_index의 크기를 확인해 num_words=None 일때의 단어 수가 30979개인 것을 알 수 있다."
   ]
  },
  {
   "cell_type": "code",
   "execution_count": 8,
   "id": "dd30f446",
   "metadata": {},
   "outputs": [
    {
     "data": {
      "text/plain": [
       "'<sos> mcgrath rentcorp said as a result of its december acquisition of space co it expects earnings per share in 1987 of 1 15 to 1 30 dlrs per share up from 70 cts in 1986 the company said pretax net should rise to nine to 10 mln dlrs from six mln dlrs in 1986 and rental operation revenues to 19 to 22 mln dlrs from 12 5 mln dlrs it said cash flow per share this year should be 2 50 to three dlrs reuter 3'"
      ]
     },
     "execution_count": 8,
     "metadata": {},
     "output_type": "execute_result"
    }
   ],
   "source": [
    "x_train_none = get_word(x_train_none)\n",
    "x_train_none[0]"
   ]
  },
  {
   "cell_type": "code",
   "execution_count": 9,
   "id": "908061f0",
   "metadata": {},
   "outputs": [
    {
     "data": {
      "text/plain": [
       "'<sos> the great atlantic and pacific tea co said its three year 345 mln dlr capital program will be be substantially increased to accommodate growth and expansion plans for waldbaum inc and shopwell inc over the next two years a and p said the acquisition of shopwell in august 1986 and waldbaum in december helped us achieve better than expected results in the fourth quarter ended february 28 its net income from continuing operations jumped 52 6 pct to 20 7 mln dlrs or 55 cts a share in the latest quarter as sales increased 48 3 pct to 1 58 billion dlrs a and p gave no details on the expanded capital program but it did say it completed the first year of the program during 1986 a and p is 52 4 pct owned by lt tengelmann warenhandelsgesellschaft of west germany reuter 3'"
      ]
     },
     "execution_count": 9,
     "metadata": {},
     "output_type": "execute_result"
    }
   ],
   "source": [
    "x_test_none = get_word(x_test_none)\n",
    "x_test_none[0]"
   ]
  },
  {
   "cell_type": "markdown",
   "id": "4a984d19",
   "metadata": {},
   "source": [
    "##### 빈도수 상위 2,500개"
   ]
  },
  {
   "cell_type": "code",
   "execution_count": 10,
   "id": "dcfe493e",
   "metadata": {},
   "outputs": [],
   "source": [
    "(x_train_2500, y_train_2500), (x_test_2500, y_test_2500) = reuters.load_data(num_words=2500, test_split=0.2)"
   ]
  },
  {
   "cell_type": "code",
   "execution_count": 11,
   "id": "bc253c05",
   "metadata": {},
   "outputs": [],
   "source": [
    "x_train_2500 = get_word(x_train_2500)\n",
    "x_test_2500 = get_word(x_test_2500)"
   ]
  },
  {
   "cell_type": "markdown",
   "id": "10cc01e6",
   "metadata": {},
   "source": [
    "##### 빈도수 상위 5,000개"
   ]
  },
  {
   "cell_type": "code",
   "execution_count": 12,
   "id": "4aa2540a",
   "metadata": {},
   "outputs": [],
   "source": [
    "(x_train_5000, y_train_5000), (x_test_5000, y_test_5000) = reuters.load_data(num_words=5000, test_split=0.2)"
   ]
  },
  {
   "cell_type": "code",
   "execution_count": 13,
   "id": "afc85eb1",
   "metadata": {},
   "outputs": [],
   "source": [
    "x_train_5000 = get_word(x_train_5000)\n",
    "x_test_5000 = get_word(x_test_5000)"
   ]
  },
  {
   "cell_type": "markdown",
   "id": "f5974d40",
   "metadata": {},
   "source": [
    "##### 빈도수 상위 7,500개"
   ]
  },
  {
   "cell_type": "code",
   "execution_count": 14,
   "id": "b1cfad6c",
   "metadata": {},
   "outputs": [],
   "source": [
    "(x_train_7500, y_train_7500), (x_test_7500, y_test_7500) = reuters.load_data(num_words=7500, test_split=0.2)"
   ]
  },
  {
   "cell_type": "code",
   "execution_count": 15,
   "id": "7e2393b2",
   "metadata": {},
   "outputs": [],
   "source": [
    "x_train_7500 = get_word(x_train_7500)\n",
    "x_test_7500 = get_word(x_test_7500)"
   ]
  },
  {
   "cell_type": "markdown",
   "id": "3fd21c3a",
   "metadata": {},
   "source": [
    "##### 빈도수 상위 10,000개"
   ]
  },
  {
   "cell_type": "code",
   "execution_count": 16,
   "id": "bcccf923",
   "metadata": {},
   "outputs": [],
   "source": [
    "(x_train_10000, y_train_10000), (x_test_10000, y_test_10000) = reuters.load_data(num_words=10000, test_split=0.2)"
   ]
  },
  {
   "cell_type": "code",
   "execution_count": 17,
   "id": "9e114199",
   "metadata": {},
   "outputs": [],
   "source": [
    "x_train_10000 = get_word(x_train_10000)\n",
    "x_test_10000 = get_word(x_test_10000)"
   ]
  },
  {
   "cell_type": "markdown",
   "id": "0288a8c7",
   "metadata": {},
   "source": [
    "##### 빈도수 상위 12,500개"
   ]
  },
  {
   "cell_type": "code",
   "execution_count": 18,
   "id": "520dabc9",
   "metadata": {},
   "outputs": [],
   "source": [
    "(x_train_12500, y_train_12500), (x_test_12500, y_test_12500) = reuters.load_data(num_words=12500, test_split=0.2)"
   ]
  },
  {
   "cell_type": "code",
   "execution_count": 19,
   "id": "e9d2a060",
   "metadata": {},
   "outputs": [],
   "source": [
    "x_train_12500 = get_word(x_train_12500)\n",
    "x_test_12500 = get_word(x_test_12500)"
   ]
  },
  {
   "cell_type": "markdown",
   "id": "9c01ef50",
   "metadata": {},
   "source": [
    "##### 빈도수 상위 15,000개"
   ]
  },
  {
   "cell_type": "code",
   "execution_count": 20,
   "id": "cb3735ff",
   "metadata": {},
   "outputs": [],
   "source": [
    "(x_train_15000, y_train_15000), (x_test_15000, y_test_15000) = reuters.load_data(num_words=15000, test_split=0.2)"
   ]
  },
  {
   "cell_type": "code",
   "execution_count": 21,
   "id": "6c5257bf",
   "metadata": {},
   "outputs": [],
   "source": [
    "x_train_15000 = get_word(x_train_15000)\n",
    "x_test_15000 = get_word(x_test_15000)"
   ]
  },
  {
   "cell_type": "markdown",
   "id": "d366e4cd",
   "metadata": {},
   "source": [
    "##### 빈도수 상쉬 17,500개"
   ]
  },
  {
   "cell_type": "code",
   "execution_count": 22,
   "id": "4a8be4f5",
   "metadata": {},
   "outputs": [],
   "source": [
    "(x_train_17500, y_train_17500), (x_test_17500, y_test_17500) = reuters.load_data(num_words=17500, test_split=0.2)"
   ]
  },
  {
   "cell_type": "code",
   "execution_count": 23,
   "id": "b51a8410",
   "metadata": {},
   "outputs": [],
   "source": [
    "x_train_17500 = get_word(x_train_17500)\n",
    "x_test_17500 = get_word(x_test_17500)"
   ]
  },
  {
   "cell_type": "markdown",
   "id": "48bf904d",
   "metadata": {},
   "source": [
    "##### 빈도수 상위 20,000개"
   ]
  },
  {
   "cell_type": "code",
   "execution_count": 24,
   "id": "7c9cd2f8",
   "metadata": {},
   "outputs": [],
   "source": [
    "(x_train_20000, y_train_20000), (x_test_20000, y_test_20000) = reuters.load_data(num_words=20000, test_split=0.2)"
   ]
  },
  {
   "cell_type": "code",
   "execution_count": 25,
   "id": "c2bc077b",
   "metadata": {},
   "outputs": [],
   "source": [
    "x_train_20000 = get_word(x_train_20000)\n",
    "x_test_20000 = get_word(x_test_20000)"
   ]
  },
  {
   "cell_type": "markdown",
   "id": "5946dc36",
   "metadata": {},
   "source": [
    "## EDA"
   ]
  },
  {
   "cell_type": "markdown",
   "id": "e9e70491",
   "metadata": {},
   "source": [
    "### 문장 길이 분포 확인"
   ]
  },
  {
   "cell_type": "code",
   "execution_count": 26,
   "id": "e56c383b",
   "metadata": {},
   "outputs": [],
   "source": [
    "def analyze_text_length(x_train):\n",
    "    length = [len(l.split(\" \")) for l in x_train]\n",
    "    print('훈련용 뉴스의 최대 길이 :{}'.format(max(length)))\n",
    "    print('훈련용 뉴스의 평균 길이 :{}'.format(sum(length)/len(length)))\n",
    "    \n",
    "    plt.hist(length, bins=50)\n",
    "    plt.xlabel('length of samples')\n",
    "    plt.ylabel('number of samples')\n",
    "    plt.show()"
   ]
  },
  {
   "cell_type": "code",
   "execution_count": 27,
   "id": "6afe852e",
   "metadata": {},
   "outputs": [
    {
     "name": "stdout",
     "output_type": "stream",
     "text": [
      "훈련용 뉴스의 최대 길이 :2376\n",
      "훈련용 뉴스의 평균 길이 :145.5398574927633\n"
     ]
    },
    {
     "data": {
      "image/png": "[encoded data removed]",
      "text/plain": [
       "<Figure size 432x288 with 1 Axes>"
      ]
     },
     "metadata": {
      "needs_background": "light"
     },
     "output_type": "display_data"
    }
   ],
   "source": [
    "analyze_text_length(x_train_none)"
   ]
  },
  {
   "cell_type": "markdown",
   "id": "4230898a",
   "metadata": {},
   "source": [
    "### 클래스 빈도수 확인"
   ]
  },
  {
   "cell_type": "code",
   "execution_count": 28,
   "id": "61d1a2c4",
   "metadata": {},
   "outputs": [
    {
     "data": {
      "image/png": "[encoded data removed]",
      "text/plain": [
       "<Figure size 792x360 with 1 Axes>"
      ]
     },
     "metadata": {
      "needs_background": "light"
     },
     "output_type": "display_data"
    }
   ],
   "source": [
    "fig, axe = plt.subplots(ncols=1)\n",
    "fig.set_size_inches(11,5)\n",
    "sns.countplot(x=y_train_none)\n",
    "plt.show()"
   ]
  },
  {
   "cell_type": "code",
   "execution_count": 29,
   "id": "fea08449",
   "metadata": {},
   "outputs": [
    {
     "name": "stdout",
     "output_type": "stream",
     "text": [
      "각 클래스 빈도수:\n",
      "{3: 3159, 4: 1949, 19: 549, 16: 444, 1: 432, 11: 390, 20: 269, 13: 172, 8: 139, 10: 124, 9: 101, 21: 100, 25: 92, 2: 74, 18: 66, 24: 62, 0: 55, 34: 50, 12: 49, 36: 49, 6: 48, 28: 48, 30: 45, 23: 41, 17: 39, 31: 39, 40: 36, 32: 32, 41: 30, 14: 26, 26: 24, 39: 24, 43: 21, 15: 20, 29: 19, 37: 19, 38: 19, 45: 18, 5: 17, 7: 16, 22: 15, 27: 15, 42: 13, 44: 12, 33: 11, 35: 10}\n"
     ]
    }
   ],
   "source": [
    "unique_elements, counts_elements = np.unique(y_train_none, return_counts=True)\n",
    "print(\"각 클래스 빈도수:\")\n",
    "# print(np.asarray((unique_elements, counts_elements)))\n",
    "class_frequencies = dict(zip(unique_elements, counts_elements))\n",
    "print(dict(sorted(class_frequencies.items(), key=lambda x: x[1], reverse=True)))"
   ]
  },
  {
   "cell_type": "markdown",
   "id": "024f9960",
   "metadata": {},
   "source": [
    "3, 4 클래스가 특히 많은 것을 확인할 수 있다. => 클래스 불균형 데이터"
   ]
  },
  {
   "cell_type": "markdown",
   "id": "5debb80e",
   "metadata": {},
   "source": [
    "## 벡터화"
   ]
  },
  {
   "cell_type": "markdown",
   "id": "db83bf4f",
   "metadata": {},
   "source": [
    "##### 에러 기록"
   ]
  },
  {
   "cell_type": "markdown",
   "id": "44620672",
   "metadata": {},
   "source": [
    "[공식문서: https://scikit-learn.org/stable/modules/generated/sklearn.feature_extraction.text.TfidfVectorizer.html](https://scikit-learn.org/stable/modules/generated/sklearn.feature_extraction.text.TfidfVectorizer.html)  \n",
    "사용방법\n",
    "\n",
    "```python\n",
    "from sklearn.feature_extraction.text import TfidfVectorizer\n",
    "corpus = [\n",
    "    'This is the first document.',\n",
    "    'This document is the second document.',\n",
    "    'And this is the third one.',\n",
    "    'Is this the first document?',\n",
    "]\n",
    "vectorizer = TfidfVectorizer()\n",
    "X = vectorizer.fit_transform(corpus)\n",
    "vectorizer.get_feature_names_out()\n",
    "print(X.shape)\n",
    "```"
   ]
  },
  {
   "cell_type": "code",
   "execution_count": 30,
   "id": "7c0b692f",
   "metadata": {
    "scrolled": true
   },
   "outputs": [],
   "source": [
    "# from sklearn.feature_extraction.text import TfidfTransformer\n",
    "\n",
    "# tfidf_transformer = TfidfTransformer()\n",
    "# tfidfv_none = tfidf_transformer.fit_transform(x_train_none)"
   ]
  },
  {
   "cell_type": "markdown",
   "id": "a9c3120d",
   "metadata": {},
   "source": [
    "=> 2d-array가 필요하다는 에러  \n",
    "원인을 찾지 못함 "
   ]
  },
  {
   "cell_type": "code",
   "execution_count": 31,
   "id": "7ed59f78",
   "metadata": {},
   "outputs": [],
   "source": [
    "from sklearn.feature_extraction.text import CountVectorizer\n",
    "from sklearn.feature_extraction.text import TfidfTransformer"
   ]
  },
  {
   "cell_type": "code",
   "execution_count": 32,
   "id": "6b7bcdb7",
   "metadata": {},
   "outputs": [],
   "source": [
    "def myVectorizer(x_train, x_test):\n",
    "    dtmvector = CountVectorizer()\n",
    "    x_train_dtm = dtmvector.fit_transform(x_train)\n",
    "    \n",
    "    tfidf_transformer = TfidfTransformer()\n",
    "    tfidfv_train = tfidf_transformer.fit_transform(x_train_dtm)\n",
    "    \n",
    "    x_test_dim = dtmvector.transform(x_test)\n",
    "    tfidfv_test = tfidf_transformer.transform(x_test_dim)\n",
    "    \n",
    "    return tfidfv_train, tfidfv_test"
   ]
  },
  {
   "cell_type": "code",
   "execution_count": 33,
   "id": "07f8870d",
   "metadata": {},
   "outputs": [],
   "source": [
    "tfidfv_train_none, tfidfv_test_none = myVectorizer(x_train_none, x_test_none)"
   ]
  },
  {
   "cell_type": "code",
   "execution_count": 34,
   "id": "8b3cd644",
   "metadata": {},
   "outputs": [],
   "source": [
    "tfidfv_train_2500, tfidfv_test_2500 = myVectorizer(x_train_2500, x_test_2500)\n",
    "tfidfv_train_5000, tfidfv_test_5000 = myVectorizer(x_train_5000, x_test_5000)\n",
    "tfidfv_train_7500, tfidfv_test_7500 = myVectorizer(x_train_7500, x_test_7500)\n",
    "tfidfv_train_10000, tfidfv_test_10000 = myVectorizer(x_train_10000, x_test_10000)\n",
    "tfidfv_train_12500, tfidfv_test_12500 = myVectorizer(x_train_12500, x_test_12500)\n",
    "tfidfv_train_15000, tfidfv_test_15000 = myVectorizer(x_train_15000, x_test_15000)\n",
    "tfidfv_train_17500, tfidfv_test_17500 = myVectorizer(x_train_17500, x_test_17500)\n",
    "tfidfv_train_20000, tfidfv_test_20000 = myVectorizer(x_train_20000, x_test_20000)"
   ]
  },
  {
   "cell_type": "code",
   "execution_count": 35,
   "id": "2ed46ece",
   "metadata": {},
   "outputs": [],
   "source": [
    "data_set_list = [\n",
    "    (tfidfv_train_2500, y_train_2500, tfidfv_test_2500,y_test_2500),\n",
    "    (tfidfv_train_5000, y_train_5000, tfidfv_test_5000,y_test_5000),\n",
    "    (tfidfv_train_7500, y_train_7500, tfidfv_test_7500,y_test_7500),\n",
    "    (tfidfv_train_10000, y_train_10000, tfidfv_test_10000,y_test_10000),\n",
    "    (tfidfv_train_12500, y_train_12500, tfidfv_test_12500,y_test_12500),\n",
    "    (tfidfv_train_15000, y_train_15000, tfidfv_test_15000,y_test_15000),\n",
    "    (tfidfv_train_17500, y_train_17500, tfidfv_test_17500,y_test_17500),\n",
    "    (tfidfv_train_20000, y_train_20000, tfidfv_test_20000,y_test_20000),\n",
    "    (tfidfv_train_none, y_train_none, tfidfv_test_none,y_test_none)\n",
    "]"
   ]
  },
  {
   "cell_type": "markdown",
   "id": "bcce23ad",
   "metadata": {},
   "source": [
    "## 모델"
   ]
  },
  {
   "cell_type": "code",
   "execution_count": 36,
   "id": "2a8e206c",
   "metadata": {},
   "outputs": [],
   "source": [
    "from sklearn.metrics import accuracy_score, f1_score, classification_report, confusion_matrix"
   ]
  },
  {
   "cell_type": "code",
   "execution_count": 37,
   "id": "05e3b52a",
   "metadata": {},
   "outputs": [],
   "source": [
    "from sklearn.naive_bayes import MultinomialNB #다항분포 나이브 베이즈 모델\n",
    "from sklearn.linear_model import LogisticRegression, SGDClassifier\n",
    "from sklearn.naive_bayes import ComplementNB\n",
    "from sklearn.tree import DecisionTreeClassifier\n",
    "from sklearn.ensemble import RandomForestClassifier\n",
    "from sklearn.ensemble import GradientBoostingClassifier\n",
    "from sklearn.ensemble import VotingClassifier\n",
    "from sklearn.svm import LinearSVC"
   ]
  },
  {
   "cell_type": "markdown",
   "id": "6f2e4978",
   "metadata": {},
   "source": [
    "##### 모델 파라미터"
   ]
  },
  {
   "cell_type": "code",
   "execution_count": 38,
   "id": "3e3a8cd9",
   "metadata": {},
   "outputs": [],
   "source": [
    "# nb = MultinomialNB()\n",
    "# cnb = ComplementNB()\n",
    "# lr = LogisticRegression(C=10000, penalty='l2', max_iter=3000)\n",
    "# svc = LinearSVC(C=1000, penalty='l1', max_iter=3000, dual=False)\n",
    "# dtree = DecisionTreeClassifier(max_depth=10, random_state=0)\n",
    "# rf = RandomForestClassifier(n_estimators=5, random_state=0)\n",
    "# gboost = GradientBoostingClassifier(random_state=0)\n",
    "# voting_classifier =  VotingClassifier(estimators=[(\"lr\",LogisticRegression(C=10000, penalty='l2', max_iter=3000))\n",
    "#                                                   ,(\"cNB\",ComplementNB())\n",
    "#                                                   ,(\"gboost\",GradientBoostingClassifier(random_state=0))]\n",
    "#                                       ,voting='soft')"
   ]
  },
  {
   "cell_type": "markdown",
   "id": "5f11e102",
   "metadata": {},
   "source": [
    "##### Support vector machine"
   ]
  },
  {
   "cell_type": "code",
   "execution_count": 38,
   "id": "7676e0e7",
   "metadata": {},
   "outputs": [
    {
     "name": "stdout",
     "output_type": "stream",
     "text": [
      "(8982, 2430)\n",
      "정확도:  0.7439893143365984\n",
      "f1 score[weighted] 0.7398712245491692\n",
      "(8982, 4867)\n",
      "정확도:  0.776046304541407\n",
      "f1 score[weighted] 0.7729962800307133\n",
      "(8982, 7296)\n",
      "정확도:  0.7845057880676759\n",
      "f1 score[weighted] 0.7814931642950407\n",
      "(8982, 9670)\n",
      "정확도:  0.7853962600178095\n",
      "f1 score[weighted] 0.7809715257160044\n",
      "(8982, 11990)\n",
      "정확도:  0.7898486197684773\n",
      "f1 score[weighted] 0.786690474577824\n",
      "(8982, 14227)\n",
      "정확도:  0.782279608192342\n",
      "f1 score[weighted] 0.7787154054180729\n",
      "(8982, 16360)\n",
      "정확도:  0.786286731967943\n",
      "f1 score[weighted] 0.7824089078324064\n",
      "(8982, 18479)\n",
      "정확도:  0.7951914514692787\n",
      "f1 score[weighted] 0.791329914093402\n",
      "(8982, 26506)\n",
      "정확도:  0.7911843276936776\n",
      "f1 score[weighted] 0.78679596166075\n"
     ]
    }
   ],
   "source": [
    "import warnings\n",
    "warnings.filterwarnings('ignore')\n",
    "\n",
    "svc_accuracy_list = []\n",
    "svc_f1_score_weighted_list = []\n",
    "\n",
    "for tfidfv_train, y_train, tfidfv_test, y_test in data_set_list:\n",
    "    print(tfidfv_train.shape)\n",
    "    svc = LinearSVC(C=1000, penalty='l1', max_iter=3000, dual=False)\n",
    "    svc.fit(tfidfv_train,y_train)\n",
    "    \n",
    "    predicted = svc.predict(tfidfv_test)\n",
    "    print(\"정확도: \",accuracy_score(y_test,predicted))\n",
    "    print(\"f1 score[weighted]\", f1_score(y_test, predicted, average='weighted'))\n",
    "\n",
    "    svc_accuracy_list.append({tfidfv_train.shape[1]:accuracy_score(y_test,predicted)})\n",
    "    svc_f1_score_weighted_list.append({tfidfv_train.shape[1]:f1_score(y_test, predicted, average='weighted')})"
   ]
  },
  {
   "cell_type": "code",
   "execution_count": 39,
   "id": "808dc135",
   "metadata": {},
   "outputs": [
    {
     "name": "stdout",
     "output_type": "stream",
     "text": [
      "accuracy:  [{2430: 0.744}, {4867: 0.776}, {7296: 0.7845}, {9670: 0.7854}, {11990: 0.7898}, {14227: 0.7823}, {16360: 0.7863}, {18479: 0.7952}, {26506: 0.7912}]\n",
      "f1-score[weighted]:  [{2430: 0.7399}, {4867: 0.773}, {7296: 0.7815}, {9670: 0.781}, {11990: 0.7867}, {14227: 0.7787}, {16360: 0.7824}, {18479: 0.7913}, {26506: 0.7868}]\n"
     ]
    }
   ],
   "source": [
    "print(\"accuracy: \",[{k: round(v, 4)} for d in svc_accuracy_list for k, v in d.items()])\n",
    "print(\"f1-score[weighted]: \",[{k: round(v, 4)} for d in svc_f1_score_weighted_list for k, v in d.items()])"
   ]
  },
  {
   "cell_type": "markdown",
   "id": "3be9fac9",
   "metadata": {},
   "source": [
    "##### Decision Tree"
   ]
  },
  {
   "cell_type": "code",
   "execution_count": 40,
   "id": "2db3ea7b",
   "metadata": {},
   "outputs": [
    {
     "name": "stdout",
     "output_type": "stream",
     "text": [
      "(8982, 2430)\n",
      "정확도:  0.6260017809439002\n",
      "f1 score[weighted] 0.5793740833103838\n",
      "(8982, 4867)\n",
      "정확도:  0.6179875333926982\n",
      "f1 score[weighted] 0.5729970881280324\n",
      "(8982, 7296)\n",
      "정확도:  0.6202137132680321\n",
      "f1 score[weighted] 0.5731258120644569\n",
      "(8982, 9670)\n",
      "정확도:  0.6202137132680321\n",
      "f1 score[weighted] 0.5776398779280149\n",
      "(8982, 11990)\n",
      "정확도:  0.6206589492430988\n",
      "f1 score[weighted] 0.5737682162385347\n",
      "(8982, 14227)\n",
      "정확도:  0.6193232413178985\n",
      "f1 score[weighted] 0.5755585664009136\n",
      "(8982, 16360)\n",
      "정확도:  0.6197684772929652\n",
      "f1 score[weighted] 0.5735698647799298\n",
      "(8982, 18479)\n",
      "정확도:  0.6211041852181657\n",
      "f1 score[weighted] 0.576123209915252\n",
      "(8982, 26506)\n",
      "정확도:  0.6211041852181657\n",
      "f1 score[weighted] 0.5769283128518846\n"
     ]
    }
   ],
   "source": [
    "dtree_accuracy_list = []\n",
    "dtree_f1_score_weighted_list = []\n",
    "\n",
    "for tfidfv_train, y_train, tfidfv_test, y_test in data_set_list:\n",
    "    print(tfidfv_train.shape)\n",
    "    dtree = DecisionTreeClassifier(max_depth=10, random_state=0)\n",
    "    dtree.fit(tfidfv_train, y_train)\n",
    "\n",
    "    predicted = dtree.predict(tfidfv_test)\n",
    "    print(\"정확도: \", accuracy_score(y_test, predicted))\n",
    "    print(\"f1 score[weighted]\", f1_score(y_test, predicted, average='weighted'))\n",
    "\n",
    "    dtree_accuracy_list.append({tfidfv_train.shape[1]:accuracy_score(y_test, predicted)})\n",
    "    dtree_f1_score_weighted_list.append({tfidfv_train.shape[1]:f1_score(y_test, predicted, average='weighted')})\n"
   ]
  },
  {
   "cell_type": "code",
   "execution_count": 41,
   "id": "4dfbf378",
   "metadata": {},
   "outputs": [
    {
     "name": "stdout",
     "output_type": "stream",
     "text": [
      "accuracy:  [{2430: 0.626}, {4867: 0.618}, {7296: 0.6202}, {9670: 0.6202}, {11990: 0.6207}, {14227: 0.6193}, {16360: 0.6198}, {18479: 0.6211}, {26506: 0.6211}]\n",
      "f1-score[weighted]:  [{2430: 0.5794}, {4867: 0.573}, {7296: 0.5731}, {9670: 0.5776}, {11990: 0.5738}, {14227: 0.5756}, {16360: 0.5736}, {18479: 0.5761}, {26506: 0.5769}]\n"
     ]
    }
   ],
   "source": [
    "print(\"accuracy: \",[{k: round(v, 4)} for d in dtree_accuracy_list for k, v in d.items()])\n",
    "print(\"f1-score[weighted]: \",[{k: round(v, 4)} for d in dtree_f1_score_weighted_list for k, v in d.items()])"
   ]
  },
  {
   "cell_type": "markdown",
   "id": "fb449c34",
   "metadata": {},
   "source": [
    "##### Complement Naive Bayes"
   ]
  },
  {
   "cell_type": "code",
   "execution_count": 42,
   "id": "4a8c87d8",
   "metadata": {},
   "outputs": [
    {
     "name": "stdout",
     "output_type": "stream",
     "text": [
      "(8982, 2430)\n",
      "정확도:  0.7609082813891362\n",
      "f1 score[weighted] 0.7332431109256139\n",
      "(8982, 4867)\n",
      "정확도:  0.7707034728406055\n",
      "f1 score[weighted] 0.7458990404916549\n",
      "(8982, 7296)\n",
      "정확도:  0.7693677649154052\n",
      "f1 score[weighted] 0.7454248415675131\n",
      "(8982, 9670)\n",
      "정확도:  0.7707034728406055\n",
      "f1 score[weighted] 0.7456682614453047\n",
      "(8982, 11990)\n",
      "정확도:  0.7733748886910062\n",
      "f1 score[weighted] 0.7478467240937832\n",
      "(8982, 14227)\n",
      "정확도:  0.7720391807658059\n",
      "f1 score[weighted] 0.7448186439256785\n",
      "(8982, 16360)\n",
      "정확도:  0.7707034728406055\n",
      "f1 score[weighted] 0.7434691625454202\n",
      "(8982, 18479)\n",
      "정확도:  0.7671415850400712\n",
      "f1 score[weighted] 0.7390612170450325\n",
      "(8982, 26506)\n",
      "정확도:  0.7649154051647373\n",
      "f1 score[weighted] 0.7346534179503126\n"
     ]
    }
   ],
   "source": [
    "cnb_accuracy_list = []\n",
    "cnb_f1_score_weighted_list = []\n",
    "\n",
    "for tfidfv_train, y_train, tfidfv_test, y_test in data_set_list:\n",
    "    print(tfidfv_train.shape)\n",
    "    cnb = ComplementNB()\n",
    "    cnb.fit(tfidfv_train, y_train)\n",
    "\n",
    "    predicted = cnb.predict(tfidfv_test)\n",
    "    print(\"정확도: \", accuracy_score(y_test, predicted))\n",
    "    print(\"f1 score[weighted]\", f1_score(y_test, predicted, average='weighted'))\n",
    "\n",
    "    cnb_accuracy_list.append({tfidfv_train.shape[1]:accuracy_score(y_test, predicted)})\n",
    "    cnb_f1_score_weighted_list.append({tfidfv_train.shape[1]:f1_score(y_test, predicted, average='weighted')})"
   ]
  },
  {
   "cell_type": "code",
   "execution_count": 43,
   "id": "65f0f106",
   "metadata": {},
   "outputs": [
    {
     "name": "stdout",
     "output_type": "stream",
     "text": [
      "accuracy:  [{2430: 0.7609}, {4867: 0.7707}, {7296: 0.7694}, {9670: 0.7707}, {11990: 0.7734}, {14227: 0.772}, {16360: 0.7707}, {18479: 0.7671}, {26506: 0.7649}]\n",
      "f1-score[weighted]:  [{2430: 0.7332}, {4867: 0.7459}, {7296: 0.7454}, {9670: 0.7457}, {11990: 0.7478}, {14227: 0.7448}, {16360: 0.7435}, {18479: 0.7391}, {26506: 0.7347}]\n"
     ]
    }
   ],
   "source": [
    "print(\"accuracy: \",[{k: round(v, 4)} for d in cnb_accuracy_list for k, v in d.items()])\n",
    "print(\"f1-score[weighted]: \",[{k: round(v, 4)} for d in cnb_f1_score_weighted_list for k, v in d.items()])"
   ]
  },
  {
   "cell_type": "markdown",
   "id": "b9174348",
   "metadata": {},
   "source": [
    "##### Gradient Boosting"
   ]
  },
  {
   "cell_type": "code",
   "execution_count": 44,
   "id": "c8accfa3",
   "metadata": {
    "scrolled": false
   },
   "outputs": [
    {
     "name": "stdout",
     "output_type": "stream",
     "text": [
      "(8982, 2430)\n",
      "정확도:  0.7666963490650045\n",
      "f1 score[weighted] 0.7639437605488705\n",
      "(8982, 4867)\n",
      "정확도:  0.767586821015138\n",
      "f1 score[weighted] 0.7662475269931749\n",
      "(8982, 7296)\n",
      "정확도:  0.7693677649154052\n",
      "f1 score[weighted] 0.7660537499210777\n",
      "(8982, 9670)\n",
      "정확도:  0.7662511130899377\n",
      "f1 score[weighted] 0.7622247724249729\n",
      "(8982, 11990)\n",
      "정확도:  0.7747105966162066\n",
      "f1 score[weighted] 0.770502408009844\n",
      "(8982, 14227)\n",
      "정확도:  0.7707034728406055\n",
      "f1 score[weighted] 0.7679654864390242\n",
      "(8982, 16360)\n",
      "정확도:  0.7617987533392698\n",
      "f1 score[weighted] 0.7601479410530589\n",
      "(8982, 18479)\n",
      "정확도:  0.7702582368655387\n",
      "f1 score[weighted] 0.7647126117421563\n",
      "(8982, 26506)\n",
      "정확도:  0.7702582368655387\n",
      "f1 score[weighted] 0.7641672650539437\n"
     ]
    }
   ],
   "source": [
    "gboost_accuracy_list = []\n",
    "gboost_f1_score_weighted_list = []\n",
    "\n",
    "for tfidfv_train, y_train, tfidfv_test, y_test in data_set_list:\n",
    "    print(tfidfv_train.shape)\n",
    "    gboost = GradientBoostingClassifier(random_state=0)\n",
    "    gboost.fit(tfidfv_train, y_train)\n",
    "    \n",
    "    predicted = gboost.predict(tfidfv_test)\n",
    "    print(\"정확도: \", accuracy_score(y_test, predicted))\n",
    "    print(\"f1 score[weighted]\", f1_score(y_test, predicted, average='weighted'))\n",
    "\n",
    "    gboost_accuracy_list.append({tfidfv_train.shape[1]:accuracy_score(y_test, predicted)})\n",
    "    gboost_f1_score_weighted_list.append({tfidfv_train.shape[1]:f1_score(y_test, predicted, average='weighted')})"
   ]
  },
  {
   "cell_type": "code",
   "execution_count": 45,
   "id": "19f5e570",
   "metadata": {
    "scrolled": false
   },
   "outputs": [
    {
     "name": "stdout",
     "output_type": "stream",
     "text": [
      "accuracy:  [{2430: 0.7667}, {4867: 0.7676}, {7296: 0.7694}, {9670: 0.7663}, {11990: 0.7747}, {14227: 0.7707}, {16360: 0.7618}, {18479: 0.7703}, {26506: 0.7703}]\n",
      "f1-score[weighted]:  [{2430: 0.7639}, {4867: 0.7662}, {7296: 0.7661}, {9670: 0.7622}, {11990: 0.7705}, {14227: 0.768}, {16360: 0.7601}, {18479: 0.7647}, {26506: 0.7642}]\n"
     ]
    }
   ],
   "source": [
    "print(\"accuracy: \",[{k: round(v, 4)} for d in gboost_accuracy_list for k, v in d.items()])\n",
    "print(\"f1-score[weighted]: \",[{k: round(v, 4)} for d in gboost_f1_score_weighted_list for k, v in d.items()])"
   ]
  },
  {
   "cell_type": "markdown",
   "id": "722a1271",
   "metadata": {},
   "source": [
    "##### Logistic Regression"
   ]
  },
  {
   "cell_type": "code",
   "execution_count": null,
   "id": "93626b8e",
   "metadata": {},
   "outputs": [
    {
     "name": "stdout",
     "output_type": "stream",
     "text": [
      "(8982, 2430)\n"
     ]
    }
   ],
   "source": [
    "lr_accuracy_list = []\n",
    "lr_f1_score_weighted_list = []\n",
    "\n",
    "for tfidfv_train, y_train, tfidfv_test, y_test in data_set_list:\n",
    "    print(tfidfv_train.shape)\n",
    "    lr = LogisticRegression(C=10000, penalty='l2', max_iter=3000)\n",
    "    lr.fit(tfidfv_train, y_train)\n",
    "\n",
    "    predicted = lr.predict(tfidfv_test)\n",
    "    print(\"정확도: \", accuracy_score(y_test, predicted))\n",
    "    print(\"f1 score[weighted]\", f1_score(y_test, predicted, average='weighted'))\n",
    "\n",
    "    lr_accuracy_list.append({tfidfv_train.shape[1]:accuracy_score(y_test, predicted)})\n",
    "    lr_f1_score_weighted_list.append({tfidfv_train.shape[1]:f1_score(y_test, predicted, average='weighted')})"
   ]
  },
  {
   "cell_type": "code",
   "execution_count": null,
   "id": "6a492fb8",
   "metadata": {},
   "outputs": [],
   "source": []
  }
 ],
 "metadata": {
  "kernelspec": {
   "display_name": "Python 3 (ipykernel)",
   "language": "python",
   "name": "python3"
  },
  "language_info": {
   "codemirror_mode": {
    "name": "ipython",
    "version": 3
   },
   "file_extension": ".py",
   "mimetype": "text/x-python",
   "name": "python",
   "nbconvert_exporter": "python",
   "pygments_lexer": "ipython3",
   "version": "3.9.7"
  }
 },
 "nbformat": 4,
 "nbformat_minor": 5
}
