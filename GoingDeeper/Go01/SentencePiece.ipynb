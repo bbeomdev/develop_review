{
 "cells": [
  {
   "cell_type": "markdown",
   "id": "625cfc71",
   "metadata": {},
   "source": [
    "# SentencePiece를 적용해서 네이버 영화리뷰 감정 분석\n",
    "\n",
    "\n",
    "데이터  \n",
    "- 200K\n",
    "- label\n",
    "    - 0: negative\n",
    "    - 1: positive\n",
    "    \n",
    "- .tsv format"
   ]
  },
  {
   "cell_type": "code",
   "execution_count": 1,
   "id": "40fc1d5d",
   "metadata": {},
   "outputs": [
    {
     "name": "stdout",
     "output_type": "stream",
     "text": [
      "2.6.0\n",
      "1.21.4\n",
      "3.4.3\n",
      "0.5.2\n"
     ]
    }
   ],
   "source": [
    "import numpy as np\n",
    "import pandas as pd\n",
    "import tensorflow as tf\n",
    "import matplotlib.pyplot as plt\n",
    "import matplotlib\n",
    "import konlpy\n",
    "import sentencepiece as spm\n",
    "\n",
    "print(tf.__version__)\n",
    "print(np.__version__)\n",
    "print(matplotlib.__version__)\n",
    "print(konlpy.__version__)"
   ]
  },
  {
   "cell_type": "code",
   "execution_count": 2,
   "id": "86cb02c3",
   "metadata": {},
   "outputs": [
    {
     "data": {
      "text/html": [
       "<div>\n",
       "<style scoped>\n",
       "    .dataframe tbody tr th:only-of-type {\n",
       "        vertical-align: middle;\n",
       "    }\n",
       "\n",
       "    .dataframe tbody tr th {\n",
       "        vertical-align: top;\n",
       "    }\n",
       "\n",
       "    .dataframe thead th {\n",
       "        text-align: right;\n",
       "    }\n",
       "</style>\n",
       "<table border=\"1\" class=\"dataframe\">\n",
       "  <thead>\n",
       "    <tr style=\"text-align: right;\">\n",
       "      <th></th>\n",
       "      <th>id</th>\n",
       "      <th>document</th>\n",
       "      <th>label</th>\n",
       "    </tr>\n",
       "  </thead>\n",
       "  <tbody>\n",
       "    <tr>\n",
       "      <th>0</th>\n",
       "      <td>9976970</td>\n",
       "      <td>아 더빙.. 진짜 짜증나네요 목소리</td>\n",
       "      <td>0</td>\n",
       "    </tr>\n",
       "    <tr>\n",
       "      <th>1</th>\n",
       "      <td>3819312</td>\n",
       "      <td>흠...포스터보고 초딩영화줄....오버연기조차 가볍지 않구나</td>\n",
       "      <td>1</td>\n",
       "    </tr>\n",
       "    <tr>\n",
       "      <th>2</th>\n",
       "      <td>10265843</td>\n",
       "      <td>너무재밓었다그래서보는것을추천한다</td>\n",
       "      <td>0</td>\n",
       "    </tr>\n",
       "    <tr>\n",
       "      <th>3</th>\n",
       "      <td>9045019</td>\n",
       "      <td>교도소 이야기구먼 ..솔직히 재미는 없다..평점 조정</td>\n",
       "      <td>0</td>\n",
       "    </tr>\n",
       "    <tr>\n",
       "      <th>4</th>\n",
       "      <td>6483659</td>\n",
       "      <td>사이몬페그의 익살스런 연기가 돋보였던 영화!스파이더맨에서 늙어보이기만 했던 커스틴 ...</td>\n",
       "      <td>1</td>\n",
       "    </tr>\n",
       "    <tr>\n",
       "      <th>...</th>\n",
       "      <td>...</td>\n",
       "      <td>...</td>\n",
       "      <td>...</td>\n",
       "    </tr>\n",
       "    <tr>\n",
       "      <th>149995</th>\n",
       "      <td>6222902</td>\n",
       "      <td>인간이 문제지.. 소는 뭔죄인가..</td>\n",
       "      <td>0</td>\n",
       "    </tr>\n",
       "    <tr>\n",
       "      <th>149996</th>\n",
       "      <td>8549745</td>\n",
       "      <td>평점이 너무 낮아서...</td>\n",
       "      <td>1</td>\n",
       "    </tr>\n",
       "    <tr>\n",
       "      <th>149997</th>\n",
       "      <td>9311800</td>\n",
       "      <td>이게 뭐요? 한국인은 거들먹거리고 필리핀 혼혈은 착하다?</td>\n",
       "      <td>0</td>\n",
       "    </tr>\n",
       "    <tr>\n",
       "      <th>149998</th>\n",
       "      <td>2376369</td>\n",
       "      <td>청춘 영화의 최고봉.방황과 우울했던 날들의 자화상</td>\n",
       "      <td>1</td>\n",
       "    </tr>\n",
       "    <tr>\n",
       "      <th>149999</th>\n",
       "      <td>9619869</td>\n",
       "      <td>한국 영화 최초로 수간하는 내용이 담긴 영화</td>\n",
       "      <td>0</td>\n",
       "    </tr>\n",
       "  </tbody>\n",
       "</table>\n",
       "<p>150000 rows × 3 columns</p>\n",
       "</div>"
      ],
      "text/plain": [
       "              id                                           document  label\n",
       "0        9976970                                아 더빙.. 진짜 짜증나네요 목소리      0\n",
       "1        3819312                  흠...포스터보고 초딩영화줄....오버연기조차 가볍지 않구나      1\n",
       "2       10265843                                  너무재밓었다그래서보는것을추천한다      0\n",
       "3        9045019                      교도소 이야기구먼 ..솔직히 재미는 없다..평점 조정      0\n",
       "4        6483659  사이몬페그의 익살스런 연기가 돋보였던 영화!스파이더맨에서 늙어보이기만 했던 커스틴 ...      1\n",
       "...          ...                                                ...    ...\n",
       "149995   6222902                                인간이 문제지.. 소는 뭔죄인가..      0\n",
       "149996   8549745                                      평점이 너무 낮아서...      1\n",
       "149997   9311800                    이게 뭐요? 한국인은 거들먹거리고 필리핀 혼혈은 착하다?      0\n",
       "149998   2376369                        청춘 영화의 최고봉.방황과 우울했던 날들의 자화상      1\n",
       "149999   9619869                           한국 영화 최초로 수간하는 내용이 담긴 영화      0\n",
       "\n",
       "[150000 rows x 3 columns]"
      ]
     },
     "execution_count": 2,
     "metadata": {},
     "output_type": "execute_result"
    }
   ],
   "source": [
    "df = pd.read_csv(\"./ratings_train.txt\", sep=\"\\t\")\n",
    "df"
   ]
  },
  {
   "cell_type": "code",
   "execution_count": 3,
   "id": "4882c016",
   "metadata": {},
   "outputs": [
    {
     "data": {
      "text/plain": [
       "id          0\n",
       "document    5\n",
       "label       0\n",
       "dtype: int64"
      ]
     },
     "execution_count": 3,
     "metadata": {},
     "output_type": "execute_result"
    }
   ],
   "source": [
    "df.isnull().sum()"
   ]
  },
  {
   "cell_type": "code",
   "execution_count": 4,
   "id": "bfba29d1",
   "metadata": {},
   "outputs": [
    {
     "data": {
      "text/html": [
       "<div>\n",
       "<style scoped>\n",
       "    .dataframe tbody tr th:only-of-type {\n",
       "        vertical-align: middle;\n",
       "    }\n",
       "\n",
       "    .dataframe tbody tr th {\n",
       "        vertical-align: top;\n",
       "    }\n",
       "\n",
       "    .dataframe thead th {\n",
       "        text-align: right;\n",
       "    }\n",
       "</style>\n",
       "<table border=\"1\" class=\"dataframe\">\n",
       "  <thead>\n",
       "    <tr style=\"text-align: right;\">\n",
       "      <th></th>\n",
       "      <th>id</th>\n",
       "      <th>document</th>\n",
       "      <th>label</th>\n",
       "    </tr>\n",
       "  </thead>\n",
       "  <tbody>\n",
       "    <tr>\n",
       "      <th>25857</th>\n",
       "      <td>2172111</td>\n",
       "      <td>NaN</td>\n",
       "      <td>1</td>\n",
       "    </tr>\n",
       "    <tr>\n",
       "      <th>55737</th>\n",
       "      <td>6369843</td>\n",
       "      <td>NaN</td>\n",
       "      <td>1</td>\n",
       "    </tr>\n",
       "    <tr>\n",
       "      <th>110014</th>\n",
       "      <td>1034280</td>\n",
       "      <td>NaN</td>\n",
       "      <td>0</td>\n",
       "    </tr>\n",
       "    <tr>\n",
       "      <th>126782</th>\n",
       "      <td>5942978</td>\n",
       "      <td>NaN</td>\n",
       "      <td>0</td>\n",
       "    </tr>\n",
       "    <tr>\n",
       "      <th>140721</th>\n",
       "      <td>1034283</td>\n",
       "      <td>NaN</td>\n",
       "      <td>0</td>\n",
       "    </tr>\n",
       "  </tbody>\n",
       "</table>\n",
       "</div>"
      ],
      "text/plain": [
       "             id document  label\n",
       "25857   2172111      NaN      1\n",
       "55737   6369843      NaN      1\n",
       "110014  1034280      NaN      0\n",
       "126782  5942978      NaN      0\n",
       "140721  1034283      NaN      0"
      ]
     },
     "execution_count": 4,
     "metadata": {},
     "output_type": "execute_result"
    }
   ],
   "source": [
    "df[df['document'].isna()]"
   ]
  },
  {
   "cell_type": "code",
   "execution_count": 5,
   "id": "4b63e146",
   "metadata": {},
   "outputs": [],
   "source": [
    "df.dropna(subset=['document'],inplace=True)"
   ]
  },
  {
   "cell_type": "code",
   "execution_count": 6,
   "id": "18e4adc2",
   "metadata": {},
   "outputs": [
    {
     "data": {
      "text/plain": [
       "id          0\n",
       "document    0\n",
       "label       0\n",
       "dtype: int64"
      ]
     },
     "execution_count": 6,
     "metadata": {},
     "output_type": "execute_result"
    }
   ],
   "source": [
    "# 확인\n",
    "df.isnull().sum()"
   ]
  },
  {
   "cell_type": "code",
   "execution_count": 7,
   "id": "8221e7ad",
   "metadata": {},
   "outputs": [
    {
     "data": {
      "text/plain": [
       "(149995, 3)"
      ]
     },
     "execution_count": 7,
     "metadata": {},
     "output_type": "execute_result"
    }
   ],
   "source": [
    "df.shape"
   ]
  },
  {
   "cell_type": "code",
   "execution_count": 8,
   "id": "18ad3771",
   "metadata": {},
   "outputs": [
    {
     "data": {
      "text/html": [
       "<div>\n",
       "<style scoped>\n",
       "    .dataframe tbody tr th:only-of-type {\n",
       "        vertical-align: middle;\n",
       "    }\n",
       "\n",
       "    .dataframe tbody tr th {\n",
       "        vertical-align: top;\n",
       "    }\n",
       "\n",
       "    .dataframe thead th {\n",
       "        text-align: right;\n",
       "    }\n",
       "</style>\n",
       "<table border=\"1\" class=\"dataframe\">\n",
       "  <thead>\n",
       "    <tr style=\"text-align: right;\">\n",
       "      <th></th>\n",
       "      <th>id</th>\n",
       "      <th>document</th>\n",
       "      <th>label</th>\n",
       "    </tr>\n",
       "  </thead>\n",
       "  <tbody>\n",
       "    <tr>\n",
       "      <th>13624</th>\n",
       "      <td>787889</td>\n",
       "      <td>\"브랜든리의 죽음을 헛되게 만들어버린 \"\"속편들\"\"\"</td>\n",
       "      <td>0</td>\n",
       "    </tr>\n",
       "    <tr>\n",
       "      <th>28313</th>\n",
       "      <td>787891</td>\n",
       "      <td>\"브랜든리의 죽음을 헛되게 만들어버린 \"\"속편들\"\"\"</td>\n",
       "      <td>0</td>\n",
       "    </tr>\n",
       "    <tr>\n",
       "      <th>123606</th>\n",
       "      <td>7868198</td>\n",
       "      <td>,</td>\n",
       "      <td>1</td>\n",
       "    </tr>\n",
       "    <tr>\n",
       "      <th>139045</th>\n",
       "      <td>7448690</td>\n",
       "      <td>,</td>\n",
       "      <td>1</td>\n",
       "    </tr>\n",
       "    <tr>\n",
       "      <th>31291</th>\n",
       "      <td>7871564</td>\n",
       "      <td>,,,</td>\n",
       "      <td>0</td>\n",
       "    </tr>\n",
       "    <tr>\n",
       "      <th>...</th>\n",
       "      <td>...</td>\n",
       "      <td>...</td>\n",
       "      <td>...</td>\n",
       "    </tr>\n",
       "    <tr>\n",
       "      <th>64332</th>\n",
       "      <td>648496</td>\n",
       "      <td>흥.</td>\n",
       "      <td>0</td>\n",
       "    </tr>\n",
       "    <tr>\n",
       "      <th>81256</th>\n",
       "      <td>7445099</td>\n",
       "      <td>흥미진진</td>\n",
       "      <td>1</td>\n",
       "    </tr>\n",
       "    <tr>\n",
       "      <th>135586</th>\n",
       "      <td>7204210</td>\n",
       "      <td>흥미진진</td>\n",
       "      <td>1</td>\n",
       "    </tr>\n",
       "    <tr>\n",
       "      <th>8446</th>\n",
       "      <td>5158304</td>\n",
       "      <td>힐러리 더프의 매력에 빠지다!!!</td>\n",
       "      <td>1</td>\n",
       "    </tr>\n",
       "    <tr>\n",
       "      <th>72688</th>\n",
       "      <td>5153363</td>\n",
       "      <td>힐러리 더프의 매력에 빠지다!!!</td>\n",
       "      <td>1</td>\n",
       "    </tr>\n",
       "  </tbody>\n",
       "</table>\n",
       "<p>4781 rows × 3 columns</p>\n",
       "</div>"
      ],
      "text/plain": [
       "             id                       document  label\n",
       "13624    787889  \"브랜든리의 죽음을 헛되게 만들어버린 \"\"속편들\"\"\"      0\n",
       "28313    787891  \"브랜든리의 죽음을 헛되게 만들어버린 \"\"속편들\"\"\"      0\n",
       "123606  7868198                              ,      1\n",
       "139045  7448690                              ,      1\n",
       "31291   7871564                            ,,,      0\n",
       "...         ...                            ...    ...\n",
       "64332    648496                             흥.      0\n",
       "81256   7445099                           흥미진진      1\n",
       "135586  7204210                           흥미진진      1\n",
       "8446    5158304             힐러리 더프의 매력에 빠지다!!!      1\n",
       "72688   5153363             힐러리 더프의 매력에 빠지다!!!      1\n",
       "\n",
       "[4781 rows x 3 columns]"
      ]
     },
     "execution_count": 8,
     "metadata": {},
     "output_type": "execute_result"
    }
   ],
   "source": [
    "# document, label 모두 중복인 경우: 4781\n",
    "df[df.duplicated(subset=['document','label'],keep=False)].sort_values(by='document')"
   ]
  },
  {
   "cell_type": "code",
   "execution_count": 9,
   "id": "eb1aca23",
   "metadata": {},
   "outputs": [],
   "source": [
    "both_dup_index = df[df.duplicated(subset=['document','label'],keep=False)].sort_values(by='document').index"
   ]
  },
  {
   "cell_type": "code",
   "execution_count": 10,
   "id": "8f74d9f0",
   "metadata": {},
   "outputs": [
    {
     "data": {
      "text/html": [
       "<div>\n",
       "<style scoped>\n",
       "    .dataframe tbody tr th:only-of-type {\n",
       "        vertical-align: middle;\n",
       "    }\n",
       "\n",
       "    .dataframe tbody tr th {\n",
       "        vertical-align: top;\n",
       "    }\n",
       "\n",
       "    .dataframe thead th {\n",
       "        text-align: right;\n",
       "    }\n",
       "</style>\n",
       "<table border=\"1\" class=\"dataframe\">\n",
       "  <thead>\n",
       "    <tr style=\"text-align: right;\">\n",
       "      <th></th>\n",
       "      <th>id</th>\n",
       "      <th>document</th>\n",
       "      <th>label</th>\n",
       "    </tr>\n",
       "  </thead>\n",
       "  <tbody>\n",
       "    <tr>\n",
       "      <th>114089</th>\n",
       "      <td>6993402</td>\n",
       "      <td>!</td>\n",
       "      <td>0</td>\n",
       "    </tr>\n",
       "    <tr>\n",
       "      <th>20014</th>\n",
       "      <td>181912</td>\n",
       "      <td>!</td>\n",
       "      <td>1</td>\n",
       "    </tr>\n",
       "    <tr>\n",
       "      <th>28313</th>\n",
       "      <td>787891</td>\n",
       "      <td>\"브랜든리의 죽음을 헛되게 만들어버린 \"\"속편들\"\"\"</td>\n",
       "      <td>0</td>\n",
       "    </tr>\n",
       "    <tr>\n",
       "      <th>13624</th>\n",
       "      <td>787889</td>\n",
       "      <td>\"브랜든리의 죽음을 헛되게 만들어버린 \"\"속편들\"\"\"</td>\n",
       "      <td>0</td>\n",
       "    </tr>\n",
       "    <tr>\n",
       "      <th>123606</th>\n",
       "      <td>7868198</td>\n",
       "      <td>,</td>\n",
       "      <td>1</td>\n",
       "    </tr>\n",
       "    <tr>\n",
       "      <th>...</th>\n",
       "      <td>...</td>\n",
       "      <td>...</td>\n",
       "      <td>...</td>\n",
       "    </tr>\n",
       "    <tr>\n",
       "      <th>47369</th>\n",
       "      <td>4802740</td>\n",
       "      <td>흥.</td>\n",
       "      <td>0</td>\n",
       "    </tr>\n",
       "    <tr>\n",
       "      <th>135586</th>\n",
       "      <td>7204210</td>\n",
       "      <td>흥미진진</td>\n",
       "      <td>1</td>\n",
       "    </tr>\n",
       "    <tr>\n",
       "      <th>81256</th>\n",
       "      <td>7445099</td>\n",
       "      <td>흥미진진</td>\n",
       "      <td>1</td>\n",
       "    </tr>\n",
       "    <tr>\n",
       "      <th>72688</th>\n",
       "      <td>5153363</td>\n",
       "      <td>힐러리 더프의 매력에 빠지다!!!</td>\n",
       "      <td>1</td>\n",
       "    </tr>\n",
       "    <tr>\n",
       "      <th>8446</th>\n",
       "      <td>5158304</td>\n",
       "      <td>힐러리 더프의 매력에 빠지다!!!</td>\n",
       "      <td>1</td>\n",
       "    </tr>\n",
       "  </tbody>\n",
       "</table>\n",
       "<p>4949 rows × 3 columns</p>\n",
       "</div>"
      ],
      "text/plain": [
       "             id                       document  label\n",
       "114089  6993402                              !      0\n",
       "20014    181912                              !      1\n",
       "28313    787891  \"브랜든리의 죽음을 헛되게 만들어버린 \"\"속편들\"\"\"      0\n",
       "13624    787889  \"브랜든리의 죽음을 헛되게 만들어버린 \"\"속편들\"\"\"      0\n",
       "123606  7868198                              ,      1\n",
       "...         ...                            ...    ...\n",
       "47369   4802740                             흥.      0\n",
       "135586  7204210                           흥미진진      1\n",
       "81256   7445099                           흥미진진      1\n",
       "72688   5153363             힐러리 더프의 매력에 빠지다!!!      1\n",
       "8446    5158304             힐러리 더프의 매력에 빠지다!!!      1\n",
       "\n",
       "[4949 rows x 3 columns]"
      ]
     },
     "execution_count": 10,
     "metadata": {},
     "output_type": "execute_result"
    }
   ],
   "source": [
    "# document만 중복인 경우: 4949\n",
    "df[df['document'].duplicated(keep=False)].sort_values(by='document')"
   ]
  },
  {
   "cell_type": "code",
   "execution_count": 11,
   "id": "ce0dfb16",
   "metadata": {},
   "outputs": [
    {
     "data": {
      "text/plain": [
       "Int64Index([114089,  20014,  28313,  13624, 123606, 139045,  18327,  48954,\n",
       "             55020, 117079,\n",
       "            ...\n",
       "             13642,  33450,  34428,  65859,  64332,  47369, 135586,  81256,\n",
       "             72688,   8446],\n",
       "           dtype='int64', length=4949)"
      ]
     },
     "execution_count": 11,
     "metadata": {},
     "output_type": "execute_result"
    }
   ],
   "source": [
    "one_dup_index = df[df['document'].duplicated(keep=False)].sort_values(by='document').index\n",
    "one_dup_index"
   ]
  },
  {
   "cell_type": "code",
   "execution_count": 12,
   "id": "75ba06b4",
   "metadata": {},
   "outputs": [],
   "source": [
    "diff_label_index = set(one_dup_index) -set(both_dup_index)"
   ]
  },
  {
   "cell_type": "code",
   "execution_count": 13,
   "id": "746ff9ac",
   "metadata": {},
   "outputs": [
    {
     "data": {
      "text/plain": [
       "60"
      ]
     },
     "execution_count": 13,
     "metadata": {},
     "output_type": "execute_result"
    }
   ],
   "source": [
    "pd.options.display.max_rows"
   ]
  },
  {
   "cell_type": "code",
   "execution_count": 14,
   "id": "a981e11d",
   "metadata": {},
   "outputs": [],
   "source": [
    "pd.set_option(\"display.max_rows\",60)"
   ]
  },
  {
   "cell_type": "code",
   "execution_count": 15,
   "id": "e95e3946",
   "metadata": {},
   "outputs": [
    {
     "data": {
      "text/html": [
       "<div>\n",
       "<style scoped>\n",
       "    .dataframe tbody tr th:only-of-type {\n",
       "        vertical-align: middle;\n",
       "    }\n",
       "\n",
       "    .dataframe tbody tr th {\n",
       "        vertical-align: top;\n",
       "    }\n",
       "\n",
       "    .dataframe thead th {\n",
       "        text-align: right;\n",
       "    }\n",
       "</style>\n",
       "<table border=\"1\" class=\"dataframe\">\n",
       "  <thead>\n",
       "    <tr style=\"text-align: right;\">\n",
       "      <th></th>\n",
       "      <th>id</th>\n",
       "      <th>document</th>\n",
       "      <th>label</th>\n",
       "    </tr>\n",
       "  </thead>\n",
       "  <tbody>\n",
       "    <tr>\n",
       "      <th>114089</th>\n",
       "      <td>6993402</td>\n",
       "      <td>!</td>\n",
       "      <td>0</td>\n",
       "    </tr>\n",
       "    <tr>\n",
       "      <th>20014</th>\n",
       "      <td>181912</td>\n",
       "      <td>!</td>\n",
       "      <td>1</td>\n",
       "    </tr>\n",
       "    <tr>\n",
       "      <th>48954</th>\n",
       "      <td>2853697</td>\n",
       "      <td>,,,</td>\n",
       "      <td>1</td>\n",
       "    </tr>\n",
       "    <tr>\n",
       "      <th>129891</th>\n",
       "      <td>7067912</td>\n",
       "      <td>....</td>\n",
       "      <td>1</td>\n",
       "    </tr>\n",
       "    <tr>\n",
       "      <th>74054</th>\n",
       "      <td>7573786</td>\n",
       "      <td>.....</td>\n",
       "      <td>1</td>\n",
       "    </tr>\n",
       "    <tr>\n",
       "      <th>...</th>\n",
       "      <td>...</td>\n",
       "      <td>...</td>\n",
       "      <td>...</td>\n",
       "    </tr>\n",
       "    <tr>\n",
       "      <th>52284</th>\n",
       "      <td>9488714</td>\n",
       "      <td>홍진호가 최고여야 하고 홍진호만 우승해야 한다고 주장하는 콩빠들 극혐;;</td>\n",
       "      <td>1</td>\n",
       "    </tr>\n",
       "    <tr>\n",
       "      <th>25064</th>\n",
       "      <td>6211444</td>\n",
       "      <td>화이팅</td>\n",
       "      <td>0</td>\n",
       "    </tr>\n",
       "    <tr>\n",
       "      <th>127888</th>\n",
       "      <td>5327155</td>\n",
       "      <td>휴</td>\n",
       "      <td>0</td>\n",
       "    </tr>\n",
       "    <tr>\n",
       "      <th>2374</th>\n",
       "      <td>7910238</td>\n",
       "      <td>휴</td>\n",
       "      <td>1</td>\n",
       "    </tr>\n",
       "    <tr>\n",
       "      <th>118036</th>\n",
       "      <td>7104728</td>\n",
       "      <td>흠</td>\n",
       "      <td>1</td>\n",
       "    </tr>\n",
       "  </tbody>\n",
       "</table>\n",
       "<p>168 rows × 3 columns</p>\n",
       "</div>"
      ],
      "text/plain": [
       "             id                                  document  label\n",
       "114089  6993402                                         !      0\n",
       "20014    181912                                         !      1\n",
       "48954   2853697                                       ,,,      1\n",
       "129891  7067912                                      ....      1\n",
       "74054   7573786                                     .....      1\n",
       "...         ...                                       ...    ...\n",
       "52284   9488714  홍진호가 최고여야 하고 홍진호만 우승해야 한다고 주장하는 콩빠들 극혐;;      1\n",
       "25064   6211444                                       화이팅      0\n",
       "127888  5327155                                         휴      0\n",
       "2374    7910238                                         휴      1\n",
       "118036  7104728                                         흠      1\n",
       "\n",
       "[168 rows x 3 columns]"
      ]
     },
     "execution_count": 15,
     "metadata": {},
     "output_type": "execute_result"
    }
   ],
   "source": [
    "df.loc[diff_label_index].sort_values(by='document')"
   ]
  },
  {
   "cell_type": "code",
   "execution_count": 16,
   "id": "cdd2f2a0",
   "metadata": {},
   "outputs": [],
   "source": [
    "# document는 중복이지만, 다른 label 값을 가지는 값 제거\n",
    "df.drop(diff_label_index, inplace=True)"
   ]
  },
  {
   "cell_type": "code",
   "execution_count": 17,
   "id": "d16b7668",
   "metadata": {},
   "outputs": [],
   "source": [
    "# 중복 데이터 제거\n",
    "df.drop_duplicates(subset=['document'],keep='first',inplace=True)"
   ]
  },
  {
   "cell_type": "code",
   "execution_count": 18,
   "id": "04b3c2c5",
   "metadata": {},
   "outputs": [
    {
     "data": {
      "text/plain": [
       "(146129, 3)"
      ]
     },
     "execution_count": 18,
     "metadata": {},
     "output_type": "execute_result"
    }
   ],
   "source": [
    "df.shape"
   ]
  },
  {
   "cell_type": "code",
   "execution_count": 19,
   "id": "eb18842a",
   "metadata": {},
   "outputs": [
    {
     "data": {
      "text/html": [
       "<div>\n",
       "<style scoped>\n",
       "    .dataframe tbody tr th:only-of-type {\n",
       "        vertical-align: middle;\n",
       "    }\n",
       "\n",
       "    .dataframe tbody tr th {\n",
       "        vertical-align: top;\n",
       "    }\n",
       "\n",
       "    .dataframe thead th {\n",
       "        text-align: right;\n",
       "    }\n",
       "</style>\n",
       "<table border=\"1\" class=\"dataframe\">\n",
       "  <thead>\n",
       "    <tr style=\"text-align: right;\">\n",
       "      <th></th>\n",
       "      <th>id</th>\n",
       "      <th>document</th>\n",
       "      <th>label</th>\n",
       "    </tr>\n",
       "  </thead>\n",
       "  <tbody>\n",
       "  </tbody>\n",
       "</table>\n",
       "</div>"
      ],
      "text/plain": [
       "Empty DataFrame\n",
       "Columns: [id, document, label]\n",
       "Index: []"
      ]
     },
     "execution_count": 19,
     "metadata": {},
     "output_type": "execute_result"
    }
   ],
   "source": [
    "df[df.duplicated(subset=['document'],keep=False)].sort_values(by='document')"
   ]
  },
  {
   "cell_type": "code",
   "execution_count": 20,
   "id": "865e632d",
   "metadata": {},
   "outputs": [],
   "source": [
    "data = df['document']\n",
    "label = df['label']"
   ]
  },
  {
   "cell_type": "code",
   "execution_count": 21,
   "id": "0be1bda6",
   "metadata": {},
   "outputs": [
    {
     "name": "stdout",
     "output_type": "stream",
     "text": [
      "문장의 최단 길이: 1\n",
      "문장의 최장 길이: 146\n",
      "문장의 평균 길이: 35\n"
     ]
    },
    {
     "data": {
      "image/png": "[encoded data removed]",
      "text/plain": [
       "<Figure size 432x288 with 1 Axes>"
      ]
     },
     "metadata": {
      "needs_background": "light"
     },
     "output_type": "display_data"
    }
   ],
   "source": [
    "min_len = 999\n",
    "max_len = 0\n",
    "sum_len = 0\n",
    "\n",
    "sentence_length_list = []\n",
    "\n",
    "for sen in data:\n",
    "    length = len(sen)\n",
    "    if min_len > length: min_len = length\n",
    "    if max_len < length: max_len = length\n",
    "    sum_len += length\n",
    "    sentence_length_list.append(length)\n",
    "\n",
    "print(\"문장의 최단 길이:\", min_len)\n",
    "print(\"문장의 최장 길이:\", max_len)\n",
    "print(\"문장의 평균 길이:\", sum_len // len(data))\n",
    "\n",
    "sentence_length = np.zeros((max_len), dtype=int)\n",
    "\n",
    "for sen in data:\n",
    "    sentence_length[len(sen)-1] += 1\n",
    "\n",
    "plt.bar(range(max_len), sentence_length, width=1.0)\n",
    "plt.title(\"Sentence Length Distribution\")\n",
    "plt.show()"
   ]
  },
  {
   "cell_type": "code",
   "execution_count": 22,
   "id": "a8859af4",
   "metadata": {},
   "outputs": [],
   "source": [
    "def check_sentence_with_length(raw, length):\n",
    "    count = 0\n",
    "    \n",
    "    for sen in raw:\n",
    "        if len(sen) == length:\n",
    "            print(sen)\n",
    "            print(\"---\")\n",
    "            \n",
    "            count += 1\n",
    "            if count > 100: return"
   ]
  },
  {
   "cell_type": "code",
   "execution_count": 23,
   "id": "18898cc1",
   "metadata": {},
   "outputs": [
    {
     "name": "stdout",
     "output_type": "stream",
     "text": [
      "아\n",
      "---\n",
      "잼\n",
      "---\n",
      "1\n",
      "---\n",
      "4\n",
      "---\n",
      "굿\n",
      "---\n",
      "짱\n",
      "---\n",
      ".\n",
      "---\n",
      "음\n",
      "---\n",
      "?\n",
      "---\n",
      "ㅎ\n",
      "---\n",
      "ㅋ\n",
      "---\n",
      "즐\n",
      "---\n",
      "♥\n",
      "---\n",
      "굳\n",
      "---\n",
      "네\n",
      "---\n",
      "ㅇ\n",
      "---\n",
      "ㅠ\n",
      "---\n",
      "쒯\n",
      "---\n",
      "♬\n",
      "---\n",
      "토\n",
      "---\n",
      "O\n",
      "---\n",
      "똥\n",
      "---\n",
      "z\n",
      "---\n",
      "헐\n",
      "---\n",
      "삼\n",
      "---\n",
      "꽝\n",
      "---\n",
      "풉\n",
      "---\n",
      "ㅅ\n",
      "---\n",
      "왜\n",
      "---\n",
      "ㄴ\n",
      "---\n",
      "쉣\n",
      "---\n",
      "봐\n",
      "---\n",
      "뿌\n",
      "---\n",
      "ㅜ\n",
      "---\n",
      "♡\n",
      "---\n",
      "ㅁ\n",
      "---\n",
      "0\n",
      "---\n",
      "ㅉ\n",
      "---\n",
      "d\n",
      "---\n",
      "흥\n",
      "---\n",
      "乃\n",
      "---\n",
      "찜\n",
      "---\n",
      "귯\n",
      "---\n",
      "린\n",
      "---\n",
      "시\n",
      "---\n",
      "ㅗ\n",
      "---\n",
      "a\n",
      "---\n",
      "c\n",
      "---\n",
      "흠\n",
      "---\n",
      "웅\n",
      "---\n",
      "오\n",
      "---\n",
      "9\n",
      "---\n",
      "쩜\n",
      "---\n",
      "애\n",
      "---\n",
      "헝\n",
      "---\n",
      "쨩\n",
      "---\n",
      "움\n",
      "---\n",
      "ㄳ\n",
      "---\n",
      "업\n",
      "---\n",
      "헉\n",
      "---\n",
      "군\n",
      "---\n",
      "b\n",
      "---\n",
      ";\n",
      "---\n",
      "g\n",
      "---\n",
      "올\n",
      "---\n",
      "걍\n",
      "---\n",
      "허\n",
      "---\n",
      "-\n",
      "---\n",
      "쀍\n",
      "---\n",
      "로\n",
      "---\n",
      "ㄹ\n",
      "---\n",
      "ㅂ\n",
      "---\n",
      "갑\n",
      "---\n",
      "즛\n",
      "---\n",
      "킥\n",
      "---\n",
      "함\n",
      "---\n",
      "진\n",
      "---\n",
      "ㅡ\n",
      "---\n",
      "잠\n",
      "---\n",
      "곧\n",
      "---\n",
      "ㅍ\n",
      "---\n",
      "·\n",
      "---\n",
      "캬\n",
      "---\n",
      "ㅆ\n",
      "---\n",
      ",\n",
      "---\n",
      "풋\n",
      "---\n",
      "ㄱ\n",
      "---\n",
      "파\n",
      "---\n",
      "ㄷ\n",
      "---\n",
      "웩\n",
      "---\n",
      "꺅\n",
      "---\n",
      "욜\n",
      "---\n",
      "ㅄ\n",
      "---\n",
      "2\n",
      "---\n",
      "핡\n",
      "---\n"
     ]
    }
   ],
   "source": [
    "# 길이가 1인 문장 확인\n",
    "check_sentence_with_length(data, 1)"
   ]
  },
  {
   "cell_type": "code",
   "execution_count": 24,
   "id": "fd43cc7e",
   "metadata": {},
   "outputs": [
    {
     "name": "stdout",
     "output_type": "stream",
     "text": [
      "최고\n",
      "---\n",
      "졸작\n",
      "---\n",
      "대박\n",
      "---\n",
      "버려\n",
      "---\n",
      "망함\n",
      "---\n",
      "굳굳\n",
      "---\n",
      "안습\n",
      "---\n",
      "망작\n",
      "---\n",
      "ㅇㅇ\n",
      "---\n",
      "쵝오\n",
      "---\n",
      "굿!\n",
      "---\n",
      "별루\n",
      "---\n",
      "씐나\n",
      "---\n",
      "쓰렉\n",
      "---\n",
      "볼만\n",
      "---\n",
      "허접\n",
      "---\n",
      "비추\n",
      "---\n",
      "좋다\n",
      "---\n",
      "ㅎㅎ\n",
      "---\n",
      "아나\n",
      "---\n",
      "ㅉㅉ\n",
      "---\n",
      "야.\n",
      "---\n",
      "역시\n",
      "---\n",
      "^^\n",
      "---\n",
      "오오\n",
      "---\n",
      "평이\n",
      "---\n",
      "지루\n",
      "---\n",
      "오욈\n",
      "---\n",
      "ㅋㅋ\n",
      "---\n",
      "지송\n",
      "---\n",
      "별로\n",
      "---\n",
      "눈물\n",
      "---\n",
      "당연\n",
      "---\n",
      "쩔어\n",
      "---\n",
      "별노\n",
      "---\n",
      "몰입\n",
      "---\n",
      "졸잼\n",
      "---\n",
      "돋네\n",
      "---\n",
      "오글\n",
      "---\n",
      "이응\n",
      "---\n",
      "첨봄\n",
      "---\n",
      "최악\n",
      "---\n",
      "잼씀\n",
      "---\n",
      "ok\n",
      "---\n",
      "유후\n",
      "---\n",
      "감동\n",
      "---\n",
      ";;\n",
      "---\n",
      "조앙\n",
      "---\n",
      "1점\n",
      "---\n",
      "표절\n",
      "---\n",
      "명작\n",
      "---\n",
      "으휴\n",
      "---\n",
      "에효\n",
      "---\n",
      "gg\n",
      "---\n",
      "ㄱ굿\n",
      "---\n",
      "굿잡\n",
      "---\n",
      "잼나\n",
      "---\n",
      "10\n",
      "---\n",
      "ㅜㅜ\n",
      "---\n",
      "우왕\n",
      "---\n",
      "거지\n",
      "---\n",
      "굿굿\n",
      "---\n",
      "좋음\n",
      "---\n",
      "실망\n",
      "---\n",
      "애이\n",
      "---\n",
      "짱임\n",
      "---\n",
      "전설\n",
      "---\n",
      "mm\n",
      "---\n",
      "와우\n",
      "---\n",
      "등록\n",
      "---\n",
      "하위\n",
      "---\n",
      "그닥\n",
      "---\n",
      "뭉클\n",
      "---\n",
      "삼류\n",
      "---\n",
      "HN\n",
      "---\n",
      "윤하\n",
      "---\n",
      "섹시\n",
      "---\n",
      "실화\n",
      "---\n",
      "머냐\n",
      "---\n",
      "수작\n",
      "---\n",
      "꿀잼\n",
      "---\n",
      "동감\n",
      "---\n",
      "굿.\n",
      "---\n",
      "굳ㅋ\n",
      "---\n",
      "굳!\n",
      "---\n",
      "추천\n",
      "---\n",
      "좋아\n",
      "---\n",
      "55\n",
      "---\n",
      "안봐\n",
      "---\n",
      "개쩜\n",
      "---\n",
      "올레\n",
      "---\n",
      "난해\n",
      "---\n",
      "ㅠㅠ\n",
      "---\n",
      "뭐니\n",
      "---\n",
      "ㅁㅁ\n",
      "---\n",
      "뭥미\n",
      "---\n",
      "쓰랙\n",
      "---\n",
      "좇~\n",
      "---\n",
      "오우\n",
      "---\n",
      "미안\n",
      "---\n",
      "걸작\n",
      "---\n"
     ]
    }
   ],
   "source": [
    "check_sentence_with_length(data, 2)"
   ]
  },
  {
   "cell_type": "code",
   "execution_count": 25,
   "id": "78a11843",
   "metadata": {
    "scrolled": true
   },
   "outputs": [
    {
     "name": "stdout",
     "output_type": "stream",
     "text": [
      "데너리스 타르 가르엔...나도 용의주인이 되고 싶다...누이랑,근친상간이나 하고 다닐지라도,소설 속에선 제일 멋진 놈이 자이메 라니스터였는데,드라마속에선,드래곤(용)이 제일 멋지네(웃음)감독님 토르-2 다크 월드는 말아 잡수셨을지라도,기본 선방은 했음\n",
      "---\n",
      "아~ 진짜 조금만 더 손 좀 보면 왠만한 상업 영화 못지 않게 퀄리티 쩔게 만들어 질 수 있었는데 아쉽네요 그래도 충분히 재미있었습니다 개인적으로 조금만 더 잔인하게 더 자극적으로 노출씬도 화끈하게 했더라면 어땠을까 하는 국산영화라 많이 아낀 듯 보임\n",
      "---\n",
      "평점조절위원회에서 나왔습니다(웃음)김혜선은 @내일이 오면@의 김순정,순정이 역할이 제일이다.팜므파탈로써,그 정도까지 잘해낼 줄은,정말 의외였어...연기20년 한사람에게 요즘 사극에서 벌어지고 있는,그녀에 대한 연기논란은 왠지 코미디의한장면 같음(웃음)\n",
      "---\n",
      "사실여부를 떠나,알고왔던 아더와 너무 매칭이 안돼더라.원탁기사중 실제 검술 최고수는 랜슬롯으로 알고 있는데,트리스탄보다 못하고,싸우는 검술은 마치 중국검술 흉내낸거 같은게;; 그리고 란슬롯이 실제는 쌍검였나?너무 매칭이 안대 하튼 ㅋ기네비어역도 미스.\n",
      "---\n",
      "진짜 이건 아님ㅋㅋㅋㅋㅋ액션영화좋아해서 액션영화만 다운받아서 꾸준히 본게 벌써 몇년인 사람임 근데 이건 진짴ㅋㅋㅋㅋㅋㅋ아무리 점수 잘 줘도 100점 만점에 10점?ㅡㅡ돈주고봤는데너무아깝다진짜ㅜㅜ그리고대체 왜 13구역 타이틀을 달고나왔는지 모르겠음 실망\n",
      "---\n",
      "영화'산업'이라고 하잖는가? 이딴식으로 홍보 해놓고 속여서 팔았다는 게 소비자 입장에서는 짜증난다. 그나마 다행은 아주 싸구려를 상급품으로 속여판 게 아니라는 점. 그래서 1점. 차라리 연상호 감독 작품 처럼 홍보가 됐다면, 그 비슷하게 만이라도 하지\n",
      "---\n",
      "화려한 색채때문에 눈이 아프지만 그 나름대로 화려연예계여자욕망에대해 표현해냈던거같다 보는내내 진짜 리리코심정가진 연옌들도 있을거같고..나를한번도보지못하고알지못하는사람들이날어떻게사랑하냐그런대사 나왔을때 소름돋더라 연예인들은 많은사랑받으면서도 참 허전할듯\n",
      "---\n",
      "히가시노 게이고의 추리소설이 사랑 받는 이유는, 치밀한 트릭도 크겠지만 사람이 사람을 죽이는 행위에 감성적 정당성을 부여한 탁월한 설득력에 있다. 본 원작은 말 그대로 '헌신적 사랑'이 그 키워드였고, 용의자 x는 거기에 집중해 훌륭히 결을 살려냈다.\n",
      "---\n",
      "TV상영종료후 1년뒤에 극장판이 나올정도의 초 대작.TV편의 설정오류 수정과 새로운 씬 추가가 주된 볼거리. 마마마는 어른들을 위한 애니이다.※우측의 리뷰를 보고 애들과 함께 볼려고 한 분들에게는 절대로 애들에게 보여줄 작품이 아니라고 강력히 주장한다\n",
      "---\n",
      "써로게이트의 부작용에 대한 자신만의 생각으로 써로게이트를 통해 행복을 누리고 있는 사람들의 권리를 뺒아가는게 정당한것인가? 장애인이나 식물인가.. 혹은 외모컴플렉스가 있는 사람들은 써로게이트통해 행복한 삶을 살고 있었을텐데.. 너무나 이기적인 결말임.\n",
      "---\n",
      "정말 미치도록 재미없다. 무슨 80년대 중국 괴기 판타지물 마냥 시대에 뒤떨어진 연출과 분장력과 스토리. 반전 또한 너무 뻔하다. 아니, 솔직히 반전인 줄도 몰랐다. 처음부터 계속 복선이 깔리는데 뭐가 반전인지? 흔하디흔한 미드 반전만도 못한 애들영화\n",
      "---\n",
      "초등학생 시절에 접했던 스파이더맨 3부작을 히어로물 매니아가 된 지금 다시 찾았다. 리부트 후 세계관 확장에 신경쓰고 있지만, 독립된 세계관으로써도 깊은 여운과 재미를 줬던 샘레이미 감독과 토비 맥과이어의 스파이더맨 3부작은 정말 최고라 말하고 싶다.\n",
      "---\n",
      "예회장의 매력이 걷잡을수 없다. 무간도 시리즈의 다른 작품들과 등장인물이 거의 완전히 다름에도 불구하고 다른 무간도 시리즈와 잘 조화되며, 이 작품만이 주는 매력 또한 상당하다. 한침의 먹방이 정말 압권. 예회장의 카리스마는 대부의 돈 꼴레오네를 연상\n",
      "---\n",
      "어차피 무리인 소설 원작을 재현할 생각 말고, 차라리 영화 나름의 각색을 하는게 더 나았겠다. 이건 뭐 그냥 생뚱맞네. 캐릭터 깊이도 없고, 몰입도 안되고, 감독 혼자서만 감정잡고있고, 영상도 작위적. 아예 헛웃음만 나오더라. 트란안훙꺼 이제 안볼거다\n",
      "---\n",
      "그저 옛 영화 입니다. 예전의 경향과 문화를 알고 싶으신 분은 보세요. 지금 봐도 괜찮은 고전명작의 공통점은 그 감독들이 현재까지도 활발히 활동한다는 것이죠. 대부 감독은 2000년대 이후로 성공적이지 못합니다. 구성과 전개가 너무 올드하고 지루하죠.\n",
      "---\n",
      "미라소르비노 발킬머와 스케이트장에서 여러가지 표정 지어보일때 너무 이쁘고사랑스러웠네요.. 스토리전개에.조금은.투박한느낌이지만.. 처음 비가내릴때.작은 폐가 안에 들어가.같이 눈을.감고 비의 운율을 느낀다... 괜찮은 영화를알게되어 너무 좋은 하루였네요\n",
      "---\n",
      "이 죽일놈의 사랑...에 어울리지 않는,이 무슨 거지같은...영화.차라리 공상과학영화로 각색해오든가...딱 국어책을 낭랑히 읽고있는,대배우의 시나리오리딩을 보는듯하다.레드라이트에 이어서,캐스팅만 쩌는 또하나의 졸작.당신의돈과시간을 조금더 소중히 하시라\n",
      "---\n",
      "어렸을 때는 지능이 뒤떨어져 이 영화의 전체적인 흐름과 스토리를, 심지어 그 때문에 반전까지 못 느껴서 루즈하게 느껴졌지만, 나이가 들어 영화의 흐름과 반전을 느낄 정도의 약간은 성숙된(?)지능을 가지고 보니 영화의 완성도가 상당히 높다 여기게 되었다\n",
      "---\n",
      "히나타 진짜 싫어하는데 영화가 급전개그렇고 더 라스트가 아니라 제목은 히나타의목도리인듯;;내용도 이상하고 작가가 육백화쯤에서 뜬금없이 번외로 히나타 동생내보내더니 극장판때문이였는듯.만화끝날때까지도 러브라인 확실하지않더니ㅋ작가겁나 배신감느껴짐.괜히 본듯\n",
      "---\n",
      "현재2013년...퍼시픽림.슈퍼맨.배트맨.어밴져스등...컴퓨터그래픽의 절정을 보여주는 이시점에 컴퓨터그래픽은 제로....이럴수가....탈을쓰고 나오다니....무슨장난하는줄 알았다.1980년대나 나올법한 영화같지도 않은영화.돈주고보긴아까우니무료로보세요.\n",
      "---\n",
      "걸작 공포영화마스터피스를 망쳐놓은 감독의 한심한 연출력...감독 존 무어...당신에게 오멘(666)의 저주가 있으리라.능력이 안되면,손대지를 말든가?제가 무슨 알프레드 히치콕이라고,엉뚱한 녀석.가서 다이하드6-본투비 와일드나 찍고있어~임마...(웃음)\n",
      "---\n",
      "차인표는 드라마보다 유독 영화선택에 낮게 평가받는 이유가,이런 작은 선택들이모여,장강의대하를 이루기때문이다.차인표는 정말 영화시나리오 보는 안목이 정말...없다.육상효의습작.그래도 방가방가라고 가기위한 소중한 첫걸음이라고 보면,좀 견딜만할거라고 생각해\n",
      "---\n",
      "7~8점정도가 적당. 재밌어요. 점수 올려주려고 10점줌. 써티데이즈오브나잇+데드캠프라 생각하면 됨. 극한 상황에서 생존하는 영화 좋아하시는분들께 추천합니다. 졸작 아니고 충분히 볼만한 작품. 시간이 짧은 만큼 아쉬운게 있긴하지만 전반적으로 괜찮아요.\n",
      "---\n",
      "시나리오의 망작성에,진짜 갈라티아의눈물?도 사람처럼,눈물을 흘릴판이다.이수경의 발연기는 진짜 역사에 남을 수준...효리의 드라마출연외도이후에,사상 최고수준의 거의 대형사고 그 자체.내가 감독이라면,필름을 통채로 버렸을 꺼다.강혜정도 어설프고,진짜 졸작\n",
      "---\n",
      "이런걸 보고 유식한 말로 데우스 엑스 마키나라고 한다.무슨일이 일어나도 이상하지 않은 영화.그게 이 영화의 궁극의 패착이다.아무것도 신기하지 않은게,신기한 점이랄까?보다보면,에라~될대로 되라...하고 진지하게 영화보기를 포기하는 지점이 반드시 생겨난다\n",
      "---\n",
      "내인생 잊혀지지 않은 영화. 지금도 빠삐용 주제를 가끔 듣노라면 내가슴 깊은곳에 고독과 살아야겠다는 서러움이 절절하게 끓어오릅니다. 아마도 내 인생이 슷비슷비하지 않았나 생각됩니다. 물론 빠삐용하고 비교할 수 없지만 조금이나마 내인생을 말해주는 이영화\n",
      "---\n",
      "평점이 이해 안된다.. 물론 형편없는 영화라는건 아닌데;; 죽은 자와의 소통이란 소재로 눈물도 좀 나오게 하는건 맞다. 근데, 이것 저것 짜 맞춘 느린 호흡의 영화로 끝에가서는 뭘 말하고자 했던건지 벙~ 찐다. 평점 무조건 10점 좀 때리지마시길...\n",
      "---\n",
      "중국의 어거지 로마 마을 광관홍보영화. 중국에 있는 저 로마마을에 가면 로마에 있는 돈 받고 같이 사진찍어주는 로마병사코스프레를 따라한 중국할배들이 돌아다님 ㅋ 실화는 개뿔 학자들에 의하면 로마인들이 저 지역에 단체이주해 살았다는 역사적 근거는 전무함\n",
      "---\n",
      "마치 하수구가 막혀 물이 내려가지 못하는 답답한 스토리?....같은 자리를 뱅뱅 도는 듯한 느낌...배우의 문제가 아니라 스토리가 문제 있는듯...밑에 10점 주신분들 주관적이기야 하겠지만...10점은 아닌듯...좀 시원하게 진행 좀 됐으면..질질질.\n",
      "---\n",
      "소재는 기발했다. 하지만 그 이상의 뭔가를 보여주지못하고, 이 참신한 설정의 무대에서 놀고 있는 캐릭터들은 길을 못 찾고 어느 쪽으로 가야할지 허둥대는 상황만 보여준다. 사람들이 어둠속으로 사라질때 옷만 남겨놓듯 이 영화도 설정만 남겨놓고 사라진것같다\n",
      "---\n",
      "감독 세르게이 보드로프...우베 볼이 감독 너에게 아따 행님요~하게 생겼다...(웃음)스티븐 시갈 영화들이,바람과함께 사라지다나,전쟁과평화처럼 보이게 하는 것도 재주 라면 재주...인디펜던스 데이 이후에 이 정도 발로 쓴 시나리오 정말 오랜만에 본다.\n",
      "---\n",
      "이혜영 강남에서,10여년전에 한번 봤는데,007처럼,은색 재규어 몰고 다니더라.방송일만 하면,개나소나 다 끌고다니는 외제차 아직 한번도 못뽑아 봤으니,참.인생 왜 사나 싶다.그게 무슨 캡슐에서 뽑는,갸차폰 완구도 아니고,다들 재주도 좋네.쉽게 뽑으니.\n",
      "---\n",
      "여기 호감순보면 순 친일파에 알지도 못하는 사무라이 역사를 말하고있네. 이 영화는 옛 사무라이의 더러운 것들을 미화시켜서 내논 영화입니다. 군사철학은 없고 단지 주군에 충성한 살인청부업자들이 모인 단체입니다. 글을 읽을줄 아는사람도 별로 없다고 하네요\n",
      "---\n",
      "룸메이트 1기 그냥 그데로 했으면 좋겠는데 ㅠㅠㅠㅠ 1기 룸메이트 했던 사람들이 더 좋았는데 ㅠ이렇게 아쉽게 가버린다니 ㅠ 평생 잊지 못할거예요 ㅠ 그냥 1기때처럼 그데로 해줬으면 좋겠는데 ㅠ제발 우리곁에 떠나지마요 ㅠ안가면 안되나? 보고싶을 거예요ㅠ\n",
      "---\n",
      "생뚱,엉뚱,갸우뚱한 상상력에 엉성하기 그지없는 전개, 한 마디로 실망 그자체입니다.제목은 진지한데 웃을래야 웃을 수 없는 일그러진 희극을 보는 것 같군요.마음을 따뜻하게 하는 드라마가 사라지고 말초신경만 자극하는 드라마가 판치는 시대의 일그러진 자화상\n",
      "---\n",
      "멀쩡한 유역비 미모와,장난아닌,출연료만 아깝다~절세미녀 유역비 데려다가,OO 짓 하고 있다.한때는 아시아의 헐리우드 소리를 듣다가 한순간에 몰락해 버린,홍콩 영화판의,이유 있는 결과물.도학위룡이나,무간도 3부작의 발가락의때만큼만 해와봐.극장에서 봐준다\n",
      "---\n",
      "처음에는 막장 소스를 신선하게 풀어가는 것 같아 잼있게 봤지만 3분의1을 넘어가자 막장중의 막장이 되어 실망스러웠음. 막장 소스를 이해할 수없는 상황에서 한꺼번에 퍼붓다가 맥없이 한큐에 해결되고 너무 유치함.그나마 초반의 신선함과 배우들의 연기에 3점\n",
      "---\n",
      "진심 내가 왠만하면 영화들 비판 안하고 다 괜찮다 하는데 평점 첨 보고 오 괜찮나? 이러면서 보러갔었는데 진심 이렇게 뻔한 스토리에 지루한건 첨 이였음;; 영화관 나오면서 첨으로 별점 10점에 잼있어요~이러는 애들 죽일뻔 송혜교 탈세 할때부터 알아야했\n",
      "---\n",
      "타짜는10점받아마땅하다.영화의모든부분이다재밌었다.캐릭터들은원작보다훨씬더매력적으로재현됐고,단역까지모든캐릭터가제몫을했다.긴이야기를아주 딱맞게압축했다.전국중고딩에게섯다열풍을몰고온,막판고니와아귀의설전을전국민이외우게만든작품.영화사에남을장면들이가득담겨있는선물세트\n",
      "---\n",
      "최악의 영화입니다. 내용과 모든 게 삼류영화 입니다. 이종수씨의 잛은 컷에도 느껴지는 어색함과 아역배우의 너무 바른 발음이 연기쪽에서도 최악이었고여.. 내용도 처음 한시간 버려도 될만합니다. 다 버리면 좋겠지만 모든게급전개와 어울리지 않는 상황속대사들\n",
      "---\n",
      "낯선 비율이 주는 파격. 익숙치않은 흑백이 주는 안정감. 이국적 풍취의 폴란드거리와 그시대. 화면아래 혹은 구석 어딘가에서 투영되는 차분하고 정적인 인물들의 움직임. 그 순간순간의 메세지. '나'를 찾아가는 한 존재의 각성 그리고 흔들리는 그 한걸음.\n",
      "---\n",
      "복수라는 타이틀을 달지말던가. 복수영화.느와르 영화에서는 최소한의 규칙이있어 . 전개스타일 . 슬로우느낌 . 다좋다고 근데말야 복수가 복수다워야지 . 뭐냐고 원숭이같이 생긴 싸이코패스경찰서장이 주인공이네 . 복수를 해야할 라이언고슬링은 허접때기로나오네\n",
      "---\n",
      "문제 의식의 제기에는 깊이가 있으나 현상만 나열하며 그쳤고....작가적 특유의 관점 또는 방향성이 젊으니까 아프다 정도의 아마추어적 한계도 보임...현 시점에서 관망해 보면..당시 박정희 정권의 의도적 정책에 의한 사회 현상 정도로 참고는 해 볼 정도\n",
      "---\n",
      "봉준호작품은 마음에 깊게 남아 여러번 보았고, 미셸공드리의 작품은 결말은 좋았지만, 사족이 많았던것같아 조금 아쉽다. 레오까락스의 작품은 홀리모터스까지 보고 난뒤에야 이렇게 평점을 적지만, 드니라방의 연기 덕을 톡톡히 보았다고 생각한다. 좋았다 정말.\n",
      "---\n",
      "국교때본거넹당시 책이먼저나왔었다네.중국은 일본 세균보듯싫어하지.걔들은 중화사상이라 지들 중심으로 지구가돈다고 생각하지. 정통한족도 아닌주제에.그냥 아시아 이민족 집합체 .일본도글치만, 떼넘들도더하다.오죽힌은 박정희가 탄압했긋나. 아시아의 유대이라고나.\n",
      "---\n",
      "정당한 것을 얻기 위한 그들의 흥겨운 싸움이라고 보면 될까. 두리반과 인디밴드가 자신들의 권리와 존엄성을 지키기 위해 예술,(음악, 공연, 글 )으로 자신들의 의견을 피력하는 모습이 멋있었다. 영화관이 추워서 보는 내내 한겨울 두리반에 있는 느낌이었다\n",
      "---\n",
      "이 영화를 가장좋아하는것은 20대여자 라고 되있고 가장 싫어하는 사람들이 20대 남성이다. 이로써 볼 수 있는것은 여자는 감정이 발달되있고 남자는 이성이 발달했다는 것이다. 감정이 발달되어 있으니 신이란 존재를 이성적, 논리적으로 판단하지 못하는것이다\n",
      "---\n",
      "히든싱어 항상 챙겨봤었는데요! 모두 재밌었지만 이승환편이 정말 최고였습니다!! 저는 이승환님에 대해 잘 알지못했던 10대소녀인데요. 이번에 이승환편보고 전율을 느낀후 그 누구보다도 정말정말 진심으로 이승환님을 좋아하는 팬이 되었어요!!♡감사합니다^^♡\n",
      "---\n",
      "영화속의 영화는 영화속의 현실이되고 그 현실이 영화로 만들어 졌다면 우리가 보는 영화는 어디에서부터 어디까지일까요? 현재속에 숨어있는 과거들 과거속에 숨어있었던 현재들 수많은 장치들을 찾아보는 것도 이 영화가 가지고 있는 즐거움 아닐까요? 좋았습니다.\n",
      "---\n",
      "좀더스케일이커진영구.그이상도이하도아닌딱그만큼.영구특유의슬랩스틱은더이상통하지않는것같다.보는내내이영화를볼외국인들의반응이궁금하면서걱정되기도했음.나름대로스토리가짜여있지만,영구가여기에끼어있으니영몰입안됨;정신줄놓고그냥보려해도얼마못가서제정신을차리게되는안타까운영화.\n",
      "---\n",
      "그래서 중국은 꿈을 펼치기에는,좋지않은 땅이라는 뜻이냐?그게 하루에100명가까이,15초마다,한건씩 살인이 일어나는,나라의국민이 할만한 주장이냐?유오성 닮은,츠차오의 발레공연장면만 볼만하다.어딘가 매카시즘의 반공유령이 떠다니고 있는듯한,기분이 드는 영화\n",
      "---\n",
      "이민기 주연 = 부도 보증수표. 불변의진리ㅋㅋ 이민기의 주제넘은 의ㅈ감별논란만남은 희대의 졸작. 민기는 치졸하게 뒤에서 의ㅈ이네 뭐네하면서 더받았다고 열내지말고 제발 너나 똑바로하길바란다ㅎ 니가 왜 3.5억씩받음? 받아도 이태임이 받아야하는거아님?ㅋㅋ\n",
      "---\n",
      "10년전인 2005년에 처음 봤는데 그때 봤을때의 충격이 전율이 아직도 생각난다. 왜 사람들이 대부를 20세기 최고의 영화이고 불후의 명작이라고 하는지 보고나서야 이해가 됐다. 총 5번 정도 본거 같은데 결혼하고 아버지가 되어서 또 한번 더 보고싶다.\n",
      "---\n",
      "어설픈 잔재주, 한심한 얘기로.. 배우들만 낭비해버렸군! 로버트 알트만이 되고 싶었나? 여러 인물들의 스토리를 교차시켜 구성한다고 해서, 영화가 풍성해지는게 아니야. 유치한 억지 구성은 역겨움만 불러 일으키지. 캐치온 영화편성, 계속 이 따위로 할래!\n",
      "---\n",
      "홍콩영화의 몰락...그 이후에도,어마어마한 부자로 잘 살아지는 사정봉.왕년의 액션스타 사현 선생님 친아들이라더만...박노식선생님 아들 박준규씨랑,비슷한 인생이라는 얘긴데,주머니사정은 전혀 비슷하지도 않네.루카스 아빠 사정봉이 훨씬 부자인 이유가 뭘까?\n",
      "---\n",
      "나도 OO 북한가고싶을정도로....초호화 생활을 살던데.......이글보고 좌빨되는 극빈청소년들 증가할듯하다.....양선화는 아버지잘만난덕분에 북한 귀족계급으로서 초엘리트길을 걸어가고있는듯했다....자유고 나발이고 저런 파라다이스는 없는것같던데....\n",
      "---\n",
      "프로젝트 니혼 제로 이치 닌교 츠가이(인형사) 프로젝트냐?오로라 공주와 손오공을 보아도,연쇄 살인범 이름으로,오로라 공주를 써먹고 싶고,바다의 왕자 마린보이를 보고도,마약거래상 이름으로,써먹고 싶은 인간들에게나,딱 어울리는 경지...한마디로,OO 영화\n",
      "---\n",
      "티비에서 해준거보고 빡쳐서 들어와서 쓴다 주인공커플 하는일 하나두없음 쫓기며 돌아다니기만하고 싸움중인 군인 불러대면서 구해달라 난리치고 주인공답게 뭐 하는것없어 답답해 죽겠는데 쓸데없이 화면은 느리게잡고 마지막엔 아오뽁쳐 엔딩화면뜨는데 온가족이 말잃음\n",
      "---\n",
      "솔직히 솔직히 혁.잭슨.성재.엔은아이돌인데진심 가명도 대충짓고 엔오빠두 가명이 차돌백이가 뭔지.형돈오빠는 방송인데 옷도대충 침대에누워있고 보는 시청자들의 대한 예의도 아니고ㅡㅡ 보면서 아이돌 오빠들 불쌍했음 안무가도 없고 예산이 없으면 하시질 말던가여\n",
      "---\n",
      "정말불쾌한영화, 똥 만질줄 몰라서 사람들이 똥을 안만지는게 아닙니다 더러워서안만지는거지.적나라한표현으로감독딴엔표현면에서우쭐했겠지만그건 작품성이 아닌 똥을주물럭거리는 표현밖에 아닌겁니다. 감독이요구한 이런저질표현때문에 이은주씨가 후유증을 앓은거다감독양반\n",
      "---\n",
      "나는 나쁘지 않게 봤다만 대부분의사람들은 뭔가 있어보이면 명작이라고 칭송한단 말이지 니들이 이해못해서 재미없다고 하는 정신승리를 곁들여 말이야 연출은 참신했으나 복선이 진부하고 각 플롯마다 연관성이 부족했다 뭐 이것도 감독이 설계했다하면 할말 없겠지만\n",
      "---\n",
      "특별하지 않은 특별한 사랑..이토록 말없고, 또 단순한 내용임에도 글을 읽듯 또박또박 장면들을 읽어 나가게 하는 묘한 매력의 영화. '이별연습'에서의 리첸의 울음은 내가 본 가장 아름다운 여성의 울음이다. 미처 놓친 감정을 읽기위해 다시 봐야할 영화.\n",
      "---\n",
      "직설적으로 남자분은 연기력이좀...떨어진대다 대사까지 오글거려서 몰입을 완전 방해했다. 장면하나하나에 깨알같은정성(연출)없었고 촬영기간이늘어져서인지 얼른끝내고 싶어하는느낌이 들었다 . 하루에 영화한편씩챙겨볼정도로 팬인데 이건좀 너무했다 한효주가 아깝다\n",
      "---\n",
      "1995년인가? mbc에서 11시에 방영했는데, 뭐지 하고 그냥 봤다. 근데 감동이 그냥 감동이 그리고 1년 후인가? 또 방송했다. 비디오테잎으로 녹화해 놓고 보고 또 보고 녹화한 테잎을 다시 녹화해 소장하고 있었다. 근데 몇 해 전 찾아보니 곰팡이가\n",
      "---\n",
      "말이 필요없는 일대기영화. 유명작가의 일대기인지라 문학적이고 암울한 현실을 신랄하게 비판하지만 그 안의 인간관계의 아름다움도 버리지 않는다. 주인공의 동성애 성적망상도 가감없이 대담한묘사. 하비에르 바르뎀은 금세기의 배우로 불릴만하다. 조니뎁은 단역.\n",
      "---\n",
      "REC1, 2는 제목 그대로 카메라로 녹화하는 1인칭 시점으로 나오지만 3는 아에 컨셉자체를 팔아먹고 피식도 안할만큼 재미없는 개그만 계속 나오고 뜬금없이 여주는 무슨 데드라이징 주인공마냥 하이힐 신고 하이킥에 전기톱에 좀비무쌍하고 엔딩은 개똥망고어물\n",
      "---\n",
      "내용 콘스탄틴 뱃김.엑소시스트 명장면 뱃김(오마주라 하기엔 개허접).특수분장 1980년대 초반 수준...cg는 울트라맨 보다 후짐.연기는 영어 못하는 사람이 봐도 발연기느낌. 한 화면에 3명이상 잘안나옴.(총출연진이20명 될까 싶음) 개봉영화인게 신기\n",
      "---\n",
      "이딴걸드라마라고썼냐 수습할수없으면걍친자녀아니면되고 간단하네 얼굴을바꿨으면 결말이라도잘정리하던가 가족땜에 밥먹을때할수없이보는데 토나올것같아서밥도못먹는다 볼때마다 오프닝이며대사며 하나하나유치하고어이가없어서웃는다ㅋㅋㅋㅋ제~발빨리끝나고 더이상이딴드라마쓰지마라\n",
      "---\n",
      "와 이 영화 개봉한지 5년이 더 지난 지금 봤는데 지금 최근 영화들보다도 구성도 재미도 훨씬 탄탄하고 재밌네...이런 수작을 지금이라도 보다니.. 딱 디즈니 애니 구성을 영화로 잘 만들어 논것같음..질렌할 확실히 이때보다 지금이 연기는 훨씬 늘었긴한듯\n",
      "---\n",
      "175분이 너무나 짧게 느껴졌다.명대사며 명언이며 연기며 캐릭터까지 잊을 수가 없는 영화.초반부터 교훈적이 말들이 나와 정말 중독되었다.원래 봤던 영화를 또 보면 지루하지만 이 영화는 끝까지 보게 하는 영화다.내가 느와르를 좋아하게 되는 계기.책도 짱\n",
      "---\n",
      "0점이 없네...개인적으로 평소 서우 드라마에서 연기 못한다는 느낌은 안들었는데 이건 완전 발연기 그리고 일부러 입술 내미는듯.. 입술 두꺼운 연예인들 되게 섹시하고 예쁜데 애는 이상함.. 일반인이 카메라 앞에서 처음 연기하는 듯함... 서우 완전 실\n",
      "---\n",
      "보다가 어처구니가 없어서 존쿠삭이나 애드리안브로디 를 삼류로 만드는 감독의 능력 일단 각본이 말이 안되는게 너무 많다 성룡이 어렸을때 자기 동생 우는걸 막다가 죽이고 또 그거에 분해서 장군을 칼로 찌른거 맞지? 사실 그냥 틀어놓고 자꾸 딴일을 하게돼서\n",
      "---\n",
      "파이트클럽을 안봤다면 재미있을수도 있었겠지만. 멀쩡하고 성실한 사람이 정신병자 취급 받을만큼 금융계에 야비한 인간들이 많다는 것에는 절대 공감한다. 상투성으로만 취급하기엔 부모가 아프고 직장에서 함정에 빠지고 하는것은 누구에게 닥칠지 모르는 보편성이다\n",
      "---\n",
      "카이지를 뺏겻느니 라이어게임을 뺏겻느니 하는데. 그런 포맷의프로그램은 한번나오고나오지말아야하는가???전혀다른 것만나와야 한다고? 난 이런류 다 좋아한다. 근데 뭐 시청자를 우롱한다?개인의 생각을 모든 시청자를 대표하지마라. 거지같은블로거에게하는말입니다\n",
      "---\n",
      "별 빵개는 없나요? 드라마 보다가 빡쳐서 평점쓰기는 또 처음이네요 작가분 정신과 상담 좀 받아보세요 진짜 배우들이 아까운 드라마...등장인물들이 죄다 미치광이들이네요 밑에 분 말처럼 한사장이랑 윤재아빠 빼고 다 미쳤어 상식적으로 이해할 수 없는 드라마\n",
      "---\n",
      "정말 잘 만든영화. 렘수면이라든지 다소 어려운 용어도 나오며 어린이들은 좀 어려울 수 있으니깐 줄거리는 숙지하고 보세요. 리뷰 추천된거 한번 훑어보시고 보시면 이해가 빠를듯합니다. 강력추천!!! 누구나 꿈속에서는 다른사람이 되고 싶어하는 욕망도 잘표현\n",
      "---\n",
      "유태인,흑인,동성애자들은 싫어할만한,걸작...(웃음)근데,난 유태인도,흑인도 아니고,동성애자는 더더욱 아닌데,왜 이 영화가 지루했지?크리스틴이 너무 낮설다.톰 크루즈가 아주 낮설었던,매그놀리아는 아주 대박 좋았는데 말이지.크리스틴이 다른사람처럼 느껴져\n",
      "---\n",
      "한국인비하하는 영화가 뭐가 좋다는거지? 인종우월주의를 따지자는게 아니라 음악으로서 즐거움을 주는 영화면그런 영화답게 음악적 요소에 집중해야지 개그부분에 욕심을 너무 부려도 도가 지나쳤다 한국계미국인배우도 굳이 동양을 까내려가며 연기하고싶은지 의문이다.\n",
      "---\n",
      "솔직히 제목때문에 호기심 땡겨서 대충 대충 봤는데, 기대이상이다. 평점 엉망으로 준 놈들. 다른 영화보고도 함부러 평가 하지마라. 영화 볼 줄도 모르는 놈들. 그러니 네이버 평점이 엉망이지. 그냥 닥치고 책많이보고 철학 공부좀 해라. 함부러 나 대지마\n",
      "---\n",
      "데스노트의 열렬한 팬인 나로써는 이 작품을 최악으로 볼수밖에 없다.심리전도 없고 반전도 없고 유일하게 마츠마야 켄이치 배우님의 연기실력 덕분에 이 정도는 한것이다.지금이라도 데스노트 속편이 나오는건 환영이지만 이런 데스노트와 대립이 없는 속편은 사양.\n",
      "---\n",
      "전지현 나오는영화는 그닥이라안보다가..암살본후 급궁금해져서본영화..하정우랑 한석규는 뭐 갓오브갓이구..전지현이 이토록연기를잘하는지 몰랐음...씨엡만찍지말구 영화좀다작으로했음 여자하정우는됐을텐데..전지현다시보게되는영화..내용도좋구..북한말은 잘못알아듣겠\n",
      "---\n",
      "2004년 이 드라마에 빠져서 헤어나오질 못했고 2005년까지도 후유증으로 고생했던 기억이 생생하다 10년이 지났지만 그 지금까지 봐왔던 그 어떤 드라마에 뒤쳐지지 않은 명작이다 연기,배우,시나리오,OST, 아름다운풍경 모든게 최고다 평점10점도모잘라\n",
      "---\n",
      "콘티짜는데 들어간 종이가 아깝다. 어찌 90년대 특촬물에 쌈마이 cg 처리를 저딴식으로 할수있는지 정말 궁금하다. 지금와서 왜 dvd 발매 안하는지 알거같은 영화. 구성, 연출, 카메라 앵글, 그래픽, 심지어 클리셰에 허덕이는 스토리라인 모든것이 아류\n",
      "---\n",
      "와 ...진짜 쓰레기 김우빈의 쓸데없는 인상에 같이 인상써지는 불편함 완젼 미스 캐스팅 나오는 조연들 마다 어찌 그리 한심하고 쓰레기 같은 것들을 데려다 썼는지..답답하다 진짜 .내용도 최악 ..유오성 믿고 보는 배우 였는데..피캬츄 문신은 또 뭐야.\n",
      "---\n",
      "이채영,완전채 이쁘고 귀엽고 가능성도 충분히있다고생각하지만 모든것을다걸고나온 사람들을 밟고올라갈만큼 뛰어나다고생각하지않습니다. 솔직히 홍정희,썸띵 노래들을때 진짜 소름끼칠만큼 감동이전해졌고 연애하는느낌이들정도로좋았어요. 심사의 기준이 뭔지 정말궁금해요\n",
      "---\n",
      "나이 30줄을 바라보는 지금 어릴적 재밌게 본 홈무비 하면 나홀로집에와 꼬마유령캐스퍼. 어렸을때 봤는데도 아직도 스토리가 기억이 난다. 누가 영리하지 않은 영화라고 욕하는데, 아동무비에 뭘 더 바라나. 다큰 어른의 추억 한켠에 남아있으니 그걸로 충분.\n",
      "---\n",
      "유년기의추억인 바람의검심만화를 영화로보니 감회가새롭고 연출 배우들이 자연스럽고 정말 원작을보는것같다. 내용은 애니중 4분의1에피소드지만 평이할수도잇지만 여러모로 벅찬감동이느껴진다 다만 크게크게내용을 나눠도되면 좋겟고 성상편으로 결말각색니정말로 기대된다\n",
      "---\n",
      "오리지날을 잔인하게 난도질하는,거장의 최악의한수...샤론스톤의 글로리아는,마돈나의 마돈나(성녀)역할을 보는 것만 같다.그정도로 못봐줄 지경이었다는 얘기다.터미네이터의 남자주인공 터미네이터처럼,빵칼로 눈을 파내고 싶었을 정도.몸매만은 정말 죽이더만...\n",
      "---\n",
      "8점을 줬었는데 자꾸 생각이 나서 다시 들어와서 9점! 일본 코미디 영화의 정석같다. 주연의 오버 연기도 좋았고 느끼는 점도 많았다. 무엇보다 매력적인 마이코의 모습과 말투(도스~)가 자꾸 머리에 맴돈다. 유쾌한 영화!(2015.06.28 14:18)\n",
      "---\n",
      "\"언제 보아도 감동적이고 가슴 찡해지는 예수님 이야기. 얼마 전에 감상한 \"\"손 오브 갓\"\"과 비교해 보면영화의 배경과 연출방식은 상당히 고전적이다. 하지만 \"\"손 오브 갓\"\"이 왠지 더 감동적이라는 생각이 든다.손~ 이 더 성경 말씀을 잘 표현했다\"\n",
      "---\n",
      "돈이걸리니깐 연예인들도 본성 나오네요 김풍씨 여기서 첨봤는데 당신 인간성에 매우 놀랍네요 김구라 면전에 대고 좋다고소리지르고 ㅉㅉ 지가 그렇게 붙던 홍진호 떨어지게 생겼는데 글케 분위기 파악 못하나? 검색하니깐 하고다니는짓도 또라이드만 면상부터 재섭음\n",
      "---\n",
      "왠만하면 평점안남기는대 참나 ㅋㅋ너무햇다 제목만 대작삘이고 영화는 OOO수준 ㅋㅋ용몇번나오지도않고 용같지도않고 작살몇번던지고 어설푼연기력에 스케일도작고 줄거리역시 지루하다 박진감도 전혀없는 티비에서해주는 주말에영화급에도 못낀다 ㅋ진짜 평점높게준애들알바\n",
      "---\n",
      "영화무대가 맨홀밑이거나,맨홀위...근데 문제는,상영시간내내라는거...영화 끝날때까지,맨홀밑이거나,맨홀위거나,한치도 안 벗어남...보고 있는 사람 도는 거지...모니터로 봤으니까,참은거지,극장가서 봤으면,아마 돌아버릴듯...진짜 극장가서 본 사람 불쌍타\n",
      "---\n",
      "키에누 리브스.토머스 앤더슨.매트릭스의네오.지하세계로,몰락하다.모피어스,로렌스 피시번처럼,반장님으로나,풀릴것이지.사뮤엘 잭슨,윌 스미스에게는,이런일이 안 일어나는 이유.갑자기 그것이 궁금.별다른 재미도 없는 시나리오.설마 용돈이 궁핍해선 아닐테고...\n",
      "---\n",
      "정당화시킬려고 막판에 다시 도 바람피웠던걸로 포장 해서 각자각자 어울리는사람과사는걸로 마무리된것같은데 초반에 덱스가 레이첼이랑 바람난거볼때 욕이수두룩하게나 왔음 그뒤로 레이첼의모든게 가식적이고 얄미움 뺏을껀다뺏고 착한척ㅋㅋ ,이런친구사귈까봐 무서운영화\n",
      "---\n",
      "처음엔 나인과 다르게 왜이렇게유치하지 싶었는데 후반부로 올수록 정말 재밌어지네요 과거부터 거슬러오는 인연?도 충분히개연성있고 억지스럽지않은데다가 스토리도탄탄하고요. 멜로씬이많이없어서 아쉽지만ㅎㅎ 남은 2회는 정치얘기보단 달달한사랑얘기가많았음 좋겠어요~\n",
      "---\n",
      "배경음을 최대한 생략했음이 처음엔 어색했으나 나중엔 최고의 효과였음을 알았다. 영화상의 이야기지만 악마는 보았다도 그렇고, 타인에게 고통/죽음을 주면서 그게 즐겁고 좋으면 싸이코고 그게 멘탈 고통과 후유증을 안겨주면 정상인인가.. 씁쓸한 잔혹 복수..\n",
      "---\n",
      "만화책 3번 봤는데 원작을 잘 살린 영화라 생각합니다. 시장의 연설에서 인간이 벌레가 아닌 짐승이라 기생수라 말한 장면, 작가의 말에 나온 주인공이 쓰러진 고토를 살려주려다 다시 죽인 장면은 책보다 더 와닿았습니다. 모성애를 강조한 것도 감동이었습니다\n",
      "---\n",
      "박은혜만 아까워...김해숙여사는,계속 영화나 하시는게,더 정신건강에 좋을듯...인기도 없는게 벌써70회이상 방송중이라니...아침출근시간을 여지없이 망쳐놓는,몇 안되는 킬러프로그램.준석이 아버지 주현선생님을 아주 푹푹 썩히는구나.누가 젓갈이라도 담구나?\n",
      "---\n",
      "김세윤 최강희 이동진 이화정 << 무슨 영화 얼마나 존문가랍시고 지들멋대로 평점쳐날리네 한국영화에는 돈쳐받고 10점날리고 돈쳐받고 외화에 평점테러하는년들 쓰레기년들 자살추천한다 내가 니들보다 영화더알아 쓰레기년들 이런명화에 저따위개소리를 입에재갈물린다\n",
      "---\n",
      "차라리 애니 그 남자ㅡ그 여자의 사정을 한번 더 보고 만다...이토록 창의력없는 제목에 걸맞지 않는,제법 매력 통통튀는 여배우.그러나 나는,네모토 하루미같은 거유 타입을 좋아하므로,별 관심 없음.수정이는,정답입니다~의 수정이나,여배우 임수정이 제일이지\n",
      "---\n"
     ]
    }
   ],
   "source": [
    "# 문장 길이가 140인 문장 확인\n",
    "check_sentence_with_length(data,140)"
   ]
  },
  {
   "cell_type": "code",
   "execution_count": 26,
   "id": "ea83a31a",
   "metadata": {},
   "outputs": [],
   "source": [
    "min_val = np.percentile(sentence_length_list, 2.5)\n",
    "max_val = np.percentile(sentence_length_list, 97.5)"
   ]
  },
  {
   "cell_type": "code",
   "execution_count": 27,
   "id": "4ada21a3",
   "metadata": {},
   "outputs": [
    {
     "data": {
      "text/plain": [
       "(6.0, 132.0)"
      ]
     },
     "execution_count": 27,
     "metadata": {},
     "output_type": "execute_result"
    }
   ],
   "source": [
    "min_val,max_val"
   ]
  },
  {
   "cell_type": "code",
   "execution_count": 28,
   "id": "0b9847a2",
   "metadata": {},
   "outputs": [
    {
     "data": {
      "image/png": "[encoded data removed]",
      "text/plain": [
       "<Figure size 432x288 with 1 Axes>"
      ]
     },
     "metadata": {
      "needs_background": "light"
     },
     "output_type": "display_data"
    }
   ],
   "source": [
    "max_len = 132\n",
    "min_len = 6\n",
    "\n",
    "# 길이 조건에 맞는 문장만 선택합니다.\n",
    "filtered_corpus = [s for s in data if (len(s) <= max_len) & (len(s) >= min_len)]\n",
    "\n",
    "# 분포도를 다시 그려봅니다.\n",
    "sentence_length = np.zeros((max_len), dtype=int)\n",
    "\n",
    "for sen in filtered_corpus:\n",
    "    sentence_length[len(sen)-1] += 1\n",
    "\n",
    "plt.bar(range(max_len), sentence_length, width=1.0)\n",
    "plt.title(\"Sentence Length Distribution\")\n",
    "plt.show()"
   ]
  },
  {
   "cell_type": "code",
   "execution_count": 29,
   "id": "b8d38e25",
   "metadata": {},
   "outputs": [
    {
     "data": {
      "text/plain": [
       "139384"
      ]
     },
     "execution_count": 29,
     "metadata": {},
     "output_type": "execute_result"
    }
   ],
   "source": [
    "len(filtered_corpus)"
   ]
  },
  {
   "cell_type": "markdown",
   "id": "c2c76961",
   "metadata": {},
   "source": [
    "중복은 제거한 194470데이터에서 사분위수의 약 95%인 max_len = 132, min_len=6으로 한다"
   ]
  },
  {
   "cell_type": "code",
   "execution_count": 30,
   "id": "85d779af",
   "metadata": {},
   "outputs": [
    {
     "data": {
      "text/html": [
       "<div>\n",
       "<style scoped>\n",
       "    .dataframe tbody tr th:only-of-type {\n",
       "        vertical-align: middle;\n",
       "    }\n",
       "\n",
       "    .dataframe tbody tr th {\n",
       "        vertical-align: top;\n",
       "    }\n",
       "\n",
       "    .dataframe thead th {\n",
       "        text-align: right;\n",
       "    }\n",
       "</style>\n",
       "<table border=\"1\" class=\"dataframe\">\n",
       "  <thead>\n",
       "    <tr style=\"text-align: right;\">\n",
       "      <th></th>\n",
       "      <th>id</th>\n",
       "      <th>document</th>\n",
       "      <th>label</th>\n",
       "    </tr>\n",
       "  </thead>\n",
       "  <tbody>\n",
       "    <tr>\n",
       "      <th>0</th>\n",
       "      <td>9976970</td>\n",
       "      <td>아 더빙.. 진짜 짜증나네요 목소리</td>\n",
       "      <td>0</td>\n",
       "    </tr>\n",
       "    <tr>\n",
       "      <th>1</th>\n",
       "      <td>3819312</td>\n",
       "      <td>흠...포스터보고 초딩영화줄....오버연기조차 가볍지 않구나</td>\n",
       "      <td>1</td>\n",
       "    </tr>\n",
       "    <tr>\n",
       "      <th>2</th>\n",
       "      <td>10265843</td>\n",
       "      <td>너무재밓었다그래서보는것을추천한다</td>\n",
       "      <td>0</td>\n",
       "    </tr>\n",
       "    <tr>\n",
       "      <th>3</th>\n",
       "      <td>9045019</td>\n",
       "      <td>교도소 이야기구먼 ..솔직히 재미는 없다..평점 조정</td>\n",
       "      <td>0</td>\n",
       "    </tr>\n",
       "    <tr>\n",
       "      <th>4</th>\n",
       "      <td>6483659</td>\n",
       "      <td>사이몬페그의 익살스런 연기가 돋보였던 영화!스파이더맨에서 늙어보이기만 했던 커스틴 ...</td>\n",
       "      <td>1</td>\n",
       "    </tr>\n",
       "    <tr>\n",
       "      <th>...</th>\n",
       "      <td>...</td>\n",
       "      <td>...</td>\n",
       "      <td>...</td>\n",
       "    </tr>\n",
       "    <tr>\n",
       "      <th>149995</th>\n",
       "      <td>6222902</td>\n",
       "      <td>인간이 문제지.. 소는 뭔죄인가..</td>\n",
       "      <td>0</td>\n",
       "    </tr>\n",
       "    <tr>\n",
       "      <th>149996</th>\n",
       "      <td>8549745</td>\n",
       "      <td>평점이 너무 낮아서...</td>\n",
       "      <td>1</td>\n",
       "    </tr>\n",
       "    <tr>\n",
       "      <th>149997</th>\n",
       "      <td>9311800</td>\n",
       "      <td>이게 뭐요? 한국인은 거들먹거리고 필리핀 혼혈은 착하다?</td>\n",
       "      <td>0</td>\n",
       "    </tr>\n",
       "    <tr>\n",
       "      <th>149998</th>\n",
       "      <td>2376369</td>\n",
       "      <td>청춘 영화의 최고봉.방황과 우울했던 날들의 자화상</td>\n",
       "      <td>1</td>\n",
       "    </tr>\n",
       "    <tr>\n",
       "      <th>149999</th>\n",
       "      <td>9619869</td>\n",
       "      <td>한국 영화 최초로 수간하는 내용이 담긴 영화</td>\n",
       "      <td>0</td>\n",
       "    </tr>\n",
       "  </tbody>\n",
       "</table>\n",
       "<p>139384 rows × 3 columns</p>\n",
       "</div>"
      ],
      "text/plain": [
       "              id                                           document  label\n",
       "0        9976970                                아 더빙.. 진짜 짜증나네요 목소리      0\n",
       "1        3819312                  흠...포스터보고 초딩영화줄....오버연기조차 가볍지 않구나      1\n",
       "2       10265843                                  너무재밓었다그래서보는것을추천한다      0\n",
       "3        9045019                      교도소 이야기구먼 ..솔직히 재미는 없다..평점 조정      0\n",
       "4        6483659  사이몬페그의 익살스런 연기가 돋보였던 영화!스파이더맨에서 늙어보이기만 했던 커스틴 ...      1\n",
       "...          ...                                                ...    ...\n",
       "149995   6222902                                인간이 문제지.. 소는 뭔죄인가..      0\n",
       "149996   8549745                                      평점이 너무 낮아서...      1\n",
       "149997   9311800                    이게 뭐요? 한국인은 거들먹거리고 필리핀 혼혈은 착하다?      0\n",
       "149998   2376369                        청춘 영화의 최고봉.방황과 우울했던 날들의 자화상      1\n",
       "149999   9619869                           한국 영화 최초로 수간하는 내용이 담긴 영화      0\n",
       "\n",
       "[139384 rows x 3 columns]"
      ]
     },
     "execution_count": 30,
     "metadata": {},
     "output_type": "execute_result"
    }
   ],
   "source": [
    "df_filtered = df[df['document'].str.len().between(6, 132)]\n",
    "df_filtered"
   ]
  },
  {
   "cell_type": "code",
   "execution_count": 31,
   "id": "361e6baf",
   "metadata": {},
   "outputs": [],
   "source": [
    "filtered_corpus = df_filtered['document']\n",
    "filtered_label = df_filtered['label']"
   ]
  },
  {
   "cell_type": "code",
   "execution_count": 32,
   "id": "66169649",
   "metadata": {},
   "outputs": [
    {
     "name": "stderr",
     "output_type": "stream",
     "text": [
      "sentencepiece_trainer.cc(177) LOG(INFO) Running command: --input=/aiffel/aiffel/project/GoingDeeper/Go01/korean-english-park.train.ko.temp --model_prefix=korean_spm --vocab_size=8000\n",
      "sentencepiece_trainer.cc(77) LOG(INFO) Starts training with : \n",
      "trainer_spec {\n",
      "  input: /aiffel/aiffel/project/GoingDeeper/Go01/korean-english-park.train.ko.temp\n",
      "  input_format: \n",
      "  model_prefix: korean_spm\n",
      "  model_type: UNIGRAM\n",
      "  vocab_size: 8000\n",
      "  self_test_sample_size: 0\n",
      "  character_coverage: 0.9995\n",
      "  input_sentence_size: 0\n",
      "  shuffle_input_sentence: 1\n",
      "  seed_sentencepiece_size: 1000000\n",
      "  shrinking_factor: 0.75\n",
      "  max_sentence_length: 4192\n",
      "  num_threads: 16\n",
      "  num_sub_iterations: 2\n",
      "  max_sentencepiece_length: 16\n",
      "  split_by_unicode_script: 1\n",
      "  split_by_number: 1\n",
      "  split_by_whitespace: 1\n",
      "  split_digits: 0\n",
      "  treat_whitespace_as_suffix: 0\n",
      "  allow_whitespace_only_pieces: 0\n",
      "  required_chars: \n",
      "  byte_fallback: 0\n",
      "  vocabulary_output_piece_score: 1\n",
      "  train_extremely_large_corpus: 0\n",
      "  hard_vocab_limit: 1\n",
      "  use_all_vocab: 0\n",
      "  unk_id: 0\n",
      "  bos_id: 1\n",
      "  eos_id: 2\n",
      "  pad_id: -1\n",
      "  unk_piece: <unk>\n",
      "  bos_piece: <s>\n",
      "  eos_piece: </s>\n",
      "  pad_piece: <pad>\n",
      "  unk_surface:  ⁇ \n",
      "}\n",
      "normalizer_spec {\n",
      "  name: nmt_nfkc\n",
      "  add_dummy_prefix: 1\n",
      "  remove_extra_whitespaces: 1\n",
      "  escape_whitespaces: 1\n",
      "  normalization_rule_tsv: \n",
      "}\n",
      "denormalizer_spec {}\n",
      "trainer_interface.cc(329) LOG(INFO) SentenceIterator is not specified. Using MultiFileSentenceIterator.\n",
      "trainer_interface.cc(178) LOG(INFO) Loading corpus: /aiffel/aiffel/project/GoingDeeper/Go01/korean-english-park.train.ko.temp\n",
      "trainer_interface.cc(385) LOG(INFO) Loaded all 139384 sentences\n",
      "trainer_interface.cc(400) LOG(INFO) Adding meta_piece: <unk>\n",
      "trainer_interface.cc(400) LOG(INFO) Adding meta_piece: <s>\n",
      "trainer_interface.cc(400) LOG(INFO) Adding meta_piece: </s>\n",
      "trainer_interface.cc(405) LOG(INFO) Normalizing sentences...\n",
      "trainer_interface.cc(466) LOG(INFO) all chars count=4899985\n",
      "trainer_interface.cc(477) LOG(INFO) Done: 99.95% characters are covered.\n",
      "trainer_interface.cc(487) LOG(INFO) Alphabet size=1713\n",
      "trainer_interface.cc(488) LOG(INFO) Final character coverage=0.9995\n",
      "trainer_interface.cc(520) LOG(INFO) Done! preprocessed 139384 sentences.\n",
      "unigram_model_trainer.cc(139) LOG(INFO) Making suffix array...\n",
      "unigram_model_trainer.cc(143) LOG(INFO) Extracting frequent sub strings...\n",
      "unigram_model_trainer.cc(194) LOG(INFO) Initialized 283400 seed sentencepieces\n",
      "trainer_interface.cc(526) LOG(INFO) Tokenizing input sentences with whitespace: 139384\n",
      "trainer_interface.cc(537) LOG(INFO) Done! 327178\n",
      "unigram_model_trainer.cc(489) LOG(INFO) Using 327178 sentences for EM training\n",
      "unigram_model_trainer.cc(505) LOG(INFO) EM sub_iter=0 size=145197 obj=15.386 num_tokens=769121 num_tokens/piece=5.29709\n",
      "unigram_model_trainer.cc(505) LOG(INFO) EM sub_iter=1 size=134390 obj=14.3262 num_tokens=774032 num_tokens/piece=5.7596\n",
      "unigram_model_trainer.cc(505) LOG(INFO) EM sub_iter=0 size=100753 obj=14.4273 num_tokens=806822 num_tokens/piece=8.00792\n",
      "unigram_model_trainer.cc(505) LOG(INFO) EM sub_iter=1 size=100582 obj=14.3706 num_tokens=807493 num_tokens/piece=8.02821\n",
      "unigram_model_trainer.cc(505) LOG(INFO) EM sub_iter=0 size=75432 obj=14.611 num_tokens=848146 num_tokens/piece=11.2438\n",
      "unigram_model_trainer.cc(505) LOG(INFO) EM sub_iter=1 size=75425 obj=14.5479 num_tokens=848291 num_tokens/piece=11.2468\n",
      "unigram_model_trainer.cc(505) LOG(INFO) EM sub_iter=0 size=56568 obj=14.812 num_tokens=887146 num_tokens/piece=15.6828\n",
      "unigram_model_trainer.cc(505) LOG(INFO) EM sub_iter=1 size=56567 obj=14.7517 num_tokens=887161 num_tokens/piece=15.6834\n",
      "unigram_model_trainer.cc(505) LOG(INFO) EM sub_iter=0 size=42425 obj=15.047 num_tokens=928758 num_tokens/piece=21.8918\n",
      "unigram_model_trainer.cc(505) LOG(INFO) EM sub_iter=1 size=42425 obj=14.9816 num_tokens=928749 num_tokens/piece=21.8915\n",
      "unigram_model_trainer.cc(505) LOG(INFO) EM sub_iter=0 size=31818 obj=15.3121 num_tokens=971417 num_tokens/piece=30.5304\n",
      "unigram_model_trainer.cc(505) LOG(INFO) EM sub_iter=1 size=31818 obj=15.2447 num_tokens=971418 num_tokens/piece=30.5305\n",
      "unigram_model_trainer.cc(505) LOG(INFO) EM sub_iter=0 size=23863 obj=15.609 num_tokens=1016216 num_tokens/piece=42.5854\n",
      "unigram_model_trainer.cc(505) LOG(INFO) EM sub_iter=1 size=23863 obj=15.5349 num_tokens=1016240 num_tokens/piece=42.5864\n",
      "unigram_model_trainer.cc(505) LOG(INFO) EM sub_iter=0 size=17897 obj=15.932 num_tokens=1062974 num_tokens/piece=59.394\n",
      "unigram_model_trainer.cc(505) LOG(INFO) EM sub_iter=1 size=17897 obj=15.8501 num_tokens=1062988 num_tokens/piece=59.3948\n",
      "unigram_model_trainer.cc(505) LOG(INFO) EM sub_iter=0 size=13422 obj=16.284 num_tokens=1112635 num_tokens/piece=82.8964\n",
      "unigram_model_trainer.cc(505) LOG(INFO) EM sub_iter=1 size=13422 obj=16.1819 num_tokens=1112658 num_tokens/piece=82.8981\n",
      "unigram_model_trainer.cc(505) LOG(INFO) EM sub_iter=0 size=10066 obj=16.6569 num_tokens=1166202 num_tokens/piece=115.856\n",
      "unigram_model_trainer.cc(505) LOG(INFO) EM sub_iter=1 size=10066 obj=16.5533 num_tokens=1166376 num_tokens/piece=115.873\n",
      "unigram_model_trainer.cc(505) LOG(INFO) EM sub_iter=0 size=8800 obj=16.7915 num_tokens=1192306 num_tokens/piece=135.489\n",
      "unigram_model_trainer.cc(505) LOG(INFO) EM sub_iter=1 size=8800 obj=16.7398 num_tokens=1192722 num_tokens/piece=135.537\n",
      "trainer_interface.cc(615) LOG(INFO) Saving model: korean_spm.model\n",
      "trainer_interface.cc(626) LOG(INFO) Saving vocabs: korean_spm.vocab\n"
     ]
    },
    {
     "name": "stdout",
     "output_type": "stream",
     "text": [
      "-rw-r--r-- 1 root root 374969 May  9 06:25 korean_spm.model\r\n",
      "-rw-r--r-- 1 root root 144419 May  9 06:25 korean_spm.vocab\r\n"
     ]
    }
   ],
   "source": [
    "import sentencepiece as spm\n",
    "import os\n",
    "temp_file = os.getenv('HOME')+'/aiffel/project/GoingDeeper/Go01/korean-english-park.train.ko.temp'\n",
    "\n",
    "vocab_size = 8000\n",
    "\n",
    "with open(temp_file, 'w') as f:\n",
    "    for row in filtered_corpus:   # 이전에 나왔던 정제했던 corpus를 활용해서 진행해야 합니다.\n",
    "        f.write(str(row) + '\\n')\n",
    "\n",
    "spm.SentencePieceTrainer.Train(\n",
    "    '--input={} --model_prefix=korean_spm --vocab_size={}'.format(temp_file, vocab_size)    \n",
    ")\n",
    "#위 Train에서  --model_type = unigram이 디폴트 적용되어 있습니다. --model_type = bpe로 옵션을 주어 변경할 수 있습니다.\n",
    "\n",
    "!ls -l korean_spm*"
   ]
  },
  {
   "cell_type": "code",
   "execution_count": 33,
   "id": "81b17dd3",
   "metadata": {},
   "outputs": [
    {
     "name": "stdout",
     "output_type": "stream",
     "text": [
      "[1464, 10, 387, 15, 1430, 10, 151, 17, 4]\n",
      "['▁아버지', '가', '방', '에', '들어', '가', '신', '다', '.']\n",
      "아버지가방에들어가신다.\n"
     ]
    }
   ],
   "source": [
    "# 잘 됐는지 확인\n",
    "s = spm.SentencePieceProcessor()\n",
    "s.Load('korean_spm.model')\n",
    "\n",
    "# SentencePiece를 활용한 sentence -> encoding\n",
    "tokensIDs = s.EncodeAsIds('아버지가방에들어가신다.')\n",
    "print(tokensIDs)\n",
    "\n",
    "# SentencePiece를 활용한 sentence -> encoded pieces\n",
    "print(s.SampleEncodeAsPieces('아버지가방에들어가신다.',1, 0.0))\n",
    "\n",
    "# SentencePiece를 활용한 encoding -> sentence 복원\n",
    "print(s.DecodeIds(tokensIDs))"
   ]
  },
  {
   "cell_type": "code",
   "execution_count": 34,
   "id": "c212bee4",
   "metadata": {},
   "outputs": [],
   "source": [
    "def sp_tokenize(s, corpus): \n",
    "\n",
    "    tensor = []\n",
    "\n",
    "    for sen in corpus:\n",
    "        tensor.append(s.EncodeAsIds(sen))\n",
    "\n",
    "    with open(\"./korean_spm.vocab\", 'r') as f:\n",
    "        vocab = f.readlines()\n",
    "\n",
    "    word_index = {}\n",
    "    index_word = {}\n",
    "\n",
    "    for idx, line in enumerate(vocab):\n",
    "        word = line.split(\"\\t\")[0]\n",
    "\n",
    "        word_index.update({word:idx})\n",
    "        index_word.update({idx:word})\n",
    "\n",
    "    tensor = tf.keras.preprocessing.sequence.pad_sequences(tensor, padding='pre')\n",
    "\n",
    "    return tensor, word_index, index_word"
   ]
  },
  {
   "cell_type": "code",
   "execution_count": 35,
   "id": "ce277b37",
   "metadata": {
    "scrolled": true
   },
   "outputs": [],
   "source": [
    "tensor, word_index, index_word = sp_tokenize(s,filtered_corpus)"
   ]
  },
  {
   "cell_type": "code",
   "execution_count": 36,
   "id": "e88bf818",
   "metadata": {},
   "outputs": [],
   "source": [
    "y = filtered_label.values"
   ]
  },
  {
   "cell_type": "code",
   "execution_count": 37,
   "id": "16f81c9d",
   "metadata": {
    "scrolled": true
   },
   "outputs": [],
   "source": [
    "X_train = tensor\n",
    "y_train = y.reshape(-1,1)\n"
   ]
  },
  {
   "cell_type": "markdown",
   "id": "1a3c0403",
   "metadata": {},
   "source": [
    "## 테스트 데이터"
   ]
  },
  {
   "cell_type": "code",
   "execution_count": 38,
   "id": "572f3287",
   "metadata": {
    "scrolled": false
   },
   "outputs": [
    {
     "data": {
      "text/html": [
       "<div>\n",
       "<style scoped>\n",
       "    .dataframe tbody tr th:only-of-type {\n",
       "        vertical-align: middle;\n",
       "    }\n",
       "\n",
       "    .dataframe tbody tr th {\n",
       "        vertical-align: top;\n",
       "    }\n",
       "\n",
       "    .dataframe thead th {\n",
       "        text-align: right;\n",
       "    }\n",
       "</style>\n",
       "<table border=\"1\" class=\"dataframe\">\n",
       "  <thead>\n",
       "    <tr style=\"text-align: right;\">\n",
       "      <th></th>\n",
       "      <th>id</th>\n",
       "      <th>document</th>\n",
       "      <th>label</th>\n",
       "    </tr>\n",
       "  </thead>\n",
       "  <tbody>\n",
       "    <tr>\n",
       "      <th>0</th>\n",
       "      <td>6270596</td>\n",
       "      <td>굳 ㅋ</td>\n",
       "      <td>1</td>\n",
       "    </tr>\n",
       "    <tr>\n",
       "      <th>1</th>\n",
       "      <td>9274899</td>\n",
       "      <td>GDNTOPCLASSINTHECLUB</td>\n",
       "      <td>0</td>\n",
       "    </tr>\n",
       "    <tr>\n",
       "      <th>2</th>\n",
       "      <td>8544678</td>\n",
       "      <td>뭐야 이 평점들은.... 나쁘진 않지만 10점 짜리는 더더욱 아니잖아</td>\n",
       "      <td>0</td>\n",
       "    </tr>\n",
       "    <tr>\n",
       "      <th>3</th>\n",
       "      <td>6825595</td>\n",
       "      <td>지루하지는 않은데 완전 막장임... 돈주고 보기에는....</td>\n",
       "      <td>0</td>\n",
       "    </tr>\n",
       "    <tr>\n",
       "      <th>4</th>\n",
       "      <td>6723715</td>\n",
       "      <td>3D만 아니었어도 별 다섯 개 줬을텐데.. 왜 3D로 나와서 제 심기를 불편하게 하죠??</td>\n",
       "      <td>0</td>\n",
       "    </tr>\n",
       "    <tr>\n",
       "      <th>...</th>\n",
       "      <td>...</td>\n",
       "      <td>...</td>\n",
       "      <td>...</td>\n",
       "    </tr>\n",
       "    <tr>\n",
       "      <th>49995</th>\n",
       "      <td>4608761</td>\n",
       "      <td>오랜만에 평점 로긴했네ㅋㅋ 킹왕짱 쌈뽕한 영화를 만났습니다 강렬하게 육쾌함</td>\n",
       "      <td>1</td>\n",
       "    </tr>\n",
       "    <tr>\n",
       "      <th>49996</th>\n",
       "      <td>5308387</td>\n",
       "      <td>의지 박약들이나 하는거다 탈영은 일단 주인공 김대희 닮았고 이등병 찐따 OOOO</td>\n",
       "      <td>0</td>\n",
       "    </tr>\n",
       "    <tr>\n",
       "      <th>49997</th>\n",
       "      <td>9072549</td>\n",
       "      <td>그림도 좋고 완성도도 높았지만... 보는 내내 불안하게 만든다</td>\n",
       "      <td>0</td>\n",
       "    </tr>\n",
       "    <tr>\n",
       "      <th>49998</th>\n",
       "      <td>5802125</td>\n",
       "      <td>절대 봐서는 안 될 영화.. 재미도 없고 기분만 잡치고.. 한 세트장에서 다 해먹네</td>\n",
       "      <td>0</td>\n",
       "    </tr>\n",
       "    <tr>\n",
       "      <th>49999</th>\n",
       "      <td>6070594</td>\n",
       "      <td>마무리는 또 왜이래</td>\n",
       "      <td>0</td>\n",
       "    </tr>\n",
       "  </tbody>\n",
       "</table>\n",
       "<p>50000 rows × 3 columns</p>\n",
       "</div>"
      ],
      "text/plain": [
       "            id                                           document  label\n",
       "0      6270596                                                굳 ㅋ      1\n",
       "1      9274899                               GDNTOPCLASSINTHECLUB      0\n",
       "2      8544678             뭐야 이 평점들은.... 나쁘진 않지만 10점 짜리는 더더욱 아니잖아      0\n",
       "3      6825595                   지루하지는 않은데 완전 막장임... 돈주고 보기에는....      0\n",
       "4      6723715  3D만 아니었어도 별 다섯 개 줬을텐데.. 왜 3D로 나와서 제 심기를 불편하게 하죠??      0\n",
       "...        ...                                                ...    ...\n",
       "49995  4608761          오랜만에 평점 로긴했네ㅋㅋ 킹왕짱 쌈뽕한 영화를 만났습니다 강렬하게 육쾌함      1\n",
       "49996  5308387       의지 박약들이나 하는거다 탈영은 일단 주인공 김대희 닮았고 이등병 찐따 OOOO      0\n",
       "49997  9072549                 그림도 좋고 완성도도 높았지만... 보는 내내 불안하게 만든다      0\n",
       "49998  5802125     절대 봐서는 안 될 영화.. 재미도 없고 기분만 잡치고.. 한 세트장에서 다 해먹네      0\n",
       "49999  6070594                                         마무리는 또 왜이래      0\n",
       "\n",
       "[50000 rows x 3 columns]"
      ]
     },
     "execution_count": 38,
     "metadata": {},
     "output_type": "execute_result"
    }
   ],
   "source": [
    "test_df = pd.read_csv(\"./ratings_test.txt\",sep=\"\\t\")\n",
    "test_df"
   ]
  },
  {
   "cell_type": "code",
   "execution_count": 39,
   "id": "780a6bf2",
   "metadata": {},
   "outputs": [
    {
     "data": {
      "text/plain": [
       "id          0\n",
       "document    3\n",
       "label       0\n",
       "dtype: int64"
      ]
     },
     "execution_count": 39,
     "metadata": {},
     "output_type": "execute_result"
    }
   ],
   "source": [
    "test_df.isnull().sum()"
   ]
  },
  {
   "cell_type": "code",
   "execution_count": 40,
   "id": "de506541",
   "metadata": {},
   "outputs": [],
   "source": [
    "test_df.dropna(inplace=True)"
   ]
  },
  {
   "cell_type": "code",
   "execution_count": 41,
   "id": "efc92045",
   "metadata": {},
   "outputs": [
    {
     "data": {
      "text/plain": [
       "id          0\n",
       "document    0\n",
       "label       0\n",
       "dtype: int64"
      ]
     },
     "execution_count": 41,
     "metadata": {},
     "output_type": "execute_result"
    }
   ],
   "source": [
    "test_df.isnull().sum()"
   ]
  },
  {
   "cell_type": "code",
   "execution_count": 42,
   "id": "300c74da",
   "metadata": {},
   "outputs": [],
   "source": [
    "test_data = test_df['document'].values\n",
    "test_label = test_df['label'].values"
   ]
  },
  {
   "cell_type": "code",
   "execution_count": 43,
   "id": "152cb048",
   "metadata": {},
   "outputs": [],
   "source": [
    "test_tensor, word_index, index_word = sp_tokenize(s,test_data)"
   ]
  },
  {
   "cell_type": "markdown",
   "id": "a329c937",
   "metadata": {},
   "source": [
    "## lstm 모델"
   ]
  },
  {
   "cell_type": "code",
   "execution_count": 47,
   "id": "96aee963",
   "metadata": {},
   "outputs": [
    {
     "name": "stdout",
     "output_type": "stream",
     "text": [
      "Model: \"sequential_1\"\n",
      "_________________________________________________________________\n",
      "Layer (type)                 Output Shape              Param #   \n",
      "=================================================================\n",
      "embedding_1 (Embedding)      (None, None, 32)          256000    \n",
      "_________________________________________________________________\n",
      "lstm_2 (LSTM)                (None, None, 64)          24832     \n",
      "_________________________________________________________________\n",
      "lstm_3 (LSTM)                (None, 64)                33024     \n",
      "_________________________________________________________________\n",
      "dense_2 (Dense)              (None, 32)                2080      \n",
      "_________________________________________________________________\n",
      "dense_3 (Dense)              (None, 1)                 33        \n",
      "=================================================================\n",
      "Total params: 315,969\n",
      "Trainable params: 315,969\n",
      "Non-trainable params: 0\n",
      "_________________________________________________________________\n"
     ]
    }
   ],
   "source": [
    "# vocab_size = 8000\n",
    "embedding_dim = 32\n",
    "lstm_units = 64\n",
    "dense_units = 32\n",
    "\n",
    "lstm_model = tf.keras.Sequential()\n",
    "lstm_model.add(tf.keras.layers.Embedding(vocab_size, embedding_dim, input_shape=(None,)))\n",
    "lstm_model.add(tf.keras.layers.LSTM(lstm_units, return_sequences=True))\n",
    "lstm_model.add(tf.keras.layers.LSTM(lstm_units))   \n",
    "lstm_model.add(tf.keras.layers.Dense(dense_units, activation='relu'))\n",
    "lstm_model.add(tf.keras.layers.Dense(1, activation='sigmoid'))  # 최종 출력은 긍정/부정을 나타내는 1dim 입니다.\n",
    "\n",
    "lstm_model.summary()"
   ]
  },
  {
   "cell_type": "code",
   "execution_count": 48,
   "id": "5236d795",
   "metadata": {},
   "outputs": [],
   "source": [
    "lstm_model.compile(optimizer='adam', loss='binary_crossentropy', metrics=['accuracy'])"
   ]
  },
  {
   "cell_type": "code",
   "execution_count": 49,
   "id": "074bbde4",
   "metadata": {},
   "outputs": [
    {
     "name": "stdout",
     "output_type": "stream",
     "text": [
      "Epoch 1/30\n",
      "218/218 [==============================] - 8s 23ms/step - loss: 0.4472 - accuracy: 0.7782 - val_loss: 0.3539 - val_accuracy: 0.8470\n",
      "Epoch 2/30\n",
      "218/218 [==============================] - 4s 20ms/step - loss: 0.3264 - accuracy: 0.8589 - val_loss: 0.3405 - val_accuracy: 0.8557\n",
      "Epoch 3/30\n",
      "218/218 [==============================] - 4s 20ms/step - loss: 0.3068 - accuracy: 0.8693 - val_loss: 0.3337 - val_accuracy: 0.8547\n",
      "Epoch 4/30\n",
      "218/218 [==============================] - 4s 20ms/step - loss: 0.2883 - accuracy: 0.8784 - val_loss: 0.3367 - val_accuracy: 0.8544\n",
      "Epoch 5/30\n",
      "218/218 [==============================] - 4s 20ms/step - loss: 0.2715 - accuracy: 0.8861 - val_loss: 0.3433 - val_accuracy: 0.8539\n",
      "Epoch 6/30\n",
      "218/218 [==============================] - 4s 20ms/step - loss: 0.2546 - accuracy: 0.8947 - val_loss: 0.3500 - val_accuracy: 0.8522\n"
     ]
    },
    {
     "data": {
      "text/plain": [
       "<keras.callbacks.History at 0x74ff32b90550>"
      ]
     },
     "execution_count": 49,
     "metadata": {},
     "output_type": "execute_result"
    }
   ],
   "source": [
    "# 모델 학습\n",
    "from tensorflow.keras.callbacks import EarlyStopping\n",
    "epochs = 30\n",
    "\n",
    "early_stopping = EarlyStopping(monitor='val_loss', patience=3, restore_best_weights=True)\n",
    "\n",
    "lstm_model.fit(X_train, y_train , \n",
    "              epochs=epochs, batch_size=512, \n",
    "              validation_split=0.2, callbacks=[early_stopping], verbose=1)\n"
   ]
  },
  {
   "cell_type": "code",
   "execution_count": 50,
   "id": "3e22a358",
   "metadata": {},
   "outputs": [
    {
     "name": "stdout",
     "output_type": "stream",
     "text": [
      "1563/1563 - 7s - loss: 0.3465 - accuracy: 0.8486\n",
      "[0.3464958965778351, 0.8485709428787231]\n"
     ]
    }
   ],
   "source": [
    "lstm_results = lstm_model.evaluate(test_tensor,test_label,verbose=2)\n",
    "print(lstm_results)"
   ]
  },
  {
   "cell_type": "markdown",
   "id": "9eb44574",
   "metadata": {},
   "source": [
    "### 다른 토크나이저 - mecab"
   ]
  },
  {
   "cell_type": "code",
   "execution_count": 51,
   "id": "ef531a39",
   "metadata": {},
   "outputs": [],
   "source": [
    "from konlpy.tag import Mecab\n",
    "mecab = Mecab()"
   ]
  },
  {
   "cell_type": "code",
   "execution_count": 52,
   "id": "e5dd54b4",
   "metadata": {},
   "outputs": [],
   "source": [
    "# 위에서 사용한 코드를 활용해 MeCab 단어 사전을 만들어보세요. \n",
    "# Hint : mecab.morphs()를 사용해서 형태소분석을 합니다.\n",
    "def mecab_split(sentence):\n",
    "    # 코드를 작성하세요\n",
    "    return mecab.morphs(sentence)\n",
    "\n",
    "mecab_corpus = []\n",
    "\n",
    "for kor in filtered_corpus:\n",
    "    # 코드를 작성하세요\n",
    "    mecab_corpus.append(mecab_split(kor))"
   ]
  },
  {
   "cell_type": "code",
   "execution_count": 53,
   "id": "77e2fde8",
   "metadata": {},
   "outputs": [],
   "source": [
    "# 단어 사전과 Tensor 데이터 \n",
    "def tokenize(corpus):  # corpus: Tokenized Sentence's List\n",
    "    tokenizer = tf.keras.preprocessing.text.Tokenizer(filters='')\n",
    "    tokenizer.fit_on_texts(corpus)\n",
    "\n",
    "    tensor = tokenizer.texts_to_sequences(corpus)\n",
    "\n",
    "    tensor = tf.keras.preprocessing.sequence.pad_sequences(tensor, padding='pre')\n",
    "\n",
    "    return tensor, tokenizer"
   ]
  },
  {
   "cell_type": "code",
   "execution_count": 54,
   "id": "f9f9c292",
   "metadata": {},
   "outputs": [],
   "source": [
    "mecab_tensor, mecab_tokenizer = tokenize(mecab_corpus)"
   ]
  },
  {
   "cell_type": "code",
   "execution_count": 67,
   "id": "55b0be42",
   "metadata": {},
   "outputs": [
    {
     "name": "stdout",
     "output_type": "stream",
     "text": [
      "Model: \"sequential_4\"\n",
      "_________________________________________________________________\n",
      "Layer (type)                 Output Shape              Param #   \n",
      "=================================================================\n",
      "embedding_4 (Embedding)      (None, None, 32)          256000    \n",
      "_________________________________________________________________\n",
      "lstm_8 (LSTM)                (None, None, 64)          24832     \n",
      "_________________________________________________________________\n",
      "lstm_9 (LSTM)                (None, 64)                33024     \n",
      "_________________________________________________________________\n",
      "dense_8 (Dense)              (None, 32)                2080      \n",
      "_________________________________________________________________\n",
      "dense_9 (Dense)              (None, 1)                 33        \n",
      "=================================================================\n",
      "Total params: 315,969\n",
      "Trainable params: 315,969\n",
      "Non-trainable params: 0\n",
      "_________________________________________________________________\n"
     ]
    }
   ],
   "source": [
    "# vocab_size = 8000\n",
    "embedding_dim = 32\n",
    "lstm_units = 64\n",
    "dense_units = 32\n",
    "\n",
    "lstm_model_mecab = tf.keras.Sequential()\n",
    "lstm_model_mecab.add(tf.keras.layers.Embedding(vocab_size, embedding_dim, input_shape=(None,)))\n",
    "lstm_model_mecab.add(tf.keras.layers.LSTM(lstm_units, return_sequences=True))\n",
    "lstm_model_mecab.add(tf.keras.layers.LSTM(lstm_units))   \n",
    "lstm_model_mecab.add(tf.keras.layers.Dense(dense_units, activation='relu'))\n",
    "lstm_model_mecab.add(tf.keras.layers.Dense(1, activation='sigmoid'))  # 최종 출력은 긍정/부정을 나타내는 1dim 입니다.\n",
    "\n",
    "lstm_model_mecab.summary()"
   ]
  },
  {
   "cell_type": "code",
   "execution_count": 68,
   "id": "08234ba0",
   "metadata": {},
   "outputs": [],
   "source": [
    "lstm_model_mecab.compile(optimizer='adam', loss='binary_crossentropy', metrics=['accuracy'])"
   ]
  },
  {
   "cell_type": "code",
   "execution_count": 69,
   "id": "bda11dc4",
   "metadata": {},
   "outputs": [
    {
     "name": "stdout",
     "output_type": "stream",
     "text": [
      "Epoch 1/30\n",
      "218/218 [==============================] - 7s 21ms/step - loss: 0.4340 - accuracy: 0.7925 - val_loss: 0.3539 - val_accuracy: 0.8476\n",
      "Epoch 2/30\n",
      "218/218 [==============================] - 4s 18ms/step - loss: 0.3300 - accuracy: 0.8581 - val_loss: 0.3471 - val_accuracy: 0.8506\n",
      "Epoch 3/30\n",
      "218/218 [==============================] - 4s 18ms/step - loss: 0.3092 - accuracy: 0.8688 - val_loss: 0.3380 - val_accuracy: 0.8537\n",
      "Epoch 4/30\n",
      "218/218 [==============================] - 4s 19ms/step - loss: 0.2887 - accuracy: 0.8789 - val_loss: 0.3340 - val_accuracy: 0.8563\n",
      "Epoch 5/30\n",
      "218/218 [==============================] - 4s 19ms/step - loss: 0.2668 - accuracy: 0.8890 - val_loss: 0.3380 - val_accuracy: 0.8544\n",
      "Epoch 6/30\n",
      "218/218 [==============================] - 4s 19ms/step - loss: 0.2465 - accuracy: 0.8983 - val_loss: 0.3464 - val_accuracy: 0.8590\n",
      "Epoch 7/30\n",
      "218/218 [==============================] - 4s 19ms/step - loss: 0.2272 - accuracy: 0.9071 - val_loss: 0.3525 - val_accuracy: 0.8572\n",
      "Epoch 8/30\n",
      "218/218 [==============================] - 4s 19ms/step - loss: 0.2081 - accuracy: 0.9157 - val_loss: 0.3941 - val_accuracy: 0.8517\n",
      "Epoch 9/30\n",
      "218/218 [==============================] - 4s 19ms/step - loss: 0.1915 - accuracy: 0.9234 - val_loss: 0.3928 - val_accuracy: 0.8498\n"
     ]
    },
    {
     "data": {
      "text/plain": [
       "<keras.callbacks.History at 0x74fe083e79d0>"
      ]
     },
     "execution_count": 69,
     "metadata": {},
     "output_type": "execute_result"
    }
   ],
   "source": [
    "# 모델 학습\n",
    "\n",
    "epochs = 30\n",
    "\n",
    "early_stopping = EarlyStopping(monitor='val_loss', patience=5, restore_best_weights=True)\n",
    "\n",
    "lstm_model_mecab.fit(mecab_tensor, y_train , \n",
    "              epochs=epochs, batch_size=512, \n",
    "              validation_split=0.2, callbacks=[early_stopping], verbose=1)\n"
   ]
  },
  {
   "cell_type": "code",
   "execution_count": 62,
   "id": "e46d37e9",
   "metadata": {},
   "outputs": [],
   "source": [
    "mecab_corpus_test = []\n",
    "\n",
    "for kor in test_data:\n",
    "    # 코드를 작성하세요\n",
    "    mecab_corpus_test.append(mecab_split(kor))"
   ]
  },
  {
   "cell_type": "code",
   "execution_count": 63,
   "id": "b2c804ff",
   "metadata": {},
   "outputs": [],
   "source": [
    "mecab_tensor_test, mecab_tokenizer = tokenize(mecab_corpus_test)"
   ]
  },
  {
   "cell_type": "code",
   "execution_count": 70,
   "id": "d7a21871",
   "metadata": {},
   "outputs": [
    {
     "name": "stdout",
     "output_type": "stream",
     "text": [
      "1563/1563 - 7s - loss: 1.0290 - accuracy: 0.5426\n",
      "[1.029029369354248, 0.542572557926178]\n"
     ]
    }
   ],
   "source": [
    "lstm_results_mecab = lstm_model_mecab.evaluate(mecab_tensor_test,test_label,verbose=2)\n",
    "print(lstm_results_mecab)"
   ]
  },
  {
   "cell_type": "markdown",
   "id": "34cb387e",
   "metadata": {},
   "source": [
    "### komoran"
   ]
  },
  {
   "cell_type": "code",
   "execution_count": 72,
   "id": "3f9569e1",
   "metadata": {},
   "outputs": [],
   "source": [
    "from konlpy.tag import Komoran\n",
    "komoran = Komoran()"
   ]
  },
  {
   "cell_type": "code",
   "execution_count": 73,
   "id": "b30b56b5",
   "metadata": {},
   "outputs": [],
   "source": [
    "def komoran_split(sentence):\n",
    "    # 코드를 작성하세요\n",
    "    return komoran.morphs(sentence)\n",
    "\n",
    "komoran_corpus = []\n",
    "\n",
    "for kor in filtered_corpus:\n",
    "    # 코드를 작성하세요\n",
    "    komoran_corpus.append(komoran_split(kor))"
   ]
  },
  {
   "cell_type": "code",
   "execution_count": 74,
   "id": "b28e3f43",
   "metadata": {},
   "outputs": [],
   "source": [
    "komoran_corpus_test = []\n",
    "for kor in test_data:\n",
    "    komoran_corpus_test.append(komoran_split(kor))"
   ]
  },
  {
   "cell_type": "code",
   "execution_count": 75,
   "id": "99a7c143",
   "metadata": {},
   "outputs": [],
   "source": [
    "komoran_tensor, komoran_tokenizer = tokenize(komoran_corpus)"
   ]
  },
  {
   "cell_type": "code",
   "execution_count": 76,
   "id": "de6087e7",
   "metadata": {},
   "outputs": [],
   "source": [
    "komoran_tensor_test, komoran_tokenizer = tokenize(komoran_corpus_test)"
   ]
  },
  {
   "cell_type": "code",
   "execution_count": 77,
   "id": "e4bc122d",
   "metadata": {},
   "outputs": [
    {
     "name": "stdout",
     "output_type": "stream",
     "text": [
      "Model: \"sequential_5\"\n",
      "_________________________________________________________________\n",
      "Layer (type)                 Output Shape              Param #   \n",
      "=================================================================\n",
      "embedding_5 (Embedding)      (None, None, 32)          256000    \n",
      "_________________________________________________________________\n",
      "lstm_10 (LSTM)               (None, None, 64)          24832     \n",
      "_________________________________________________________________\n",
      "lstm_11 (LSTM)               (None, 64)                33024     \n",
      "_________________________________________________________________\n",
      "dense_10 (Dense)             (None, 32)                2080      \n",
      "_________________________________________________________________\n",
      "dense_11 (Dense)             (None, 1)                 33        \n",
      "=================================================================\n",
      "Total params: 315,969\n",
      "Trainable params: 315,969\n",
      "Non-trainable params: 0\n",
      "_________________________________________________________________\n"
     ]
    }
   ],
   "source": [
    "# vocab_size = 8000\n",
    "embedding_dim = 32\n",
    "lstm_units = 64\n",
    "dense_units = 32\n",
    "\n",
    "lstm_model_komoran = tf.keras.Sequential()\n",
    "lstm_model_komoran.add(tf.keras.layers.Embedding(vocab_size, embedding_dim, input_shape=(None,)))\n",
    "lstm_model_komoran.add(tf.keras.layers.LSTM(lstm_units, return_sequences=True))\n",
    "lstm_model_komoran.add(tf.keras.layers.LSTM(lstm_units))   \n",
    "lstm_model_komoran.add(tf.keras.layers.Dense(dense_units, activation='relu'))\n",
    "lstm_model_komoran.add(tf.keras.layers.Dense(1, activation='sigmoid'))  # 최종 출력은 긍정/부정을 나타내는 1dim 입니다.\n",
    "\n",
    "lstm_model_komoran.summary()"
   ]
  },
  {
   "cell_type": "code",
   "execution_count": 78,
   "id": "5316ce05",
   "metadata": {},
   "outputs": [],
   "source": [
    "lstm_model_komoran.compile(optimizer='adam', loss='binary_crossentropy', metrics=['accuracy'])"
   ]
  },
  {
   "cell_type": "code",
   "execution_count": 79,
   "id": "fb59a21e",
   "metadata": {},
   "outputs": [
    {
     "name": "stdout",
     "output_type": "stream",
     "text": [
      "Epoch 1/30\n",
      "218/218 [==============================] - 8s 22ms/step - loss: 0.4496 - accuracy: 0.7814 - val_loss: 0.3702 - val_accuracy: 0.8376\n",
      "Epoch 2/30\n",
      "218/218 [==============================] - 4s 19ms/step - loss: 0.3512 - accuracy: 0.8462 - val_loss: 0.3617 - val_accuracy: 0.8415\n",
      "Epoch 3/30\n",
      "218/218 [==============================] - 4s 19ms/step - loss: 0.3331 - accuracy: 0.8556 - val_loss: 0.3584 - val_accuracy: 0.8413\n",
      "Epoch 4/30\n",
      "218/218 [==============================] - 4s 19ms/step - loss: 0.3165 - accuracy: 0.8639 - val_loss: 0.3529 - val_accuracy: 0.8444\n",
      "Epoch 5/30\n",
      "218/218 [==============================] - 4s 20ms/step - loss: 0.2980 - accuracy: 0.8716 - val_loss: 0.3481 - val_accuracy: 0.8485\n",
      "Epoch 6/30\n",
      "218/218 [==============================] - 4s 20ms/step - loss: 0.2779 - accuracy: 0.8817 - val_loss: 0.3529 - val_accuracy: 0.8459\n",
      "Epoch 7/30\n",
      "218/218 [==============================] - 4s 20ms/step - loss: 0.2601 - accuracy: 0.8906 - val_loss: 0.3677 - val_accuracy: 0.8501\n",
      "Epoch 8/30\n",
      "218/218 [==============================] - 4s 20ms/step - loss: 0.2413 - accuracy: 0.8996 - val_loss: 0.3774 - val_accuracy: 0.8457\n",
      "Epoch 9/30\n",
      "218/218 [==============================] - 4s 20ms/step - loss: 0.2246 - accuracy: 0.9083 - val_loss: 0.4024 - val_accuracy: 0.8465\n",
      "Epoch 10/30\n",
      "218/218 [==============================] - 4s 20ms/step - loss: 0.2115 - accuracy: 0.9138 - val_loss: 0.4149 - val_accuracy: 0.8447\n"
     ]
    },
    {
     "data": {
      "text/plain": [
       "<keras.callbacks.History at 0x74fe20d45340>"
      ]
     },
     "execution_count": 79,
     "metadata": {},
     "output_type": "execute_result"
    }
   ],
   "source": [
    "# 모델 학습\n",
    "\n",
    "epochs = 30\n",
    "\n",
    "early_stopping = EarlyStopping(monitor='val_loss', patience=5, restore_best_weights=True)\n",
    "\n",
    "lstm_model_komoran.fit(komoran_tensor, y_train , \n",
    "              epochs=epochs, batch_size=512, \n",
    "              validation_split=0.2, callbacks=[early_stopping], verbose=1)\n"
   ]
  },
  {
   "cell_type": "code",
   "execution_count": 82,
   "id": "eda71f9d",
   "metadata": {},
   "outputs": [
    {
     "name": "stdout",
     "output_type": "stream",
     "text": [
      "1563/1563 - 7s - loss: 1.0343 - accuracy: 0.5470\n",
      "[1.034342885017395, 0.5469728112220764]\n"
     ]
    }
   ],
   "source": [
    "lstm_results_komoran = lstm_model_komoran.evaluate(komoran_tensor_test,test_label,verbose=2)\n",
    "print(lstm_results_komoran)"
   ]
  },
  {
   "cell_type": "markdown",
   "id": "7ebe7126",
   "metadata": {},
   "source": [
    "# 회고\n",
    "\n",
    "코드 정리가 필요하다.  \n",
    "lstm이 단층이었을 때와 2층이었을때의 성능 차이가 있었다. 0.5 -> 0.8  \n",
    "mecab, komoran의 test 데이터에서 성능이 나오지 않는게 의문이다.  "
   ]
  },
  {
   "cell_type": "code",
   "execution_count": null,
   "id": "ca551112",
   "metadata": {},
   "outputs": [],
   "source": []
  }
 ],
 "metadata": {
  "kernelspec": {
   "display_name": "Python 3 (ipykernel)",
   "language": "python",
   "name": "python3"
  },
  "language_info": {
   "codemirror_mode": {
    "name": "ipython",
    "version": 3
   },
   "file_extension": ".py",
   "mimetype": "text/x-python",
   "name": "python",
   "nbconvert_exporter": "python",
   "pygments_lexer": "ipython3",
   "version": "3.9.7"
  }
 },
 "nbformat": 4,
 "nbformat_minor": 5
}
