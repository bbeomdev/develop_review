{
 "cells": [
  {
   "cell_type": "markdown",
   "id": "284878ee",
   "metadata": {},
   "source": [
    "# SentencePiece를 적용해서 네이버 영화리뷰 감정 분석\n",
    "\n",
    "\n",
    "데이터  \n",
    "- 200K\n",
    "- label\n",
    "    - 0: negative\n",
    "    - 1: positive\n",
    "    \n",
    "- .tsv format"
   ]
  },
  {
   "cell_type": "code",
   "execution_count": 1,
   "id": "ce8a660e",
   "metadata": {},
   "outputs": [
    {
     "name": "stdout",
     "output_type": "stream",
     "text": [
      "2.6.0\n",
      "1.21.4\n",
      "3.4.3\n",
      "0.5.2\n"
     ]
    }
   ],
   "source": [
    "import numpy as np\n",
    "import pandas as pd\n",
    "import tensorflow as tf\n",
    "import matplotlib.pyplot as plt\n",
    "import matplotlib\n",
    "import konlpy\n",
    "import sentencepiece as spm\n",
    "\n",
    "print(tf.__version__)\n",
    "print(np.__version__)\n",
    "print(matplotlib.__version__)\n",
    "print(konlpy.__version__)"
   ]
  },
  {
   "cell_type": "code",
   "execution_count": 2,
   "id": "d5993c7a",
   "metadata": {},
   "outputs": [
    {
     "data": {
      "text/html": [
       "<div>\n",
       "<style scoped>\n",
       "    .dataframe tbody tr th:only-of-type {\n",
       "        vertical-align: middle;\n",
       "    }\n",
       "\n",
       "    .dataframe tbody tr th {\n",
       "        vertical-align: top;\n",
       "    }\n",
       "\n",
       "    .dataframe thead th {\n",
       "        text-align: right;\n",
       "    }\n",
       "</style>\n",
       "<table border=\"1\" class=\"dataframe\">\n",
       "  <thead>\n",
       "    <tr style=\"text-align: right;\">\n",
       "      <th></th>\n",
       "      <th>id</th>\n",
       "      <th>document</th>\n",
       "      <th>label</th>\n",
       "    </tr>\n",
       "  </thead>\n",
       "  <tbody>\n",
       "    <tr>\n",
       "      <th>0</th>\n",
       "      <td>9976970</td>\n",
       "      <td>아 더빙.. 진짜 짜증나네요 목소리</td>\n",
       "      <td>0</td>\n",
       "    </tr>\n",
       "    <tr>\n",
       "      <th>1</th>\n",
       "      <td>3819312</td>\n",
       "      <td>흠...포스터보고 초딩영화줄....오버연기조차 가볍지 않구나</td>\n",
       "      <td>1</td>\n",
       "    </tr>\n",
       "    <tr>\n",
       "      <th>2</th>\n",
       "      <td>10265843</td>\n",
       "      <td>너무재밓었다그래서보는것을추천한다</td>\n",
       "      <td>0</td>\n",
       "    </tr>\n",
       "    <tr>\n",
       "      <th>3</th>\n",
       "      <td>9045019</td>\n",
       "      <td>교도소 이야기구먼 ..솔직히 재미는 없다..평점 조정</td>\n",
       "      <td>0</td>\n",
       "    </tr>\n",
       "    <tr>\n",
       "      <th>4</th>\n",
       "      <td>6483659</td>\n",
       "      <td>사이몬페그의 익살스런 연기가 돋보였던 영화!스파이더맨에서 늙어보이기만 했던 커스틴 ...</td>\n",
       "      <td>1</td>\n",
       "    </tr>\n",
       "    <tr>\n",
       "      <th>...</th>\n",
       "      <td>...</td>\n",
       "      <td>...</td>\n",
       "      <td>...</td>\n",
       "    </tr>\n",
       "    <tr>\n",
       "      <th>149995</th>\n",
       "      <td>6222902</td>\n",
       "      <td>인간이 문제지.. 소는 뭔죄인가..</td>\n",
       "      <td>0</td>\n",
       "    </tr>\n",
       "    <tr>\n",
       "      <th>149996</th>\n",
       "      <td>8549745</td>\n",
       "      <td>평점이 너무 낮아서...</td>\n",
       "      <td>1</td>\n",
       "    </tr>\n",
       "    <tr>\n",
       "      <th>149997</th>\n",
       "      <td>9311800</td>\n",
       "      <td>이게 뭐요? 한국인은 거들먹거리고 필리핀 혼혈은 착하다?</td>\n",
       "      <td>0</td>\n",
       "    </tr>\n",
       "    <tr>\n",
       "      <th>149998</th>\n",
       "      <td>2376369</td>\n",
       "      <td>청춘 영화의 최고봉.방황과 우울했던 날들의 자화상</td>\n",
       "      <td>1</td>\n",
       "    </tr>\n",
       "    <tr>\n",
       "      <th>149999</th>\n",
       "      <td>9619869</td>\n",
       "      <td>한국 영화 최초로 수간하는 내용이 담긴 영화</td>\n",
       "      <td>0</td>\n",
       "    </tr>\n",
       "  </tbody>\n",
       "</table>\n",
       "<p>150000 rows × 3 columns</p>\n",
       "</div>"
      ],
      "text/plain": [
       "              id                                           document  label\n",
       "0        9976970                                아 더빙.. 진짜 짜증나네요 목소리      0\n",
       "1        3819312                  흠...포스터보고 초딩영화줄....오버연기조차 가볍지 않구나      1\n",
       "2       10265843                                  너무재밓었다그래서보는것을추천한다      0\n",
       "3        9045019                      교도소 이야기구먼 ..솔직히 재미는 없다..평점 조정      0\n",
       "4        6483659  사이몬페그의 익살스런 연기가 돋보였던 영화!스파이더맨에서 늙어보이기만 했던 커스틴 ...      1\n",
       "...          ...                                                ...    ...\n",
       "149995   6222902                                인간이 문제지.. 소는 뭔죄인가..      0\n",
       "149996   8549745                                      평점이 너무 낮아서...      1\n",
       "149997   9311800                    이게 뭐요? 한국인은 거들먹거리고 필리핀 혼혈은 착하다?      0\n",
       "149998   2376369                        청춘 영화의 최고봉.방황과 우울했던 날들의 자화상      1\n",
       "149999   9619869                           한국 영화 최초로 수간하는 내용이 담긴 영화      0\n",
       "\n",
       "[150000 rows x 3 columns]"
      ]
     },
     "execution_count": 2,
     "metadata": {},
     "output_type": "execute_result"
    }
   ],
   "source": [
    "df = pd.read_csv(\"./ratings_train.txt\", sep=\"\\t\")\n",
    "df"
   ]
  },
  {
   "cell_type": "code",
   "execution_count": 3,
   "id": "25a069de",
   "metadata": {},
   "outputs": [
    {
     "data": {
      "text/plain": [
       "id          0\n",
       "document    5\n",
       "label       0\n",
       "dtype: int64"
      ]
     },
     "execution_count": 3,
     "metadata": {},
     "output_type": "execute_result"
    }
   ],
   "source": [
    "df.isnull().sum()"
   ]
  },
  {
   "cell_type": "code",
   "execution_count": 4,
   "id": "2d915db5",
   "metadata": {},
   "outputs": [
    {
     "data": {
      "text/html": [
       "<div>\n",
       "<style scoped>\n",
       "    .dataframe tbody tr th:only-of-type {\n",
       "        vertical-align: middle;\n",
       "    }\n",
       "\n",
       "    .dataframe tbody tr th {\n",
       "        vertical-align: top;\n",
       "    }\n",
       "\n",
       "    .dataframe thead th {\n",
       "        text-align: right;\n",
       "    }\n",
       "</style>\n",
       "<table border=\"1\" class=\"dataframe\">\n",
       "  <thead>\n",
       "    <tr style=\"text-align: right;\">\n",
       "      <th></th>\n",
       "      <th>id</th>\n",
       "      <th>document</th>\n",
       "      <th>label</th>\n",
       "    </tr>\n",
       "  </thead>\n",
       "  <tbody>\n",
       "    <tr>\n",
       "      <th>25857</th>\n",
       "      <td>2172111</td>\n",
       "      <td>NaN</td>\n",
       "      <td>1</td>\n",
       "    </tr>\n",
       "    <tr>\n",
       "      <th>55737</th>\n",
       "      <td>6369843</td>\n",
       "      <td>NaN</td>\n",
       "      <td>1</td>\n",
       "    </tr>\n",
       "    <tr>\n",
       "      <th>110014</th>\n",
       "      <td>1034280</td>\n",
       "      <td>NaN</td>\n",
       "      <td>0</td>\n",
       "    </tr>\n",
       "    <tr>\n",
       "      <th>126782</th>\n",
       "      <td>5942978</td>\n",
       "      <td>NaN</td>\n",
       "      <td>0</td>\n",
       "    </tr>\n",
       "    <tr>\n",
       "      <th>140721</th>\n",
       "      <td>1034283</td>\n",
       "      <td>NaN</td>\n",
       "      <td>0</td>\n",
       "    </tr>\n",
       "  </tbody>\n",
       "</table>\n",
       "</div>"
      ],
      "text/plain": [
       "             id document  label\n",
       "25857   2172111      NaN      1\n",
       "55737   6369843      NaN      1\n",
       "110014  1034280      NaN      0\n",
       "126782  5942978      NaN      0\n",
       "140721  1034283      NaN      0"
      ]
     },
     "execution_count": 4,
     "metadata": {},
     "output_type": "execute_result"
    }
   ],
   "source": [
    "df[df['document'].isna()]"
   ]
  },
  {
   "cell_type": "code",
   "execution_count": 5,
   "id": "a2b317b8",
   "metadata": {},
   "outputs": [],
   "source": [
    "df.dropna(subset=['document'],inplace=True)"
   ]
  },
  {
   "cell_type": "code",
   "execution_count": 6,
   "id": "ed06e300",
   "metadata": {},
   "outputs": [
    {
     "data": {
      "text/plain": [
       "id          0\n",
       "document    0\n",
       "label       0\n",
       "dtype: int64"
      ]
     },
     "execution_count": 6,
     "metadata": {},
     "output_type": "execute_result"
    }
   ],
   "source": [
    "# 확인\n",
    "df.isnull().sum()"
   ]
  },
  {
   "cell_type": "code",
   "execution_count": 7,
   "id": "0e740806",
   "metadata": {},
   "outputs": [
    {
     "data": {
      "text/plain": [
       "(149995, 3)"
      ]
     },
     "execution_count": 7,
     "metadata": {},
     "output_type": "execute_result"
    }
   ],
   "source": [
    "df.shape"
   ]
  },
  {
   "cell_type": "code",
   "execution_count": 8,
   "id": "819775fe",
   "metadata": {},
   "outputs": [
    {
     "data": {
      "text/html": [
       "<div>\n",
       "<style scoped>\n",
       "    .dataframe tbody tr th:only-of-type {\n",
       "        vertical-align: middle;\n",
       "    }\n",
       "\n",
       "    .dataframe tbody tr th {\n",
       "        vertical-align: top;\n",
       "    }\n",
       "\n",
       "    .dataframe thead th {\n",
       "        text-align: right;\n",
       "    }\n",
       "</style>\n",
       "<table border=\"1\" class=\"dataframe\">\n",
       "  <thead>\n",
       "    <tr style=\"text-align: right;\">\n",
       "      <th></th>\n",
       "      <th>id</th>\n",
       "      <th>document</th>\n",
       "      <th>label</th>\n",
       "    </tr>\n",
       "  </thead>\n",
       "  <tbody>\n",
       "    <tr>\n",
       "      <th>13624</th>\n",
       "      <td>787889</td>\n",
       "      <td>\"브랜든리의 죽음을 헛되게 만들어버린 \"\"속편들\"\"\"</td>\n",
       "      <td>0</td>\n",
       "    </tr>\n",
       "    <tr>\n",
       "      <th>28313</th>\n",
       "      <td>787891</td>\n",
       "      <td>\"브랜든리의 죽음을 헛되게 만들어버린 \"\"속편들\"\"\"</td>\n",
       "      <td>0</td>\n",
       "    </tr>\n",
       "    <tr>\n",
       "      <th>123606</th>\n",
       "      <td>7868198</td>\n",
       "      <td>,</td>\n",
       "      <td>1</td>\n",
       "    </tr>\n",
       "    <tr>\n",
       "      <th>139045</th>\n",
       "      <td>7448690</td>\n",
       "      <td>,</td>\n",
       "      <td>1</td>\n",
       "    </tr>\n",
       "    <tr>\n",
       "      <th>31291</th>\n",
       "      <td>7871564</td>\n",
       "      <td>,,,</td>\n",
       "      <td>0</td>\n",
       "    </tr>\n",
       "    <tr>\n",
       "      <th>...</th>\n",
       "      <td>...</td>\n",
       "      <td>...</td>\n",
       "      <td>...</td>\n",
       "    </tr>\n",
       "    <tr>\n",
       "      <th>64332</th>\n",
       "      <td>648496</td>\n",
       "      <td>흥.</td>\n",
       "      <td>0</td>\n",
       "    </tr>\n",
       "    <tr>\n",
       "      <th>81256</th>\n",
       "      <td>7445099</td>\n",
       "      <td>흥미진진</td>\n",
       "      <td>1</td>\n",
       "    </tr>\n",
       "    <tr>\n",
       "      <th>135586</th>\n",
       "      <td>7204210</td>\n",
       "      <td>흥미진진</td>\n",
       "      <td>1</td>\n",
       "    </tr>\n",
       "    <tr>\n",
       "      <th>8446</th>\n",
       "      <td>5158304</td>\n",
       "      <td>힐러리 더프의 매력에 빠지다!!!</td>\n",
       "      <td>1</td>\n",
       "    </tr>\n",
       "    <tr>\n",
       "      <th>72688</th>\n",
       "      <td>5153363</td>\n",
       "      <td>힐러리 더프의 매력에 빠지다!!!</td>\n",
       "      <td>1</td>\n",
       "    </tr>\n",
       "  </tbody>\n",
       "</table>\n",
       "<p>4781 rows × 3 columns</p>\n",
       "</div>"
      ],
      "text/plain": [
       "             id                       document  label\n",
       "13624    787889  \"브랜든리의 죽음을 헛되게 만들어버린 \"\"속편들\"\"\"      0\n",
       "28313    787891  \"브랜든리의 죽음을 헛되게 만들어버린 \"\"속편들\"\"\"      0\n",
       "123606  7868198                              ,      1\n",
       "139045  7448690                              ,      1\n",
       "31291   7871564                            ,,,      0\n",
       "...         ...                            ...    ...\n",
       "64332    648496                             흥.      0\n",
       "81256   7445099                           흥미진진      1\n",
       "135586  7204210                           흥미진진      1\n",
       "8446    5158304             힐러리 더프의 매력에 빠지다!!!      1\n",
       "72688   5153363             힐러리 더프의 매력에 빠지다!!!      1\n",
       "\n",
       "[4781 rows x 3 columns]"
      ]
     },
     "execution_count": 8,
     "metadata": {},
     "output_type": "execute_result"
    }
   ],
   "source": [
    "# document, label 모두 중복인 경우: 4781\n",
    "df[df.duplicated(subset=['document','label'],keep=False)].sort_values(by='document')"
   ]
  },
  {
   "cell_type": "code",
   "execution_count": 9,
   "id": "aa308190",
   "metadata": {},
   "outputs": [],
   "source": [
    "both_dup_index = df[df.duplicated(subset=['document','label'],keep=False)].sort_values(by='document').index"
   ]
  },
  {
   "cell_type": "code",
   "execution_count": 10,
   "id": "648ee7b0",
   "metadata": {},
   "outputs": [
    {
     "data": {
      "text/html": [
       "<div>\n",
       "<style scoped>\n",
       "    .dataframe tbody tr th:only-of-type {\n",
       "        vertical-align: middle;\n",
       "    }\n",
       "\n",
       "    .dataframe tbody tr th {\n",
       "        vertical-align: top;\n",
       "    }\n",
       "\n",
       "    .dataframe thead th {\n",
       "        text-align: right;\n",
       "    }\n",
       "</style>\n",
       "<table border=\"1\" class=\"dataframe\">\n",
       "  <thead>\n",
       "    <tr style=\"text-align: right;\">\n",
       "      <th></th>\n",
       "      <th>id</th>\n",
       "      <th>document</th>\n",
       "      <th>label</th>\n",
       "    </tr>\n",
       "  </thead>\n",
       "  <tbody>\n",
       "    <tr>\n",
       "      <th>114089</th>\n",
       "      <td>6993402</td>\n",
       "      <td>!</td>\n",
       "      <td>0</td>\n",
       "    </tr>\n",
       "    <tr>\n",
       "      <th>20014</th>\n",
       "      <td>181912</td>\n",
       "      <td>!</td>\n",
       "      <td>1</td>\n",
       "    </tr>\n",
       "    <tr>\n",
       "      <th>28313</th>\n",
       "      <td>787891</td>\n",
       "      <td>\"브랜든리의 죽음을 헛되게 만들어버린 \"\"속편들\"\"\"</td>\n",
       "      <td>0</td>\n",
       "    </tr>\n",
       "    <tr>\n",
       "      <th>13624</th>\n",
       "      <td>787889</td>\n",
       "      <td>\"브랜든리의 죽음을 헛되게 만들어버린 \"\"속편들\"\"\"</td>\n",
       "      <td>0</td>\n",
       "    </tr>\n",
       "    <tr>\n",
       "      <th>123606</th>\n",
       "      <td>7868198</td>\n",
       "      <td>,</td>\n",
       "      <td>1</td>\n",
       "    </tr>\n",
       "    <tr>\n",
       "      <th>...</th>\n",
       "      <td>...</td>\n",
       "      <td>...</td>\n",
       "      <td>...</td>\n",
       "    </tr>\n",
       "    <tr>\n",
       "      <th>47369</th>\n",
       "      <td>4802740</td>\n",
       "      <td>흥.</td>\n",
       "      <td>0</td>\n",
       "    </tr>\n",
       "    <tr>\n",
       "      <th>135586</th>\n",
       "      <td>7204210</td>\n",
       "      <td>흥미진진</td>\n",
       "      <td>1</td>\n",
       "    </tr>\n",
       "    <tr>\n",
       "      <th>81256</th>\n",
       "      <td>7445099</td>\n",
       "      <td>흥미진진</td>\n",
       "      <td>1</td>\n",
       "    </tr>\n",
       "    <tr>\n",
       "      <th>72688</th>\n",
       "      <td>5153363</td>\n",
       "      <td>힐러리 더프의 매력에 빠지다!!!</td>\n",
       "      <td>1</td>\n",
       "    </tr>\n",
       "    <tr>\n",
       "      <th>8446</th>\n",
       "      <td>5158304</td>\n",
       "      <td>힐러리 더프의 매력에 빠지다!!!</td>\n",
       "      <td>1</td>\n",
       "    </tr>\n",
       "  </tbody>\n",
       "</table>\n",
       "<p>4949 rows × 3 columns</p>\n",
       "</div>"
      ],
      "text/plain": [
       "             id                       document  label\n",
       "114089  6993402                              !      0\n",
       "20014    181912                              !      1\n",
       "28313    787891  \"브랜든리의 죽음을 헛되게 만들어버린 \"\"속편들\"\"\"      0\n",
       "13624    787889  \"브랜든리의 죽음을 헛되게 만들어버린 \"\"속편들\"\"\"      0\n",
       "123606  7868198                              ,      1\n",
       "...         ...                            ...    ...\n",
       "47369   4802740                             흥.      0\n",
       "135586  7204210                           흥미진진      1\n",
       "81256   7445099                           흥미진진      1\n",
       "72688   5153363             힐러리 더프의 매력에 빠지다!!!      1\n",
       "8446    5158304             힐러리 더프의 매력에 빠지다!!!      1\n",
       "\n",
       "[4949 rows x 3 columns]"
      ]
     },
     "execution_count": 10,
     "metadata": {},
     "output_type": "execute_result"
    }
   ],
   "source": [
    "# document만 중복인 경우: 4949\n",
    "df[df['document'].duplicated(keep=False)].sort_values(by='document')"
   ]
  },
  {
   "cell_type": "code",
   "execution_count": 11,
   "id": "cdebb9d7",
   "metadata": {},
   "outputs": [
    {
     "data": {
      "text/plain": [
       "Int64Index([114089,  20014,  28313,  13624, 123606, 139045,  18327,  48954,\n",
       "             55020, 117079,\n",
       "            ...\n",
       "             13642,  33450,  34428,  65859,  64332,  47369, 135586,  81256,\n",
       "             72688,   8446],\n",
       "           dtype='int64', length=4949)"
      ]
     },
     "execution_count": 11,
     "metadata": {},
     "output_type": "execute_result"
    }
   ],
   "source": [
    "one_dup_index = df[df['document'].duplicated(keep=False)].sort_values(by='document').index\n",
    "one_dup_index"
   ]
  },
  {
   "cell_type": "code",
   "execution_count": 12,
   "id": "7998b510",
   "metadata": {},
   "outputs": [],
   "source": [
    "diff_label_index = set(one_dup_index) -set(both_dup_index)"
   ]
  },
  {
   "cell_type": "code",
   "execution_count": 13,
   "id": "ca04b92b",
   "metadata": {},
   "outputs": [
    {
     "data": {
      "text/plain": [
       "60"
      ]
     },
     "execution_count": 13,
     "metadata": {},
     "output_type": "execute_result"
    }
   ],
   "source": [
    "pd.options.display.max_rows"
   ]
  },
  {
   "cell_type": "code",
   "execution_count": 14,
   "id": "8dd3c26c",
   "metadata": {},
   "outputs": [],
   "source": [
    "pd.set_option(\"display.max_rows\",60)"
   ]
  },
  {
   "cell_type": "code",
   "execution_count": 15,
   "id": "44bc79a5",
   "metadata": {},
   "outputs": [
    {
     "data": {
      "text/html": [
       "<div>\n",
       "<style scoped>\n",
       "    .dataframe tbody tr th:only-of-type {\n",
       "        vertical-align: middle;\n",
       "    }\n",
       "\n",
       "    .dataframe tbody tr th {\n",
       "        vertical-align: top;\n",
       "    }\n",
       "\n",
       "    .dataframe thead th {\n",
       "        text-align: right;\n",
       "    }\n",
       "</style>\n",
       "<table border=\"1\" class=\"dataframe\">\n",
       "  <thead>\n",
       "    <tr style=\"text-align: right;\">\n",
       "      <th></th>\n",
       "      <th>id</th>\n",
       "      <th>document</th>\n",
       "      <th>label</th>\n",
       "    </tr>\n",
       "  </thead>\n",
       "  <tbody>\n",
       "    <tr>\n",
       "      <th>114089</th>\n",
       "      <td>6993402</td>\n",
       "      <td>!</td>\n",
       "      <td>0</td>\n",
       "    </tr>\n",
       "    <tr>\n",
       "      <th>20014</th>\n",
       "      <td>181912</td>\n",
       "      <td>!</td>\n",
       "      <td>1</td>\n",
       "    </tr>\n",
       "    <tr>\n",
       "      <th>48954</th>\n",
       "      <td>2853697</td>\n",
       "      <td>,,,</td>\n",
       "      <td>1</td>\n",
       "    </tr>\n",
       "    <tr>\n",
       "      <th>129891</th>\n",
       "      <td>7067912</td>\n",
       "      <td>....</td>\n",
       "      <td>1</td>\n",
       "    </tr>\n",
       "    <tr>\n",
       "      <th>74054</th>\n",
       "      <td>7573786</td>\n",
       "      <td>.....</td>\n",
       "      <td>1</td>\n",
       "    </tr>\n",
       "    <tr>\n",
       "      <th>...</th>\n",
       "      <td>...</td>\n",
       "      <td>...</td>\n",
       "      <td>...</td>\n",
       "    </tr>\n",
       "    <tr>\n",
       "      <th>52284</th>\n",
       "      <td>9488714</td>\n",
       "      <td>홍진호가 최고여야 하고 홍진호만 우승해야 한다고 주장하는 콩빠들 극혐;;</td>\n",
       "      <td>1</td>\n",
       "    </tr>\n",
       "    <tr>\n",
       "      <th>25064</th>\n",
       "      <td>6211444</td>\n",
       "      <td>화이팅</td>\n",
       "      <td>0</td>\n",
       "    </tr>\n",
       "    <tr>\n",
       "      <th>127888</th>\n",
       "      <td>5327155</td>\n",
       "      <td>휴</td>\n",
       "      <td>0</td>\n",
       "    </tr>\n",
       "    <tr>\n",
       "      <th>2374</th>\n",
       "      <td>7910238</td>\n",
       "      <td>휴</td>\n",
       "      <td>1</td>\n",
       "    </tr>\n",
       "    <tr>\n",
       "      <th>118036</th>\n",
       "      <td>7104728</td>\n",
       "      <td>흠</td>\n",
       "      <td>1</td>\n",
       "    </tr>\n",
       "  </tbody>\n",
       "</table>\n",
       "<p>168 rows × 3 columns</p>\n",
       "</div>"
      ],
      "text/plain": [
       "             id                                  document  label\n",
       "114089  6993402                                         !      0\n",
       "20014    181912                                         !      1\n",
       "48954   2853697                                       ,,,      1\n",
       "129891  7067912                                      ....      1\n",
       "74054   7573786                                     .....      1\n",
       "...         ...                                       ...    ...\n",
       "52284   9488714  홍진호가 최고여야 하고 홍진호만 우승해야 한다고 주장하는 콩빠들 극혐;;      1\n",
       "25064   6211444                                       화이팅      0\n",
       "127888  5327155                                         휴      0\n",
       "2374    7910238                                         휴      1\n",
       "118036  7104728                                         흠      1\n",
       "\n",
       "[168 rows x 3 columns]"
      ]
     },
     "execution_count": 15,
     "metadata": {},
     "output_type": "execute_result"
    }
   ],
   "source": [
    "df.loc[diff_label_index].sort_values(by='document')"
   ]
  },
  {
   "cell_type": "code",
   "execution_count": 16,
   "id": "317ade02",
   "metadata": {},
   "outputs": [],
   "source": [
    "# document는 중복이지만, 다른 label 값을 가지는 값 제거\n",
    "df.drop(diff_label_index, inplace=True)"
   ]
  },
  {
   "cell_type": "code",
   "execution_count": 17,
   "id": "feb8e8fc",
   "metadata": {},
   "outputs": [],
   "source": [
    "# 중복 데이터 제거\n",
    "df.drop_duplicates(subset=['document'],keep='first',inplace=True)"
   ]
  },
  {
   "cell_type": "code",
   "execution_count": 18,
   "id": "06b63461",
   "metadata": {},
   "outputs": [
    {
     "data": {
      "text/plain": [
       "(146129, 3)"
      ]
     },
     "execution_count": 18,
     "metadata": {},
     "output_type": "execute_result"
    }
   ],
   "source": [
    "df.shape"
   ]
  },
  {
   "cell_type": "code",
   "execution_count": 19,
   "id": "c936d775",
   "metadata": {},
   "outputs": [
    {
     "data": {
      "text/html": [
       "<div>\n",
       "<style scoped>\n",
       "    .dataframe tbody tr th:only-of-type {\n",
       "        vertical-align: middle;\n",
       "    }\n",
       "\n",
       "    .dataframe tbody tr th {\n",
       "        vertical-align: top;\n",
       "    }\n",
       "\n",
       "    .dataframe thead th {\n",
       "        text-align: right;\n",
       "    }\n",
       "</style>\n",
       "<table border=\"1\" class=\"dataframe\">\n",
       "  <thead>\n",
       "    <tr style=\"text-align: right;\">\n",
       "      <th></th>\n",
       "      <th>id</th>\n",
       "      <th>document</th>\n",
       "      <th>label</th>\n",
       "    </tr>\n",
       "  </thead>\n",
       "  <tbody>\n",
       "  </tbody>\n",
       "</table>\n",
       "</div>"
      ],
      "text/plain": [
       "Empty DataFrame\n",
       "Columns: [id, document, label]\n",
       "Index: []"
      ]
     },
     "execution_count": 19,
     "metadata": {},
     "output_type": "execute_result"
    }
   ],
   "source": [
    "df[df.duplicated(subset=['document'],keep=False)].sort_values(by='document')"
   ]
  },
  {
   "cell_type": "code",
   "execution_count": 20,
   "id": "fb74a241",
   "metadata": {},
   "outputs": [],
   "source": [
    "data = df['document']\n",
    "label = df['label']"
   ]
  },
  {
   "cell_type": "code",
   "execution_count": 21,
   "id": "476ab5cd",
   "metadata": {},
   "outputs": [
    {
     "name": "stdout",
     "output_type": "stream",
     "text": [
      "문장의 최단 길이: 1\n",
      "문장의 최장 길이: 146\n",
      "문장의 평균 길이: 35\n"
     ]
    },
    {
     "data": {
      "image/png": "[encoded data removed]",
      "text/plain": [
       "<Figure size 432x288 with 1 Axes>"
      ]
     },
     "metadata": {
      "needs_background": "light"
     },
     "output_type": "display_data"
    }
   ],
   "source": [
    "min_len = 999\n",
    "max_len = 0\n",
    "sum_len = 0\n",
    "\n",
    "sentence_length_list = []\n",
    "\n",
    "for sen in data:\n",
    "    length = len(sen)\n",
    "    if min_len > length: min_len = length\n",
    "    if max_len < length: max_len = length\n",
    "    sum_len += length\n",
    "    sentence_length_list.append(length)\n",
    "\n",
    "print(\"문장의 최단 길이:\", min_len)\n",
    "print(\"문장의 최장 길이:\", max_len)\n",
    "print(\"문장의 평균 길이:\", sum_len // len(data))\n",
    "\n",
    "sentence_length = np.zeros((max_len), dtype=int)\n",
    "\n",
    "for sen in data:\n",
    "    sentence_length[len(sen)-1] += 1\n",
    "\n",
    "plt.bar(range(max_len), sentence_length, width=1.0)\n",
    "plt.title(\"Sentence Length Distribution\")\n",
    "plt.show()"
   ]
  },
  {
   "cell_type": "code",
   "execution_count": 22,
   "id": "cba41a3d",
   "metadata": {},
   "outputs": [],
   "source": [
    "def check_sentence_with_length(raw, length):\n",
    "    count = 0\n",
    "    \n",
    "    for sen in raw:\n",
    "        if len(sen) == length:\n",
    "            print(sen)\n",
    "            print(\"---\")\n",
    "            if count == 10:\n",
    "                break\n",
    "            \n",
    "            count += 1\n",
    "            if count > 100: return"
   ]
  },
  {
   "cell_type": "code",
   "execution_count": 23,
   "id": "9e999174",
   "metadata": {
    "scrolled": true
   },
   "outputs": [
    {
     "name": "stdout",
     "output_type": "stream",
     "text": [
      "아\n",
      "---\n",
      "잼\n",
      "---\n",
      "1\n",
      "---\n",
      "4\n",
      "---\n",
      "굿\n",
      "---\n",
      "짱\n",
      "---\n",
      ".\n",
      "---\n",
      "음\n",
      "---\n",
      "?\n",
      "---\n",
      "ㅎ\n",
      "---\n",
      "ㅋ\n",
      "---\n"
     ]
    }
   ],
   "source": [
    "# 길이가 1인 문장 확인\n",
    "check_sentence_with_length(data, 1)"
   ]
  },
  {
   "cell_type": "code",
   "execution_count": 24,
   "id": "907565b9",
   "metadata": {},
   "outputs": [
    {
     "name": "stdout",
     "output_type": "stream",
     "text": [
      "최고\n",
      "---\n",
      "졸작\n",
      "---\n",
      "대박\n",
      "---\n",
      "버려\n",
      "---\n",
      "망함\n",
      "---\n",
      "굳굳\n",
      "---\n",
      "안습\n",
      "---\n",
      "망작\n",
      "---\n",
      "ㅇㅇ\n",
      "---\n",
      "쵝오\n",
      "---\n",
      "굿!\n",
      "---\n"
     ]
    }
   ],
   "source": [
    "check_sentence_with_length(data, 2)"
   ]
  },
  {
   "cell_type": "code",
   "execution_count": 25,
   "id": "bccfb4ea",
   "metadata": {
    "scrolled": true
   },
   "outputs": [
    {
     "name": "stdout",
     "output_type": "stream",
     "text": [
      "데너리스 타르 가르엔...나도 용의주인이 되고 싶다...누이랑,근친상간이나 하고 다닐지라도,소설 속에선 제일 멋진 놈이 자이메 라니스터였는데,드라마속에선,드래곤(용)이 제일 멋지네(웃음)감독님 토르-2 다크 월드는 말아 잡수셨을지라도,기본 선방은 했음\n",
      "---\n",
      "아~ 진짜 조금만 더 손 좀 보면 왠만한 상업 영화 못지 않게 퀄리티 쩔게 만들어 질 수 있었는데 아쉽네요 그래도 충분히 재미있었습니다 개인적으로 조금만 더 잔인하게 더 자극적으로 노출씬도 화끈하게 했더라면 어땠을까 하는 국산영화라 많이 아낀 듯 보임\n",
      "---\n",
      "평점조절위원회에서 나왔습니다(웃음)김혜선은 @내일이 오면@의 김순정,순정이 역할이 제일이다.팜므파탈로써,그 정도까지 잘해낼 줄은,정말 의외였어...연기20년 한사람에게 요즘 사극에서 벌어지고 있는,그녀에 대한 연기논란은 왠지 코미디의한장면 같음(웃음)\n",
      "---\n",
      "사실여부를 떠나,알고왔던 아더와 너무 매칭이 안돼더라.원탁기사중 실제 검술 최고수는 랜슬롯으로 알고 있는데,트리스탄보다 못하고,싸우는 검술은 마치 중국검술 흉내낸거 같은게;; 그리고 란슬롯이 실제는 쌍검였나?너무 매칭이 안대 하튼 ㅋ기네비어역도 미스.\n",
      "---\n",
      "진짜 이건 아님ㅋㅋㅋㅋㅋ액션영화좋아해서 액션영화만 다운받아서 꾸준히 본게 벌써 몇년인 사람임 근데 이건 진짴ㅋㅋㅋㅋㅋㅋ아무리 점수 잘 줘도 100점 만점에 10점?ㅡㅡ돈주고봤는데너무아깝다진짜ㅜㅜ그리고대체 왜 13구역 타이틀을 달고나왔는지 모르겠음 실망\n",
      "---\n",
      "영화'산업'이라고 하잖는가? 이딴식으로 홍보 해놓고 속여서 팔았다는 게 소비자 입장에서는 짜증난다. 그나마 다행은 아주 싸구려를 상급품으로 속여판 게 아니라는 점. 그래서 1점. 차라리 연상호 감독 작품 처럼 홍보가 됐다면, 그 비슷하게 만이라도 하지\n",
      "---\n",
      "화려한 색채때문에 눈이 아프지만 그 나름대로 화려연예계여자욕망에대해 표현해냈던거같다 보는내내 진짜 리리코심정가진 연옌들도 있을거같고..나를한번도보지못하고알지못하는사람들이날어떻게사랑하냐그런대사 나왔을때 소름돋더라 연예인들은 많은사랑받으면서도 참 허전할듯\n",
      "---\n",
      "히가시노 게이고의 추리소설이 사랑 받는 이유는, 치밀한 트릭도 크겠지만 사람이 사람을 죽이는 행위에 감성적 정당성을 부여한 탁월한 설득력에 있다. 본 원작은 말 그대로 '헌신적 사랑'이 그 키워드였고, 용의자 x는 거기에 집중해 훌륭히 결을 살려냈다.\n",
      "---\n",
      "TV상영종료후 1년뒤에 극장판이 나올정도의 초 대작.TV편의 설정오류 수정과 새로운 씬 추가가 주된 볼거리. 마마마는 어른들을 위한 애니이다.※우측의 리뷰를 보고 애들과 함께 볼려고 한 분들에게는 절대로 애들에게 보여줄 작품이 아니라고 강력히 주장한다\n",
      "---\n",
      "써로게이트의 부작용에 대한 자신만의 생각으로 써로게이트를 통해 행복을 누리고 있는 사람들의 권리를 뺒아가는게 정당한것인가? 장애인이나 식물인가.. 혹은 외모컴플렉스가 있는 사람들은 써로게이트통해 행복한 삶을 살고 있었을텐데.. 너무나 이기적인 결말임.\n",
      "---\n",
      "정말 미치도록 재미없다. 무슨 80년대 중국 괴기 판타지물 마냥 시대에 뒤떨어진 연출과 분장력과 스토리. 반전 또한 너무 뻔하다. 아니, 솔직히 반전인 줄도 몰랐다. 처음부터 계속 복선이 깔리는데 뭐가 반전인지? 흔하디흔한 미드 반전만도 못한 애들영화\n",
      "---\n"
     ]
    }
   ],
   "source": [
    "# 문장 길이가 140인 문장 확인\n",
    "check_sentence_with_length(data,140)"
   ]
  },
  {
   "cell_type": "code",
   "execution_count": 26,
   "id": "51a422b4",
   "metadata": {},
   "outputs": [],
   "source": [
    "min_val = np.percentile(sentence_length_list, 2.5)\n",
    "max_val = np.percentile(sentence_length_list, 97.5)"
   ]
  },
  {
   "cell_type": "code",
   "execution_count": 27,
   "id": "aebb90ef",
   "metadata": {},
   "outputs": [
    {
     "data": {
      "text/plain": [
       "(6.0, 132.0)"
      ]
     },
     "execution_count": 27,
     "metadata": {},
     "output_type": "execute_result"
    }
   ],
   "source": [
    "min_val,max_val"
   ]
  },
  {
   "cell_type": "code",
   "execution_count": 28,
   "id": "e687c8e5",
   "metadata": {},
   "outputs": [
    {
     "data": {
      "image/png": "[encoded data removed]",
      "text/plain": [
       "<Figure size 432x288 with 1 Axes>"
      ]
     },
     "metadata": {
      "needs_background": "light"
     },
     "output_type": "display_data"
    }
   ],
   "source": [
    "max_len = 132\n",
    "min_len = 6\n",
    "\n",
    "# 길이 조건에 맞는 문장만 선택합니다.\n",
    "filtered_corpus = [s for s in data if (len(s) <= max_len) & (len(s) >= min_len)]\n",
    "\n",
    "# 분포도를 다시 그려봅니다.\n",
    "sentence_length = np.zeros((max_len), dtype=int)\n",
    "\n",
    "for sen in filtered_corpus:\n",
    "    sentence_length[len(sen)-1] += 1\n",
    "\n",
    "plt.bar(range(max_len), sentence_length, width=1.0)\n",
    "plt.title(\"Sentence Length Distribution\")\n",
    "plt.show()"
   ]
  },
  {
   "cell_type": "code",
   "execution_count": 29,
   "id": "09faa956",
   "metadata": {},
   "outputs": [
    {
     "data": {
      "text/plain": [
       "139384"
      ]
     },
     "execution_count": 29,
     "metadata": {},
     "output_type": "execute_result"
    }
   ],
   "source": [
    "len(filtered_corpus)"
   ]
  },
  {
   "cell_type": "markdown",
   "id": "dae28e53",
   "metadata": {},
   "source": [
    "중복은 제거한 194470데이터에서 사분위수의 약 95%인 max_len = 132, min_len=6으로 한다"
   ]
  },
  {
   "cell_type": "code",
   "execution_count": 30,
   "id": "3dfda24a",
   "metadata": {},
   "outputs": [
    {
     "data": {
      "text/html": [
       "<div>\n",
       "<style scoped>\n",
       "    .dataframe tbody tr th:only-of-type {\n",
       "        vertical-align: middle;\n",
       "    }\n",
       "\n",
       "    .dataframe tbody tr th {\n",
       "        vertical-align: top;\n",
       "    }\n",
       "\n",
       "    .dataframe thead th {\n",
       "        text-align: right;\n",
       "    }\n",
       "</style>\n",
       "<table border=\"1\" class=\"dataframe\">\n",
       "  <thead>\n",
       "    <tr style=\"text-align: right;\">\n",
       "      <th></th>\n",
       "      <th>id</th>\n",
       "      <th>document</th>\n",
       "      <th>label</th>\n",
       "    </tr>\n",
       "  </thead>\n",
       "  <tbody>\n",
       "    <tr>\n",
       "      <th>0</th>\n",
       "      <td>9976970</td>\n",
       "      <td>아 더빙.. 진짜 짜증나네요 목소리</td>\n",
       "      <td>0</td>\n",
       "    </tr>\n",
       "    <tr>\n",
       "      <th>1</th>\n",
       "      <td>3819312</td>\n",
       "      <td>흠...포스터보고 초딩영화줄....오버연기조차 가볍지 않구나</td>\n",
       "      <td>1</td>\n",
       "    </tr>\n",
       "    <tr>\n",
       "      <th>2</th>\n",
       "      <td>10265843</td>\n",
       "      <td>너무재밓었다그래서보는것을추천한다</td>\n",
       "      <td>0</td>\n",
       "    </tr>\n",
       "    <tr>\n",
       "      <th>3</th>\n",
       "      <td>9045019</td>\n",
       "      <td>교도소 이야기구먼 ..솔직히 재미는 없다..평점 조정</td>\n",
       "      <td>0</td>\n",
       "    </tr>\n",
       "    <tr>\n",
       "      <th>4</th>\n",
       "      <td>6483659</td>\n",
       "      <td>사이몬페그의 익살스런 연기가 돋보였던 영화!스파이더맨에서 늙어보이기만 했던 커스틴 ...</td>\n",
       "      <td>1</td>\n",
       "    </tr>\n",
       "    <tr>\n",
       "      <th>...</th>\n",
       "      <td>...</td>\n",
       "      <td>...</td>\n",
       "      <td>...</td>\n",
       "    </tr>\n",
       "    <tr>\n",
       "      <th>149995</th>\n",
       "      <td>6222902</td>\n",
       "      <td>인간이 문제지.. 소는 뭔죄인가..</td>\n",
       "      <td>0</td>\n",
       "    </tr>\n",
       "    <tr>\n",
       "      <th>149996</th>\n",
       "      <td>8549745</td>\n",
       "      <td>평점이 너무 낮아서...</td>\n",
       "      <td>1</td>\n",
       "    </tr>\n",
       "    <tr>\n",
       "      <th>149997</th>\n",
       "      <td>9311800</td>\n",
       "      <td>이게 뭐요? 한국인은 거들먹거리고 필리핀 혼혈은 착하다?</td>\n",
       "      <td>0</td>\n",
       "    </tr>\n",
       "    <tr>\n",
       "      <th>149998</th>\n",
       "      <td>2376369</td>\n",
       "      <td>청춘 영화의 최고봉.방황과 우울했던 날들의 자화상</td>\n",
       "      <td>1</td>\n",
       "    </tr>\n",
       "    <tr>\n",
       "      <th>149999</th>\n",
       "      <td>9619869</td>\n",
       "      <td>한국 영화 최초로 수간하는 내용이 담긴 영화</td>\n",
       "      <td>0</td>\n",
       "    </tr>\n",
       "  </tbody>\n",
       "</table>\n",
       "<p>139384 rows × 3 columns</p>\n",
       "</div>"
      ],
      "text/plain": [
       "              id                                           document  label\n",
       "0        9976970                                아 더빙.. 진짜 짜증나네요 목소리      0\n",
       "1        3819312                  흠...포스터보고 초딩영화줄....오버연기조차 가볍지 않구나      1\n",
       "2       10265843                                  너무재밓었다그래서보는것을추천한다      0\n",
       "3        9045019                      교도소 이야기구먼 ..솔직히 재미는 없다..평점 조정      0\n",
       "4        6483659  사이몬페그의 익살스런 연기가 돋보였던 영화!스파이더맨에서 늙어보이기만 했던 커스틴 ...      1\n",
       "...          ...                                                ...    ...\n",
       "149995   6222902                                인간이 문제지.. 소는 뭔죄인가..      0\n",
       "149996   8549745                                      평점이 너무 낮아서...      1\n",
       "149997   9311800                    이게 뭐요? 한국인은 거들먹거리고 필리핀 혼혈은 착하다?      0\n",
       "149998   2376369                        청춘 영화의 최고봉.방황과 우울했던 날들의 자화상      1\n",
       "149999   9619869                           한국 영화 최초로 수간하는 내용이 담긴 영화      0\n",
       "\n",
       "[139384 rows x 3 columns]"
      ]
     },
     "execution_count": 30,
     "metadata": {},
     "output_type": "execute_result"
    }
   ],
   "source": [
    "df_filtered = df[df['document'].str.len().between(6, 132)]\n",
    "df_filtered"
   ]
  },
  {
   "cell_type": "code",
   "execution_count": 31,
   "id": "04a7e565",
   "metadata": {},
   "outputs": [],
   "source": [
    "filtered_corpus = df_filtered['document']\n",
    "filtered_label = df_filtered['label']"
   ]
  },
  {
   "cell_type": "code",
   "execution_count": 32,
   "id": "41776954",
   "metadata": {},
   "outputs": [
    {
     "name": "stderr",
     "output_type": "stream",
     "text": [
      "sentencepiece_trainer.cc(177) LOG(INFO) Running command: --input=/aiffel/aiffel/project/GoingDeeper/Go01/korean-english-park.train.ko.temp --model_prefix=korean_spm --vocab_size=8000\n",
      "sentencepiece_trainer.cc(77) LOG(INFO) Starts training with : \n",
      "trainer_spec {\n",
      "  input: /aiffel/aiffel/project/GoingDeeper/Go01/korean-english-park.train.ko.temp\n",
      "  input_format: \n",
      "  model_prefix: korean_spm\n",
      "  model_type: UNIGRAM\n",
      "  vocab_size: 8000\n",
      "  self_test_sample_size: 0\n",
      "  character_coverage: 0.9995\n",
      "  input_sentence_size: 0\n",
      "  shuffle_input_sentence: 1\n",
      "  seed_sentencepiece_size: 1000000\n",
      "  shrinking_factor: 0.75\n",
      "  max_sentence_length: 4192\n",
      "  num_threads: 16\n",
      "  num_sub_iterations: 2\n",
      "  max_sentencepiece_length: 16\n",
      "  split_by_unicode_script: 1\n",
      "  split_by_number: 1\n",
      "  split_by_whitespace: 1\n",
      "  split_digits: 0\n",
      "  treat_whitespace_as_suffix: 0\n",
      "  allow_whitespace_only_pieces: 0\n",
      "  required_chars: \n",
      "  byte_fallback: 0\n",
      "  vocabulary_output_piece_score: 1\n",
      "  train_extremely_large_corpus: 0\n",
      "  hard_vocab_limit: 1\n",
      "  use_all_vocab: 0\n",
      "  unk_id: 0\n",
      "  bos_id: 1\n",
      "  eos_id: 2\n",
      "  pad_id: -1\n",
      "  unk_piece: <unk>\n",
      "  bos_piece: <s>\n",
      "  eos_piece: </s>\n",
      "  pad_piece: <pad>\n",
      "  unk_surface:  ⁇ \n",
      "}\n",
      "normalizer_spec {\n",
      "  name: nmt_nfkc\n",
      "  add_dummy_prefix: 1\n",
      "  remove_extra_whitespaces: 1\n",
      "  escape_whitespaces: 1\n",
      "  normalization_rule_tsv: \n",
      "}\n",
      "denormalizer_spec {}\n",
      "trainer_interface.cc(329) LOG(INFO) SentenceIterator is not specified. Using MultiFileSentenceIterator.\n",
      "trainer_interface.cc(178) LOG(INFO) Loading corpus: /aiffel/aiffel/project/GoingDeeper/Go01/korean-english-park.train.ko.temp\n",
      "trainer_interface.cc(385) LOG(INFO) Loaded all 139384 sentences\n",
      "trainer_interface.cc(400) LOG(INFO) Adding meta_piece: <unk>\n",
      "trainer_interface.cc(400) LOG(INFO) Adding meta_piece: <s>\n",
      "trainer_interface.cc(400) LOG(INFO) Adding meta_piece: </s>\n",
      "trainer_interface.cc(405) LOG(INFO) Normalizing sentences...\n",
      "trainer_interface.cc(466) LOG(INFO) all chars count=4899985\n",
      "trainer_interface.cc(477) LOG(INFO) Done: 99.95% characters are covered.\n",
      "trainer_interface.cc(487) LOG(INFO) Alphabet size=1713\n",
      "trainer_interface.cc(488) LOG(INFO) Final character coverage=0.9995\n",
      "trainer_interface.cc(520) LOG(INFO) Done! preprocessed 139384 sentences.\n",
      "unigram_model_trainer.cc(139) LOG(INFO) Making suffix array...\n",
      "unigram_model_trainer.cc(143) LOG(INFO) Extracting frequent sub strings...\n",
      "unigram_model_trainer.cc(194) LOG(INFO) Initialized 283400 seed sentencepieces\n",
      "trainer_interface.cc(526) LOG(INFO) Tokenizing input sentences with whitespace: 139384\n",
      "trainer_interface.cc(537) LOG(INFO) Done! 327178\n",
      "unigram_model_trainer.cc(489) LOG(INFO) Using 327178 sentences for EM training\n",
      "unigram_model_trainer.cc(505) LOG(INFO) EM sub_iter=0 size=145197 obj=15.386 num_tokens=769121 num_tokens/piece=5.29709\n",
      "unigram_model_trainer.cc(505) LOG(INFO) EM sub_iter=1 size=134390 obj=14.3262 num_tokens=774032 num_tokens/piece=5.7596\n",
      "unigram_model_trainer.cc(505) LOG(INFO) EM sub_iter=0 size=100753 obj=14.4273 num_tokens=806822 num_tokens/piece=8.00792\n",
      "unigram_model_trainer.cc(505) LOG(INFO) EM sub_iter=1 size=100582 obj=14.3706 num_tokens=807493 num_tokens/piece=8.02821\n",
      "unigram_model_trainer.cc(505) LOG(INFO) EM sub_iter=0 size=75432 obj=14.611 num_tokens=848146 num_tokens/piece=11.2438\n",
      "unigram_model_trainer.cc(505) LOG(INFO) EM sub_iter=1 size=75425 obj=14.5479 num_tokens=848291 num_tokens/piece=11.2468\n",
      "unigram_model_trainer.cc(505) LOG(INFO) EM sub_iter=0 size=56568 obj=14.812 num_tokens=887146 num_tokens/piece=15.6828\n",
      "unigram_model_trainer.cc(505) LOG(INFO) EM sub_iter=1 size=56567 obj=14.7517 num_tokens=887161 num_tokens/piece=15.6834\n",
      "unigram_model_trainer.cc(505) LOG(INFO) EM sub_iter=0 size=42425 obj=15.047 num_tokens=928758 num_tokens/piece=21.8918\n",
      "unigram_model_trainer.cc(505) LOG(INFO) EM sub_iter=1 size=42425 obj=14.9816 num_tokens=928749 num_tokens/piece=21.8915\n",
      "unigram_model_trainer.cc(505) LOG(INFO) EM sub_iter=0 size=31818 obj=15.3121 num_tokens=971417 num_tokens/piece=30.5304\n",
      "unigram_model_trainer.cc(505) LOG(INFO) EM sub_iter=1 size=31818 obj=15.2447 num_tokens=971418 num_tokens/piece=30.5305\n",
      "unigram_model_trainer.cc(505) LOG(INFO) EM sub_iter=0 size=23863 obj=15.609 num_tokens=1016216 num_tokens/piece=42.5854\n",
      "unigram_model_trainer.cc(505) LOG(INFO) EM sub_iter=1 size=23863 obj=15.5349 num_tokens=1016240 num_tokens/piece=42.5864\n",
      "unigram_model_trainer.cc(505) LOG(INFO) EM sub_iter=0 size=17897 obj=15.932 num_tokens=1062974 num_tokens/piece=59.394\n",
      "unigram_model_trainer.cc(505) LOG(INFO) EM sub_iter=1 size=17897 obj=15.8501 num_tokens=1062988 num_tokens/piece=59.3948\n",
      "unigram_model_trainer.cc(505) LOG(INFO) EM sub_iter=0 size=13422 obj=16.284 num_tokens=1112635 num_tokens/piece=82.8964\n",
      "unigram_model_trainer.cc(505) LOG(INFO) EM sub_iter=1 size=13422 obj=16.1819 num_tokens=1112658 num_tokens/piece=82.8981\n",
      "unigram_model_trainer.cc(505) LOG(INFO) EM sub_iter=0 size=10066 obj=16.6569 num_tokens=1166202 num_tokens/piece=115.856\n",
      "unigram_model_trainer.cc(505) LOG(INFO) EM sub_iter=1 size=10066 obj=16.5533 num_tokens=1166376 num_tokens/piece=115.873\n",
      "unigram_model_trainer.cc(505) LOG(INFO) EM sub_iter=0 size=8800 obj=16.7915 num_tokens=1192306 num_tokens/piece=135.489\n",
      "unigram_model_trainer.cc(505) LOG(INFO) EM sub_iter=1 size=8800 obj=16.7398 num_tokens=1192722 num_tokens/piece=135.537\n",
      "trainer_interface.cc(615) LOG(INFO) Saving model: korean_spm.model\n",
      "trainer_interface.cc(626) LOG(INFO) Saving vocabs: korean_spm.vocab\n"
     ]
    },
    {
     "name": "stdout",
     "output_type": "stream",
     "text": [
      "-rw-r--r-- 1 root root 374969 May  9 06:58 korean_spm.model\r\n",
      "-rw-r--r-- 1 root root 144419 May  9 06:58 korean_spm.vocab\r\n"
     ]
    }
   ],
   "source": [
    "import sentencepiece as spm\n",
    "import os\n",
    "temp_file = os.getenv('HOME')+'/aiffel/project/GoingDeeper/Go01/korean-english-park.train.ko.temp'\n",
    "\n",
    "vocab_size = 8000\n",
    "\n",
    "with open(temp_file, 'w') as f:\n",
    "    for row in filtered_corpus:   # 이전에 나왔던 정제했던 corpus를 활용해서 진행해야 합니다.\n",
    "        f.write(str(row) + '\\n')\n",
    "\n",
    "spm.SentencePieceTrainer.Train(\n",
    "    '--input={} --model_prefix=korean_spm --vocab_size={}'.format(temp_file, vocab_size)    \n",
    ")\n",
    "#위 Train에서  --model_type = unigram이 디폴트 적용되어 있습니다. --model_type = bpe로 옵션을 주어 변경할 수 있습니다.\n",
    "\n",
    "!ls -l korean_spm*"
   ]
  },
  {
   "cell_type": "code",
   "execution_count": 33,
   "id": "e6c09a67",
   "metadata": {},
   "outputs": [
    {
     "name": "stdout",
     "output_type": "stream",
     "text": [
      "[1464, 10, 387, 15, 1430, 10, 151, 17, 4]\n",
      "['▁아버지', '가', '방', '에', '들어', '가', '신', '다', '.']\n",
      "아버지가방에들어가신다.\n"
     ]
    }
   ],
   "source": [
    "# 잘 됐는지 확인\n",
    "s = spm.SentencePieceProcessor()\n",
    "s.Load('korean_spm.model')\n",
    "\n",
    "# SentencePiece를 활용한 sentence -> encoding\n",
    "tokensIDs = s.EncodeAsIds('아버지가방에들어가신다.')\n",
    "print(tokensIDs)\n",
    "\n",
    "# SentencePiece를 활용한 sentence -> encoded pieces\n",
    "print(s.SampleEncodeAsPieces('아버지가방에들어가신다.',1, 0.0))\n",
    "\n",
    "# SentencePiece를 활용한 encoding -> sentence 복원\n",
    "print(s.DecodeIds(tokensIDs))"
   ]
  },
  {
   "cell_type": "code",
   "execution_count": 34,
   "id": "3cc74cd3",
   "metadata": {},
   "outputs": [],
   "source": [
    "def sp_tokenize(s, corpus): \n",
    "\n",
    "    tensor = []\n",
    "\n",
    "    for sen in corpus:\n",
    "        tensor.append(s.EncodeAsIds(sen))\n",
    "\n",
    "    with open(\"./korean_spm.vocab\", 'r') as f:\n",
    "        vocab = f.readlines()\n",
    "\n",
    "    word_index = {}\n",
    "    index_word = {}\n",
    "\n",
    "    for idx, line in enumerate(vocab):\n",
    "        word = line.split(\"\\t\")[0]\n",
    "\n",
    "        word_index.update({word:idx})\n",
    "        index_word.update({idx:word})\n",
    "\n",
    "    tensor = tf.keras.preprocessing.sequence.pad_sequences(tensor, padding='pre')\n",
    "\n",
    "    return tensor, word_index, index_word"
   ]
  },
  {
   "cell_type": "code",
   "execution_count": 35,
   "id": "525bb6f3",
   "metadata": {
    "scrolled": true
   },
   "outputs": [],
   "source": [
    "tensor, word_index, index_word = sp_tokenize(s,filtered_corpus)"
   ]
  },
  {
   "cell_type": "code",
   "execution_count": 36,
   "id": "157e3275",
   "metadata": {},
   "outputs": [],
   "source": [
    "y = filtered_label.values"
   ]
  },
  {
   "cell_type": "code",
   "execution_count": 37,
   "id": "77db6ae8",
   "metadata": {
    "scrolled": true
   },
   "outputs": [],
   "source": [
    "X_train = tensor\n",
    "y_train = y.reshape(-1,1)\n"
   ]
  },
  {
   "cell_type": "markdown",
   "id": "a60fc2f5",
   "metadata": {},
   "source": [
    "## 테스트 데이터"
   ]
  },
  {
   "cell_type": "code",
   "execution_count": 38,
   "id": "3cb609fa",
   "metadata": {
    "scrolled": false
   },
   "outputs": [
    {
     "data": {
      "text/html": [
       "<div>\n",
       "<style scoped>\n",
       "    .dataframe tbody tr th:only-of-type {\n",
       "        vertical-align: middle;\n",
       "    }\n",
       "\n",
       "    .dataframe tbody tr th {\n",
       "        vertical-align: top;\n",
       "    }\n",
       "\n",
       "    .dataframe thead th {\n",
       "        text-align: right;\n",
       "    }\n",
       "</style>\n",
       "<table border=\"1\" class=\"dataframe\">\n",
       "  <thead>\n",
       "    <tr style=\"text-align: right;\">\n",
       "      <th></th>\n",
       "      <th>id</th>\n",
       "      <th>document</th>\n",
       "      <th>label</th>\n",
       "    </tr>\n",
       "  </thead>\n",
       "  <tbody>\n",
       "    <tr>\n",
       "      <th>0</th>\n",
       "      <td>6270596</td>\n",
       "      <td>굳 ㅋ</td>\n",
       "      <td>1</td>\n",
       "    </tr>\n",
       "    <tr>\n",
       "      <th>1</th>\n",
       "      <td>9274899</td>\n",
       "      <td>GDNTOPCLASSINTHECLUB</td>\n",
       "      <td>0</td>\n",
       "    </tr>\n",
       "    <tr>\n",
       "      <th>2</th>\n",
       "      <td>8544678</td>\n",
       "      <td>뭐야 이 평점들은.... 나쁘진 않지만 10점 짜리는 더더욱 아니잖아</td>\n",
       "      <td>0</td>\n",
       "    </tr>\n",
       "    <tr>\n",
       "      <th>3</th>\n",
       "      <td>6825595</td>\n",
       "      <td>지루하지는 않은데 완전 막장임... 돈주고 보기에는....</td>\n",
       "      <td>0</td>\n",
       "    </tr>\n",
       "    <tr>\n",
       "      <th>4</th>\n",
       "      <td>6723715</td>\n",
       "      <td>3D만 아니었어도 별 다섯 개 줬을텐데.. 왜 3D로 나와서 제 심기를 불편하게 하죠??</td>\n",
       "      <td>0</td>\n",
       "    </tr>\n",
       "    <tr>\n",
       "      <th>...</th>\n",
       "      <td>...</td>\n",
       "      <td>...</td>\n",
       "      <td>...</td>\n",
       "    </tr>\n",
       "    <tr>\n",
       "      <th>49995</th>\n",
       "      <td>4608761</td>\n",
       "      <td>오랜만에 평점 로긴했네ㅋㅋ 킹왕짱 쌈뽕한 영화를 만났습니다 강렬하게 육쾌함</td>\n",
       "      <td>1</td>\n",
       "    </tr>\n",
       "    <tr>\n",
       "      <th>49996</th>\n",
       "      <td>5308387</td>\n",
       "      <td>의지 박약들이나 하는거다 탈영은 일단 주인공 김대희 닮았고 이등병 찐따 OOOO</td>\n",
       "      <td>0</td>\n",
       "    </tr>\n",
       "    <tr>\n",
       "      <th>49997</th>\n",
       "      <td>9072549</td>\n",
       "      <td>그림도 좋고 완성도도 높았지만... 보는 내내 불안하게 만든다</td>\n",
       "      <td>0</td>\n",
       "    </tr>\n",
       "    <tr>\n",
       "      <th>49998</th>\n",
       "      <td>5802125</td>\n",
       "      <td>절대 봐서는 안 될 영화.. 재미도 없고 기분만 잡치고.. 한 세트장에서 다 해먹네</td>\n",
       "      <td>0</td>\n",
       "    </tr>\n",
       "    <tr>\n",
       "      <th>49999</th>\n",
       "      <td>6070594</td>\n",
       "      <td>마무리는 또 왜이래</td>\n",
       "      <td>0</td>\n",
       "    </tr>\n",
       "  </tbody>\n",
       "</table>\n",
       "<p>50000 rows × 3 columns</p>\n",
       "</div>"
      ],
      "text/plain": [
       "            id                                           document  label\n",
       "0      6270596                                                굳 ㅋ      1\n",
       "1      9274899                               GDNTOPCLASSINTHECLUB      0\n",
       "2      8544678             뭐야 이 평점들은.... 나쁘진 않지만 10점 짜리는 더더욱 아니잖아      0\n",
       "3      6825595                   지루하지는 않은데 완전 막장임... 돈주고 보기에는....      0\n",
       "4      6723715  3D만 아니었어도 별 다섯 개 줬을텐데.. 왜 3D로 나와서 제 심기를 불편하게 하죠??      0\n",
       "...        ...                                                ...    ...\n",
       "49995  4608761          오랜만에 평점 로긴했네ㅋㅋ 킹왕짱 쌈뽕한 영화를 만났습니다 강렬하게 육쾌함      1\n",
       "49996  5308387       의지 박약들이나 하는거다 탈영은 일단 주인공 김대희 닮았고 이등병 찐따 OOOO      0\n",
       "49997  9072549                 그림도 좋고 완성도도 높았지만... 보는 내내 불안하게 만든다      0\n",
       "49998  5802125     절대 봐서는 안 될 영화.. 재미도 없고 기분만 잡치고.. 한 세트장에서 다 해먹네      0\n",
       "49999  6070594                                         마무리는 또 왜이래      0\n",
       "\n",
       "[50000 rows x 3 columns]"
      ]
     },
     "execution_count": 38,
     "metadata": {},
     "output_type": "execute_result"
    }
   ],
   "source": [
    "test_df = pd.read_csv(\"./ratings_test.txt\",sep=\"\\t\")\n",
    "test_df"
   ]
  },
  {
   "cell_type": "code",
   "execution_count": 39,
   "id": "965c8872",
   "metadata": {},
   "outputs": [
    {
     "data": {
      "text/plain": [
       "id          0\n",
       "document    3\n",
       "label       0\n",
       "dtype: int64"
      ]
     },
     "execution_count": 39,
     "metadata": {},
     "output_type": "execute_result"
    }
   ],
   "source": [
    "test_df.isnull().sum()"
   ]
  },
  {
   "cell_type": "code",
   "execution_count": 40,
   "id": "28e50b73",
   "metadata": {},
   "outputs": [],
   "source": [
    "test_df.dropna(inplace=True)"
   ]
  },
  {
   "cell_type": "code",
   "execution_count": 41,
   "id": "0eb714af",
   "metadata": {},
   "outputs": [
    {
     "data": {
      "text/plain": [
       "id          0\n",
       "document    0\n",
       "label       0\n",
       "dtype: int64"
      ]
     },
     "execution_count": 41,
     "metadata": {},
     "output_type": "execute_result"
    }
   ],
   "source": [
    "test_df.isnull().sum()"
   ]
  },
  {
   "cell_type": "code",
   "execution_count": 42,
   "id": "a68a8d5d",
   "metadata": {},
   "outputs": [],
   "source": [
    "test_data = test_df['document'].values\n",
    "test_label = test_df['label'].values"
   ]
  },
  {
   "cell_type": "code",
   "execution_count": 43,
   "id": "4d1590f7",
   "metadata": {},
   "outputs": [],
   "source": [
    "test_tensor, word_index, index_word = sp_tokenize(s,test_data)"
   ]
  },
  {
   "cell_type": "markdown",
   "id": "0be65777",
   "metadata": {},
   "source": [
    "## lstm 모델"
   ]
  },
  {
   "cell_type": "code",
   "execution_count": 44,
   "id": "719b368b",
   "metadata": {},
   "outputs": [
    {
     "name": "stdout",
     "output_type": "stream",
     "text": [
      "Model: \"sequential\"\n",
      "_________________________________________________________________\n",
      "Layer (type)                 Output Shape              Param #   \n",
      "=================================================================\n",
      "embedding (Embedding)        (None, None, 32)          256000    \n",
      "_________________________________________________________________\n",
      "lstm (LSTM)                  (None, None, 64)          24832     \n",
      "_________________________________________________________________\n",
      "lstm_1 (LSTM)                (None, 64)                33024     \n",
      "_________________________________________________________________\n",
      "dense (Dense)                (None, 32)                2080      \n",
      "_________________________________________________________________\n",
      "dense_1 (Dense)              (None, 1)                 33        \n",
      "=================================================================\n",
      "Total params: 315,969\n",
      "Trainable params: 315,969\n",
      "Non-trainable params: 0\n",
      "_________________________________________________________________\n"
     ]
    }
   ],
   "source": [
    "# vocab_size = 8000\n",
    "embedding_dim = 32\n",
    "lstm_units = 64\n",
    "dense_units = 32\n",
    "\n",
    "lstm_model = tf.keras.Sequential()\n",
    "lstm_model.add(tf.keras.layers.Embedding(vocab_size, embedding_dim, input_shape=(None,)))\n",
    "lstm_model.add(tf.keras.layers.LSTM(lstm_units, return_sequences=True))\n",
    "lstm_model.add(tf.keras.layers.LSTM(lstm_units))   \n",
    "lstm_model.add(tf.keras.layers.Dense(dense_units, activation='relu'))\n",
    "lstm_model.add(tf.keras.layers.Dense(1, activation='sigmoid'))  # 최종 출력은 긍정/부정을 나타내는 1dim 입니다.\n",
    "\n",
    "lstm_model.summary()"
   ]
  },
  {
   "cell_type": "code",
   "execution_count": 45,
   "id": "a83ba90e",
   "metadata": {},
   "outputs": [],
   "source": [
    "lstm_model.compile(optimizer='adam', loss='binary_crossentropy', metrics=['accuracy'])"
   ]
  },
  {
   "cell_type": "code",
   "execution_count": 46,
   "id": "e5dc59dd",
   "metadata": {},
   "outputs": [
    {
     "name": "stdout",
     "output_type": "stream",
     "text": [
      "Epoch 1/30\n",
      "218/218 [==============================] - 9s 23ms/step - loss: 0.4536 - accuracy: 0.7722 - val_loss: 0.3488 - val_accuracy: 0.8492\n",
      "Epoch 2/30\n",
      "218/218 [==============================] - 4s 19ms/step - loss: 0.3267 - accuracy: 0.8598 - val_loss: 0.3416 - val_accuracy: 0.8533\n",
      "Epoch 3/30\n",
      "218/218 [==============================] - 4s 19ms/step - loss: 0.3086 - accuracy: 0.8688 - val_loss: 0.3389 - val_accuracy: 0.8515\n",
      "Epoch 4/30\n",
      "218/218 [==============================] - 4s 19ms/step - loss: 0.2913 - accuracy: 0.8777 - val_loss: 0.3425 - val_accuracy: 0.8544\n",
      "Epoch 5/30\n",
      "218/218 [==============================] - 4s 19ms/step - loss: 0.2735 - accuracy: 0.8868 - val_loss: 0.3409 - val_accuracy: 0.8529\n",
      "Epoch 6/30\n",
      "218/218 [==============================] - 4s 19ms/step - loss: 0.2562 - accuracy: 0.8926 - val_loss: 0.3498 - val_accuracy: 0.8517\n"
     ]
    },
    {
     "data": {
      "text/plain": [
       "<keras.callbacks.History at 0x725ba60510a0>"
      ]
     },
     "execution_count": 46,
     "metadata": {},
     "output_type": "execute_result"
    }
   ],
   "source": [
    "# 모델 학습\n",
    "from tensorflow.keras.callbacks import EarlyStopping\n",
    "epochs = 30\n",
    "\n",
    "early_stopping = EarlyStopping(monitor='val_loss', patience=3, restore_best_weights=True)\n",
    "\n",
    "lstm_model.fit(X_train, y_train , \n",
    "              epochs=epochs, batch_size=512, \n",
    "              validation_split=0.2, callbacks=[early_stopping], verbose=1)\n"
   ]
  },
  {
   "cell_type": "code",
   "execution_count": 47,
   "id": "478f2ed2",
   "metadata": {},
   "outputs": [
    {
     "name": "stdout",
     "output_type": "stream",
     "text": [
      "1563/1563 - 7s - loss: 0.3487 - accuracy: 0.8480\n",
      "[0.3487074077129364, 0.8480108976364136]\n"
     ]
    }
   ],
   "source": [
    "lstm_results = lstm_model.evaluate(test_tensor,test_label,verbose=2)\n",
    "print(lstm_results)"
   ]
  },
  {
   "cell_type": "markdown",
   "id": "fef947ae",
   "metadata": {},
   "source": [
    "### 다른 토크나이저 - mecab"
   ]
  },
  {
   "cell_type": "code",
   "execution_count": 48,
   "id": "6fdb77b2",
   "metadata": {},
   "outputs": [],
   "source": [
    "from konlpy.tag import Mecab\n",
    "mecab = Mecab()"
   ]
  },
  {
   "cell_type": "code",
   "execution_count": 49,
   "id": "1cedd433",
   "metadata": {},
   "outputs": [],
   "source": [
    "# 위에서 사용한 코드를 활용해 MeCab 단어 사전을 만들어보세요. \n",
    "# Hint : mecab.morphs()를 사용해서 형태소분석을 합니다.\n",
    "def mecab_split(sentence):\n",
    "    # 코드를 작성하세요\n",
    "    return mecab.morphs(sentence)\n",
    "\n",
    "mecab_corpus = []\n",
    "\n",
    "for kor in filtered_corpus:\n",
    "    # 코드를 작성하세요\n",
    "    mecab_corpus.append(mecab_split(kor))"
   ]
  },
  {
   "cell_type": "code",
   "execution_count": 50,
   "id": "2df44d46",
   "metadata": {},
   "outputs": [],
   "source": [
    "# 단어 사전과 Tensor 데이터 \n",
    "def tokenize(corpus):  # corpus: Tokenized Sentence's List\n",
    "    tokenizer = tf.keras.preprocessing.text.Tokenizer(filters='')\n",
    "    tokenizer.fit_on_texts(corpus)\n",
    "\n",
    "    tensor = tokenizer.texts_to_sequences(corpus)\n",
    "\n",
    "    tensor = tf.keras.preprocessing.sequence.pad_sequences(tensor, padding='pre')\n",
    "\n",
    "    return tensor, tokenizer"
   ]
  },
  {
   "cell_type": "code",
   "execution_count": 51,
   "id": "d8448f08",
   "metadata": {},
   "outputs": [],
   "source": [
    "mecab_tensor, mecab_tokenizer = tokenize(mecab_corpus)"
   ]
  },
  {
   "cell_type": "code",
   "execution_count": 52,
   "id": "48cc7c24",
   "metadata": {},
   "outputs": [
    {
     "name": "stdout",
     "output_type": "stream",
     "text": [
      "Model: \"sequential_1\"\n",
      "_________________________________________________________________\n",
      "Layer (type)                 Output Shape              Param #   \n",
      "=================================================================\n",
      "embedding_1 (Embedding)      (None, None, 32)          256000    \n",
      "_________________________________________________________________\n",
      "lstm_2 (LSTM)                (None, None, 64)          24832     \n",
      "_________________________________________________________________\n",
      "lstm_3 (LSTM)                (None, 64)                33024     \n",
      "_________________________________________________________________\n",
      "dense_2 (Dense)              (None, 32)                2080      \n",
      "_________________________________________________________________\n",
      "dense_3 (Dense)              (None, 1)                 33        \n",
      "=================================================================\n",
      "Total params: 315,969\n",
      "Trainable params: 315,969\n",
      "Non-trainable params: 0\n",
      "_________________________________________________________________\n"
     ]
    }
   ],
   "source": [
    "# vocab_size = 8000\n",
    "embedding_dim = 32\n",
    "lstm_units = 64\n",
    "dense_units = 32\n",
    "\n",
    "lstm_model_mecab = tf.keras.Sequential()\n",
    "lstm_model_mecab.add(tf.keras.layers.Embedding(vocab_size, embedding_dim, input_shape=(None,)))\n",
    "lstm_model_mecab.add(tf.keras.layers.LSTM(lstm_units, return_sequences=True))\n",
    "lstm_model_mecab.add(tf.keras.layers.LSTM(lstm_units))   \n",
    "lstm_model_mecab.add(tf.keras.layers.Dense(dense_units, activation='relu'))\n",
    "lstm_model_mecab.add(tf.keras.layers.Dense(1, activation='sigmoid'))  # 최종 출력은 긍정/부정을 나타내는 1dim 입니다.\n",
    "\n",
    "lstm_model_mecab.summary()"
   ]
  },
  {
   "cell_type": "code",
   "execution_count": 53,
   "id": "6f7eefe2",
   "metadata": {},
   "outputs": [],
   "source": [
    "lstm_model_mecab.compile(optimizer='adam', loss='binary_crossentropy', metrics=['accuracy'])"
   ]
  },
  {
   "cell_type": "code",
   "execution_count": 54,
   "id": "c974cd7f",
   "metadata": {},
   "outputs": [
    {
     "name": "stdout",
     "output_type": "stream",
     "text": [
      "Epoch 1/30\n",
      "218/218 [==============================] - 7s 21ms/step - loss: 0.4421 - accuracy: 0.7838 - val_loss: 0.3614 - val_accuracy: 0.8436\n",
      "Epoch 2/30\n",
      "218/218 [==============================] - 4s 18ms/step - loss: 0.3295 - accuracy: 0.8587 - val_loss: 0.3465 - val_accuracy: 0.8502\n",
      "Epoch 3/30\n",
      "218/218 [==============================] - 4s 18ms/step - loss: 0.3096 - accuracy: 0.8687 - val_loss: 0.3420 - val_accuracy: 0.8504\n",
      "Epoch 4/30\n",
      "218/218 [==============================] - 4s 18ms/step - loss: 0.2901 - accuracy: 0.8790 - val_loss: 0.3374 - val_accuracy: 0.8545\n",
      "Epoch 5/30\n",
      "218/218 [==============================] - 4s 18ms/step - loss: 0.2694 - accuracy: 0.8878 - val_loss: 0.3338 - val_accuracy: 0.8578\n",
      "Epoch 6/30\n",
      "218/218 [==============================] - 4s 18ms/step - loss: 0.2496 - accuracy: 0.8968 - val_loss: 0.3394 - val_accuracy: 0.8575\n",
      "Epoch 7/30\n",
      "218/218 [==============================] - 4s 18ms/step - loss: 0.2292 - accuracy: 0.9057 - val_loss: 0.3614 - val_accuracy: 0.8586\n",
      "Epoch 8/30\n",
      "218/218 [==============================] - 4s 18ms/step - loss: 0.2099 - accuracy: 0.9151 - val_loss: 0.3793 - val_accuracy: 0.8559\n",
      "Epoch 9/30\n",
      "218/218 [==============================] - 4s 18ms/step - loss: 0.1944 - accuracy: 0.9218 - val_loss: 0.3888 - val_accuracy: 0.8526\n",
      "Epoch 10/30\n",
      "218/218 [==============================] - 4s 18ms/step - loss: 0.1808 - accuracy: 0.9286 - val_loss: 0.4238 - val_accuracy: 0.8468\n"
     ]
    },
    {
     "data": {
      "text/plain": [
       "<keras.callbacks.History at 0x725a918e7c70>"
      ]
     },
     "execution_count": 54,
     "metadata": {},
     "output_type": "execute_result"
    }
   ],
   "source": [
    "# 모델 학습\n",
    "\n",
    "epochs = 30\n",
    "\n",
    "early_stopping = EarlyStopping(monitor='val_loss', patience=5, restore_best_weights=True)\n",
    "\n",
    "lstm_model_mecab.fit(mecab_tensor, y_train , \n",
    "              epochs=epochs, batch_size=512, \n",
    "              validation_split=0.2, callbacks=[early_stopping], verbose=1)\n"
   ]
  },
  {
   "cell_type": "code",
   "execution_count": 55,
   "id": "106b41c3",
   "metadata": {},
   "outputs": [],
   "source": [
    "mecab_corpus_test = []\n",
    "\n",
    "for kor in test_data:\n",
    "    # 코드를 작성하세요\n",
    "    mecab_corpus_test.append(mecab_split(kor))"
   ]
  },
  {
   "cell_type": "code",
   "execution_count": 56,
   "id": "ccc7b667",
   "metadata": {},
   "outputs": [],
   "source": [
    "mecab_tensor_test, mecab_tokenizer = tokenize(mecab_corpus_test)"
   ]
  },
  {
   "cell_type": "code",
   "execution_count": 57,
   "id": "afda21ae",
   "metadata": {},
   "outputs": [
    {
     "name": "stdout",
     "output_type": "stream",
     "text": [
      "1563/1563 - 7s - loss: 1.0868 - accuracy: 0.5413\n",
      "[1.0867594480514526, 0.541332483291626]\n"
     ]
    }
   ],
   "source": [
    "lstm_results_mecab = lstm_model_mecab.evaluate(mecab_tensor_test,test_label,verbose=2)\n",
    "print(lstm_results_mecab)"
   ]
  },
  {
   "cell_type": "markdown",
   "id": "0ea118e6",
   "metadata": {},
   "source": [
    "### komoran"
   ]
  },
  {
   "cell_type": "code",
   "execution_count": 58,
   "id": "53dc7059",
   "metadata": {},
   "outputs": [],
   "source": [
    "from konlpy.tag import Komoran\n",
    "komoran = Komoran()"
   ]
  },
  {
   "cell_type": "code",
   "execution_count": 59,
   "id": "61e310d9",
   "metadata": {},
   "outputs": [],
   "source": [
    "def komoran_split(sentence):\n",
    "    # 코드를 작성하세요\n",
    "    return komoran.morphs(sentence)\n",
    "\n",
    "komoran_corpus = []\n",
    "\n",
    "for kor in filtered_corpus:\n",
    "    # 코드를 작성하세요\n",
    "    komoran_corpus.append(komoran_split(kor))"
   ]
  },
  {
   "cell_type": "code",
   "execution_count": 60,
   "id": "cf7a3f69",
   "metadata": {},
   "outputs": [],
   "source": [
    "komoran_corpus_test = []\n",
    "for kor in test_data:\n",
    "    komoran_corpus_test.append(komoran_split(kor))"
   ]
  },
  {
   "cell_type": "code",
   "execution_count": 61,
   "id": "bb34fe82",
   "metadata": {},
   "outputs": [],
   "source": [
    "komoran_tensor, komoran_tokenizer = tokenize(komoran_corpus)"
   ]
  },
  {
   "cell_type": "code",
   "execution_count": 62,
   "id": "9ddbcb7b",
   "metadata": {},
   "outputs": [],
   "source": [
    "komoran_tensor_test, komoran_tokenizer = tokenize(komoran_corpus_test)"
   ]
  },
  {
   "cell_type": "code",
   "execution_count": 63,
   "id": "d56acaf7",
   "metadata": {},
   "outputs": [
    {
     "name": "stdout",
     "output_type": "stream",
     "text": [
      "Model: \"sequential_2\"\n",
      "_________________________________________________________________\n",
      "Layer (type)                 Output Shape              Param #   \n",
      "=================================================================\n",
      "embedding_2 (Embedding)      (None, None, 32)          256000    \n",
      "_________________________________________________________________\n",
      "lstm_4 (LSTM)                (None, None, 64)          24832     \n",
      "_________________________________________________________________\n",
      "lstm_5 (LSTM)                (None, 64)                33024     \n",
      "_________________________________________________________________\n",
      "dense_4 (Dense)              (None, 32)                2080      \n",
      "_________________________________________________________________\n",
      "dense_5 (Dense)              (None, 1)                 33        \n",
      "=================================================================\n",
      "Total params: 315,969\n",
      "Trainable params: 315,969\n",
      "Non-trainable params: 0\n",
      "_________________________________________________________________\n"
     ]
    }
   ],
   "source": [
    "# vocab_size = 8000\n",
    "embedding_dim = 32\n",
    "lstm_units = 64\n",
    "dense_units = 32\n",
    "\n",
    "lstm_model_komoran = tf.keras.Sequential()\n",
    "lstm_model_komoran.add(tf.keras.layers.Embedding(vocab_size, embedding_dim, input_shape=(None,)))\n",
    "lstm_model_komoran.add(tf.keras.layers.LSTM(lstm_units, return_sequences=True))\n",
    "lstm_model_komoran.add(tf.keras.layers.LSTM(lstm_units))   \n",
    "lstm_model_komoran.add(tf.keras.layers.Dense(dense_units, activation='relu'))\n",
    "lstm_model_komoran.add(tf.keras.layers.Dense(1, activation='sigmoid'))  # 최종 출력은 긍정/부정을 나타내는 1dim 입니다.\n",
    "\n",
    "lstm_model_komoran.summary()"
   ]
  },
  {
   "cell_type": "code",
   "execution_count": 64,
   "id": "38b86f58",
   "metadata": {},
   "outputs": [],
   "source": [
    "lstm_model_komoran.compile(optimizer='adam', loss='binary_crossentropy', metrics=['accuracy'])"
   ]
  },
  {
   "cell_type": "code",
   "execution_count": 65,
   "id": "5e176a13",
   "metadata": {},
   "outputs": [
    {
     "name": "stdout",
     "output_type": "stream",
     "text": [
      "Epoch 1/30\n",
      "218/218 [==============================] - 13s 25ms/step - loss: 0.4547 - accuracy: 0.7779 - val_loss: 0.3682 - val_accuracy: 0.8369\n",
      "Epoch 2/30\n",
      "218/218 [==============================] - 5s 22ms/step - loss: 0.3494 - accuracy: 0.8466 - val_loss: 0.3651 - val_accuracy: 0.8383\n",
      "Epoch 3/30\n",
      "218/218 [==============================] - 4s 19ms/step - loss: 0.3285 - accuracy: 0.8575 - val_loss: 0.3604 - val_accuracy: 0.8407\n",
      "Epoch 4/30\n",
      "218/218 [==============================] - 4s 19ms/step - loss: 0.3090 - accuracy: 0.8658 - val_loss: 0.3663 - val_accuracy: 0.8413\n",
      "Epoch 5/30\n",
      "218/218 [==============================] - 4s 20ms/step - loss: 0.2892 - accuracy: 0.8750 - val_loss: 0.3518 - val_accuracy: 0.8487\n",
      "Epoch 6/30\n",
      "218/218 [==============================] - 4s 20ms/step - loss: 0.2709 - accuracy: 0.8845 - val_loss: 0.3526 - val_accuracy: 0.8490\n",
      "Epoch 7/30\n",
      "218/218 [==============================] - 4s 20ms/step - loss: 0.2529 - accuracy: 0.8936 - val_loss: 0.3657 - val_accuracy: 0.8461\n",
      "Epoch 8/30\n",
      "218/218 [==============================] - 4s 20ms/step - loss: 0.2356 - accuracy: 0.9014 - val_loss: 0.3913 - val_accuracy: 0.8487\n",
      "Epoch 9/30\n",
      "218/218 [==============================] - 4s 20ms/step - loss: 0.2183 - accuracy: 0.9099 - val_loss: 0.3974 - val_accuracy: 0.8431\n",
      "Epoch 10/30\n",
      "218/218 [==============================] - 4s 20ms/step - loss: 0.2037 - accuracy: 0.9172 - val_loss: 0.4274 - val_accuracy: 0.8419\n"
     ]
    },
    {
     "data": {
      "text/plain": [
       "<keras.callbacks.History at 0x725993d82f70>"
      ]
     },
     "execution_count": 65,
     "metadata": {},
     "output_type": "execute_result"
    }
   ],
   "source": [
    "# 모델 학습\n",
    "\n",
    "epochs = 30\n",
    "\n",
    "early_stopping = EarlyStopping(monitor='val_loss', patience=5, restore_best_weights=True)\n",
    "\n",
    "lstm_model_komoran.fit(komoran_tensor, y_train , \n",
    "              epochs=epochs, batch_size=512, \n",
    "              validation_split=0.2, callbacks=[early_stopping], verbose=1)\n"
   ]
  },
  {
   "cell_type": "code",
   "execution_count": 66,
   "id": "b188cd48",
   "metadata": {},
   "outputs": [
    {
     "name": "stdout",
     "output_type": "stream",
     "text": [
      "1563/1563 - 7s - loss: 1.1023 - accuracy: 0.5431\n",
      "[1.1022616624832153, 0.5431326031684875]\n"
     ]
    }
   ],
   "source": [
    "lstm_results_komoran = lstm_model_komoran.evaluate(komoran_tensor_test,test_label,verbose=2)\n",
    "print(lstm_results_komoran)"
   ]
  },
  {
   "cell_type": "markdown",
   "id": "c6704e9b",
   "metadata": {},
   "source": [
    "# 회고\n",
    "\n",
    "코드 정리가 필요하다.  \n",
    "lstm이 단층이었을 때와 2층이었을때의 성능 차이가 있었다. 0.5 -> 0.8  \n",
    "mecab, komoran의 test 데이터에서 성능이 나오지 않는게 의문이다.  "
   ]
  },
  {
   "cell_type": "code",
   "execution_count": null,
   "id": "12ef4aa8",
   "metadata": {},
   "outputs": [],
   "source": []
  }
 ],
 "metadata": {
  "kernelspec": {
   "display_name": "Python 3 (ipykernel)",
   "language": "python",
   "name": "python3"
  },
  "language_info": {
   "codemirror_mode": {
    "name": "ipython",
    "version": 3
   },
   "file_extension": ".py",
   "mimetype": "text/x-python",
   "name": "python",
   "nbconvert_exporter": "python",
   "pygments_lexer": "ipython3",
   "version": "3.9.7"
  }
 },
 "nbformat": 4,
 "nbformat_minor": 5
}
