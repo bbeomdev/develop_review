{
 "cells": [
  {
   "cell_type": "markdown",
   "id": "c4a69d19",
   "metadata": {},
   "source": [
    "# 모든 장르 간 편향성 측정해 보기"
   ]
  },
  {
   "cell_type": "code",
   "execution_count": 3,
   "id": "418d65a7",
   "metadata": {},
   "outputs": [
    {
     "name": "stdout",
     "output_type": "stream",
     "text": [
      "0.5.2\n",
      "4.1.2\n",
      "1.0\n",
      "0.11.2\n"
     ]
    }
   ],
   "source": [
    "import konlpy\n",
    "import gensim\n",
    "import sklearn\n",
    "import seaborn as sns\n",
    "from konlpy.tag import Okt\n",
    "import os\n",
    "\n",
    "print(konlpy.__version__)\n",
    "print(gensim.__version__)\n",
    "print(sklearn.__version__)\n",
    "print(sns.__version__)"
   ]
  },
  {
   "cell_type": "markdown",
   "id": "306a414c",
   "metadata": {},
   "source": [
    "## STEP 1. 형태소 분석기를 이용하여 품사가 명사인 경우 해당 단어를 추출하기\n"
   ]
  },
  {
   "cell_type": "code",
   "execution_count": 4,
   "id": "9df85bd9",
   "metadata": {},
   "outputs": [],
   "source": [
    "okt = Okt()\n",
    "tokenized = []\n",
    "with open(os.getenv('HOME')+'/aiffel/weat/synopsis.txt', 'r') as file:\n",
    "    while True:\n",
    "        line = file.readline()\n",
    "        if not line: break\n",
    "        words = okt.pos(line, stem=True, norm=True)   # 한국어 문장을 형태소 단위로 나누고, 형태소에 품사(Part-Of-Speech,POS) 태그를 부착함\n",
    "        res = []\n",
    "        for w in words:\n",
    "            if w[1] in [\"Noun\"]:      # \"Adjective\", \"Verb\" 등을 포함할 수도 있습니다.\n",
    "                res.append(w[0])    # 명사일 때만 tokenized 에 저장하게 됩니다. \n",
    "        tokenized.append(res)   "
   ]
  },
  {
   "cell_type": "code",
   "execution_count": 5,
   "id": "8882d785",
   "metadata": {},
   "outputs": [
    {
     "data": {
      "text/plain": [
       "71156"
      ]
     },
     "execution_count": 5,
     "metadata": {},
     "output_type": "execute_result"
    }
   ],
   "source": [
    "len(tokenized)"
   ]
  },
  {
   "cell_type": "code",
   "execution_count": 6,
   "id": "395d068e",
   "metadata": {},
   "outputs": [
    {
     "data": {
      "text/plain": [
       "['사운드', '엔지니어', '상우', '유지태', '분', '치매', '할머니', '백성희', '분']"
      ]
     },
     "execution_count": 6,
     "metadata": {},
     "output_type": "execute_result"
    }
   ],
   "source": [
    "tokenized[0]"
   ]
  },
  {
   "cell_type": "code",
   "execution_count": 7,
   "id": "bd7f8bd2",
   "metadata": {},
   "outputs": [
    {
     "data": {
      "text/plain": [
       "list"
      ]
     },
     "execution_count": 7,
     "metadata": {},
     "output_type": "execute_result"
    }
   ],
   "source": [
    "type(tokenized)"
   ]
  },
  {
   "cell_type": "code",
   "execution_count": 8,
   "id": "d84a24c1",
   "metadata": {},
   "outputs": [
    {
     "data": {
      "text/plain": [
       "list"
      ]
     },
     "execution_count": 8,
     "metadata": {},
     "output_type": "execute_result"
    }
   ],
   "source": [
    "type(tokenized[0])"
   ]
  },
  {
   "cell_type": "markdown",
   "id": "4bad1741",
   "metadata": {},
   "source": [
    "tokenized는 리스트의 리스트 타입을 가짐"
   ]
  },
  {
   "cell_type": "markdown",
   "id": "bc29f4d6",
   "metadata": {},
   "source": [
    "## STEP 2. 추출된 결과로 embedding model 만들기"
   ]
  },
  {
   "cell_type": "code",
   "execution_count": 9,
   "id": "63726da5",
   "metadata": {},
   "outputs": [],
   "source": [
    "from gensim.models import Word2Vec\n",
    "\n",
    "# tokenized에 담긴 데이터를 가지고 나만의 Word2Vec을 생성합니다. (Gensim 4.0 기준)\n",
    "model = Word2Vec(tokenized, vector_size=100, window=5, min_count=3, sg=0)"
   ]
  },
  {
   "cell_type": "code",
   "execution_count": 10,
   "id": "8a63d4f6",
   "metadata": {},
   "outputs": [
    {
     "data": {
      "text/plain": [
       "[('작품', 0.8825504779815674),\n",
       " ('다큐멘터리', 0.8473656177520752),\n",
       " ('드라마', 0.8143143057823181),\n",
       " ('코미디', 0.8039563894271851),\n",
       " ('영화로', 0.7954091429710388),\n",
       " ('형식', 0.7899247407913208),\n",
       " ('주제', 0.7838291525840759),\n",
       " ('소재', 0.7807960510253906),\n",
       " ('감동', 0.7666734457015991),\n",
       " ('영상', 0.7638018131256104)]"
      ]
     },
     "execution_count": 10,
     "metadata": {},
     "output_type": "execute_result"
    }
   ],
   "source": [
    "model.wv.most_similar(positive=['영화'])"
   ]
  },
  {
   "cell_type": "code",
   "execution_count": 11,
   "id": "bd147b51",
   "metadata": {},
   "outputs": [
    {
     "data": {
      "text/plain": [
       "[('첫사랑', 0.7086073756217957),\n",
       " ('만남', 0.7033079862594604),\n",
       " ('애정', 0.695713996887207),\n",
       " ('이별', 0.6927348375320435),\n",
       " ('행복', 0.6878006458282471),\n",
       " ('진심', 0.6827996373176575),\n",
       " ('비랄', 0.6826744079589844),\n",
       " ('감정', 0.6788197159767151),\n",
       " ('우정', 0.6767628192901611),\n",
       " ('아픔', 0.6716117262840271)]"
      ]
     },
     "execution_count": 11,
     "metadata": {},
     "output_type": "execute_result"
    }
   ],
   "source": [
    "model.wv.most_similar(positive=['사랑'])"
   ]
  },
  {
   "cell_type": "code",
   "execution_count": 12,
   "id": "ccb9fcdc",
   "metadata": {},
   "outputs": [
    {
     "data": {
      "text/plain": [
       "[('영화감독', 0.8970321416854858),\n",
       " ('배우', 0.8851577043533325),\n",
       " ('캐스팅', 0.8816214799880981),\n",
       " ('시나리오', 0.8783899545669556),\n",
       " ('부작', 0.8627012968063354),\n",
       " ('데뷔', 0.8618198037147522),\n",
       " ('공연', 0.8605396747589111),\n",
       " ('대본', 0.859943151473999),\n",
       " ('연기자', 0.859561026096344),\n",
       " ('연기', 0.8585287928581238)]"
      ]
     },
     "execution_count": 12,
     "metadata": {},
     "output_type": "execute_result"
    }
   ],
   "source": [
    "model.wv.most_similar(positive=['연극'])"
   ]
  },
  {
   "cell_type": "markdown",
   "id": "b93e8f5f",
   "metadata": {},
   "source": [
    "## STEP 3. target, attribute 단어 셋 만들기"
   ]
  },
  {
   "cell_type": "code",
   "execution_count": 13,
   "id": "54f8082c",
   "metadata": {},
   "outputs": [],
   "source": [
    "import os\n",
    "from sklearn.feature_extraction.text import TfidfVectorizer\n",
    "import numpy as np\n",
    "from konlpy.tag import Okt\n",
    "\n",
    "art_txt = 'synopsis_art.txt'\n",
    "gen_txt = 'synopsis_gen.txt'\n",
    "\n",
    "# 파일을 읽어서, konlpy의 Okt를 이용해, 문장을 형태소 단위로 나누고, 형태소에 품사 태깅 후, 명사만 추출하여, 공백으로 조인한 문장을 반환\n",
    "def read_token(file_name):\n",
    "    okt = Okt()\n",
    "    result = []\n",
    "    with open(os.getenv('HOME')+'/aiffel/weat/'+file_name, 'r') as fread: \n",
    "        print(file_name, '파일을 읽고 있습니다.')\n",
    "        while True:\n",
    "            line = fread.readline() \n",
    "            if not line: break \n",
    "            tokenlist = okt.pos(line, stem=True, norm=True)  # 한국어 문장을 형태소 단위로 나누고, 형태소에 품사(Part-Of-Speech,POS) 태그를 부착함\n",
    "            for word in tokenlist:\n",
    "                if word[1] in [\"Noun\"]:#, \"Adjective\", \"Verb\"]:\n",
    "                    result.append((word[0])) \n",
    "    return ' '.join(result)"
   ]
  },
  {
   "cell_type": "markdown",
   "id": "1cb2c0a8",
   "metadata": {},
   "source": [
    "##### target"
   ]
  },
  {
   "cell_type": "code",
   "execution_count": 14,
   "id": "1679d385",
   "metadata": {},
   "outputs": [
    {
     "name": "stdout",
     "output_type": "stream",
     "text": [
      "synopsis_art.txt 파일을 읽고 있습니다.\n",
      "synopsis_gen.txt 파일을 읽고 있습니다.\n"
     ]
    }
   ],
   "source": [
    "# 확인\n",
    "art = read_token(art_txt)\n",
    "gen = read_token(gen_txt)"
   ]
  },
  {
   "cell_type": "code",
   "execution_count": 15,
   "id": "917bdbe3",
   "metadata": {},
   "outputs": [
    {
     "data": {
      "text/plain": [
       "'사운드 엔지니어 상'"
      ]
     },
     "execution_count": 15,
     "metadata": {},
     "output_type": "execute_result"
    }
   ],
   "source": [
    "# 확인\n",
    "art[:10]"
   ]
  },
  {
   "cell_type": "code",
   "execution_count": 16,
   "id": "33a7c68a",
   "metadata": {},
   "outputs": [
    {
     "data": {
      "text/plain": [
       "'유사 연령 성별 빈부 차이 정치 입장 불문 국민 통합 온 애국심 성역 일침 다큐멘터리 재작'"
      ]
     },
     "execution_count": 16,
     "metadata": {},
     "output_type": "execute_result"
    }
   ],
   "source": [
    "# 확인\n",
    "gen[:50]"
   ]
  },
  {
   "cell_type": "code",
   "execution_count": 17,
   "id": "520721a8",
   "metadata": {},
   "outputs": [],
   "source": [
    "vectorizer_target = TfidfVectorizer()\n",
    "X_target = vectorizer_target.fit_transform([art, gen])"
   ]
  },
  {
   "cell_type": "code",
   "execution_count": 18,
   "id": "83c88a7f",
   "metadata": {},
   "outputs": [
    {
     "name": "stdout",
     "output_type": "stream",
     "text": [
      "예술영화를 대표하는 단어들:\n",
      "그녀, 자신, 시작, 위해, 사랑, 사람, 영화, 친구, 남자, 가족, 이야기, 마을, 사건, 마음, 세상, 아버지, 아이, 엄마, 모든, 여자, 대한, 서로, 과연, 다시, 시간, 아들, 소녀, 아내, 다른, 사이, 영화제, 세계, 사실, 하나, 점점, 남편, 감독, 여행, 인생, 발견, 모두, 순간, 우리, 가장, 마지막, 생활, 아빠, 모습, 통해, 죽음, 기억, 비밀, 학교, 음악, 한편, 소년, 생각, 도시, 명의, 사고, 결혼, 전쟁, 때문, 위기, 이제, 최고, 이자, 과거, 일상, 경찰, 상황, 간다, 미국, 결심, 운명, 현실, 관계, 지금, 단편, 여인, 하루, 이름, 이후, 준비, 인간, 감정, 만난, 국제, 처음, 충격, 살인, 누구, 동안, 존재, 그린, 어머니, 연인, 계속, 동생, 작품, \n",
      "\n",
      "일반영화를 대표하는 단어들:\n",
      "자신, 그녀, 영화제, 위해, 사람, 시작, 국제, 영화, 친구, 사랑, 남자, 이야기, 대한, 서울, 여자, 사건, 남편, 아이, 가족, 아버지, 다른, 마을, 시간, 엄마, 아들, 모든, 단편, 마음, 사실, 다시, 세계, 모습, 작품, 통해, 생각, 서로, 세상, 발견, 감독, 아내, 관계, 소녀, 사이, 하나, 우리, 애니메이션, 때문, 여성, 죽음, 과연, 점점, 인간, 생활, 한편, 결혼, 상황, 모두, 기억, 명의, 소년, 여행, 가장, 간다, 순간, 이제, 도시, 비밀, 학교, 과거, 가지, 이자, 경찰, 마지막, 미국, 동안, 전쟁, 주인공, 대해, 존재, 현실, 연출, 사고, 살인, 일상, 어머니, 계속, 사회, 인생, 다큐멘터리, 부문, 섹스, 최고, 바로, 동생, 의도, 하루, 위기, 계획, 정체, 한국, "
     ]
    }
   ],
   "source": [
    "m1 = X_target[0].tocoo()   # art를 TF-IDF로 표현한 sparse matrix를 가져옵니다. \n",
    "m2 = X_target[1].tocoo()   # gen을 TF-IDF로 표현한 sparse matrix를 가져옵니다. \n",
    "\n",
    "w1 = [[i, j] for i, j in zip(m1.col, m1.data)]\n",
    "w2 = [[i, j] for i, j in zip(m2.col, m2.data)]\n",
    "\n",
    "w1.sort(key=lambda x: x[1], reverse=True)   #art를 구성하는 단어들을 TF-IDF가 높은 순으로 정렬합니다. \n",
    "w2.sort(key=lambda x: x[1], reverse=True)   #gen을 구성하는 단어들을 TF-IDF가 높은 순으로 정렬합니다. \n",
    "\n",
    "print('예술영화를 대표하는 단어들:')\n",
    "for i in range(100):\n",
    "    print(vectorizer_target.get_feature_names_out()[w1[i][0]], end=', ')\n",
    "\n",
    "print('\\n')\n",
    "    \n",
    "print('일반영화를 대표하는 단어들:')\n",
    "for i in range(100):\n",
    "    print(vectorizer_target.get_feature_names_out()[w2[i][0]], end=', ')"
   ]
  },
  {
   "cell_type": "code",
   "execution_count": 19,
   "id": "05bfda46",
   "metadata": {},
   "outputs": [
    {
     "name": "stderr",
     "output_type": "stream",
     "text": [
      "/opt/conda/lib/python3.9/site-packages/sklearn/utils/deprecation.py:87: FutureWarning: Function get_feature_names is deprecated; get_feature_names is deprecated in 1.0 and will be removed in 1.2. Please use get_feature_names_out instead.\n",
      "  warnings.warn(msg, category=FutureWarning)\n"
     ]
    }
   ],
   "source": [
    "n = 15\n",
    "w1_, w2_ = [], []\n",
    "for i in range(100):\n",
    "    w1_.append(vectorizer_target.get_feature_names_out()[w1[i][0]])\n",
    "    w2_.append(vectorizer_target.get_feature_names_out()[w2[i][0]])\n",
    "\n",
    "# w1에만 있고 w2에는 없는, 예술영화를 잘 대표하는 단어를 15개 추출한다.\n",
    "target_art, target_gen = [], []\n",
    "for i in range(100):\n",
    "    if (w1_[i] not in w2_) and (w1_[i] in model.wv): target_art.append(w1_[i])\n",
    "    if len(target_art) == n: break \n",
    "\n",
    "# w2에만 있고 w1에는 없는, 일반영화를 잘 대표하는 단어를 15개 추출한다.\n",
    "for i in range(100):\n",
    "    if (w2_[i] not in w1_) and (w2_[i] in model.wv): target_gen.append(w2_[i])\n",
    "    if len(target_gen) == n: break"
   ]
  },
  {
   "cell_type": "markdown",
   "id": "a116457f",
   "metadata": {},
   "source": [
    "##### attributes"
   ]
  },
  {
   "cell_type": "code",
   "execution_count": 20,
   "id": "0c0dbb61",
   "metadata": {},
   "outputs": [],
   "source": [
    "genre_txt = ['synopsis_SF.txt', 'synopsis_family.txt', 'synopsis_show.txt', 'synopsis_horror.txt', 'synopsis_etc.txt', \n",
    "             'synopsis_documentary.txt', 'synopsis_drama.txt', 'synopsis_romance.txt', 'synopsis_musical.txt', \n",
    "             'synopsis_mystery.txt', 'synopsis_crime.txt', 'synopsis_historical.txt', 'synopsis_western.txt', \n",
    "             'synopsis_adult.txt', 'synopsis_thriller.txt', 'synopsis_animation.txt', 'synopsis_action.txt', \n",
    "             'synopsis_adventure.txt', 'synopsis_war.txt', 'synopsis_comedy.txt', 'synopsis_fantasy.txt']\n",
    "genre_name = ['SF', '가족', '공연', '공포(호러)', '기타', '다큐멘터리', '드라마', '멜로로맨스', '뮤지컬', '미스터리', '범죄', '사극', '서부극(웨스턴)',\n",
    "         '성인물(에로)', '스릴러', '애니메이션', '액션', '어드벤처', '전쟁', '코미디', '판타지']"
   ]
  },
  {
   "cell_type": "code",
   "execution_count": 21,
   "id": "f14c598c",
   "metadata": {},
   "outputs": [
    {
     "data": {
      "text/plain": [
       "21"
      ]
     },
     "execution_count": 21,
     "metadata": {},
     "output_type": "execute_result"
    }
   ],
   "source": [
    "len(genre_txt)"
   ]
  },
  {
   "cell_type": "code",
   "execution_count": 22,
   "id": "1c6a9353",
   "metadata": {},
   "outputs": [
    {
     "data": {
      "text/plain": [
       "21"
      ]
     },
     "execution_count": 22,
     "metadata": {},
     "output_type": "execute_result"
    }
   ],
   "source": [
    "len(genre_name)"
   ]
  },
  {
   "cell_type": "code",
   "execution_count": 23,
   "id": "10e246cc",
   "metadata": {},
   "outputs": [
    {
     "name": "stdout",
     "output_type": "stream",
     "text": [
      "synopsis_SF.txt 파일을 읽고 있습니다.\n",
      "synopsis_family.txt 파일을 읽고 있습니다.\n",
      "synopsis_show.txt 파일을 읽고 있습니다.\n",
      "synopsis_horror.txt 파일을 읽고 있습니다.\n",
      "synopsis_etc.txt 파일을 읽고 있습니다.\n",
      "synopsis_documentary.txt 파일을 읽고 있습니다.\n",
      "synopsis_drama.txt 파일을 읽고 있습니다.\n",
      "synopsis_romance.txt 파일을 읽고 있습니다.\n",
      "synopsis_musical.txt 파일을 읽고 있습니다.\n",
      "synopsis_mystery.txt 파일을 읽고 있습니다.\n",
      "synopsis_crime.txt 파일을 읽고 있습니다.\n",
      "synopsis_historical.txt 파일을 읽고 있습니다.\n",
      "synopsis_western.txt 파일을 읽고 있습니다.\n",
      "synopsis_adult.txt 파일을 읽고 있습니다.\n",
      "synopsis_thriller.txt 파일을 읽고 있습니다.\n",
      "synopsis_animation.txt 파일을 읽고 있습니다.\n",
      "synopsis_action.txt 파일을 읽고 있습니다.\n",
      "synopsis_adventure.txt 파일을 읽고 있습니다.\n",
      "synopsis_war.txt 파일을 읽고 있습니다.\n",
      "synopsis_comedy.txt 파일을 읽고 있습니다.\n",
      "synopsis_fantasy.txt 파일을 읽고 있습니다.\n"
     ]
    }
   ],
   "source": [
    "# 모든 장르를 명사만 추출해서, 공백으로 조인한 문장 형태로 변환하고, genre 리스트에 추가\n",
    "genre = []\n",
    "for file_name in genre_txt:\n",
    "    genre.append(read_token(file_name))"
   ]
  },
  {
   "cell_type": "markdown",
   "id": "b5c593cf",
   "metadata": {},
   "source": [
    "#### TF-IDF로 벡터화"
   ]
  },
  {
   "cell_type": "code",
   "execution_count": 24,
   "id": "a0b6c377",
   "metadata": {},
   "outputs": [
    {
     "name": "stdout",
     "output_type": "stream",
     "text": [
      "(21, 42191)\n"
     ]
    }
   ],
   "source": [
    "# 모든 장르로 tf-idf 벡터화\n",
    "vectorizer = TfidfVectorizer()\n",
    "X = vectorizer.fit_transform(genre)  # tf-idf vectorizer의 fit_transform 리턴은 희소행렬\n",
    "\n",
    "print(X.shape)"
   ]
  },
  {
   "cell_type": "code",
   "execution_count": 25,
   "id": "62318417",
   "metadata": {},
   "outputs": [
    {
     "name": "stdout",
     "output_type": "stream",
     "text": [
      "<class 'scipy.sparse.csr.csr_matrix'>\n",
      "<class 'scipy.sparse.csr.csr_matrix'>\n"
     ]
    }
   ],
   "source": [
    "print(type(X))\n",
    "print(type(X[0]))"
   ]
  },
  {
   "cell_type": "code",
   "execution_count": 26,
   "id": "168a9e6f",
   "metadata": {},
   "outputs": [
    {
     "name": "stdout",
     "output_type": "stream",
     "text": [
      "  (0, 13952)\t0.0033499152670364227\n",
      "  (0, 2039)\t0.002285577535002845\n",
      "  (0, 36242)\t0.0027154578798064487\n",
      "  (0, 24831)\t0.004586815128045722\n",
      "  (0, 37721)\t0.0021681209719700955\n",
      "  (0, 7717)\t0.00289571176127901\n",
      "  (0, 7669)\t0.0020600714080574456\n",
      "  (0, 39780)\t0.0020600714080574456\n",
      "  (0, 33059)\t0.004586815128045722\n",
      "  (0, 22451)\t0.004039478220209368\n",
      "  (0, 12262)\t0.0025564626882533786\n",
      "  (0, 30804)\t0.00289571176127901\n",
      "  (0, 2066)\t0.0033499152670364227\n",
      "  (0, 21022)\t0.0033499152670364227\n",
      "  (0, 22525)\t0.003103799596089732\n",
      "  (0, 33036)\t0.00289571176127901\n",
      "  (0, 9187)\t0.0054309157596128975\n",
      "  (0, 17581)\t0.003103799596089732\n",
      "  (0, 33873)\t0.0020600714080574456\n",
      "  (0, 41140)\t0.0024142366429167855\n",
      "  (0, 3176)\t0.0016979421447241006\n",
      "  (0, 1538)\t0.001960033137159373\n",
      "  (0, 11684)\t0.004039478220209368\n",
      "  (0, 34375)\t0.00457115507000569\n",
      "  (0, 7162)\t0.0024142366429167855\n",
      "  :\t:\n",
      "  (0, 18939)\t0.01458705657720368\n",
      "  (0, 24104)\t0.003103799596089732\n",
      "  (0, 33904)\t0.008476177375938119\n",
      "  (0, 1789)\t0.0032415681282674845\n",
      "  (0, 26906)\t0.01764029823443436\n",
      "  (0, 210)\t0.009334498675402161\n",
      "  (0, 3245)\t0.1147414074250727\n",
      "  (0, 24138)\t0.010799191287065666\n",
      "  (0, 22350)\t0.024311760962006133\n",
      "  (0, 7806)\t0.003559558511373624\n",
      "  (0, 16635)\t0.19303554425629876\n",
      "  (0, 26528)\t0.2605304898004592\n",
      "  (0, 20947)\t0.22678301702837897\n",
      "  (0, 18906)\t0.0030955975620530307\n",
      "  (0, 31072)\t0.0836937324747589\n",
      "  (0, 13046)\t0.04107179417176951\n",
      "  (0, 10644)\t0.008672483887880382\n",
      "  (0, 3789)\t0.07540645895865461\n",
      "  (0, 24957)\t0.013008725831820573\n",
      "  (0, 17053)\t0.013760445384137166\n",
      "  (0, 7247)\t0.04661897556765965\n",
      "  (0, 136)\t0.018668997350804323\n",
      "  (0, 39665)\t0.006191195124106061\n",
      "  (0, 31911)\t0.004120142816114891\n",
      "  (0, 20740)\t0.07154464227681004\n"
     ]
    }
   ],
   "source": [
    "print(X[0])"
   ]
  },
  {
   "cell_type": "code",
   "execution_count": 27,
   "id": "a56c2f2d",
   "metadata": {},
   "outputs": [
    {
     "name": "stdout",
     "output_type": "stream",
     "text": [
      "  (0, 13952)\t0.0033499152670364227\n",
      "  (0, 2039)\t0.002285577535002845\n",
      "  (0, 36242)\t0.0027154578798064487\n",
      "  (0, 24831)\t0.004586815128045722\n",
      "  (0, 37721)\t0.0021681209719700955\n",
      "  (0, 7717)\t0.00289571176127901\n",
      "  (0, 7669)\t0.0020600714080574456\n",
      "  (0, 39780)\t0.0020600714080574456\n",
      "  (0, 33059)\t0.004586815128045722\n",
      "  (0, 22451)\t0.004039478220209368\n",
      "  (0, 12262)\t0.0025564626882533786\n",
      "  (0, 30804)\t0.00289571176127901\n",
      "  (0, 2066)\t0.0033499152670364227\n",
      "  (0, 21022)\t0.0033499152670364227\n",
      "  (0, 22525)\t0.003103799596089732\n",
      "  (0, 33036)\t0.00289571176127901\n",
      "  (0, 9187)\t0.0054309157596128975\n",
      "  (0, 17581)\t0.003103799596089732\n",
      "  (0, 33873)\t0.0020600714080574456\n",
      "  (0, 41140)\t0.0024142366429167855\n",
      "  (0, 3176)\t0.0016979421447241006\n",
      "  (0, 1538)\t0.001960033137159373\n",
      "  (0, 11684)\t0.004039478220209368\n",
      "  (0, 34375)\t0.00457115507000569\n",
      "  (0, 7162)\t0.0024142366429167855\n",
      "  :\t:\n",
      "  (0, 18939)\t0.01458705657720368\n",
      "  (0, 24104)\t0.003103799596089732\n",
      "  (0, 33904)\t0.008476177375938119\n",
      "  (0, 1789)\t0.0032415681282674845\n",
      "  (0, 26906)\t0.01764029823443436\n",
      "  (0, 210)\t0.009334498675402161\n",
      "  (0, 3245)\t0.1147414074250727\n",
      "  (0, 24138)\t0.010799191287065666\n",
      "  (0, 22350)\t0.024311760962006133\n",
      "  (0, 7806)\t0.003559558511373624\n",
      "  (0, 16635)\t0.19303554425629876\n",
      "  (0, 26528)\t0.2605304898004592\n",
      "  (0, 20947)\t0.22678301702837897\n",
      "  (0, 18906)\t0.0030955975620530307\n",
      "  (0, 31072)\t0.0836937324747589\n",
      "  (0, 13046)\t0.04107179417176951\n",
      "  (0, 10644)\t0.008672483887880382\n",
      "  (0, 3789)\t0.07540645895865461\n",
      "  (0, 24957)\t0.013008725831820573\n",
      "  (0, 17053)\t0.013760445384137166\n",
      "  (0, 7247)\t0.04661897556765965\n",
      "  (0, 136)\t0.018668997350804323\n",
      "  (0, 39665)\t0.006191195124106061\n",
      "  (0, 31911)\t0.004120142816114891\n",
      "  (0, 20740)\t0.07154464227681004\n"
     ]
    }
   ],
   "source": [
    "print(X[0].tocoo())"
   ]
  },
  {
   "cell_type": "code",
   "execution_count": 28,
   "id": "5e90e4f1",
   "metadata": {},
   "outputs": [
    {
     "name": "stdout",
     "output_type": "stream",
     "text": [
      "<class 'scipy.sparse.coo.coo_matrix'>\n"
     ]
    }
   ],
   "source": [
    "print(type(X[0].tocoo()))"
   ]
  },
  {
   "cell_type": "code",
   "execution_count": 29,
   "id": "050b58a5",
   "metadata": {},
   "outputs": [
    {
     "ename": "AttributeError",
     "evalue": "row not found",
     "output_type": "error",
     "traceback": [
      "\u001b[0;31m---------------------------------------------------------------------------\u001b[0m",
      "\u001b[0;31mAttributeError\u001b[0m                            Traceback (most recent call last)",
      "\u001b[0;32m/tmp/ipykernel_62/1049166024.py\u001b[0m in \u001b[0;36m<module>\u001b[0;34m\u001b[0m\n\u001b[0;32m----> 1\u001b[0;31m \u001b[0mprint\u001b[0m\u001b[0;34m(\u001b[0m\u001b[0mX\u001b[0m\u001b[0;34m[\u001b[0m\u001b[0;36m0\u001b[0m\u001b[0;34m]\u001b[0m\u001b[0;34m.\u001b[0m\u001b[0mrow\u001b[0m\u001b[0;34m)\u001b[0m\u001b[0;34m\u001b[0m\u001b[0;34m\u001b[0m\u001b[0m\n\u001b[0m",
      "\u001b[0;32m/opt/conda/lib/python3.9/site-packages/scipy/sparse/base.py\u001b[0m in \u001b[0;36m__getattr__\u001b[0;34m(self, attr)\u001b[0m\n\u001b[1;32m    685\u001b[0m             \u001b[0;32mreturn\u001b[0m \u001b[0mself\u001b[0m\u001b[0;34m.\u001b[0m\u001b[0mgetnnz\u001b[0m\u001b[0;34m(\u001b[0m\u001b[0;34m)\u001b[0m\u001b[0;34m\u001b[0m\u001b[0;34m\u001b[0m\u001b[0m\n\u001b[1;32m    686\u001b[0m         \u001b[0;32melse\u001b[0m\u001b[0;34m:\u001b[0m\u001b[0;34m\u001b[0m\u001b[0;34m\u001b[0m\u001b[0m\n\u001b[0;32m--> 687\u001b[0;31m             \u001b[0;32mraise\u001b[0m \u001b[0mAttributeError\u001b[0m\u001b[0;34m(\u001b[0m\u001b[0mattr\u001b[0m \u001b[0;34m+\u001b[0m \u001b[0;34m\" not found\"\u001b[0m\u001b[0;34m)\u001b[0m\u001b[0;34m\u001b[0m\u001b[0;34m\u001b[0m\u001b[0m\n\u001b[0m\u001b[1;32m    688\u001b[0m \u001b[0;34m\u001b[0m\u001b[0m\n\u001b[1;32m    689\u001b[0m     \u001b[0;32mdef\u001b[0m \u001b[0mtranspose\u001b[0m\u001b[0;34m(\u001b[0m\u001b[0mself\u001b[0m\u001b[0;34m,\u001b[0m \u001b[0maxes\u001b[0m\u001b[0;34m=\u001b[0m\u001b[0;32mNone\u001b[0m\u001b[0;34m,\u001b[0m \u001b[0mcopy\u001b[0m\u001b[0;34m=\u001b[0m\u001b[0;32mFalse\u001b[0m\u001b[0;34m)\u001b[0m\u001b[0;34m:\u001b[0m\u001b[0;34m\u001b[0m\u001b[0;34m\u001b[0m\u001b[0m\n",
      "\u001b[0;31mAttributeError\u001b[0m: row not found"
     ]
    }
   ],
   "source": [
    "print(X[0].row)"
   ]
  },
  {
   "cell_type": "code",
   "execution_count": 30,
   "id": "7e909ff0",
   "metadata": {},
   "outputs": [
    {
     "name": "stdout",
     "output_type": "stream",
     "text": [
      "[0 0 0 ... 0 0 0]\n",
      "[13952  2039 36242 ... 39665 31911 20740]\n",
      "[0.00334992 0.00228558 0.00271546 ... 0.0061912  0.00412014 0.07154464]\n"
     ]
    }
   ],
   "source": [
    "# 1행 42191열로 구성된 행렬; 데이터가 있는 행 -> 1행[0인덱스 행]; 데이터가 있는 열의 인덱스들; 데이터\n",
    "print(X[0].tocoo().row)\n",
    "print(X[0].tocoo().col)\n",
    "print(X[0].tocoo().data)"
   ]
  },
  {
   "cell_type": "markdown",
   "id": "07e1998f",
   "metadata": {},
   "source": [
    "`tocoo()`는 희소행렬을 coo 타입으로 변환, print 결과는 같지만, `비어 있지 않은 원소의 좌표 값` 정보가 추가됨."
   ]
  },
  {
   "cell_type": "markdown",
   "id": "025e6313",
   "metadata": {},
   "source": [
    "각 장르를 대표하는 단어 추출"
   ]
  },
  {
   "cell_type": "code",
   "execution_count": 31,
   "id": "0cf98ed0",
   "metadata": {},
   "outputs": [
    {
     "data": {
      "text/plain": [
       "<21x42191 sparse matrix of type '<class 'numpy.float64'>'\n",
       "\twith 149613 stored elements in COOrdinate format>"
      ]
     },
     "execution_count": 31,
     "metadata": {},
     "output_type": "execute_result"
    }
   ],
   "source": [
    "# 가능하지만\n",
    "X.tocoo()"
   ]
  },
  {
   "cell_type": "code",
   "execution_count": 32,
   "id": "046a98e7",
   "metadata": {},
   "outputs": [
    {
     "name": "stdout",
     "output_type": "stream",
     "text": [
      "SF: 위해, 자신, 지구, 시작, 사람, 인류, 인간, 미래, 우주, 그녀, 로봇, 세계, 모든, 박사, 우주선, 외계, 존재, 세상, 발견, 행성, 정체, 친구, 비밀, 사실, 기억, 전쟁, 사건, 시간, 공격, 영화, \n",
      "가족: 엄마, 아빠, 가족, 영화제, 자신, 위해, 친구, 아주르, 아버지, 시작, 그녀, 아들, 마을, 국제, 낙타, 할머니, 씨제이, 동구, 사랑, 아이, 사람, 학교, 세상, 소년, 슈이트, 이야기, 가장, 어머니, 마갈, 소녀, \n",
      "공연: 오페라, 사랑, 토스카, 실황, 올레, 자신, 카바, 그녀, 공연, 오텔로, 리골레토, 백작, 프레, 베르디, 위해, 카르피, 비바, 왕자, 콘서트, 백작부인, 반니, 아리아, 미노, 차이코프스키, 라다, 무대, 도시, 공작, 리코, 시작, \n",
      "공포(호러): 시작, 위해, 사람, 자신, 친구, 그녀, 사건, 공포, 발견, 죽음, 마을, 가족, 악령, 남자, 좀비, 영화, 사실, 소녀, 하나, 살인, 이야기, 비밀, 아이, 정체, 저주, 살해, 영화제, 여자, 모든, 의문, \n",
      "기타: 영화제, 국제, 서울, 단편, 영화, 자신, 사람, 이야기, 그녀, 남자, 위해, 시작, 사랑, 뉴미디어, 페스티벌, 여자, 대한, 독립, 친구, 작품, 엄마, 통해, 아시아나, 다른, 우리, 연출, 소녀, 모습, 아이, 시간, \n",
      "다큐멘터리: 영화제, 영화, 다큐, 국제, 다큐멘터리, 사람, 이야기, 대한, 자신, 감독, 위해, 서울, 우리, 시작, 세계, 통해, 그녀, 여성, 가족, 한국, 작품, 환경, 사회, 모습, 아이, 마을, 노동자, 세상, 가장, 기록, \n",
      "드라마: 자신, 영화제, 그녀, 사람, 사랑, 영화, 위해, 시작, 국제, 남자, 친구, 이야기, 엄마, 여자, 아버지, 가족, 단편, 서울, 대한, 아들, 마음, 아이, 남편, 서로, 시간, 소녀, 세상, 감독, 다른, 모든, \n",
      "멜로로맨스: 그녀, 사랑, 자신, 시작, 남편, 남자, 여자, 사람, 친구, 섹스, 위해, 마음, 결혼, 서로, 아내, 관계, 부부, 엄마, 아버지, 사실, 영화, 점점, 다시, 회사, 시간, 사이, 생활, 유혹, 다른, 아들, \n",
      "뮤지컬: 뮤지컬, 사랑, 에스메랄다, 그녀, 음악, 충무로, 모차르트, 영화, 토스카, 자신, 니웨, 카바, 영화제, 바흐, 페뷔스, 프롤, 모도, 카르피, 시작, 제루샤, 샤오캉, 위해, 데이비, 팬텀, 최고, 크리스틴, 애니, 노트르담, 라훌, 공연, \n",
      "미스터리: 사건, 그녀, 시작, 자신, 위해, 사람, 발견, 사고, 진실, 죽음, 기억, 살인, 친구, 아내, 남자, 아이, 민혁, 사실, 의문, 미스터리, 형사, 하나, 비밀, 영화, 마을, 이야기, 모든, 경찰, 현우, 발생, \n",
      "범죄: 사건, 위해, 자신, 경찰, 시작, 그녀, 범죄, 조직, 살인, 사람, 마약, 형사, 남자, 모든, 살해, 수사, 발견, 한길수, 범인, 계획, 은행, 작전, 여자, 아버지, 사실, 동료, 영화, 다시, 보스, 친구, \n",
      "사극: 조선, 위해, 시작, 신기전, 사랑, 자신, 아가멤논, 황제, 그녀, 루안, 최고, 운명, 사람, 하선, 전쟁, 윤서, 트로이, 세자, 허균, 노준, 채선, 신재효, 히파티아, 권력, 아킬레스, 양반, 정조, 광해군, 브리튼, 독립군, \n",
      "서부극(웨스턴): 서부, 보안관, 위해, 벌린, 카우보이, 그레이프바인, 헨리, 마을, 자신, 개릿, 아이, 시작, 무법자, 프린트, 마적, 태구, 현상금, 분노, 버질, 랜던, 스탠리, 가족, 제임스, 복수, 아내, 사람, 교수형, 장고, 만도, 듀발, \n",
      "성인물(에로): 그녀, 남편, 마사지, 자신, 섹스, 관계, 영화, 정사, 남자, 위해, 시작, 여자, 유부녀, 마음, 사랑, 에피소드, 그린, 아내, 다시, 자위, 이야기, 회사, 친구, 불륜, 사실, 결혼, 욕구, 때문, 유이, 모습, \n",
      "스릴러: 자신, 그녀, 사건, 시작, 위해, 사람, 살인, 남자, 발견, 아내, 경찰, 친구, 모든, 사실, 살해, 가족, 형사, 점점, 비밀, 사랑, 여자, 사고, 범인, 아들, 남편, 마을, 죽음, 진실, 충격, 다른, \n",
      "애니메이션: 애니메이션, 국제, 영화제, 친구, 인디애니페스트, 위해, 자신, 시작, 사람, 페스티벌, 서울, 이야기, 아이, 마을, 소녀, 세계, 세상, 애니, 단편, 남자, 그녀, 소년, 부문, 과연, 작품, 만화, 사랑, 인간, 도롱, 부천, \n",
      "액션: 위해, 자신, 시작, 조직, 사건, 사람, 그녀, 경찰, 전쟁, 모든, 목숨, 사실, 친구, 가족, 요원, 임무, 범죄, 세계, 살인, 한편, 아버지, 복수, 죽음, 아들, 마약, 비밀, 납치, 남자, 다시, 보스, \n",
      "어드벤처: 위해, 자신, 시작, 친구, 마을, 아버지, 영화, 아이, 사람, 여행, 세계, 앤트, 세상, 가족, 모험, 비밀, 대한, 이야기, 모든, 소년, 여정, 모두, 인간, 발견, 영화제, 한편, 옥자, 남자, 그녀, 도시, \n",
      "전쟁: 전쟁, 독일군, 전투, 위해, 작전, 시작, 부대, 윈터스, 독일, 연합군, 미군, 임무, 자신, 사람, 나치, 병사, 공격, 이지중대, 혁리, 대원, 중위, 세계대전, 군인, 동막골, 대위, 프랑스, 영국, 미국, 목숨, 장군, \n",
      "코미디: 그녀, 자신, 시작, 위해, 사랑, 사람, 친구, 영화, 남자, 여자, 영화제, 가족, 과연, 마을, 사건, 이야기, 인생, 아이, 아버지, 마음, 모든, 생각, 결혼, 엄마, 서로, 생활, 다른, 코미디, 사실, 대한, \n",
      "판타지: 자신, 그녀, 시작, 위해, 사람, 사랑, 요괴, 영화제, 이야기, 영화, 소녀, 남자, 인간, 세상, 마을, 세계, 국제, 마법, 알렉스, 존재, 사건, 순영, 판타스틱, 친구, 아이, 모습, 여자, 모든, 부천, 서로, \n"
     ]
    }
   ],
   "source": [
    "# 각 장르 문서 마다 작업; 각 장르 문서를 coo 타입으로 변경, 문서마다 개별 분석을 하기 위해, 문서마다 처리해줌\n",
    "# X[i]는 1행 42191열의 형태를 가짐\n",
    "m = [X[i].tocoo() for i in range(X.shape[0])]\n",
    "\n",
    "# 각 장르 문서마다 작엄; 각 문서에서 데이터가 있는 열의 인덱스와 데이터를 저장;\n",
    "# 데이터가 있는 부분만 저장.\n",
    "# mm -> 개별 장르문서의 coo 타입의 matrix, [열인덱스, 데이터] 형식으로 저장.\n",
    "w = [[[i, j] for i, j in zip(mm.col, mm.data)] for mm in m]\n",
    "\n",
    "# 문서마다 작업; tf-idf 값 기준으로 내림차순 정렬\n",
    "for i in range(len(w)):\n",
    "    w[i].sort(key=lambda x: x[1], reverse=True)\n",
    "\n",
    "# 상위 15개 추출하는 작업\n",
    "attributes = []\n",
    "for i in range(len(w)):    # 문서마다 작업\n",
    "    print(genre_name[i], end=': ')   # 문서 장르이름 출력\n",
    "    attr = []    # 현재 문서의 상위 단어들 저장용 리스트\n",
    "    j = 0   # 상위단어 인덱스\n",
    "    while (len(attr) < 30):\n",
    "        word = vectorizer.get_feature_names_out()[w[i][j][0]]  # w[i][j]는 [단어 인덱스, TF-IDF 값] 형태의 리스트이니까\n",
    "        if word in model.wv:   \n",
    "            attr.append(word)\n",
    "            print(word, end=', ')\n",
    "        j += 1\n",
    "    attributes.append(attr)\n",
    "    print()"
   ]
  },
  {
   "cell_type": "markdown",
   "id": "2170347d",
   "metadata": {},
   "source": [
    "임베딩 모델에 있는 단어 중에서 상위 단어를 추출하고 있음. => 임베딩 모델 학습 데이터는 synopsis.txt 뿐이였음. -> 생각해볼 부분(전체 데이터로 만든다면??)"
   ]
  },
  {
   "cell_type": "code",
   "execution_count": 33,
   "id": "2cc12b79",
   "metadata": {},
   "outputs": [
    {
     "data": {
      "text/plain": [
       "[['위해',\n",
       "  '자신',\n",
       "  '지구',\n",
       "  '시작',\n",
       "  '사람',\n",
       "  '인류',\n",
       "  '인간',\n",
       "  '미래',\n",
       "  '우주',\n",
       "  '그녀',\n",
       "  '로봇',\n",
       "  '세계',\n",
       "  '모든',\n",
       "  '박사',\n",
       "  '우주선',\n",
       "  '외계',\n",
       "  '존재',\n",
       "  '세상',\n",
       "  '발견',\n",
       "  '행성',\n",
       "  '정체',\n",
       "  '친구',\n",
       "  '비밀',\n",
       "  '사실',\n",
       "  '기억',\n",
       "  '전쟁',\n",
       "  '사건',\n",
       "  '시간',\n",
       "  '공격',\n",
       "  '영화'],\n",
       " ['엄마',\n",
       "  '아빠',\n",
       "  '가족',\n",
       "  '영화제',\n",
       "  '자신',\n",
       "  '위해',\n",
       "  '친구',\n",
       "  '아주르',\n",
       "  '아버지',\n",
       "  '시작',\n",
       "  '그녀',\n",
       "  '아들',\n",
       "  '마을',\n",
       "  '국제',\n",
       "  '낙타',\n",
       "  '할머니',\n",
       "  '씨제이',\n",
       "  '동구',\n",
       "  '사랑',\n",
       "  '아이',\n",
       "  '사람',\n",
       "  '학교',\n",
       "  '세상',\n",
       "  '소년',\n",
       "  '슈이트',\n",
       "  '이야기',\n",
       "  '가장',\n",
       "  '어머니',\n",
       "  '마갈',\n",
       "  '소녀'],\n",
       " ['오페라',\n",
       "  '사랑',\n",
       "  '토스카',\n",
       "  '실황',\n",
       "  '올레',\n",
       "  '자신',\n",
       "  '카바',\n",
       "  '그녀',\n",
       "  '공연',\n",
       "  '오텔로',\n",
       "  '리골레토',\n",
       "  '백작',\n",
       "  '프레',\n",
       "  '베르디',\n",
       "  '위해',\n",
       "  '카르피',\n",
       "  '비바',\n",
       "  '왕자',\n",
       "  '콘서트',\n",
       "  '백작부인',\n",
       "  '반니',\n",
       "  '아리아',\n",
       "  '미노',\n",
       "  '차이코프스키',\n",
       "  '라다',\n",
       "  '무대',\n",
       "  '도시',\n",
       "  '공작',\n",
       "  '리코',\n",
       "  '시작'],\n",
       " ['시작',\n",
       "  '위해',\n",
       "  '사람',\n",
       "  '자신',\n",
       "  '친구',\n",
       "  '그녀',\n",
       "  '사건',\n",
       "  '공포',\n",
       "  '발견',\n",
       "  '죽음',\n",
       "  '마을',\n",
       "  '가족',\n",
       "  '악령',\n",
       "  '남자',\n",
       "  '좀비',\n",
       "  '영화',\n",
       "  '사실',\n",
       "  '소녀',\n",
       "  '하나',\n",
       "  '살인',\n",
       "  '이야기',\n",
       "  '비밀',\n",
       "  '아이',\n",
       "  '정체',\n",
       "  '저주',\n",
       "  '살해',\n",
       "  '영화제',\n",
       "  '여자',\n",
       "  '모든',\n",
       "  '의문'],\n",
       " ['영화제',\n",
       "  '국제',\n",
       "  '서울',\n",
       "  '단편',\n",
       "  '영화',\n",
       "  '자신',\n",
       "  '사람',\n",
       "  '이야기',\n",
       "  '그녀',\n",
       "  '남자',\n",
       "  '위해',\n",
       "  '시작',\n",
       "  '사랑',\n",
       "  '뉴미디어',\n",
       "  '페스티벌',\n",
       "  '여자',\n",
       "  '대한',\n",
       "  '독립',\n",
       "  '친구',\n",
       "  '작품',\n",
       "  '엄마',\n",
       "  '통해',\n",
       "  '아시아나',\n",
       "  '다른',\n",
       "  '우리',\n",
       "  '연출',\n",
       "  '소녀',\n",
       "  '모습',\n",
       "  '아이',\n",
       "  '시간'],\n",
       " ['영화제',\n",
       "  '영화',\n",
       "  '다큐',\n",
       "  '국제',\n",
       "  '다큐멘터리',\n",
       "  '사람',\n",
       "  '이야기',\n",
       "  '대한',\n",
       "  '자신',\n",
       "  '감독',\n",
       "  '위해',\n",
       "  '서울',\n",
       "  '우리',\n",
       "  '시작',\n",
       "  '세계',\n",
       "  '통해',\n",
       "  '그녀',\n",
       "  '여성',\n",
       "  '가족',\n",
       "  '한국',\n",
       "  '작품',\n",
       "  '환경',\n",
       "  '사회',\n",
       "  '모습',\n",
       "  '아이',\n",
       "  '마을',\n",
       "  '노동자',\n",
       "  '세상',\n",
       "  '가장',\n",
       "  '기록'],\n",
       " ['자신',\n",
       "  '영화제',\n",
       "  '그녀',\n",
       "  '사람',\n",
       "  '사랑',\n",
       "  '영화',\n",
       "  '위해',\n",
       "  '시작',\n",
       "  '국제',\n",
       "  '남자',\n",
       "  '친구',\n",
       "  '이야기',\n",
       "  '엄마',\n",
       "  '여자',\n",
       "  '아버지',\n",
       "  '가족',\n",
       "  '단편',\n",
       "  '서울',\n",
       "  '대한',\n",
       "  '아들',\n",
       "  '마음',\n",
       "  '아이',\n",
       "  '남편',\n",
       "  '서로',\n",
       "  '시간',\n",
       "  '소녀',\n",
       "  '세상',\n",
       "  '감독',\n",
       "  '다른',\n",
       "  '모든'],\n",
       " ['그녀',\n",
       "  '사랑',\n",
       "  '자신',\n",
       "  '시작',\n",
       "  '남편',\n",
       "  '남자',\n",
       "  '여자',\n",
       "  '사람',\n",
       "  '친구',\n",
       "  '섹스',\n",
       "  '위해',\n",
       "  '마음',\n",
       "  '결혼',\n",
       "  '서로',\n",
       "  '아내',\n",
       "  '관계',\n",
       "  '부부',\n",
       "  '엄마',\n",
       "  '아버지',\n",
       "  '사실',\n",
       "  '영화',\n",
       "  '점점',\n",
       "  '다시',\n",
       "  '회사',\n",
       "  '시간',\n",
       "  '사이',\n",
       "  '생활',\n",
       "  '유혹',\n",
       "  '다른',\n",
       "  '아들'],\n",
       " ['뮤지컬',\n",
       "  '사랑',\n",
       "  '에스메랄다',\n",
       "  '그녀',\n",
       "  '음악',\n",
       "  '충무로',\n",
       "  '모차르트',\n",
       "  '영화',\n",
       "  '토스카',\n",
       "  '자신',\n",
       "  '니웨',\n",
       "  '카바',\n",
       "  '영화제',\n",
       "  '바흐',\n",
       "  '페뷔스',\n",
       "  '프롤',\n",
       "  '모도',\n",
       "  '카르피',\n",
       "  '시작',\n",
       "  '제루샤',\n",
       "  '샤오캉',\n",
       "  '위해',\n",
       "  '데이비',\n",
       "  '팬텀',\n",
       "  '최고',\n",
       "  '크리스틴',\n",
       "  '애니',\n",
       "  '노트르담',\n",
       "  '라훌',\n",
       "  '공연'],\n",
       " ['사건',\n",
       "  '그녀',\n",
       "  '시작',\n",
       "  '자신',\n",
       "  '위해',\n",
       "  '사람',\n",
       "  '발견',\n",
       "  '사고',\n",
       "  '진실',\n",
       "  '죽음',\n",
       "  '기억',\n",
       "  '살인',\n",
       "  '친구',\n",
       "  '아내',\n",
       "  '남자',\n",
       "  '아이',\n",
       "  '민혁',\n",
       "  '사실',\n",
       "  '의문',\n",
       "  '미스터리',\n",
       "  '형사',\n",
       "  '하나',\n",
       "  '비밀',\n",
       "  '영화',\n",
       "  '마을',\n",
       "  '이야기',\n",
       "  '모든',\n",
       "  '경찰',\n",
       "  '현우',\n",
       "  '발생'],\n",
       " ['사건',\n",
       "  '위해',\n",
       "  '자신',\n",
       "  '경찰',\n",
       "  '시작',\n",
       "  '그녀',\n",
       "  '범죄',\n",
       "  '조직',\n",
       "  '살인',\n",
       "  '사람',\n",
       "  '마약',\n",
       "  '형사',\n",
       "  '남자',\n",
       "  '모든',\n",
       "  '살해',\n",
       "  '수사',\n",
       "  '발견',\n",
       "  '한길수',\n",
       "  '범인',\n",
       "  '계획',\n",
       "  '은행',\n",
       "  '작전',\n",
       "  '여자',\n",
       "  '아버지',\n",
       "  '사실',\n",
       "  '동료',\n",
       "  '영화',\n",
       "  '다시',\n",
       "  '보스',\n",
       "  '친구'],\n",
       " ['조선',\n",
       "  '위해',\n",
       "  '시작',\n",
       "  '신기전',\n",
       "  '사랑',\n",
       "  '자신',\n",
       "  '아가멤논',\n",
       "  '황제',\n",
       "  '그녀',\n",
       "  '루안',\n",
       "  '최고',\n",
       "  '운명',\n",
       "  '사람',\n",
       "  '하선',\n",
       "  '전쟁',\n",
       "  '윤서',\n",
       "  '트로이',\n",
       "  '세자',\n",
       "  '허균',\n",
       "  '노준',\n",
       "  '채선',\n",
       "  '신재효',\n",
       "  '히파티아',\n",
       "  '권력',\n",
       "  '아킬레스',\n",
       "  '양반',\n",
       "  '정조',\n",
       "  '광해군',\n",
       "  '브리튼',\n",
       "  '독립군'],\n",
       " ['서부',\n",
       "  '보안관',\n",
       "  '위해',\n",
       "  '벌린',\n",
       "  '카우보이',\n",
       "  '그레이프바인',\n",
       "  '헨리',\n",
       "  '마을',\n",
       "  '자신',\n",
       "  '개릿',\n",
       "  '아이',\n",
       "  '시작',\n",
       "  '무법자',\n",
       "  '프린트',\n",
       "  '마적',\n",
       "  '태구',\n",
       "  '현상금',\n",
       "  '분노',\n",
       "  '버질',\n",
       "  '랜던',\n",
       "  '스탠리',\n",
       "  '가족',\n",
       "  '제임스',\n",
       "  '복수',\n",
       "  '아내',\n",
       "  '사람',\n",
       "  '교수형',\n",
       "  '장고',\n",
       "  '만도',\n",
       "  '듀발'],\n",
       " ['그녀',\n",
       "  '남편',\n",
       "  '마사지',\n",
       "  '자신',\n",
       "  '섹스',\n",
       "  '관계',\n",
       "  '영화',\n",
       "  '정사',\n",
       "  '남자',\n",
       "  '위해',\n",
       "  '시작',\n",
       "  '여자',\n",
       "  '유부녀',\n",
       "  '마음',\n",
       "  '사랑',\n",
       "  '에피소드',\n",
       "  '그린',\n",
       "  '아내',\n",
       "  '다시',\n",
       "  '자위',\n",
       "  '이야기',\n",
       "  '회사',\n",
       "  '친구',\n",
       "  '불륜',\n",
       "  '사실',\n",
       "  '결혼',\n",
       "  '욕구',\n",
       "  '때문',\n",
       "  '유이',\n",
       "  '모습'],\n",
       " ['자신',\n",
       "  '그녀',\n",
       "  '사건',\n",
       "  '시작',\n",
       "  '위해',\n",
       "  '사람',\n",
       "  '살인',\n",
       "  '남자',\n",
       "  '발견',\n",
       "  '아내',\n",
       "  '경찰',\n",
       "  '친구',\n",
       "  '모든',\n",
       "  '사실',\n",
       "  '살해',\n",
       "  '가족',\n",
       "  '형사',\n",
       "  '점점',\n",
       "  '비밀',\n",
       "  '사랑',\n",
       "  '여자',\n",
       "  '사고',\n",
       "  '범인',\n",
       "  '아들',\n",
       "  '남편',\n",
       "  '마을',\n",
       "  '죽음',\n",
       "  '진실',\n",
       "  '충격',\n",
       "  '다른'],\n",
       " ['애니메이션',\n",
       "  '국제',\n",
       "  '영화제',\n",
       "  '친구',\n",
       "  '인디애니페스트',\n",
       "  '위해',\n",
       "  '자신',\n",
       "  '시작',\n",
       "  '사람',\n",
       "  '페스티벌',\n",
       "  '서울',\n",
       "  '이야기',\n",
       "  '아이',\n",
       "  '마을',\n",
       "  '소녀',\n",
       "  '세계',\n",
       "  '세상',\n",
       "  '애니',\n",
       "  '단편',\n",
       "  '남자',\n",
       "  '그녀',\n",
       "  '소년',\n",
       "  '부문',\n",
       "  '과연',\n",
       "  '작품',\n",
       "  '만화',\n",
       "  '사랑',\n",
       "  '인간',\n",
       "  '도롱',\n",
       "  '부천'],\n",
       " ['위해',\n",
       "  '자신',\n",
       "  '시작',\n",
       "  '조직',\n",
       "  '사건',\n",
       "  '사람',\n",
       "  '그녀',\n",
       "  '경찰',\n",
       "  '전쟁',\n",
       "  '모든',\n",
       "  '목숨',\n",
       "  '사실',\n",
       "  '친구',\n",
       "  '가족',\n",
       "  '요원',\n",
       "  '임무',\n",
       "  '범죄',\n",
       "  '세계',\n",
       "  '살인',\n",
       "  '한편',\n",
       "  '아버지',\n",
       "  '복수',\n",
       "  '죽음',\n",
       "  '아들',\n",
       "  '마약',\n",
       "  '비밀',\n",
       "  '납치',\n",
       "  '남자',\n",
       "  '다시',\n",
       "  '보스'],\n",
       " ['위해',\n",
       "  '자신',\n",
       "  '시작',\n",
       "  '친구',\n",
       "  '마을',\n",
       "  '아버지',\n",
       "  '영화',\n",
       "  '아이',\n",
       "  '사람',\n",
       "  '여행',\n",
       "  '세계',\n",
       "  '앤트',\n",
       "  '세상',\n",
       "  '가족',\n",
       "  '모험',\n",
       "  '비밀',\n",
       "  '대한',\n",
       "  '이야기',\n",
       "  '모든',\n",
       "  '소년',\n",
       "  '여정',\n",
       "  '모두',\n",
       "  '인간',\n",
       "  '발견',\n",
       "  '영화제',\n",
       "  '한편',\n",
       "  '옥자',\n",
       "  '남자',\n",
       "  '그녀',\n",
       "  '도시'],\n",
       " ['전쟁',\n",
       "  '독일군',\n",
       "  '전투',\n",
       "  '위해',\n",
       "  '작전',\n",
       "  '시작',\n",
       "  '부대',\n",
       "  '윈터스',\n",
       "  '독일',\n",
       "  '연합군',\n",
       "  '미군',\n",
       "  '임무',\n",
       "  '자신',\n",
       "  '사람',\n",
       "  '나치',\n",
       "  '병사',\n",
       "  '공격',\n",
       "  '이지중대',\n",
       "  '혁리',\n",
       "  '대원',\n",
       "  '중위',\n",
       "  '세계대전',\n",
       "  '군인',\n",
       "  '동막골',\n",
       "  '대위',\n",
       "  '프랑스',\n",
       "  '영국',\n",
       "  '미국',\n",
       "  '목숨',\n",
       "  '장군'],\n",
       " ['그녀',\n",
       "  '자신',\n",
       "  '시작',\n",
       "  '위해',\n",
       "  '사랑',\n",
       "  '사람',\n",
       "  '친구',\n",
       "  '영화',\n",
       "  '남자',\n",
       "  '여자',\n",
       "  '영화제',\n",
       "  '가족',\n",
       "  '과연',\n",
       "  '마을',\n",
       "  '사건',\n",
       "  '이야기',\n",
       "  '인생',\n",
       "  '아이',\n",
       "  '아버지',\n",
       "  '마음',\n",
       "  '모든',\n",
       "  '생각',\n",
       "  '결혼',\n",
       "  '엄마',\n",
       "  '서로',\n",
       "  '생활',\n",
       "  '다른',\n",
       "  '코미디',\n",
       "  '사실',\n",
       "  '대한'],\n",
       " ['자신',\n",
       "  '그녀',\n",
       "  '시작',\n",
       "  '위해',\n",
       "  '사람',\n",
       "  '사랑',\n",
       "  '요괴',\n",
       "  '영화제',\n",
       "  '이야기',\n",
       "  '영화',\n",
       "  '소녀',\n",
       "  '남자',\n",
       "  '인간',\n",
       "  '세상',\n",
       "  '마을',\n",
       "  '세계',\n",
       "  '국제',\n",
       "  '마법',\n",
       "  '알렉스',\n",
       "  '존재',\n",
       "  '사건',\n",
       "  '순영',\n",
       "  '판타스틱',\n",
       "  '친구',\n",
       "  '아이',\n",
       "  '모습',\n",
       "  '여자',\n",
       "  '모든',\n",
       "  '부천',\n",
       "  '서로']]"
      ]
     },
     "execution_count": 33,
     "metadata": {},
     "output_type": "execute_result"
    }
   ],
   "source": [
    "attributes"
   ]
  },
  {
   "cell_type": "markdown",
   "id": "7c0117e5",
   "metadata": {},
   "source": [
    "중복 단어 시각화"
   ]
  },
  {
   "cell_type": "code",
   "execution_count": 34,
   "id": "8db63293",
   "metadata": {
    "scrolled": false
   },
   "outputs": [
    {
     "data": {
      "image/png": "[encoded data removed]",
      "text/plain": [
       "<Figure size 1728x720 with 2 Axes>"
      ]
     },
     "metadata": {
      "needs_background": "light"
     },
     "output_type": "display_data"
    }
   ],
   "source": [
    "import pandas as pd\n",
    "import matplotlib.pyplot as plt\n",
    "import seaborn as sns\n",
    "\n",
    "plt.rcParams['font.family'] = 'NanumGothic'\n",
    "\n",
    "# 입력 데이터 (genre_name, data는 이미 정의됨)\n",
    "all_keywords = sorted(set([word for genre_words in attributes for word in genre_words]))\n",
    "\n",
    "# 0/1 매트릭스 (장르 x 단어)\n",
    "df = pd.DataFrame(0, index=genre_name, columns=all_keywords)\n",
    "\n",
    "for i, genre_words in enumerate(attributes):\n",
    "    for word in genre_words:\n",
    "        df.loc[genre_name[i], word] = 1\n",
    "\n",
    "# 히트맵 시각화\n",
    "plt.figure(figsize=(24, 10))\n",
    "sns.heatmap(df, cmap='Greens', cbar=True, linewidths=0.5)\n",
    "plt.title(\"장르별 키워드 등장 여부 (1 = 등장)\")\n",
    "plt.xticks(rotation=90)\n",
    "plt.yticks(rotation=0)\n",
    "plt.tight_layout()\n",
    "plt.show()\n"
   ]
  },
  {
   "cell_type": "code",
   "execution_count": 35,
   "id": "336b5b58",
   "metadata": {},
   "outputs": [
    {
     "data": {
      "image/png": "[encoded data removed]",
      "text/plain": [
       "<Figure size 864x432 with 1 Axes>"
      ]
     },
     "metadata": {
      "needs_background": "light"
     },
     "output_type": "display_data"
    }
   ],
   "source": [
    "from collections import Counter\n",
    "\n",
    "# 단어별 장르 등장 수 카운트\n",
    "counter = Counter()\n",
    "for genre_words in attributes:\n",
    "    counter.update(set(genre_words))  # 중복 제거 후 카운트\n",
    "\n",
    "# 상위 공통 단어 20개만 시각화\n",
    "common = counter.most_common(20)\n",
    "\n",
    "# Bar plot\n",
    "words, counts = zip(*common)\n",
    "plt.figure(figsize=(12, 6))\n",
    "plt.bar(words, counts, color='skyblue')\n",
    "plt.xticks(rotation=45)\n",
    "plt.title(\"여러 장르에 중복 등장한 단어 (Top 20)\")\n",
    "plt.ylabel(\"등장한 장르 수\")\n",
    "plt.tight_layout()\n",
    "plt.show()\n"
   ]
  },
  {
   "cell_type": "markdown",
   "id": "34a1cfe9",
   "metadata": {},
   "source": [
    "기본적으로 상위 15개 단어만 확인했을때는 중복되는 단어가 많이 보임.   \n",
    "'자신' 단어는 모든 장르에 다 포함되어 있다.  \n",
    "이렇게 중복되는 단어는 개념축을 잘 나타낸다고 볼 수 없다."
   ]
  },
  {
   "cell_type": "code",
   "execution_count": 36,
   "id": "a19089d5",
   "metadata": {},
   "outputs": [
    {
     "data": {
      "text/plain": [
       "['영화',\n",
       " '모든',\n",
       " '시작',\n",
       " '친구',\n",
       " '발견',\n",
       " '위해',\n",
       " '사실',\n",
       " '그녀',\n",
       " '사람',\n",
       " '세계',\n",
       " '비밀',\n",
       " '자신',\n",
       " '세상',\n",
       " '사건',\n",
       " '가족',\n",
       " '이야기',\n",
       " '국제',\n",
       " '아버지',\n",
       " '사랑',\n",
       " '마을',\n",
       " '소녀',\n",
       " '아이',\n",
       " '영화제',\n",
       " '남자',\n",
       " '여자']"
      ]
     },
     "execution_count": 36,
     "metadata": {},
     "output_type": "execute_result"
    }
   ],
   "source": [
    "# 6 장르 이상 등장한 단어만 추출\n",
    "common_words_dup = [word for word, count in counter.items() if count >= 6]\n",
    "\n",
    "# 결과 출력\n",
    "common_words_dup\n",
    "    "
   ]
  },
  {
   "cell_type": "code",
   "execution_count": 37,
   "id": "1428fae3",
   "metadata": {
    "scrolled": true
   },
   "outputs": [
    {
     "data": {
      "text/plain": [
       "['아들', '엄마', '살인', '대한', '다른', '아내']"
      ]
     },
     "execution_count": 37,
     "metadata": {},
     "output_type": "execute_result"
    }
   ],
   "source": [
    "[word for word, count in counter.items() if count == 5]"
   ]
  },
  {
   "cell_type": "code",
   "execution_count": 38,
   "id": "860bbc25",
   "metadata": {},
   "outputs": [
    {
     "data": {
      "text/plain": [
       "Index(['공포(호러)', '미스터리', '범죄', '스릴러', '액션'], dtype='object')"
      ]
     },
     "execution_count": 38,
     "metadata": {},
     "output_type": "execute_result"
    }
   ],
   "source": [
    "df[df.loc[:,'살인'] ==1].index"
   ]
  },
  {
   "cell_type": "markdown",
   "id": "20679060",
   "metadata": {},
   "source": [
    "위의 '살인'같은 단어는 장르를 대표하는 단어로 생각할 수 있다.  \n",
    "\n",
    "6장르 이상에서 중복되는 단어를 제외시킨다"
   ]
  },
  {
   "cell_type": "code",
   "execution_count": 39,
   "id": "3a58b663",
   "metadata": {},
   "outputs": [
    {
     "name": "stdout",
     "output_type": "stream",
     "text": [
      "SF: 지구, 인류, 인간, 미래, 우주, 로봇, 박사, 우주선, 외계, 존재, 행성, 정체, 기억, 전쟁, 시간, \n",
      "가족: 엄마, 아빠, 아주르, 아들, 낙타, 할머니, 씨제이, 동구, 학교, 소년, 슈이트, 가장, 어머니, 마갈, 미아, \n",
      "공연: 오페라, 토스카, 실황, 올레, 카바, 공연, 오텔로, 리골레토, 백작, 프레, 베르디, 카르피, 비바, 왕자, 콘서트, \n",
      "공포(호러): 공포, 죽음, 악령, 좀비, 하나, 살인, 정체, 저주, 살해, 의문, 점점, 사고, 명의, 시간, 다시, \n",
      "기타: 서울, 단편, 뉴미디어, 페스티벌, 대한, 독립, 작품, 엄마, 통해, 아시아나, 다른, 우리, 연출, 모습, 시간, \n",
      "다큐멘터리: 다큐, 다큐멘터리, 대한, 감독, 서울, 우리, 통해, 여성, 한국, 작품, 환경, 사회, 모습, 노동자, 가장, \n",
      "드라마: 엄마, 단편, 서울, 대한, 아들, 마음, 남편, 서로, 시간, 감독, 다른, 다시, 관계, 생각, 아내, \n",
      "멜로로맨스: 남편, 섹스, 마음, 결혼, 서로, 아내, 관계, 부부, 엄마, 점점, 다시, 회사, 시간, 사이, 생활, \n",
      "뮤지컬: 뮤지컬, 에스메랄다, 음악, 충무로, 모차르트, 토스카, 니웨, 카바, 바흐, 페뷔스, 프롤, 모도, 카르피, 제루샤, 샤오캉, \n",
      "미스터리: 사고, 진실, 죽음, 기억, 살인, 아내, 민혁, 의문, 미스터리, 형사, 하나, 경찰, 현우, 발생, 정체, \n",
      "범죄: 경찰, 범죄, 조직, 살인, 마약, 형사, 살해, 수사, 한길수, 범인, 계획, 은행, 작전, 동료, 다시, \n",
      "사극: 조선, 신기전, 아가멤논, 황제, 루안, 최고, 운명, 하선, 전쟁, 윤서, 트로이, 세자, 허균, 노준, 채선, \n",
      "서부극(웨스턴): 서부, 보안관, 벌린, 카우보이, 그레이프바인, 헨리, 개릿, 무법자, 프린트, 마적, 태구, 현상금, 분노, 버질, 랜던, \n",
      "성인물(에로): 남편, 마사지, 섹스, 관계, 정사, 유부녀, 마음, 에피소드, 그린, 아내, 다시, 자위, 회사, 불륜, 결혼, \n",
      "스릴러: 살인, 아내, 경찰, 살해, 형사, 점점, 사고, 범인, 아들, 남편, 죽음, 진실, 충격, 다른, 시간, \n",
      "애니메이션: 애니메이션, 인디애니페스트, 페스티벌, 서울, 애니, 단편, 소년, 부문, 과연, 작품, 만화, 인간, 도롱, 부천, 우리, \n",
      "액션: 조직, 경찰, 전쟁, 목숨, 요원, 임무, 범죄, 살인, 한편, 복수, 죽음, 아들, 마약, 납치, 다시, \n",
      "어드벤처: 여행, 앤트, 모험, 대한, 소년, 여정, 모두, 인간, 한편, 옥자, 도시, 원주민, 전쟁, 보물, 과연, \n",
      "전쟁: 전쟁, 독일군, 전투, 작전, 부대, 윈터스, 독일, 연합군, 미군, 임무, 나치, 병사, 공격, 이지중대, 혁리, \n",
      "코미디: 과연, 인생, 마음, 생각, 결혼, 엄마, 서로, 생활, 다른, 코미디, 대한, 감독, 아들, 때문, 다시, \n",
      "판타지: 요괴, 인간, 마법, 알렉스, 존재, 순영, 판타스틱, 모습, 부천, 서로, 시간, 기억, 유령, 현실, 다른, \n"
     ]
    }
   ],
   "source": [
    "attributes_filtered = []  # 공통 단어 제외한 최종 결과 저장\n",
    "\n",
    "for i in range(len(w)):  # 문서마다 작업\n",
    "    print(genre_name[i], end=': ')\n",
    "    attr = []\n",
    "    j = 0\n",
    "    while len(attr) < 15 and j < len(w[i]):\n",
    "        word = vectorizer.get_feature_names_out()[w[i][j][0]]\n",
    "        if (\n",
    "            word in model.wv and        # Word2Vec에 존재하고\n",
    "            word not in common_words_dup  # 공통 단어에 포함되지 않은 경우만\n",
    "        ):\n",
    "            attr.append(word)\n",
    "            print(word, end=', ')\n",
    "        j += 1\n",
    "    attributes_filtered.append(attr)\n",
    "    print()\n"
   ]
  },
  {
   "cell_type": "markdown",
   "id": "687a3e50",
   "metadata": {},
   "source": [
    "중복 단어를 제외시키는 방법에 대한 코드 개선이 필요하다. "
   ]
  },
  {
   "cell_type": "code",
   "execution_count": 40,
   "id": "438a1fc5",
   "metadata": {},
   "outputs": [
    {
     "data": {
      "image/png": "[encoded data removed]",
      "text/plain": [
       "<Figure size 864x432 with 1 Axes>"
      ]
     },
     "metadata": {
      "needs_background": "light"
     },
     "output_type": "display_data"
    }
   ],
   "source": [
    "# 단어별 장르 등장 수 카운트\n",
    "counter_filtered = Counter()\n",
    "for genre_words in attributes_filtered:\n",
    "    counter_filtered.update(set(genre_words))  # 중복 제거 후 카운트\n",
    "\n",
    "# 상위 공통 단어 20개만 시각화\n",
    "common_filtered = counter_filtered.most_common(20)\n",
    "\n",
    "# Bar plot\n",
    "words, counts = zip(*common_filtered)\n",
    "plt.figure(figsize=(12, 6))\n",
    "plt.bar(words, counts, color='skyblue')\n",
    "plt.xticks(rotation=45)\n",
    "plt.title(\"여러 장르에 중복 등장한 단어 (Top 20)\")\n",
    "plt.ylabel(\"등장한 장르 수\")\n",
    "plt.tight_layout()\n",
    "plt.show()"
   ]
  },
  {
   "cell_type": "code",
   "execution_count": 41,
   "id": "3696a67c",
   "metadata": {},
   "outputs": [],
   "source": [
    "# 입력 데이터 (genre_name, data는 이미 정의됨)\n",
    "all_keywords = sorted(set([word for genre_words in attributes_filtered for word in genre_words]))\n",
    "\n",
    "# 0/1 매트릭스 (장르 x 단어)\n",
    "df_filtered = pd.DataFrame(0, index=genre_name, columns=all_keywords)\n",
    "\n",
    "for i, genre_words in enumerate(attributes_filtered):\n",
    "    for word in genre_words:\n",
    "        df_filtered.loc[genre_name[i], word] = 1\n"
   ]
  },
  {
   "cell_type": "code",
   "execution_count": 42,
   "id": "b735ad80",
   "metadata": {},
   "outputs": [
    {
     "data": {
      "text/plain": [
       "Index(['SF', '공포(호러)', '기타', '드라마', '멜로로맨스', '스릴러', '판타지'], dtype='object')"
      ]
     },
     "execution_count": 42,
     "metadata": {},
     "output_type": "execute_result"
    }
   ],
   "source": [
    "df_filtered[df_filtered.loc[:,'시간'] ==1].index"
   ]
  },
  {
   "cell_type": "code",
   "execution_count": 43,
   "id": "894ad64d",
   "metadata": {},
   "outputs": [
    {
     "data": {
      "text/plain": [
       "Index(['공포(호러)', '드라마', '멜로로맨스', '범죄', '성인물(에로)', '액션', '코미디'], dtype='object')"
      ]
     },
     "execution_count": 43,
     "metadata": {},
     "output_type": "execute_result"
    }
   ],
   "source": [
    "df_filtered[df_filtered.loc[:,'다시'] ==1].index"
   ]
  },
  {
   "cell_type": "code",
   "execution_count": 44,
   "id": "9006bd7e",
   "metadata": {},
   "outputs": [
    {
     "data": {
      "text/plain": [
       "Index(['SF', '사극', '액션', '어드벤처', '전쟁'], dtype='object')"
      ]
     },
     "execution_count": 44,
     "metadata": {},
     "output_type": "execute_result"
    }
   ],
   "source": [
    "df_filtered[df_filtered.loc[:,'전쟁'] ==1].index"
   ]
  },
  {
   "cell_type": "markdown",
   "id": "c9335340",
   "metadata": {},
   "source": [
    "중복 단어를 제거해서 단어 집합을 생성했지만, 추가된 단어들 또한 중복을 만들어 내는 것을 확인할 수 있다. => 개선이 필요하다  \n",
    "  \n",
    "  \n",
    "시간관계상 우선 이렇게 진행한다. "
   ]
  },
  {
   "cell_type": "code",
   "execution_count": 45,
   "id": "62a9ccba",
   "metadata": {},
   "outputs": [
    {
     "name": "stdout",
     "output_type": "stream",
     "text": [
      "SF: ['지구', '인류', '인간', '미래', '우주', '로봇', '박사', '우주선', '외계', '존재', '행성', '정체', '기억', '전쟁', '시간']\n",
      "가족: ['엄마', '아빠', '아주르', '아들', '낙타', '할머니', '씨제이', '동구', '학교', '소년', '슈이트', '가장', '어머니', '마갈', '미아']\n",
      "공연: ['오페라', '토스카', '실황', '올레', '카바', '공연', '오텔로', '리골레토', '백작', '프레', '베르디', '카르피', '비바', '왕자', '콘서트']\n",
      "공포(호러): ['공포', '죽음', '악령', '좀비', '하나', '살인', '정체', '저주', '살해', '의문', '점점', '사고', '명의', '시간', '다시']\n",
      "기타: ['서울', '단편', '뉴미디어', '페스티벌', '대한', '독립', '작품', '엄마', '통해', '아시아나', '다른', '우리', '연출', '모습', '시간']\n",
      "다큐멘터리: ['다큐', '다큐멘터리', '대한', '감독', '서울', '우리', '통해', '여성', '한국', '작품', '환경', '사회', '모습', '노동자', '가장']\n",
      "드라마: ['엄마', '단편', '서울', '대한', '아들', '마음', '남편', '서로', '시간', '감독', '다른', '다시', '관계', '생각', '아내']\n",
      "멜로로맨스: ['남편', '섹스', '마음', '결혼', '서로', '아내', '관계', '부부', '엄마', '점점', '다시', '회사', '시간', '사이', '생활']\n",
      "뮤지컬: ['뮤지컬', '에스메랄다', '음악', '충무로', '모차르트', '토스카', '니웨', '카바', '바흐', '페뷔스', '프롤', '모도', '카르피', '제루샤', '샤오캉']\n",
      "미스터리: ['사고', '진실', '죽음', '기억', '살인', '아내', '민혁', '의문', '미스터리', '형사', '하나', '경찰', '현우', '발생', '정체']\n",
      "범죄: ['경찰', '범죄', '조직', '살인', '마약', '형사', '살해', '수사', '한길수', '범인', '계획', '은행', '작전', '동료', '다시']\n",
      "사극: ['조선', '신기전', '아가멤논', '황제', '루안', '최고', '운명', '하선', '전쟁', '윤서', '트로이', '세자', '허균', '노준', '채선']\n",
      "서부극(웨스턴): ['서부', '보안관', '벌린', '카우보이', '그레이프바인', '헨리', '개릿', '무법자', '프린트', '마적', '태구', '현상금', '분노', '버질', '랜던']\n",
      "성인물(에로): ['남편', '마사지', '섹스', '관계', '정사', '유부녀', '마음', '에피소드', '그린', '아내', '다시', '자위', '회사', '불륜', '결혼']\n",
      "스릴러: ['살인', '아내', '경찰', '살해', '형사', '점점', '사고', '범인', '아들', '남편', '죽음', '진실', '충격', '다른', '시간']\n",
      "애니메이션: ['애니메이션', '인디애니페스트', '페스티벌', '서울', '애니', '단편', '소년', '부문', '과연', '작품', '만화', '인간', '도롱', '부천', '우리']\n",
      "액션: ['조직', '경찰', '전쟁', '목숨', '요원', '임무', '범죄', '살인', '한편', '복수', '죽음', '아들', '마약', '납치', '다시']\n",
      "어드벤처: ['여행', '앤트', '모험', '대한', '소년', '여정', '모두', '인간', '한편', '옥자', '도시', '원주민', '전쟁', '보물', '과연']\n",
      "전쟁: ['전쟁', '독일군', '전투', '작전', '부대', '윈터스', '독일', '연합군', '미군', '임무', '나치', '병사', '공격', '이지중대', '혁리']\n",
      "코미디: ['과연', '인생', '마음', '생각', '결혼', '엄마', '서로', '생활', '다른', '코미디', '대한', '감독', '아들', '때문', '다시']\n",
      "판타지: ['요괴', '인간', '마법', '알렉스', '존재', '순영', '판타스틱', '모습', '부천', '서로', '시간', '기억', '유령', '현실', '다른']\n"
     ]
    }
   ],
   "source": [
    "for name, word_set in zip(genre_name,attributes_filtered):\n",
    "    print(f\"{name}: {word_set}\")"
   ]
  },
  {
   "cell_type": "markdown",
   "id": "e932cdd6",
   "metadata": {},
   "source": [
    "## STEP 4. WEAT score 계산과 시각화"
   ]
  },
  {
   "cell_type": "code",
   "execution_count": 46,
   "id": "e4c88e38",
   "metadata": {},
   "outputs": [],
   "source": [
    "from numpy.linalg import norm\n",
    "def cos_sim(i, j):\n",
    "    return np.dot(i, j.T)/(norm(i)*norm(j))\n",
    "\n",
    "def s(w, A, B):\n",
    "    c_a = cos_sim(w, A)\n",
    "    c_b = cos_sim(w, B)\n",
    "    mean_A = np.mean(c_a, axis=-1)\n",
    "    mean_B = np.mean(c_b, axis=-1)\n",
    "    return mean_A - mean_B #, c_a, c_b\n",
    "\n",
    "def weat_score(X, Y, A, B):\n",
    "    \n",
    "    s_X = s(X, A, B)\n",
    "    s_Y = s(Y, A, B)\n",
    "\n",
    "    mean_X = np.mean(s_X)\n",
    "    mean_Y = np.mean(s_Y)\n",
    "    \n",
    "    std_dev = np.std(np.concatenate([s_X, s_Y], axis=0))\n",
    "    \n",
    "    return  (mean_X-mean_Y)/std_dev"
   ]
  },
  {
   "cell_type": "code",
   "execution_count": 47,
   "id": "2ba29cff",
   "metadata": {},
   "outputs": [],
   "source": [
    "# 장르 간 weat score를 매트릭스 형태로 만들기 위해, 빈 매트릭스 초기화\n",
    "matrix = [[0 for _ in range(len(genre_name))] for _ in range(len(genre_name))]\n"
   ]
  },
  {
   "cell_type": "code",
   "execution_count": 48,
   "id": "6ed812b5",
   "metadata": {},
   "outputs": [],
   "source": [
    "X = np.array([model.wv[word] for word in target_art])\n",
    "Y = np.array([model.wv[word] for word in target_gen])\n",
    "\n",
    "for i in range(len(genre_name)-1):\n",
    "    for j in range(i+1, len(genre_name)):\n",
    "        A = np.array([model.wv[word] for word in attributes[i]])\n",
    "        B = np.array([model.wv[word] for word in attributes[j]])\n",
    "        matrix[i][j] = weat_score(X, Y, A, B)\n"
   ]
  },
  {
   "cell_type": "code",
   "execution_count": 49,
   "id": "b178a846",
   "metadata": {
    "scrolled": true
   },
   "outputs": [
    {
     "name": "stdout",
     "output_type": "stream",
     "text": [
      "SF 가족 -0.593018\n",
      "SF 공연 -0.20071657\n",
      "SF 공포(호러) -0.5420994\n",
      "SF 기타 0.21262106\n",
      "SF 다큐멘터리 0.5698098\n",
      "SF 드라마 -0.34419814\n",
      "SF 멜로로맨스 -0.7381892\n",
      "SF 뮤지컬 0.20960362\n",
      "SF 미스터리 -0.6010213\n",
      "SF 범죄 -0.30167782\n",
      "SF 사극 -0.35359406\n",
      "SF 서부극(웨스턴) -0.56180376\n",
      "SF 성인물(에로) -0.5663997\n",
      "SF 스릴러 -0.6721461\n",
      "SF 애니메이션 0.36633524\n",
      "SF 액션 -0.5604197\n",
      "SF 어드벤처 -0.3437144\n",
      "SF 전쟁 0.25118342\n",
      "SF 코미디 -0.49952528\n",
      "SF 판타지 0.058674864\n",
      "가족 공연 0.38029218\n",
      "가족 공포(호러) 0.3045446\n",
      "가족 기타 0.815673\n",
      "가족 다큐멘터리 0.9359055\n",
      "가족 드라마 0.45715564\n",
      "가족 멜로로맨스 -0.41968286\n",
      "가족 뮤지컬 0.7370686\n",
      "가족 미스터리 0.12482999\n",
      "가족 범죄 0.2411219\n",
      "가족 사극 0.4215191\n",
      "가족 서부극(웨스턴) 0.21414602\n",
      "가족 성인물(에로) -0.21204662\n",
      "가족 스릴러 -0.13391799\n",
      "가족 애니메이션 0.8860302\n",
      "가족 액션 0.05404016\n",
      "가족 어드벤처 0.6462668\n",
      "가족 전쟁 0.63792133\n",
      "가족 코미디 0.31287795\n",
      "가족 판타지 0.8598232\n",
      "공연 공포(호러) -0.07856841\n",
      "공연 기타 0.64410144\n",
      "공연 다큐멘터리 0.82917625\n",
      "공연 드라마 -0.12997381\n",
      "공연 멜로로맨스 -0.57693624\n",
      "공연 뮤지컬 1.0436248\n",
      "공연 미스터리 -0.16619015\n",
      "공연 범죄 -0.044708986\n",
      "공연 사극 -0.06889808\n",
      "공연 서부극(웨스턴) -0.24412183\n",
      "공연 성인물(에로) -0.47068623\n",
      "공연 스릴러 -0.3170993\n",
      "공연 애니메이션 0.8827529\n",
      "공연 액션 -0.20255944\n",
      "공연 어드벤처 0.03261531\n",
      "공연 전쟁 0.5589513\n",
      "공연 코미디 -0.19675143\n",
      "공연 판타지 0.38897583\n",
      "공포(호러) 기타 0.4577784\n",
      "공포(호러) 다큐멘터리 0.6897673\n",
      "공포(호러) 드라마 -0.0069959653\n",
      "공포(호러) 멜로로맨스 -0.70805746\n",
      "공포(호러) 뮤지컬 0.41997528\n",
      "공포(호러) 미스터리 -0.44865367\n",
      "공포(호러) 범죄 0.048161115\n",
      "공포(호러) 사극 0.07484173\n",
      "공포(호러) 서부극(웨스턴) -0.21869515\n",
      "공포(호러) 성인물(에로) -0.47190678\n",
      "공포(호러) 스릴러 -0.6531573\n",
      "공포(호러) 애니메이션 0.54464805\n",
      "공포(호러) 액션 -0.27211925\n",
      "공포(호러) 어드벤처 0.18202822\n",
      "공포(호러) 전쟁 0.45025957\n",
      "공포(호러) 코미디 -0.13677302\n",
      "공포(호러) 판타지 0.4643169\n",
      "기타 다큐멘터리 0.80940545\n",
      "기타 드라마 -0.88904744\n",
      "기타 멜로로맨스 -0.81385255\n",
      "기타 뮤지컬 0.039133314\n",
      "기타 미스터리 -0.4774466\n",
      "기타 범죄 -0.32612413\n",
      "기타 사극 -0.5864889\n",
      "기타 서부극(웨스턴) -0.5638822\n",
      "기타 성인물(에로) -0.75416017\n",
      "기타 스릴러 -0.54985166\n",
      "기타 애니메이션 0.51455367\n",
      "기타 액션 -0.4392465\n",
      "기타 어드벤처 -0.624609\n",
      "기타 전쟁 0.02871791\n",
      "기타 코미디 -0.7327116\n",
      "기타 판타지 -0.3969952\n",
      "다큐멘터리 드라마 -0.94549936\n",
      "다큐멘터리 멜로로맨스 -0.8674524\n",
      "다큐멘터리 뮤지컬 -0.57590145\n",
      "다큐멘터리 미스터리 -0.68365914\n",
      "다큐멘터리 범죄 -0.53276944\n",
      "다큐멘터리 사극 -0.81359494\n",
      "다큐멘터리 서부극(웨스턴) -0.74875003\n",
      "다큐멘터리 성인물(에로) -0.81642056\n",
      "다큐멘터리 스릴러 -0.70051634\n",
      "다큐멘터리 애니메이션 -0.41154084\n",
      "다큐멘터리 액션 -0.62721854\n",
      "다큐멘터리 어드벤처 -0.9069117\n",
      "다큐멘터리 전쟁 -0.32346556\n",
      "다큐멘터리 코미디 -0.8813894\n",
      "다큐멘터리 판타지 -0.7624969\n",
      "드라마 멜로로맨스 -0.72084713\n",
      "드라마 뮤지컬 0.6532793\n",
      "드라마 미스터리 -0.12733701\n",
      "드라마 범죄 0.030564087\n",
      "드라마 사극 0.10235897\n",
      "드라마 서부극(웨스턴) -0.15675877\n",
      "드라마 성인물(에로) -0.5423588\n",
      "드라마 스릴러 -0.32419744\n",
      "드라마 애니메이션 0.83121526\n",
      "드라마 액션 -0.14285946\n",
      "드라마 어드벤처 0.27581614\n",
      "드라마 전쟁 0.44286564\n",
      "드라마 코미디 -0.25642112\n",
      "드라마 판타지 0.89839035\n",
      "멜로로맨스 뮤지컬 0.75650793\n",
      "멜로로맨스 미스터리 0.5898465\n",
      "멜로로맨스 범죄 0.67459834\n",
      "멜로로맨스 사극 0.67034346\n",
      "멜로로맨스 서부극(웨스턴) 0.61208445\n",
      "멜로로맨스 성인물(에로) 0.53017044\n",
      "멜로로맨스 스릴러 0.3170837\n",
      "멜로로맨스 애니메이션 0.807431\n",
      "멜로로맨스 액션 0.44227704\n",
      "멜로로맨스 어드벤처 0.6822974\n",
      "멜로로맨스 전쟁 0.6854191\n",
      "멜로로맨스 코미디 0.78514487\n",
      "멜로로맨스 판타지 0.86260027\n",
      "뮤지컬 미스터리 -0.44839224\n",
      "뮤지컬 범죄 -0.34150264\n",
      "뮤지컬 사극 -0.6535131\n",
      "뮤지컬 서부극(웨스턴) -0.57771695\n",
      "뮤지컬 성인물(에로) -0.7020527\n",
      "뮤지컬 스릴러 -0.52631325\n",
      "뮤지컬 애니메이션 0.46085185\n",
      "뮤지컬 액션 -0.4537401\n",
      "뮤지컬 어드벤처 -0.51629764\n",
      "뮤지컬 전쟁 0.017177043\n",
      "뮤지컬 코미디 -0.6032852\n",
      "뮤지컬 판타지 -0.29779515\n",
      "미스터리 범죄 0.29635036\n",
      "미스터리 사극 0.20064886\n",
      "미스터리 서부극(웨스턴) 0.008608755\n",
      "미스터리 성인물(에로) -0.33968684\n",
      "미스터리 스릴러 -0.69900864\n",
      "미스터리 애니메이션 0.5466684\n",
      "미스터리 액션 -0.1008638\n",
      "미스터리 어드벤처 0.28451738\n",
      "미스터리 전쟁 0.49631533\n",
      "미스터리 코미디 0.06668909\n",
      "미스터리 판타지 0.48250505\n",
      "범죄 사극 0.02676567\n",
      "범죄 서부극(웨스턴) -0.2455425\n",
      "범죄 성인물(에로) -0.45335117\n",
      "범죄 스릴러 -0.8158129\n",
      "범죄 애니메이션 0.42497995\n",
      "범죄 액션 -0.82603\n",
      "범죄 어드벤처 0.07491136\n",
      "범죄 전쟁 0.44654825\n",
      "범죄 코미디 -0.11057679\n",
      "범죄 판타지 0.2686393\n",
      "사극 서부극(웨스턴) -0.334956\n",
      "사극 성인물(에로) -0.50286657\n",
      "사극 스릴러 -0.39159322\n",
      "사극 애니메이션 0.7245947\n",
      "사극 액션 -0.250299\n",
      "사극 어드벤처 0.119138636\n",
      "사극 전쟁 0.6074976\n",
      "사극 코미디 -0.2348875\n",
      "사극 판타지 0.5634867\n",
      "서부극(웨스턴) 성인물(에로) -0.35517296\n",
      "서부극(웨스턴) 스릴러 -0.35095817\n",
      "서부극(웨스턴) 애니메이션 0.6657793\n",
      "서부극(웨스턴) 액션 -0.101377964\n",
      "서부극(웨스턴) 어드벤처 0.36183015\n",
      "서부극(웨스턴) 전쟁 0.66912574\n",
      "서부극(웨스턴) 코미디 0.07194836\n",
      "서부극(웨스턴) 판타지 0.58501196\n",
      "성인물(에로) 스릴러 0.07527863\n",
      "성인물(에로) 애니메이션 0.75103474\n",
      "성인물(에로) 액션 0.23597567\n",
      "성인물(에로) 어드벤처 0.5119968\n",
      "성인물(에로) 전쟁 0.5894344\n",
      "성인물(에로) 코미디 0.5144652\n",
      "성인물(에로) 판타지 0.73572594\n",
      "스릴러 애니메이션 0.59891593\n",
      "스릴러 액션 0.39940217\n",
      "스릴러 어드벤처 0.4378168\n",
      "스릴러 전쟁 0.58880824\n",
      "스릴러 코미디 0.33008853\n",
      "스릴러 판타지 0.57716\n",
      "애니메이션 액션 -0.52725\n",
      "애니메이션 어드벤처 -0.7238429\n",
      "애니메이션 전쟁 -0.16238818\n",
      "애니메이션 코미디 -0.7353867\n",
      "애니메이션 판타지 -0.5823409\n",
      "액션 어드벤처 0.27109748\n",
      "액션 전쟁 0.6064633\n",
      "액션 코미디 0.10132252\n",
      "액션 판타지 0.43116644\n",
      "어드벤처 전쟁 0.42935362\n",
      "어드벤처 코미디 -0.44705424\n",
      "어드벤처 판타지 0.8032489\n",
      "전쟁 코미디 -0.48862502\n",
      "전쟁 판타지 -0.21112859\n",
      "코미디 판타지 0.8528731\n"
     ]
    }
   ],
   "source": [
    "# 모두 출력\n",
    "for i in range(len(genre_name)-1):\n",
    "    for j in range(i+1, len(genre_name)):\n",
    "        print(genre_name[i], genre_name[j],matrix[i][j])"
   ]
  },
  {
   "cell_type": "code",
   "execution_count": 50,
   "id": "5fbe9141",
   "metadata": {},
   "outputs": [
    {
     "name": "stdout",
     "output_type": "stream",
     "text": [
      "가족 기타 0.815673\n",
      "가족 다큐멘터리 0.9359055\n",
      "가족 애니메이션 0.8860302\n",
      "가족 판타지 0.8598232\n",
      "공연 다큐멘터리 0.82917625\n",
      "공연 뮤지컬 1.0436248\n",
      "공연 애니메이션 0.8827529\n",
      "기타 다큐멘터리 0.80940545\n",
      "기타 드라마 -0.88904744\n",
      "기타 멜로로맨스 -0.81385255\n",
      "다큐멘터리 드라마 -0.94549936\n",
      "다큐멘터리 멜로로맨스 -0.8674524\n",
      "다큐멘터리 사극 -0.81359494\n",
      "다큐멘터리 성인물(에로) -0.81642056\n",
      "다큐멘터리 어드벤처 -0.9069117\n",
      "다큐멘터리 코미디 -0.8813894\n",
      "드라마 애니메이션 0.83121526\n",
      "드라마 판타지 0.89839035\n",
      "멜로로맨스 애니메이션 0.807431\n",
      "멜로로맨스 판타지 0.86260027\n",
      "범죄 스릴러 -0.8158129\n",
      "범죄 액션 -0.82603\n",
      "어드벤처 판타지 0.8032489\n",
      "코미디 판타지 0.8528731\n"
     ]
    }
   ],
   "source": [
    "for i in range(len(genre_name)-1):\n",
    "    for j in range(i+1, len(genre_name)):\n",
    "        if np.abs(matrix[i][j]) >= 0.8:\n",
    "            print(genre_name[i], genre_name[j],matrix[i][j])"
   ]
  },
  {
   "cell_type": "markdown",
   "id": "d7558cfb",
   "metadata": {},
   "source": [
    "예술영화와 일반영화 기준축으로  \n",
    "가족, 다큐멘터리 장르를 보았을때, 사람들의 편향은 가족 장르가 더 일반영화와, 다큐멘터리 장르가 더 예술 영화에 가깝다고 생각할 것 같은데,   \n",
    "위의 결과는 반대로 나왔다.  tf-idf로는 개념 축을 표현하는 단어가 제대로 선정되지 않았다고 판단할 수 있다."
   ]
  },
  {
   "cell_type": "code",
   "execution_count": 51,
   "id": "dc7f62b1",
   "metadata": {
    "scrolled": false
   },
   "outputs": [
    {
     "data": {
      "image/png": "[encoded data removed]",
      "text/plain": [
       "<Figure size 1152x864 with 2 Axes>"
      ]
     },
     "metadata": {},
     "output_type": "display_data"
    }
   ],
   "source": [
    "# numpy 랜덤 시드 고정\n",
    "np.random.seed(0)\n",
    "\n",
    "# 한글 지원 폰트\n",
    "sns.set(font='NanumGothic')\n",
    "\n",
    "# 마이너스 부호 폰트 깨지는 문제 방지\n",
    "plt.rcParams['axes.unicode_minus'] = False\n",
    "\n",
    "plt.figure(figsize=(16,12))\n",
    "\n",
    "ax = sns.heatmap(matrix, xticklabels=genre_name, yticklabels=genre_name, annot=True,  cmap='RdYlGn_r')\n",
    "\n",
    "plt.title(\"장르 간 WEAT 점수 히트맵\", fontsize=18)\n",
    "plt.xticks(rotation=45)\n",
    "plt.yticks(rotation=0)\n",
    "plt.tight_layout()\n",
    "plt.show()"
   ]
  },
  {
   "cell_type": "markdown",
   "id": "753722b9",
   "metadata": {},
   "source": [
    "시각화해서 보았을 때도, 성인물 장르가 예술영화와 가깝다고 측정되었고,  \n",
    "다큐멘터리 장르가 일반(상업)영화와 가깝다고 측정되었다.   \n",
    "\n",
    "**현재 tf-idf로 선정한 단어 집합은 개념축을 대표하는 대표성을 보여주지 못한다.**"
   ]
  },
  {
   "cell_type": "markdown",
   "id": "b5dbde34",
   "metadata": {},
   "source": [
    "# 회고\n",
    "\n",
    "단어집합를 생성할 때, word2vec에 있는 단어만 추가하게 되는데,[현재는 synopsis.txt만 학습한 모델이다] **word2vec에 모든 데이터를 학습 시킨 후, 차이점을 비교해 보고 싶다.**  \n",
    "중복 단어를 제대로 제거하는 코드로 변경이 필요하다.  \n",
    "단어 집합의 크기를 늘려서 실험해 보면 어떻게 되는지 궁금하다.  \n",
    "  \n",
    "tf-idf 기반으로 편향을 확인한 결과, 사람의 편향과 반대되는 결과를 확인할 수 있었다.  \n",
    "`문서를 대표하는 단어 집합`을 생각했을때, 빈도수 기반 tf-idf는 적절하지 않은 것 같다.  \n",
    "\n",
    "LSA, LDA로 문서를 대표하는 단어 집합을 추출하는 방법을 시도해 보고 싶다. "
   ]
  },
  {
   "cell_type": "markdown",
   "id": "5de68336",
   "metadata": {},
   "source": [
    "#### 추가 실험해 볼 수 있는 사항\n",
    "\n",
    "- 단어 집합의 크기를 늘려본다\n",
    "- LSA, LDA를 사용해본다.\n",
    "- 다른 임베딩 모델을 사용해본다.\n",
    "- 다른 토크나이저를 사용해본다"
   ]
  },
  {
   "cell_type": "markdown",
   "id": "aba98b03",
   "metadata": {},
   "source": [
    "##### 개선 사항\n",
    "\n",
    "- 중복단어를 제대로 제거하는 방법.\n",
    "- 장르에 따라서 단어집합을 빠르게 접근해서 사용하는 데이터 형식.\n",
    "- 재사용 가능한 코드로 정리\n",
    "    - 다양한 임베딩 모델\n",
    "    - 다양한 토크나이저\n",
    "- word2vec에 모든 데이터로 학습한 후, 진행"
   ]
  },
  {
   "cell_type": "markdown",
   "id": "3bdfba0f",
   "metadata": {},
   "source": [
    "### 추가 작업: pca 해보기"
   ]
  },
  {
   "cell_type": "code",
   "execution_count": 53,
   "id": "6a4c39c5",
   "metadata": {},
   "outputs": [
    {
     "data": {
      "image/png": "[encoded data removed]",
      "text/plain": [
       "<Figure size 1008x720 with 1 Axes>"
      ]
     },
     "metadata": {},
     "output_type": "display_data"
    }
   ],
   "source": [
    "import matplotlib.pyplot as plt\n",
    "from sklearn.decomposition import PCA\n",
    "import numpy as np\n",
    "from gensim.models import Word2Vec\n",
    "\n",
    "# Word2Vec 학습\n",
    "# model = Word2Vec(sentences=tokenized, vector_size=100, window=5, min_count=3, sg=0)\n",
    "\n",
    "# 각 장르에서 유효한 단어만 필터링하여 벡터 추출\n",
    "all_words = []\n",
    "all_vectors = []\n",
    "all_labels = []\n",
    "\n",
    "for genre_idx, word_list in enumerate(attributes_filtered):\n",
    "    genre = genre_name[genre_idx]\n",
    "    for word in word_list:\n",
    "        if word in model.wv:  # 학습된 단어만 사용\n",
    "            all_words.append(word)\n",
    "            all_vectors.append(model.wv[word])\n",
    "            all_labels.append(genre)\n",
    "\n",
    "# PCA로 2차원 축소\n",
    "pca = PCA(n_components=2)\n",
    "reduced = pca.fit_transform(all_vectors)\n",
    "\n",
    "# 시각화\n",
    "plt.figure(figsize=(14, 10))\n",
    "\n",
    "# 장르별 다른 색으로 점 찍기\n",
    "unique_genres = sorted(set(all_labels))\n",
    "colors = plt.cm.get_cmap(\"tab20\", len(unique_genres))\n",
    "\n",
    "for idx, genre in enumerate(unique_genres):\n",
    "    xs = [reduced[i, 0] for i in range(len(reduced)) if all_labels[i] == genre]\n",
    "    ys = [reduced[i, 1] for i in range(len(reduced)) if all_labels[i] == genre]\n",
    "    plt.scatter(xs, ys, label=genre, alpha=0.7, s=50, color=colors(idx))\n",
    "\n",
    "# 단어 라벨 표시 (선택적: 많을 경우 혼잡할 수 있음)\n",
    "for i, word in enumerate(all_words):\n",
    "    plt.text(reduced[i, 0], reduced[i, 1], word, fontsize=8, alpha=0.6)\n",
    "\n",
    "plt.title('PCA Visualization of Word2Vec Genre Words')\n",
    "plt.xlabel('PCA 1')\n",
    "plt.ylabel('PCA 2')\n",
    "plt.legend(loc='center left', bbox_to_anchor=(1, 0.5), fontsize='small')\n",
    "plt.grid(True)\n",
    "plt.tight_layout()\n",
    "plt.show()\n"
   ]
  },
  {
   "cell_type": "markdown",
   "id": "e4ae01c8",
   "metadata": {},
   "source": [
    "=> 군집화 되지 않음. \n",
    "\n",
    "문서-맥적적 의미를 반영하지 못하는 임베딩 벡터의 모습을 확인할 수 있다.  \n",
    "중심에 데이터가 몰려있는 그래프 => 중복단어를 잘 처리하지 못해서???"
   ]
  },
  {
   "cell_type": "markdown",
   "id": "12e5f28a",
   "metadata": {},
   "source": [
    "생각해볼 문제\n",
    "- 어떻게 하면 장르문서별로 잘 군집화되는 임베딩 벡터를 만들 수 있을까?"
   ]
  },
  {
   "cell_type": "code",
   "execution_count": null,
   "id": "62b3c141",
   "metadata": {},
   "outputs": [],
   "source": []
  }
 ],
 "metadata": {
  "kernelspec": {
   "display_name": "Python 3 (ipykernel)",
   "language": "python",
   "name": "python3"
  },
  "language_info": {
   "codemirror_mode": {
    "name": "ipython",
    "version": 3
   },
   "file_extension": ".py",
   "mimetype": "text/x-python",
   "name": "python",
   "nbconvert_exporter": "python",
   "pygments_lexer": "ipython3",
   "version": "3.9.7"
  }
 },
 "nbformat": 4,
 "nbformat_minor": 5
}
